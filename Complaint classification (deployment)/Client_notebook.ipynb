{
 "cells": [
  {
   "cell_type": "markdown",
   "metadata": {},
   "source": [
    "В этом файле показано взаисодействие клиента с сервисом модели.\n",
    "\n",
    "Модель запущена в Docker-контейнере на вируальной машине. Обращение к модели идёт с машины хоста.\n",
    "\n",
    "Адрес сервиса: `https://localhost`, порт - `8180`. Этот порт необходимо открыть в настройках виртуальной машины."
   ]
  },
  {
   "cell_type": "code",
   "execution_count": 1,
   "metadata": {},
   "outputs": [],
   "source": [
    "import requests\n",
    "import pandas as pd\n",
    "import dill"
   ]
  },
  {
   "cell_type": "markdown",
   "metadata": {},
   "source": [
    "Функция для формирования запроса:"
   ]
  },
  {
   "cell_type": "code",
   "execution_count": 2,
   "metadata": {},
   "outputs": [],
   "source": [
    "def send_json(data):\n",
    "    body = {'text':data.tolist()}\n",
    "    myurl = 'http://localhost:8180/predict'\n",
    "    headers = {'content-type': 'application/json; charset=utf-8'}\n",
    "    response = requests.post(myurl, json=body, headers=headers)\n",
    "    return response.json()"
   ]
  },
  {
   "cell_type": "code",
   "execution_count": 3,
   "metadata": {},
   "outputs": [],
   "source": [
    "X_test = pd.read_csv(\"X_test.csv\").squeeze()"
   ]
  },
  {
   "cell_type": "code",
   "execution_count": 4,
   "metadata": {},
   "outputs": [
    {
     "data": {
      "text/plain": [
       "0       dispute credit card company chase visa purchas...\n",
       "1       issue chase credit billing act credit card act...\n",
       "2       please help dispute credit reporting agency ba...\n",
       "3       call cellphone today company telephone number ...\n",
       "4       time year milage card chasein ii mileage card ...\n",
       "                              ...                        \n",
       "5263                                           phone call\n",
       "5264    chase card inquiry pull credit report authoriz...\n",
       "5265    hotel chain credit card order take advantage p...\n",
       "5266    hello credit card credit card company service ...\n",
       "5267    account identity theft chase yhe account colle...\n",
       "Name: _source.complaint_what_happened, Length: 5268, dtype: object"
      ]
     },
     "execution_count": 4,
     "metadata": {},
     "output_type": "execute_result"
    }
   ],
   "source": [
    "X_test"
   ]
  },
  {
   "cell_type": "markdown",
   "metadata": {},
   "source": [
    "Отправим запрос:"
   ]
  },
  {
   "cell_type": "code",
   "execution_count": 5,
   "metadata": {},
   "outputs": [
    {
     "name": "stdout",
     "output_type": "stream",
     "text": [
      "{'predict': [3, 3, 1, 1, 1], 'predict_proba': [[0.0014702405771024178, 0.007156692639851781, 0.003526176765452387, 0.9867247427070928, 0.0011221473105006061], [0.0007254716962689858, 0.19133626704831921, 0.0004357515649638371, 0.8066626158134167, 0.0008398938770312514], [0.0009057899144539515, 0.9537378586912623, 0.022425207240474147, 0.004523623888101759, 0.018407520265707786], [0.15747096647425607, 0.5650291805238369, 0.1024274438235782, 0.15157943072493332, 0.02349297845339551], [0.027324453600976163, 0.6551139983946362, 0.0020670693557730273, 0.3070333584862603, 0.008461120162354245]], 'success': True}\n",
      "CPU times: total: 0 ns\n",
      "Wall time: 2.13 s\n"
     ]
    }
   ],
   "source": [
    "%%time \n",
    "response = send_json(X_test.iloc[:5])\n",
    "print(response)"
   ]
  },
  {
   "cell_type": "markdown",
   "metadata": {},
   "source": [
    "Можно отправлять как несколько строк из датасета, так и одну:"
   ]
  },
  {
   "cell_type": "code",
   "execution_count": 6,
   "metadata": {},
   "outputs": [
    {
     "name": "stdout",
     "output_type": "stream",
     "text": [
      "{'predict': [3], 'predict_proba': [[0.0014702405771024178, 0.007156692639851781, 0.003526176765452387, 0.9867247427070928, 0.0011221473105006061]], 'success': True}\n",
      "CPU times: total: 15.6 ms\n",
      "Wall time: 2.02 s\n"
     ]
    }
   ],
   "source": [
    "%%time \n",
    "response = send_json(X_test.iloc[:1])\n",
    "print(response)"
   ]
  },
  {
   "cell_type": "markdown",
   "metadata": {},
   "source": [
    "Проверим сколько времени займёт получени ответа, если отправить весь датасет:"
   ]
  },
  {
   "cell_type": "code",
   "execution_count": 7,
   "metadata": {},
   "outputs": [
    {
     "name": "stdout",
     "output_type": "stream",
     "text": [
      "CPU times: total: 46.9 ms\n",
      "Wall time: 3.64 s\n"
     ]
    }
   ],
   "source": [
    "%%time \n",
    "response = send_json(X_test)"
   ]
  },
  {
   "cell_type": "markdown",
   "metadata": {},
   "source": [
    "Полученный ответ содержит предсказанный класс, вероятности принадлежности к классу, и статус предсказания:"
   ]
  },
  {
   "cell_type": "code",
   "execution_count": 8,
   "metadata": {},
   "outputs": [
    {
     "data": {
      "text/html": [
       "<div>\n",
       "<style scoped>\n",
       "    .dataframe tbody tr th:only-of-type {\n",
       "        vertical-align: middle;\n",
       "    }\n",
       "\n",
       "    .dataframe tbody tr th {\n",
       "        vertical-align: top;\n",
       "    }\n",
       "\n",
       "    .dataframe thead th {\n",
       "        text-align: right;\n",
       "    }\n",
       "</style>\n",
       "<table border=\"1\" class=\"dataframe\">\n",
       "  <thead>\n",
       "    <tr style=\"text-align: right;\">\n",
       "      <th></th>\n",
       "      <th>predict</th>\n",
       "      <th>predict_proba</th>\n",
       "      <th>success</th>\n",
       "    </tr>\n",
       "  </thead>\n",
       "  <tbody>\n",
       "    <tr>\n",
       "      <th>0</th>\n",
       "      <td>3</td>\n",
       "      <td>[0.0014702405771024178, 0.007156692639851781, ...</td>\n",
       "      <td>True</td>\n",
       "    </tr>\n",
       "    <tr>\n",
       "      <th>1</th>\n",
       "      <td>3</td>\n",
       "      <td>[0.0007254716962689858, 0.19133626704831921, 0...</td>\n",
       "      <td>True</td>\n",
       "    </tr>\n",
       "    <tr>\n",
       "      <th>2</th>\n",
       "      <td>1</td>\n",
       "      <td>[0.0009057899144539515, 0.9537378586912623, 0....</td>\n",
       "      <td>True</td>\n",
       "    </tr>\n",
       "    <tr>\n",
       "      <th>3</th>\n",
       "      <td>1</td>\n",
       "      <td>[0.15747096647425607, 0.5650291805238369, 0.10...</td>\n",
       "      <td>True</td>\n",
       "    </tr>\n",
       "    <tr>\n",
       "      <th>4</th>\n",
       "      <td>1</td>\n",
       "      <td>[0.027324453600976163, 0.6551139983946362, 0.0...</td>\n",
       "      <td>True</td>\n",
       "    </tr>\n",
       "  </tbody>\n",
       "</table>\n",
       "</div>"
      ],
      "text/plain": [
       "   predict                                      predict_proba  success\n",
       "0        3  [0.0014702405771024178, 0.007156692639851781, ...     True\n",
       "1        3  [0.0007254716962689858, 0.19133626704831921, 0...     True\n",
       "2        1  [0.0009057899144539515, 0.9537378586912623, 0....     True\n",
       "3        1  [0.15747096647425607, 0.5650291805238369, 0.10...     True\n",
       "4        1  [0.027324453600976163, 0.6551139983946362, 0.0...     True"
      ]
     },
     "execution_count": 8,
     "metadata": {},
     "output_type": "execute_result"
    }
   ],
   "source": [
    "pd.DataFrame(response).head()"
   ]
  }
 ],
 "metadata": {
  "kernelspec": {
   "display_name": "Python 3",
   "language": "python",
   "name": "python3"
  },
  "language_info": {
   "codemirror_mode": {
    "name": "ipython",
    "version": 3
   },
   "file_extension": ".py",
   "mimetype": "text/x-python",
   "name": "python",
   "nbconvert_exporter": "python",
   "pygments_lexer": "ipython3",
   "version": "3.10.5"
  },
  "orig_nbformat": 4
 },
 "nbformat": 4,
 "nbformat_minor": 2
}
