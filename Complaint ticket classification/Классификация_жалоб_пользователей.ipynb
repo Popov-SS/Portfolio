{
  "cells": [
    {
      "cell_type": "markdown",
      "source": [
        "Данные были взяты с Kaggle: https://www.kaggle.com/datasets/venkatasubramanian/automatic-ticket-classification.\n",
        "\n",
        "Заказчик - **финтех компания**. Данные содержат информацию о жалобах пользователей этой компании.\n",
        "\n",
        "Датасет содержит 78000 записей с 22 полями. Данные хранятся в формате json.\n",
        "\n",
        "Жалобы не содержат разметку по теме / типу проблемы. Типы жалоб сформированы заказчиком. Всего их 5:\n",
        "* Credit card / Prepaid card\n",
        "* Bank account services\n",
        "* Theft/Dispute reporting\n",
        "* Mortgages/loans\n",
        "* Others\n",
        "\n"
      ],
      "metadata": {
        "id": "AjHz29PxWJFw"
      }
    },
    {
      "cell_type": "markdown",
      "source": [
        "**Что я сделал в этом проекте:**\n",
        "* Подготовил среду к работе, отобрал полезные для анализа данные;\n",
        "* Настроил пайплайн обработки текста (удаление лишних символов, токенизация, лемматизация, удаление pos-тегов);\n",
        "* Провел разведовательный анализ данных, изучил количество символов в обработанных обращениях, изучил наиболее встречающиеся слова и словосочетания;\n",
        "* Обучил 2 модели для моделирования тем (LDA, NMF) и сравнил результаты их работы;\n",
        "* Обучил 4 модели классификации темы обращения (Logistic regression, SVC, CatBoostClassifier, ComplementNB) и сравнил результаты их работы;"
      ],
      "metadata": {
        "id": "N17I3OfIbRDC"
      }
    },
    {
      "cell_type": "markdown",
      "source": [
        "Для загрузки данных необходимо загрузить файл `kaggle.json`. Скачать его можно из настроек своего аккаунта Kaggle."
      ],
      "metadata": {
        "id": "yDzsTnoZbUgU"
      }
    },
    {
      "cell_type": "code",
      "execution_count": null,
      "metadata": {
        "colab": {
          "base_uri": "https://localhost:8080/",
          "height": 73
        },
        "id": "uP_Dl5j6alea",
        "outputId": "8878de38-2ac0-4ee0-982a-8c30d243211b"
      },
      "outputs": [
        {
          "output_type": "display_data",
          "data": {
            "text/plain": [
              "<IPython.core.display.HTML object>"
            ],
            "text/html": [
              "\n",
              "     <input type=\"file\" id=\"files-6b39bea4-d9f5-48c7-8e76-5173112c512e\" name=\"files[]\" multiple disabled\n",
              "        style=\"border:none\" />\n",
              "     <output id=\"result-6b39bea4-d9f5-48c7-8e76-5173112c512e\">\n",
              "      Upload widget is only available when the cell has been executed in the\n",
              "      current browser session. Please rerun this cell to enable.\n",
              "      </output>\n",
              "      <script>// Copyright 2017 Google LLC\n",
              "//\n",
              "// Licensed under the Apache License, Version 2.0 (the \"License\");\n",
              "// you may not use this file except in compliance with the License.\n",
              "// You may obtain a copy of the License at\n",
              "//\n",
              "//      http://www.apache.org/licenses/LICENSE-2.0\n",
              "//\n",
              "// Unless required by applicable law or agreed to in writing, software\n",
              "// distributed under the License is distributed on an \"AS IS\" BASIS,\n",
              "// WITHOUT WARRANTIES OR CONDITIONS OF ANY KIND, either express or implied.\n",
              "// See the License for the specific language governing permissions and\n",
              "// limitations under the License.\n",
              "\n",
              "/**\n",
              " * @fileoverview Helpers for google.colab Python module.\n",
              " */\n",
              "(function(scope) {\n",
              "function span(text, styleAttributes = {}) {\n",
              "  const element = document.createElement('span');\n",
              "  element.textContent = text;\n",
              "  for (const key of Object.keys(styleAttributes)) {\n",
              "    element.style[key] = styleAttributes[key];\n",
              "  }\n",
              "  return element;\n",
              "}\n",
              "\n",
              "// Max number of bytes which will be uploaded at a time.\n",
              "const MAX_PAYLOAD_SIZE = 100 * 1024;\n",
              "\n",
              "function _uploadFiles(inputId, outputId) {\n",
              "  const steps = uploadFilesStep(inputId, outputId);\n",
              "  const outputElement = document.getElementById(outputId);\n",
              "  // Cache steps on the outputElement to make it available for the next call\n",
              "  // to uploadFilesContinue from Python.\n",
              "  outputElement.steps = steps;\n",
              "\n",
              "  return _uploadFilesContinue(outputId);\n",
              "}\n",
              "\n",
              "// This is roughly an async generator (not supported in the browser yet),\n",
              "// where there are multiple asynchronous steps and the Python side is going\n",
              "// to poll for completion of each step.\n",
              "// This uses a Promise to block the python side on completion of each step,\n",
              "// then passes the result of the previous step as the input to the next step.\n",
              "function _uploadFilesContinue(outputId) {\n",
              "  const outputElement = document.getElementById(outputId);\n",
              "  const steps = outputElement.steps;\n",
              "\n",
              "  const next = steps.next(outputElement.lastPromiseValue);\n",
              "  return Promise.resolve(next.value.promise).then((value) => {\n",
              "    // Cache the last promise value to make it available to the next\n",
              "    // step of the generator.\n",
              "    outputElement.lastPromiseValue = value;\n",
              "    return next.value.response;\n",
              "  });\n",
              "}\n",
              "\n",
              "/**\n",
              " * Generator function which is called between each async step of the upload\n",
              " * process.\n",
              " * @param {string} inputId Element ID of the input file picker element.\n",
              " * @param {string} outputId Element ID of the output display.\n",
              " * @return {!Iterable<!Object>} Iterable of next steps.\n",
              " */\n",
              "function* uploadFilesStep(inputId, outputId) {\n",
              "  const inputElement = document.getElementById(inputId);\n",
              "  inputElement.disabled = false;\n",
              "\n",
              "  const outputElement = document.getElementById(outputId);\n",
              "  outputElement.innerHTML = '';\n",
              "\n",
              "  const pickedPromise = new Promise((resolve) => {\n",
              "    inputElement.addEventListener('change', (e) => {\n",
              "      resolve(e.target.files);\n",
              "    });\n",
              "  });\n",
              "\n",
              "  const cancel = document.createElement('button');\n",
              "  inputElement.parentElement.appendChild(cancel);\n",
              "  cancel.textContent = 'Cancel upload';\n",
              "  const cancelPromise = new Promise((resolve) => {\n",
              "    cancel.onclick = () => {\n",
              "      resolve(null);\n",
              "    };\n",
              "  });\n",
              "\n",
              "  // Wait for the user to pick the files.\n",
              "  const files = yield {\n",
              "    promise: Promise.race([pickedPromise, cancelPromise]),\n",
              "    response: {\n",
              "      action: 'starting',\n",
              "    }\n",
              "  };\n",
              "\n",
              "  cancel.remove();\n",
              "\n",
              "  // Disable the input element since further picks are not allowed.\n",
              "  inputElement.disabled = true;\n",
              "\n",
              "  if (!files) {\n",
              "    return {\n",
              "      response: {\n",
              "        action: 'complete',\n",
              "      }\n",
              "    };\n",
              "  }\n",
              "\n",
              "  for (const file of files) {\n",
              "    const li = document.createElement('li');\n",
              "    li.append(span(file.name, {fontWeight: 'bold'}));\n",
              "    li.append(span(\n",
              "        `(${file.type || 'n/a'}) - ${file.size} bytes, ` +\n",
              "        `last modified: ${\n",
              "            file.lastModifiedDate ? file.lastModifiedDate.toLocaleDateString() :\n",
              "                                    'n/a'} - `));\n",
              "    const percent = span('0% done');\n",
              "    li.appendChild(percent);\n",
              "\n",
              "    outputElement.appendChild(li);\n",
              "\n",
              "    const fileDataPromise = new Promise((resolve) => {\n",
              "      const reader = new FileReader();\n",
              "      reader.onload = (e) => {\n",
              "        resolve(e.target.result);\n",
              "      };\n",
              "      reader.readAsArrayBuffer(file);\n",
              "    });\n",
              "    // Wait for the data to be ready.\n",
              "    let fileData = yield {\n",
              "      promise: fileDataPromise,\n",
              "      response: {\n",
              "        action: 'continue',\n",
              "      }\n",
              "    };\n",
              "\n",
              "    // Use a chunked sending to avoid message size limits. See b/62115660.\n",
              "    let position = 0;\n",
              "    do {\n",
              "      const length = Math.min(fileData.byteLength - position, MAX_PAYLOAD_SIZE);\n",
              "      const chunk = new Uint8Array(fileData, position, length);\n",
              "      position += length;\n",
              "\n",
              "      const base64 = btoa(String.fromCharCode.apply(null, chunk));\n",
              "      yield {\n",
              "        response: {\n",
              "          action: 'append',\n",
              "          file: file.name,\n",
              "          data: base64,\n",
              "        },\n",
              "      };\n",
              "\n",
              "      let percentDone = fileData.byteLength === 0 ?\n",
              "          100 :\n",
              "          Math.round((position / fileData.byteLength) * 100);\n",
              "      percent.textContent = `${percentDone}% done`;\n",
              "\n",
              "    } while (position < fileData.byteLength);\n",
              "  }\n",
              "\n",
              "  // All done.\n",
              "  yield {\n",
              "    response: {\n",
              "      action: 'complete',\n",
              "    }\n",
              "  };\n",
              "}\n",
              "\n",
              "scope.google = scope.google || {};\n",
              "scope.google.colab = scope.google.colab || {};\n",
              "scope.google.colab._files = {\n",
              "  _uploadFiles,\n",
              "  _uploadFilesContinue,\n",
              "};\n",
              "})(self);\n",
              "</script> "
            ]
          },
          "metadata": {}
        },
        {
          "output_type": "stream",
          "name": "stdout",
          "text": [
            "Saving kaggle.json to kaggle.json\n"
          ]
        }
      ],
      "source": [
        "from google.colab import files\n",
        "uploaded = files.upload()"
      ]
    },
    {
      "cell_type": "markdown",
      "metadata": {
        "id": "xHFRyXXJa3JX"
      },
      "source": [
        "# Скачивание файла"
      ]
    },
    {
      "cell_type": "markdown",
      "source": [
        "После выполнения этой группы ячеек нужно перезапустить среду."
      ],
      "metadata": {
        "id": "oHfrOiCMbeLr"
      }
    },
    {
      "cell_type": "code",
      "execution_count": null,
      "metadata": {
        "colab": {
          "base_uri": "https://localhost:8080/"
        },
        "id": "lqJ5cJSFZWjd",
        "outputId": "66795652-8e91-4724-82cf-6bb776d4b3e6"
      },
      "outputs": [
        {
          "output_type": "stream",
          "name": "stdout",
          "text": [
            "Requirement already satisfied: kaggle in /usr/local/lib/python3.10/dist-packages (1.5.16)\n",
            "Collecting catboost\n",
            "  Downloading catboost-1.2.1-cp310-cp310-manylinux2014_x86_64.whl (98.7 MB)\n",
            "\u001b[2K     \u001b[90m━━━━━━━━━━━━━━━━━━━━━━━━━━━━━━━━━━━━━━━━\u001b[0m \u001b[32m98.7/98.7 MB\u001b[0m \u001b[31m8.1 MB/s\u001b[0m eta \u001b[36m0:00:00\u001b[0m\n",
            "\u001b[?25hRequirement already satisfied: six>=1.10 in /usr/local/lib/python3.10/dist-packages (from kaggle) (1.16.0)\n",
            "Requirement already satisfied: certifi in /usr/local/lib/python3.10/dist-packages (from kaggle) (2023.7.22)\n",
            "Requirement already satisfied: python-dateutil in /usr/local/lib/python3.10/dist-packages (from kaggle) (2.8.2)\n",
            "Requirement already satisfied: requests in /usr/local/lib/python3.10/dist-packages (from kaggle) (2.31.0)\n",
            "Requirement already satisfied: tqdm in /usr/local/lib/python3.10/dist-packages (from kaggle) (4.66.1)\n",
            "Requirement already satisfied: python-slugify in /usr/local/lib/python3.10/dist-packages (from kaggle) (8.0.1)\n",
            "Requirement already satisfied: urllib3 in /usr/local/lib/python3.10/dist-packages (from kaggle) (2.0.4)\n",
            "Requirement already satisfied: bleach in /usr/local/lib/python3.10/dist-packages (from kaggle) (6.0.0)\n",
            "Requirement already satisfied: graphviz in /usr/local/lib/python3.10/dist-packages (from catboost) (0.20.1)\n",
            "Requirement already satisfied: matplotlib in /usr/local/lib/python3.10/dist-packages (from catboost) (3.7.1)\n",
            "Requirement already satisfied: numpy>=1.16.0 in /usr/local/lib/python3.10/dist-packages (from catboost) (1.23.5)\n",
            "Requirement already satisfied: pandas>=0.24 in /usr/local/lib/python3.10/dist-packages (from catboost) (1.5.3)\n",
            "Requirement already satisfied: scipy in /usr/local/lib/python3.10/dist-packages (from catboost) (1.10.1)\n",
            "Requirement already satisfied: plotly in /usr/local/lib/python3.10/dist-packages (from catboost) (5.15.0)\n",
            "Requirement already satisfied: pytz>=2020.1 in /usr/local/lib/python3.10/dist-packages (from pandas>=0.24->catboost) (2023.3)\n",
            "Requirement already satisfied: webencodings in /usr/local/lib/python3.10/dist-packages (from bleach->kaggle) (0.5.1)\n",
            "Requirement already satisfied: contourpy>=1.0.1 in /usr/local/lib/python3.10/dist-packages (from matplotlib->catboost) (1.1.0)\n",
            "Requirement already satisfied: cycler>=0.10 in /usr/local/lib/python3.10/dist-packages (from matplotlib->catboost) (0.11.0)\n",
            "Requirement already satisfied: fonttools>=4.22.0 in /usr/local/lib/python3.10/dist-packages (from matplotlib->catboost) (4.42.1)\n",
            "Requirement already satisfied: kiwisolver>=1.0.1 in /usr/local/lib/python3.10/dist-packages (from matplotlib->catboost) (1.4.4)\n",
            "Requirement already satisfied: packaging>=20.0 in /usr/local/lib/python3.10/dist-packages (from matplotlib->catboost) (23.1)\n",
            "Requirement already satisfied: pillow>=6.2.0 in /usr/local/lib/python3.10/dist-packages (from matplotlib->catboost) (9.4.0)\n",
            "Requirement already satisfied: pyparsing>=2.3.1 in /usr/local/lib/python3.10/dist-packages (from matplotlib->catboost) (3.1.1)\n",
            "Requirement already satisfied: tenacity>=6.2.0 in /usr/local/lib/python3.10/dist-packages (from plotly->catboost) (8.2.3)\n",
            "Requirement already satisfied: text-unidecode>=1.3 in /usr/local/lib/python3.10/dist-packages (from python-slugify->kaggle) (1.3)\n",
            "Requirement already satisfied: charset-normalizer<4,>=2 in /usr/local/lib/python3.10/dist-packages (from requests->kaggle) (3.2.0)\n",
            "Requirement already satisfied: idna<4,>=2.5 in /usr/local/lib/python3.10/dist-packages (from requests->kaggle) (3.4)\n",
            "Installing collected packages: catboost\n",
            "Successfully installed catboost-1.2.1\n"
          ]
        }
      ],
      "source": [
        "!pip install kaggle catboost"
      ]
    },
    {
      "cell_type": "code",
      "execution_count": null,
      "metadata": {
        "id": "gBU6U4QiZcRl"
      },
      "outputs": [],
      "source": [
        "!mkdir ~/.kaggle"
      ]
    },
    {
      "cell_type": "code",
      "execution_count": null,
      "metadata": {
        "id": "_DGWfo-dZvZ0"
      },
      "outputs": [],
      "source": [
        "!cp kaggle.json ~/.kaggle/"
      ]
    },
    {
      "cell_type": "code",
      "execution_count": null,
      "metadata": {
        "id": "pm9t5ELxZxe9"
      },
      "outputs": [],
      "source": [
        "!chmod 600 ~/.kaggle/kaggle.json"
      ]
    },
    {
      "cell_type": "code",
      "execution_count": null,
      "metadata": {
        "colab": {
          "base_uri": "https://localhost:8080/"
        },
        "id": "DZZ2NQTBZKbw",
        "outputId": "4dcc9b1d-b86f-45b6-ac5a-08440948c6fc"
      },
      "outputs": [
        {
          "output_type": "stream",
          "name": "stdout",
          "text": [
            "Downloading automatic-ticket-classification.zip to /content\n",
            "100% 14.0M/14.1M [00:01<00:00, 18.8MB/s]\n",
            "100% 14.1M/14.1M [00:01<00:00, 11.1MB/s]\n"
          ]
        }
      ],
      "source": [
        "!kaggle datasets download -d venkatasubramanian/automatic-ticket-classification"
      ]
    },
    {
      "cell_type": "code",
      "execution_count": null,
      "metadata": {
        "colab": {
          "base_uri": "https://localhost:8080/",
          "height": 865
        },
        "id": "fefU6uoVBQhZ",
        "outputId": "93fe4c5a-3980-4952-f014-2f6801753369"
      },
      "outputs": [
        {
          "output_type": "stream",
          "name": "stdout",
          "text": [
            "Collecting pyldavis\n",
            "  Downloading pyLDAvis-3.4.1-py3-none-any.whl (2.6 MB)\n",
            "\u001b[2K     \u001b[90m━━━━━━━━━━━━━━━━━━━━━━━━━━━━━━━━━━━━━━━━\u001b[0m \u001b[32m2.6/2.6 MB\u001b[0m \u001b[31m9.1 MB/s\u001b[0m eta \u001b[36m0:00:00\u001b[0m\n",
            "\u001b[?25hCollecting numpy>=1.24.2 (from pyldavis)\n",
            "  Downloading numpy-1.25.2-cp310-cp310-manylinux_2_17_x86_64.manylinux2014_x86_64.whl (18.2 MB)\n",
            "\u001b[2K     \u001b[90m━━━━━━━━━━━━━━━━━━━━━━━━━━━━━━━━━━━━━━━━\u001b[0m \u001b[32m18.2/18.2 MB\u001b[0m \u001b[31m12.7 MB/s\u001b[0m eta \u001b[36m0:00:00\u001b[0m\n",
            "\u001b[?25hRequirement already satisfied: scipy in /usr/local/lib/python3.10/dist-packages (from pyldavis) (1.10.1)\n",
            "Collecting pandas>=2.0.0 (from pyldavis)\n",
            "  Downloading pandas-2.1.0-cp310-cp310-manylinux_2_17_x86_64.manylinux2014_x86_64.whl (12.7 MB)\n",
            "\u001b[2K     \u001b[90m━━━━━━━━━━━━━━━━━━━━━━━━━━━━━━━━━━━━━━━━\u001b[0m \u001b[32m12.7/12.7 MB\u001b[0m \u001b[31m54.7 MB/s\u001b[0m eta \u001b[36m0:00:00\u001b[0m\n",
            "\u001b[?25hRequirement already satisfied: joblib>=1.2.0 in /usr/local/lib/python3.10/dist-packages (from pyldavis) (1.3.2)\n",
            "Requirement already satisfied: jinja2 in /usr/local/lib/python3.10/dist-packages (from pyldavis) (3.1.2)\n",
            "Requirement already satisfied: numexpr in /usr/local/lib/python3.10/dist-packages (from pyldavis) (2.8.5)\n",
            "Collecting funcy (from pyldavis)\n",
            "  Downloading funcy-2.0-py2.py3-none-any.whl (30 kB)\n",
            "Requirement already satisfied: scikit-learn>=1.0.0 in /usr/local/lib/python3.10/dist-packages (from pyldavis) (1.2.2)\n",
            "Requirement already satisfied: gensim in /usr/local/lib/python3.10/dist-packages (from pyldavis) (4.3.1)\n",
            "Requirement already satisfied: setuptools in /usr/local/lib/python3.10/dist-packages (from pyldavis) (67.7.2)\n",
            "Requirement already satisfied: python-dateutil>=2.8.2 in /usr/local/lib/python3.10/dist-packages (from pandas>=2.0.0->pyldavis) (2.8.2)\n",
            "Requirement already satisfied: pytz>=2020.1 in /usr/local/lib/python3.10/dist-packages (from pandas>=2.0.0->pyldavis) (2023.3)\n",
            "Collecting tzdata>=2022.1 (from pandas>=2.0.0->pyldavis)\n",
            "  Downloading tzdata-2023.3-py2.py3-none-any.whl (341 kB)\n",
            "\u001b[2K     \u001b[90m━━━━━━━━━━━━━━━━━━━━━━━━━━━━━━━━━━━━━━\u001b[0m \u001b[32m341.8/341.8 kB\u001b[0m \u001b[31m22.0 MB/s\u001b[0m eta \u001b[36m0:00:00\u001b[0m\n",
            "\u001b[?25hRequirement already satisfied: threadpoolctl>=2.0.0 in /usr/local/lib/python3.10/dist-packages (from scikit-learn>=1.0.0->pyldavis) (3.2.0)\n",
            "Requirement already satisfied: smart-open>=1.8.1 in /usr/local/lib/python3.10/dist-packages (from gensim->pyldavis) (6.3.0)\n",
            "Requirement already satisfied: MarkupSafe>=2.0 in /usr/local/lib/python3.10/dist-packages (from jinja2->pyldavis) (2.1.3)\n",
            "Requirement already satisfied: six>=1.5 in /usr/local/lib/python3.10/dist-packages (from python-dateutil>=2.8.2->pandas>=2.0.0->pyldavis) (1.16.0)\n",
            "Installing collected packages: funcy, tzdata, numpy, pandas, pyldavis\n",
            "  Attempting uninstall: numpy\n",
            "    Found existing installation: numpy 1.23.5\n",
            "    Uninstalling numpy-1.23.5:\n",
            "      Successfully uninstalled numpy-1.23.5\n",
            "  Attempting uninstall: pandas\n",
            "    Found existing installation: pandas 1.5.3\n",
            "    Uninstalling pandas-1.5.3:\n",
            "      Successfully uninstalled pandas-1.5.3\n",
            "\u001b[31mERROR: pip's dependency resolver does not currently take into account all the packages that are installed. This behaviour is the source of the following dependency conflicts.\n",
            "google-colab 1.0.0 requires pandas==1.5.3, but you have pandas 2.1.0 which is incompatible.\n",
            "numba 0.56.4 requires numpy<1.24,>=1.18, but you have numpy 1.25.2 which is incompatible.\n",
            "tensorflow 2.12.0 requires numpy<1.24,>=1.22, but you have numpy 1.25.2 which is incompatible.\u001b[0m\u001b[31m\n",
            "\u001b[0mSuccessfully installed funcy-2.0 numpy-1.25.2 pandas-2.1.0 pyldavis-3.4.1 tzdata-2023.3\n"
          ]
        },
        {
          "output_type": "display_data",
          "data": {
            "application/vnd.colab-display-data+json": {
              "pip_warning": {
                "packages": [
                  "numpy"
                ]
              }
            }
          },
          "metadata": {}
        }
      ],
      "source": [
        "!pip install pyldavis"
      ]
    },
    {
      "cell_type": "markdown",
      "metadata": {
        "id": "mYT_hgVpbDoU"
      },
      "source": [
        "# Подготовка данных"
      ]
    },
    {
      "cell_type": "markdown",
      "source": [
        "## Знакомство с данными"
      ],
      "metadata": {
        "id": "W-u9T6h9nOp-"
      }
    },
    {
      "cell_type": "code",
      "execution_count": null,
      "metadata": {
        "id": "ncgHwx8FbHYM"
      },
      "outputs": [],
      "source": [
        "import pandas as pd\n",
        "import numpy as np\n",
        "import plotly.express as px\n",
        "import matplotlib.pyplot as plt\n",
        "import zipfile\n",
        "import json\n",
        "import re\n",
        "import warnings"
      ]
    },
    {
      "cell_type": "code",
      "source": [
        "warnings.filterwarnings('ignore')\n",
        "warnings.filterwarnings(\"ignore\", category=DeprecationWarning)"
      ],
      "metadata": {
        "id": "jyBf1c_j3-mo"
      },
      "execution_count": null,
      "outputs": []
    },
    {
      "cell_type": "code",
      "execution_count": null,
      "metadata": {
        "colab": {
          "base_uri": "https://localhost:8080/"
        },
        "id": "Q7QoRKNFbOXQ",
        "outputId": "cd519d5c-58aa-491c-d7e7-25579206fbc3"
      },
      "outputs": [
        {
          "output_type": "stream",
          "name": "stdout",
          "text": [
            "['complaints-2021-05-14_08_16_.json']\n"
          ]
        }
      ],
      "source": [
        "with zipfile.ZipFile('/content/automatic-ticket-classification.zip') as myzip:\n",
        "  print(myzip.namelist())"
      ]
    },
    {
      "cell_type": "code",
      "execution_count": null,
      "metadata": {
        "id": "KrshFgZScUrl"
      },
      "outputs": [],
      "source": [
        "with zipfile.ZipFile('/content/automatic-ticket-classification.zip') as myzip:\n",
        "  with myzip.open('complaints-2021-05-14_08_16_.json') as myfile:\n",
        "      data = json.load(myfile)\n",
        "      df = pd.json_normalize(data)"
      ]
    },
    {
      "cell_type": "code",
      "execution_count": null,
      "metadata": {
        "colab": {
          "base_uri": "https://localhost:8080/",
          "height": 411
        },
        "id": "0Q3zqUl4eDiM",
        "outputId": "72ec0fb0-3363-41f1-89da-78ced01eb940"
      },
      "outputs": [
        {
          "output_type": "execute_result",
          "data": {
            "text/plain": [
              "                _index      _type      _id  _score   _source.tags  \\\n",
              "0  complaint-public-v2  complaint  3211475     0.0           None   \n",
              "1  complaint-public-v2  complaint  3229299     0.0  Servicemember   \n",
              "2  complaint-public-v2  complaint  3199379     0.0           None   \n",
              "3  complaint-public-v2  complaint  2673060     0.0           None   \n",
              "4  complaint-public-v2  complaint  3203545     0.0           None   \n",
              "\n",
              "  _source.zip_code _source.complaint_id                       _source.issue  \\\n",
              "0            90301              3211475   Attempts to collect debt not owed   \n",
              "1            319XX              3229299     Written notification about debt   \n",
              "2            77069              3199379  Other features, terms, or problems   \n",
              "3            48066              2673060      Trouble during payment process   \n",
              "4            10473              3203545                    Fees or interest   \n",
              "\n",
              "       _source.date_received _source.state  ... _source.company_response  \\\n",
              "0  2019-04-13T12:00:00-05:00            CA  ...  Closed with explanation   \n",
              "1  2019-05-01T12:00:00-05:00            GA  ...  Closed with explanation   \n",
              "2  2019-04-02T12:00:00-05:00            TX  ...  Closed with explanation   \n",
              "3  2017-09-13T12:00:00-05:00            MI  ...  Closed with explanation   \n",
              "4  2019-04-05T12:00:00-05:00            NY  ...  Closed with explanation   \n",
              "\n",
              "        _source.company _source.submitted_via _source.date_sent_to_company  \\\n",
              "0  JPMORGAN CHASE & CO.                   Web    2019-04-13T12:00:00-05:00   \n",
              "1  JPMORGAN CHASE & CO.                   Web    2019-05-01T12:00:00-05:00   \n",
              "2  JPMORGAN CHASE & CO.                   Web    2019-04-02T12:00:00-05:00   \n",
              "3  JPMORGAN CHASE & CO.                   Web    2017-09-14T12:00:00-05:00   \n",
              "4  JPMORGAN CHASE & CO.              Referral    2019-04-05T12:00:00-05:00   \n",
              "\n",
              "  _source.company_public_response                         _source.sub_product  \\\n",
              "0                            None                            Credit card debt   \n",
              "1                            None                            Credit card debt   \n",
              "2                            None  General-purpose credit card or charge card   \n",
              "3                            None                  Conventional home mortgage   \n",
              "4                            None  General-purpose credit card or charge card   \n",
              "\n",
              "  _source.timely                    _source.complaint_what_happened  \\\n",
              "0            Yes                                                      \n",
              "1            Yes  Good morning my name is XXXX XXXX and I apprec...   \n",
              "2            Yes  I upgraded my XXXX XXXX card in XX/XX/2018 and...   \n",
              "3            Yes                                                      \n",
              "4            Yes                                                      \n",
              "\n",
              "                                  _source.sub_issue  \\\n",
              "0                                 Debt is not yours   \n",
              "1  Didn't receive enough information to verify debt   \n",
              "2             Problem with rewards from credit card   \n",
              "3                                              None   \n",
              "4                         Charged too much interest   \n",
              "\n",
              "  _source.consumer_consent_provided  \n",
              "0              Consent not provided  \n",
              "1                  Consent provided  \n",
              "2                  Consent provided  \n",
              "3              Consent not provided  \n",
              "4                               N/A  \n",
              "\n",
              "[5 rows x 22 columns]"
            ],
            "text/html": [
              "\n",
              "  <div id=\"df-01bd891c-c8c9-429b-b866-c8b8413c1642\" class=\"colab-df-container\">\n",
              "    <div>\n",
              "<style scoped>\n",
              "    .dataframe tbody tr th:only-of-type {\n",
              "        vertical-align: middle;\n",
              "    }\n",
              "\n",
              "    .dataframe tbody tr th {\n",
              "        vertical-align: top;\n",
              "    }\n",
              "\n",
              "    .dataframe thead th {\n",
              "        text-align: right;\n",
              "    }\n",
              "</style>\n",
              "<table border=\"1\" class=\"dataframe\">\n",
              "  <thead>\n",
              "    <tr style=\"text-align: right;\">\n",
              "      <th></th>\n",
              "      <th>_index</th>\n",
              "      <th>_type</th>\n",
              "      <th>_id</th>\n",
              "      <th>_score</th>\n",
              "      <th>_source.tags</th>\n",
              "      <th>_source.zip_code</th>\n",
              "      <th>_source.complaint_id</th>\n",
              "      <th>_source.issue</th>\n",
              "      <th>_source.date_received</th>\n",
              "      <th>_source.state</th>\n",
              "      <th>...</th>\n",
              "      <th>_source.company_response</th>\n",
              "      <th>_source.company</th>\n",
              "      <th>_source.submitted_via</th>\n",
              "      <th>_source.date_sent_to_company</th>\n",
              "      <th>_source.company_public_response</th>\n",
              "      <th>_source.sub_product</th>\n",
              "      <th>_source.timely</th>\n",
              "      <th>_source.complaint_what_happened</th>\n",
              "      <th>_source.sub_issue</th>\n",
              "      <th>_source.consumer_consent_provided</th>\n",
              "    </tr>\n",
              "  </thead>\n",
              "  <tbody>\n",
              "    <tr>\n",
              "      <th>0</th>\n",
              "      <td>complaint-public-v2</td>\n",
              "      <td>complaint</td>\n",
              "      <td>3211475</td>\n",
              "      <td>0.0</td>\n",
              "      <td>None</td>\n",
              "      <td>90301</td>\n",
              "      <td>3211475</td>\n",
              "      <td>Attempts to collect debt not owed</td>\n",
              "      <td>2019-04-13T12:00:00-05:00</td>\n",
              "      <td>CA</td>\n",
              "      <td>...</td>\n",
              "      <td>Closed with explanation</td>\n",
              "      <td>JPMORGAN CHASE &amp; CO.</td>\n",
              "      <td>Web</td>\n",
              "      <td>2019-04-13T12:00:00-05:00</td>\n",
              "      <td>None</td>\n",
              "      <td>Credit card debt</td>\n",
              "      <td>Yes</td>\n",
              "      <td></td>\n",
              "      <td>Debt is not yours</td>\n",
              "      <td>Consent not provided</td>\n",
              "    </tr>\n",
              "    <tr>\n",
              "      <th>1</th>\n",
              "      <td>complaint-public-v2</td>\n",
              "      <td>complaint</td>\n",
              "      <td>3229299</td>\n",
              "      <td>0.0</td>\n",
              "      <td>Servicemember</td>\n",
              "      <td>319XX</td>\n",
              "      <td>3229299</td>\n",
              "      <td>Written notification about debt</td>\n",
              "      <td>2019-05-01T12:00:00-05:00</td>\n",
              "      <td>GA</td>\n",
              "      <td>...</td>\n",
              "      <td>Closed with explanation</td>\n",
              "      <td>JPMORGAN CHASE &amp; CO.</td>\n",
              "      <td>Web</td>\n",
              "      <td>2019-05-01T12:00:00-05:00</td>\n",
              "      <td>None</td>\n",
              "      <td>Credit card debt</td>\n",
              "      <td>Yes</td>\n",
              "      <td>Good morning my name is XXXX XXXX and I apprec...</td>\n",
              "      <td>Didn't receive enough information to verify debt</td>\n",
              "      <td>Consent provided</td>\n",
              "    </tr>\n",
              "    <tr>\n",
              "      <th>2</th>\n",
              "      <td>complaint-public-v2</td>\n",
              "      <td>complaint</td>\n",
              "      <td>3199379</td>\n",
              "      <td>0.0</td>\n",
              "      <td>None</td>\n",
              "      <td>77069</td>\n",
              "      <td>3199379</td>\n",
              "      <td>Other features, terms, or problems</td>\n",
              "      <td>2019-04-02T12:00:00-05:00</td>\n",
              "      <td>TX</td>\n",
              "      <td>...</td>\n",
              "      <td>Closed with explanation</td>\n",
              "      <td>JPMORGAN CHASE &amp; CO.</td>\n",
              "      <td>Web</td>\n",
              "      <td>2019-04-02T12:00:00-05:00</td>\n",
              "      <td>None</td>\n",
              "      <td>General-purpose credit card or charge card</td>\n",
              "      <td>Yes</td>\n",
              "      <td>I upgraded my XXXX XXXX card in XX/XX/2018 and...</td>\n",
              "      <td>Problem with rewards from credit card</td>\n",
              "      <td>Consent provided</td>\n",
              "    </tr>\n",
              "    <tr>\n",
              "      <th>3</th>\n",
              "      <td>complaint-public-v2</td>\n",
              "      <td>complaint</td>\n",
              "      <td>2673060</td>\n",
              "      <td>0.0</td>\n",
              "      <td>None</td>\n",
              "      <td>48066</td>\n",
              "      <td>2673060</td>\n",
              "      <td>Trouble during payment process</td>\n",
              "      <td>2017-09-13T12:00:00-05:00</td>\n",
              "      <td>MI</td>\n",
              "      <td>...</td>\n",
              "      <td>Closed with explanation</td>\n",
              "      <td>JPMORGAN CHASE &amp; CO.</td>\n",
              "      <td>Web</td>\n",
              "      <td>2017-09-14T12:00:00-05:00</td>\n",
              "      <td>None</td>\n",
              "      <td>Conventional home mortgage</td>\n",
              "      <td>Yes</td>\n",
              "      <td></td>\n",
              "      <td>None</td>\n",
              "      <td>Consent not provided</td>\n",
              "    </tr>\n",
              "    <tr>\n",
              "      <th>4</th>\n",
              "      <td>complaint-public-v2</td>\n",
              "      <td>complaint</td>\n",
              "      <td>3203545</td>\n",
              "      <td>0.0</td>\n",
              "      <td>None</td>\n",
              "      <td>10473</td>\n",
              "      <td>3203545</td>\n",
              "      <td>Fees or interest</td>\n",
              "      <td>2019-04-05T12:00:00-05:00</td>\n",
              "      <td>NY</td>\n",
              "      <td>...</td>\n",
              "      <td>Closed with explanation</td>\n",
              "      <td>JPMORGAN CHASE &amp; CO.</td>\n",
              "      <td>Referral</td>\n",
              "      <td>2019-04-05T12:00:00-05:00</td>\n",
              "      <td>None</td>\n",
              "      <td>General-purpose credit card or charge card</td>\n",
              "      <td>Yes</td>\n",
              "      <td></td>\n",
              "      <td>Charged too much interest</td>\n",
              "      <td>N/A</td>\n",
              "    </tr>\n",
              "  </tbody>\n",
              "</table>\n",
              "<p>5 rows × 22 columns</p>\n",
              "</div>\n",
              "    <div class=\"colab-df-buttons\">\n",
              "\n",
              "  <div class=\"colab-df-container\">\n",
              "    <button class=\"colab-df-convert\" onclick=\"convertToInteractive('df-01bd891c-c8c9-429b-b866-c8b8413c1642')\"\n",
              "            title=\"Convert this dataframe to an interactive table.\"\n",
              "            style=\"display:none;\">\n",
              "\n",
              "  <svg xmlns=\"http://www.w3.org/2000/svg\" height=\"24px\" viewBox=\"0 -960 960 960\">\n",
              "    <path d=\"M120-120v-720h720v720H120Zm60-500h600v-160H180v160Zm220 220h160v-160H400v160Zm0 220h160v-160H400v160ZM180-400h160v-160H180v160Zm440 0h160v-160H620v160ZM180-180h160v-160H180v160Zm440 0h160v-160H620v160Z\"/>\n",
              "  </svg>\n",
              "    </button>\n",
              "\n",
              "  <style>\n",
              "    .colab-df-container {\n",
              "      display:flex;\n",
              "      gap: 12px;\n",
              "    }\n",
              "\n",
              "    .colab-df-convert {\n",
              "      background-color: #E8F0FE;\n",
              "      border: none;\n",
              "      border-radius: 50%;\n",
              "      cursor: pointer;\n",
              "      display: none;\n",
              "      fill: #1967D2;\n",
              "      height: 32px;\n",
              "      padding: 0 0 0 0;\n",
              "      width: 32px;\n",
              "    }\n",
              "\n",
              "    .colab-df-convert:hover {\n",
              "      background-color: #E2EBFA;\n",
              "      box-shadow: 0px 1px 2px rgba(60, 64, 67, 0.3), 0px 1px 3px 1px rgba(60, 64, 67, 0.15);\n",
              "      fill: #174EA6;\n",
              "    }\n",
              "\n",
              "    .colab-df-buttons div {\n",
              "      margin-bottom: 4px;\n",
              "    }\n",
              "\n",
              "    [theme=dark] .colab-df-convert {\n",
              "      background-color: #3B4455;\n",
              "      fill: #D2E3FC;\n",
              "    }\n",
              "\n",
              "    [theme=dark] .colab-df-convert:hover {\n",
              "      background-color: #434B5C;\n",
              "      box-shadow: 0px 1px 3px 1px rgba(0, 0, 0, 0.15);\n",
              "      filter: drop-shadow(0px 1px 2px rgba(0, 0, 0, 0.3));\n",
              "      fill: #FFFFFF;\n",
              "    }\n",
              "  </style>\n",
              "\n",
              "    <script>\n",
              "      const buttonEl =\n",
              "        document.querySelector('#df-01bd891c-c8c9-429b-b866-c8b8413c1642 button.colab-df-convert');\n",
              "      buttonEl.style.display =\n",
              "        google.colab.kernel.accessAllowed ? 'block' : 'none';\n",
              "\n",
              "      async function convertToInteractive(key) {\n",
              "        const element = document.querySelector('#df-01bd891c-c8c9-429b-b866-c8b8413c1642');\n",
              "        const dataTable =\n",
              "          await google.colab.kernel.invokeFunction('convertToInteractive',\n",
              "                                                    [key], {});\n",
              "        if (!dataTable) return;\n",
              "\n",
              "        const docLinkHtml = 'Like what you see? Visit the ' +\n",
              "          '<a target=\"_blank\" href=https://colab.research.google.com/notebooks/data_table.ipynb>data table notebook</a>'\n",
              "          + ' to learn more about interactive tables.';\n",
              "        element.innerHTML = '';\n",
              "        dataTable['output_type'] = 'display_data';\n",
              "        await google.colab.output.renderOutput(dataTable, element);\n",
              "        const docLink = document.createElement('div');\n",
              "        docLink.innerHTML = docLinkHtml;\n",
              "        element.appendChild(docLink);\n",
              "      }\n",
              "    </script>\n",
              "  </div>\n",
              "\n",
              "\n",
              "<div id=\"df-a194ca06-c1ff-4e95-8395-8d599a64b9f8\">\n",
              "  <button class=\"colab-df-quickchart\" onclick=\"quickchart('df-a194ca06-c1ff-4e95-8395-8d599a64b9f8')\"\n",
              "            title=\"Suggest charts.\"\n",
              "            style=\"display:none;\">\n",
              "\n",
              "<svg xmlns=\"http://www.w3.org/2000/svg\" height=\"24px\"viewBox=\"0 0 24 24\"\n",
              "     width=\"24px\">\n",
              "    <g>\n",
              "        <path d=\"M19 3H5c-1.1 0-2 .9-2 2v14c0 1.1.9 2 2 2h14c1.1 0 2-.9 2-2V5c0-1.1-.9-2-2-2zM9 17H7v-7h2v7zm4 0h-2V7h2v10zm4 0h-2v-4h2v4z\"/>\n",
              "    </g>\n",
              "</svg>\n",
              "  </button>\n",
              "\n",
              "<style>\n",
              "  .colab-df-quickchart {\n",
              "      --bg-color: #E8F0FE;\n",
              "      --fill-color: #1967D2;\n",
              "      --hover-bg-color: #E2EBFA;\n",
              "      --hover-fill-color: #174EA6;\n",
              "      --disabled-fill-color: #AAA;\n",
              "      --disabled-bg-color: #DDD;\n",
              "  }\n",
              "\n",
              "  [theme=dark] .colab-df-quickchart {\n",
              "      --bg-color: #3B4455;\n",
              "      --fill-color: #D2E3FC;\n",
              "      --hover-bg-color: #434B5C;\n",
              "      --hover-fill-color: #FFFFFF;\n",
              "      --disabled-bg-color: #3B4455;\n",
              "      --disabled-fill-color: #666;\n",
              "  }\n",
              "\n",
              "  .colab-df-quickchart {\n",
              "    background-color: var(--bg-color);\n",
              "    border: none;\n",
              "    border-radius: 50%;\n",
              "    cursor: pointer;\n",
              "    display: none;\n",
              "    fill: var(--fill-color);\n",
              "    height: 32px;\n",
              "    padding: 0;\n",
              "    width: 32px;\n",
              "  }\n",
              "\n",
              "  .colab-df-quickchart:hover {\n",
              "    background-color: var(--hover-bg-color);\n",
              "    box-shadow: 0 1px 2px rgba(60, 64, 67, 0.3), 0 1px 3px 1px rgba(60, 64, 67, 0.15);\n",
              "    fill: var(--button-hover-fill-color);\n",
              "  }\n",
              "\n",
              "  .colab-df-quickchart-complete:disabled,\n",
              "  .colab-df-quickchart-complete:disabled:hover {\n",
              "    background-color: var(--disabled-bg-color);\n",
              "    fill: var(--disabled-fill-color);\n",
              "    box-shadow: none;\n",
              "  }\n",
              "\n",
              "  .colab-df-spinner {\n",
              "    border: 2px solid var(--fill-color);\n",
              "    border-color: transparent;\n",
              "    border-bottom-color: var(--fill-color);\n",
              "    animation:\n",
              "      spin 1s steps(1) infinite;\n",
              "  }\n",
              "\n",
              "  @keyframes spin {\n",
              "    0% {\n",
              "      border-color: transparent;\n",
              "      border-bottom-color: var(--fill-color);\n",
              "      border-left-color: var(--fill-color);\n",
              "    }\n",
              "    20% {\n",
              "      border-color: transparent;\n",
              "      border-left-color: var(--fill-color);\n",
              "      border-top-color: var(--fill-color);\n",
              "    }\n",
              "    30% {\n",
              "      border-color: transparent;\n",
              "      border-left-color: var(--fill-color);\n",
              "      border-top-color: var(--fill-color);\n",
              "      border-right-color: var(--fill-color);\n",
              "    }\n",
              "    40% {\n",
              "      border-color: transparent;\n",
              "      border-right-color: var(--fill-color);\n",
              "      border-top-color: var(--fill-color);\n",
              "    }\n",
              "    60% {\n",
              "      border-color: transparent;\n",
              "      border-right-color: var(--fill-color);\n",
              "    }\n",
              "    80% {\n",
              "      border-color: transparent;\n",
              "      border-right-color: var(--fill-color);\n",
              "      border-bottom-color: var(--fill-color);\n",
              "    }\n",
              "    90% {\n",
              "      border-color: transparent;\n",
              "      border-bottom-color: var(--fill-color);\n",
              "    }\n",
              "  }\n",
              "</style>\n",
              "\n",
              "  <script>\n",
              "    async function quickchart(key) {\n",
              "      const quickchartButtonEl =\n",
              "        document.querySelector('#' + key + ' button');\n",
              "      quickchartButtonEl.disabled = true;  // To prevent multiple clicks.\n",
              "      quickchartButtonEl.classList.add('colab-df-spinner');\n",
              "      try {\n",
              "        const charts = await google.colab.kernel.invokeFunction(\n",
              "            'suggestCharts', [key], {});\n",
              "      } catch (error) {\n",
              "        console.error('Error during call to suggestCharts:', error);\n",
              "      }\n",
              "      quickchartButtonEl.classList.remove('colab-df-spinner');\n",
              "      quickchartButtonEl.classList.add('colab-df-quickchart-complete');\n",
              "    }\n",
              "    (() => {\n",
              "      let quickchartButtonEl =\n",
              "        document.querySelector('#df-a194ca06-c1ff-4e95-8395-8d599a64b9f8 button');\n",
              "      quickchartButtonEl.style.display =\n",
              "        google.colab.kernel.accessAllowed ? 'block' : 'none';\n",
              "    })();\n",
              "  </script>\n",
              "</div>\n",
              "    </div>\n",
              "  </div>\n"
            ]
          },
          "metadata": {},
          "execution_count": 5
        }
      ],
      "source": [
        "df.head()"
      ]
    },
    {
      "cell_type": "code",
      "execution_count": null,
      "metadata": {
        "colab": {
          "base_uri": "https://localhost:8080/"
        },
        "id": "W-toeKHSeUq7",
        "outputId": "133ce975-47a2-4f25-f7ea-d1b6cc3d5224"
      },
      "outputs": [
        {
          "output_type": "stream",
          "name": "stdout",
          "text": [
            "<class 'pandas.core.frame.DataFrame'>\n",
            "RangeIndex: 78313 entries, 0 to 78312\n",
            "Data columns (total 22 columns):\n",
            " #   Column                             Non-Null Count  Dtype  \n",
            "---  ------                             --------------  -----  \n",
            " 0   _index                             78313 non-null  object \n",
            " 1   _type                              78313 non-null  object \n",
            " 2   _id                                78313 non-null  object \n",
            " 3   _score                             78313 non-null  float64\n",
            " 4   _source.tags                       10900 non-null  object \n",
            " 5   _source.zip_code                   71556 non-null  object \n",
            " 6   _source.complaint_id               78313 non-null  object \n",
            " 7   _source.issue                      78313 non-null  object \n",
            " 8   _source.date_received              78313 non-null  object \n",
            " 9   _source.state                      76322 non-null  object \n",
            " 10  _source.consumer_disputed          78313 non-null  object \n",
            " 11  _source.product                    78313 non-null  object \n",
            " 12  _source.company_response           78313 non-null  object \n",
            " 13  _source.company                    78313 non-null  object \n",
            " 14  _source.submitted_via              78313 non-null  object \n",
            " 15  _source.date_sent_to_company       78313 non-null  object \n",
            " 16  _source.company_public_response    4 non-null      object \n",
            " 17  _source.sub_product                67742 non-null  object \n",
            " 18  _source.timely                     78313 non-null  object \n",
            " 19  _source.complaint_what_happened    78313 non-null  object \n",
            " 20  _source.sub_issue                  32016 non-null  object \n",
            " 21  _source.consumer_consent_provided  77305 non-null  object \n",
            "dtypes: float64(1), object(21)\n",
            "memory usage: 13.1+ MB\n"
          ]
        }
      ],
      "source": [
        "df.info()"
      ]
    },
    {
      "cell_type": "markdown",
      "source": [
        "Необходимое мне поле - `19:  _source.complaint_what_happened`. В нем содержится текст обращения, с которым я буду работать. Результат команды `df.info()` показывает, что в этом поле нет пропущенных значений, однако за пустое значение эта команда считает `np.nan`. Это поле может содержать пустые строки, которые не считаются пропуском."
      ],
      "metadata": {
        "id": "2Gbxrvw5esjt"
      }
    },
    {
      "cell_type": "markdown",
      "source": [
        "Формат записей в датасете:"
      ],
      "metadata": {
        "id": "D2Ho-extfi9n"
      }
    },
    {
      "cell_type": "code",
      "execution_count": null,
      "metadata": {
        "colab": {
          "base_uri": "https://localhost:8080/"
        },
        "id": "plHmIq9le-Hc",
        "outputId": "52cba511-a24a-464e-e261-0c353c5d2dad"
      },
      "outputs": [
        {
          "output_type": "stream",
          "name": "stdout",
          "text": [
            "_index                                                                                                               complaint-public-v2\n",
            "_type                                                                                                                          complaint\n",
            "_id                                                                                                                              3229299\n",
            "_score                                                                                                                               0.0\n",
            "_source.tags                                                                                                               Servicemember\n",
            "_source.zip_code                                                                                                                   319XX\n",
            "_source.complaint_id                                                                                                             3229299\n",
            "_source.issue                                                                                            Written notification about debt\n",
            "_source.date_received                                                                                          2019-05-01T12:00:00-05:00\n",
            "_source.state                                                                                                                         GA\n",
            "_source.consumer_disputed                                                                                                            N/A\n",
            "_source.product                                                                                                          Debt collection\n",
            "_source.company_response                                                                                         Closed with explanation\n",
            "_source.company                                                                                                     JPMORGAN CHASE & CO.\n",
            "_source.submitted_via                                                                                                                Web\n",
            "_source.date_sent_to_company                                                                                   2019-05-01T12:00:00-05:00\n",
            "_source.company_public_response                                                                                                     None\n",
            "_source.sub_product                                                                                                     Credit card debt\n",
            "_source.timely                                                                                                                       Yes\n",
            "_source.complaint_what_happened      Good morning my name is XXXX XXXX and I appreciate it if you could help me put a stop to Chase B...\n",
            "_source.sub_issue                                                                       Didn't receive enough information to verify debt\n",
            "_source.consumer_consent_provided                                                                                       Consent provided\n",
            "Name: 1, dtype: object\n"
          ]
        }
      ],
      "source": [
        "print(df.loc[1])"
      ]
    },
    {
      "cell_type": "code",
      "execution_count": null,
      "metadata": {
        "colab": {
          "base_uri": "https://localhost:8080/"
        },
        "id": "Rl5nee5SelDz",
        "outputId": "7eadfa71-cbc9-4b7a-aca8-fb4c5bb78678"
      },
      "outputs": [
        {
          "output_type": "execute_result",
          "data": {
            "text/plain": [
              "(57241, 22)"
            ]
          },
          "metadata": {},
          "execution_count": 7
        }
      ],
      "source": [
        "df[df['_source.complaint_what_happened'] == ''].shape"
      ]
    },
    {
      "cell_type": "markdown",
      "source": [
        "Действительно, поле с текстом обращения содержит 57000 пустых строк. Работать с ними нельзя, поэтому я удалю эти записи из датасета."
      ],
      "metadata": {
        "id": "Z4DRfSKafpsQ"
      }
    },
    {
      "cell_type": "code",
      "execution_count": null,
      "metadata": {
        "id": "7lGOFNkVevfz"
      },
      "outputs": [],
      "source": [
        "df['_source.complaint_what_happened'] = df['_source.complaint_what_happened'].replace({'':np.nan})\n",
        "df = df[~df['_source.complaint_what_happened'].isnull()]"
      ]
    },
    {
      "cell_type": "code",
      "execution_count": null,
      "metadata": {
        "colab": {
          "base_uri": "https://localhost:8080/"
        },
        "id": "CH7REDsxfapU",
        "outputId": "13b71023-602d-401b-b469-1455cdbeed1f"
      },
      "outputs": [
        {
          "output_type": "execute_result",
          "data": {
            "text/plain": [
              "(21072, 22)"
            ]
          },
          "metadata": {},
          "execution_count": 9
        }
      ],
      "source": [
        "df.shape"
      ]
    },
    {
      "cell_type": "markdown",
      "source": [
        "Осталась 21000 записей, с которыми можно работать."
      ],
      "metadata": {
        "id": "vzRRBPiUf9y3"
      }
    },
    {
      "cell_type": "markdown",
      "source": [
        "## Очистка и подготовка текста"
      ],
      "metadata": {
        "id": "-9apG5aGnG1E"
      }
    },
    {
      "cell_type": "markdown",
      "source": [
        "Для обработки текста, с ним нужно сделать несколько преобразований:\n",
        "* Привести к нижнему регистру;\n",
        "* Удалить пунктуацию и прочие символы;\n",
        "* Удалить цифры;\n",
        "* Лемматизировать слова - привести слова к их словарной форме;\n",
        "* Удалить неинформативные части речи.\n",
        "\n",
        "В данном датасете вся личная информация пользователей была заменена на \"XXXX\". Эти символы тоже нужно будет удалить."
      ],
      "metadata": {
        "id": "-qOHoinsgDhO"
      }
    },
    {
      "cell_type": "code",
      "execution_count": null,
      "metadata": {
        "id": "BtTeUwCfSDGi"
      },
      "outputs": [],
      "source": [
        "df['_source.complaint_what_happened'] = df['_source.complaint_what_happened'].astype(str)"
      ]
    },
    {
      "cell_type": "code",
      "execution_count": null,
      "metadata": {
        "id": "FWjVdEe6Ta1q"
      },
      "outputs": [],
      "source": [
        "def clean_text(string:str):\n",
        "  clean_string = ''\n",
        "  clean_string = string.lower()\n",
        "  clean_string = re.sub('[^\\w\\s]', '', clean_string) # удаление знаков препинания\n",
        "  clean_string = re.sub('\\w*\\d\\w', '', clean_string) # удаление слов с цифрами\n",
        "  clean_string = re.sub('x+x', '', clean_string) # удаление анонимных персональных данных\n",
        "  return clean_string"
      ]
    },
    {
      "cell_type": "code",
      "execution_count": null,
      "metadata": {
        "colab": {
          "base_uri": "https://localhost:8080/"
        },
        "id": "F0PclmEMX6J_",
        "outputId": "80929e76-11fa-49b1-9542-dd14105c586e"
      },
      "outputs": [
        {
          "output_type": "stream",
          "name": "stderr",
          "text": [
            "[nltk_data] Downloading package wordnet to /root/nltk_data...\n",
            "[nltk_data] Downloading package punkt to /root/nltk_data...\n",
            "[nltk_data]   Unzipping tokenizers/punkt.zip.\n",
            "[nltk_data] Downloading package stopwords to /root/nltk_data...\n",
            "[nltk_data]   Unzipping corpora/stopwords.zip.\n",
            "[nltk_data] Downloading package averaged_perceptron_tagger to\n",
            "[nltk_data]     /root/nltk_data...\n",
            "[nltk_data]   Unzipping taggers/averaged_perceptron_tagger.zip.\n"
          ]
        }
      ],
      "source": [
        "import nltk\n",
        "nltk.download('wordnet')\n",
        "nltk.download('punkt')\n",
        "nltk.download('stopwords')\n",
        "nltk.download('averaged_perceptron_tagger')\n",
        "from nltk.stem import WordNetLemmatizer\n",
        "from nltk.corpus import stopwords\n",
        "from nltk.tag import pos_tag\n",
        "\n",
        "lmzer = WordNetLemmatizer()\n",
        "stop_words = set(stopwords.words('english'))\n",
        "\n",
        "def lemmatize_text(string:str):\n",
        "  word_list = nltk.word_tokenize(string)\n",
        "  word_list = [word for word in word_list if word not in stop_words] # удаление стоп-слов\n",
        "  word_list = [lmzer.lemmatize(word) for word in word_list] # леммантизация\n",
        "  pos_tags = pos_tag(word_list)\n",
        "  lemmatized_output = ' '.join([pos_tag[0] for pos_tag in pos_tags if pos_tag[1] in ['NN', 'VB']]) # оставляем только имена существительные и глаголы\n",
        "  return lemmatized_output"
      ]
    },
    {
      "cell_type": "markdown",
      "source": [
        "Пример работы функций по очистке текста:"
      ],
      "metadata": {
        "id": "b12YpDN6h7PR"
      }
    },
    {
      "cell_type": "code",
      "execution_count": null,
      "metadata": {
        "colab": {
          "base_uri": "https://localhost:8080/",
          "height": 167
        },
        "id": "XBorplfEYznX",
        "outputId": "5e3428c0-1cb6-409a-9ac0-95941e0e77fb"
      },
      "outputs": [
        {
          "output_type": "execute_result",
          "data": {
            "text/plain": [
              "                                                                                                                                                                                                                                                                                                                                                                                                                                                                                                original_text  \\\n",
              "0  Good morning my name is XXXX XXXX and I appreciate it if you could help me put a stop to Chase Bank cardmember services. \\nIn 2018 I wrote to Chase asking for debt verification and what they sent me a statement which is not acceptable. I am asking the bank to validate the debt. Instead I been receiving mail every month from them attempting to collect a debt. \\nI have a right to know this information as a consumer. \\n\\nChase account # XXXX XXXX XXXX XXXX Thanks in advance for your help.   \n",
              "\n",
              "                                                                                                                                                                                                                                                                                                                                                                                                                                                              cleaned_text  \\\n",
              "0  good morning my name is   and i appreciate it if you could help me put a stop to chase bank cardmember services \\nin  i wrote to chase asking for debt verification and what they sent me a statement which is not acceptable i am asking the bank to validate the debt instead i been receiving mail every month from them attempting to collect a debt \\ni have a right to know this information as a consumer \\n\\nchase account      thanks in advance for your help   \n",
              "\n",
              "                                                                                                                                                                    tokenized_text  \n",
              "0  morning name appreciate help put stop chase bank cardmember service debt verification statement bank debt mail month debt right information consumer chase account advance help  "
            ],
            "text/html": [
              "\n",
              "  <div id=\"df-7685d2e3-a38c-46fd-bedf-e7c829a26739\" class=\"colab-df-container\">\n",
              "    <div>\n",
              "<style scoped>\n",
              "    .dataframe tbody tr th:only-of-type {\n",
              "        vertical-align: middle;\n",
              "    }\n",
              "\n",
              "    .dataframe tbody tr th {\n",
              "        vertical-align: top;\n",
              "    }\n",
              "\n",
              "    .dataframe thead th {\n",
              "        text-align: right;\n",
              "    }\n",
              "</style>\n",
              "<table border=\"1\" class=\"dataframe\">\n",
              "  <thead>\n",
              "    <tr style=\"text-align: right;\">\n",
              "      <th></th>\n",
              "      <th>original_text</th>\n",
              "      <th>cleaned_text</th>\n",
              "      <th>tokenized_text</th>\n",
              "    </tr>\n",
              "  </thead>\n",
              "  <tbody>\n",
              "    <tr>\n",
              "      <th>0</th>\n",
              "      <td>Good morning my name is XXXX XXXX and I appreciate it if you could help me put a stop to Chase Bank cardmember services. \\nIn 2018 I wrote to Chase asking for debt verification and what they sent me a statement which is not acceptable. I am asking the bank to validate the debt. Instead I been receiving mail every month from them attempting to collect a debt. \\nI have a right to know this information as a consumer. \\n\\nChase account # XXXX XXXX XXXX XXXX Thanks in advance for your help.</td>\n",
              "      <td>good morning my name is   and i appreciate it if you could help me put a stop to chase bank cardmember services \\nin  i wrote to chase asking for debt verification and what they sent me a statement which is not acceptable i am asking the bank to validate the debt instead i been receiving mail every month from them attempting to collect a debt \\ni have a right to know this information as a consumer \\n\\nchase account      thanks in advance for your help</td>\n",
              "      <td>morning name appreciate help put stop chase bank cardmember service debt verification statement bank debt mail month debt right information consumer chase account advance help</td>\n",
              "    </tr>\n",
              "  </tbody>\n",
              "</table>\n",
              "</div>\n",
              "    <div class=\"colab-df-buttons\">\n",
              "\n",
              "  <div class=\"colab-df-container\">\n",
              "    <button class=\"colab-df-convert\" onclick=\"convertToInteractive('df-7685d2e3-a38c-46fd-bedf-e7c829a26739')\"\n",
              "            title=\"Convert this dataframe to an interactive table.\"\n",
              "            style=\"display:none;\">\n",
              "\n",
              "  <svg xmlns=\"http://www.w3.org/2000/svg\" height=\"24px\" viewBox=\"0 -960 960 960\">\n",
              "    <path d=\"M120-120v-720h720v720H120Zm60-500h600v-160H180v160Zm220 220h160v-160H400v160Zm0 220h160v-160H400v160ZM180-400h160v-160H180v160Zm440 0h160v-160H620v160ZM180-180h160v-160H180v160Zm440 0h160v-160H620v160Z\"/>\n",
              "  </svg>\n",
              "    </button>\n",
              "\n",
              "  <style>\n",
              "    .colab-df-container {\n",
              "      display:flex;\n",
              "      gap: 12px;\n",
              "    }\n",
              "\n",
              "    .colab-df-convert {\n",
              "      background-color: #E8F0FE;\n",
              "      border: none;\n",
              "      border-radius: 50%;\n",
              "      cursor: pointer;\n",
              "      display: none;\n",
              "      fill: #1967D2;\n",
              "      height: 32px;\n",
              "      padding: 0 0 0 0;\n",
              "      width: 32px;\n",
              "    }\n",
              "\n",
              "    .colab-df-convert:hover {\n",
              "      background-color: #E2EBFA;\n",
              "      box-shadow: 0px 1px 2px rgba(60, 64, 67, 0.3), 0px 1px 3px 1px rgba(60, 64, 67, 0.15);\n",
              "      fill: #174EA6;\n",
              "    }\n",
              "\n",
              "    .colab-df-buttons div {\n",
              "      margin-bottom: 4px;\n",
              "    }\n",
              "\n",
              "    [theme=dark] .colab-df-convert {\n",
              "      background-color: #3B4455;\n",
              "      fill: #D2E3FC;\n",
              "    }\n",
              "\n",
              "    [theme=dark] .colab-df-convert:hover {\n",
              "      background-color: #434B5C;\n",
              "      box-shadow: 0px 1px 3px 1px rgba(0, 0, 0, 0.15);\n",
              "      filter: drop-shadow(0px 1px 2px rgba(0, 0, 0, 0.3));\n",
              "      fill: #FFFFFF;\n",
              "    }\n",
              "  </style>\n",
              "\n",
              "    <script>\n",
              "      const buttonEl =\n",
              "        document.querySelector('#df-7685d2e3-a38c-46fd-bedf-e7c829a26739 button.colab-df-convert');\n",
              "      buttonEl.style.display =\n",
              "        google.colab.kernel.accessAllowed ? 'block' : 'none';\n",
              "\n",
              "      async function convertToInteractive(key) {\n",
              "        const element = document.querySelector('#df-7685d2e3-a38c-46fd-bedf-e7c829a26739');\n",
              "        const dataTable =\n",
              "          await google.colab.kernel.invokeFunction('convertToInteractive',\n",
              "                                                    [key], {});\n",
              "        if (!dataTable) return;\n",
              "\n",
              "        const docLinkHtml = 'Like what you see? Visit the ' +\n",
              "          '<a target=\"_blank\" href=https://colab.research.google.com/notebooks/data_table.ipynb>data table notebook</a>'\n",
              "          + ' to learn more about interactive tables.';\n",
              "        element.innerHTML = '';\n",
              "        dataTable['output_type'] = 'display_data';\n",
              "        await google.colab.output.renderOutput(dataTable, element);\n",
              "        const docLink = document.createElement('div');\n",
              "        docLink.innerHTML = docLinkHtml;\n",
              "        element.appendChild(docLink);\n",
              "      }\n",
              "    </script>\n",
              "  </div>\n",
              "\n",
              "    </div>\n",
              "  </div>\n"
            ]
          },
          "metadata": {},
          "execution_count": 15
        }
      ],
      "source": [
        "i = 1\n",
        "\n",
        "text = df.loc[i, '_source.complaint_what_happened']\n",
        "cleaned = clean_text(text)\n",
        "tokenized = lemmatize_text(cleaned)\n",
        "\n",
        "pd.set_option('display.max_colwidth', None)\n",
        "pd.DataFrame({'original_text':[text], 'cleaned_text':[cleaned], 'tokenized_text':[tokenized]})"
      ]
    },
    {
      "cell_type": "markdown",
      "source": [
        "Обработанный текст я выделю в новый датафрейм."
      ],
      "metadata": {
        "id": "sCHYPzlOiD4s"
      }
    },
    {
      "cell_type": "code",
      "execution_count": null,
      "metadata": {
        "colab": {
          "base_uri": "https://localhost:8080/",
          "height": 223
        },
        "id": "VZyBPyXLuT4t",
        "outputId": "0c26fbb4-9c6c-485a-d65a-528661588d79"
      },
      "outputs": [
        {
          "output_type": "execute_result",
          "data": {
            "text/plain": [
              "                                                                                                                                                                                                                                                                                                                                                                                           text\n",
              "1                                                                                                                                                                                                               morning name appreciate help put stop chase bank cardmember service debt verification statement bank debt mail month debt right information consumer chase account advance help\n",
              "2                                                                                                                                                                                                                                                                                                             card agent date change agent information order upgrade account date consent agent\n",
              "10                                                                                                                                                                                                                                                                                                             chase card application identity consent obtain service credit identity applicant\n",
              "11  book ticket offer ticket card information offer minute decision made bank bank notification screen spoke application state information offer credit offer get account statement purchase ticket account application withdrawn representative application request proceed application chase fact credit account name credit report chase information credit report application consent error\n",
              "14                                                                                                                                                                                     son give check deposit chase account fund chase bank account money son check money bank refuse pay money son chase time call verify check owner country time date happen check number claim number chase"
            ],
            "text/html": [
              "\n",
              "  <div id=\"df-586b4b28-7928-4302-be40-4b21d0766474\" class=\"colab-df-container\">\n",
              "    <div>\n",
              "<style scoped>\n",
              "    .dataframe tbody tr th:only-of-type {\n",
              "        vertical-align: middle;\n",
              "    }\n",
              "\n",
              "    .dataframe tbody tr th {\n",
              "        vertical-align: top;\n",
              "    }\n",
              "\n",
              "    .dataframe thead th {\n",
              "        text-align: right;\n",
              "    }\n",
              "</style>\n",
              "<table border=\"1\" class=\"dataframe\">\n",
              "  <thead>\n",
              "    <tr style=\"text-align: right;\">\n",
              "      <th></th>\n",
              "      <th>text</th>\n",
              "    </tr>\n",
              "  </thead>\n",
              "  <tbody>\n",
              "    <tr>\n",
              "      <th>1</th>\n",
              "      <td>morning name appreciate help put stop chase bank cardmember service debt verification statement bank debt mail month debt right information consumer chase account advance help</td>\n",
              "    </tr>\n",
              "    <tr>\n",
              "      <th>2</th>\n",
              "      <td>card agent date change agent information order upgrade account date consent agent</td>\n",
              "    </tr>\n",
              "    <tr>\n",
              "      <th>10</th>\n",
              "      <td>chase card application identity consent obtain service credit identity applicant</td>\n",
              "    </tr>\n",
              "    <tr>\n",
              "      <th>11</th>\n",
              "      <td>book ticket offer ticket card information offer minute decision made bank bank notification screen spoke application state information offer credit offer get account statement purchase ticket account application withdrawn representative application request proceed application chase fact credit account name credit report chase information credit report application consent error</td>\n",
              "    </tr>\n",
              "    <tr>\n",
              "      <th>14</th>\n",
              "      <td>son give check deposit chase account fund chase bank account money son check money bank refuse pay money son chase time call verify check owner country time date happen check number claim number chase</td>\n",
              "    </tr>\n",
              "  </tbody>\n",
              "</table>\n",
              "</div>\n",
              "    <div class=\"colab-df-buttons\">\n",
              "\n",
              "  <div class=\"colab-df-container\">\n",
              "    <button class=\"colab-df-convert\" onclick=\"convertToInteractive('df-586b4b28-7928-4302-be40-4b21d0766474')\"\n",
              "            title=\"Convert this dataframe to an interactive table.\"\n",
              "            style=\"display:none;\">\n",
              "\n",
              "  <svg xmlns=\"http://www.w3.org/2000/svg\" height=\"24px\" viewBox=\"0 -960 960 960\">\n",
              "    <path d=\"M120-120v-720h720v720H120Zm60-500h600v-160H180v160Zm220 220h160v-160H400v160Zm0 220h160v-160H400v160ZM180-400h160v-160H180v160Zm440 0h160v-160H620v160ZM180-180h160v-160H180v160Zm440 0h160v-160H620v160Z\"/>\n",
              "  </svg>\n",
              "    </button>\n",
              "\n",
              "  <style>\n",
              "    .colab-df-container {\n",
              "      display:flex;\n",
              "      gap: 12px;\n",
              "    }\n",
              "\n",
              "    .colab-df-convert {\n",
              "      background-color: #E8F0FE;\n",
              "      border: none;\n",
              "      border-radius: 50%;\n",
              "      cursor: pointer;\n",
              "      display: none;\n",
              "      fill: #1967D2;\n",
              "      height: 32px;\n",
              "      padding: 0 0 0 0;\n",
              "      width: 32px;\n",
              "    }\n",
              "\n",
              "    .colab-df-convert:hover {\n",
              "      background-color: #E2EBFA;\n",
              "      box-shadow: 0px 1px 2px rgba(60, 64, 67, 0.3), 0px 1px 3px 1px rgba(60, 64, 67, 0.15);\n",
              "      fill: #174EA6;\n",
              "    }\n",
              "\n",
              "    .colab-df-buttons div {\n",
              "      margin-bottom: 4px;\n",
              "    }\n",
              "\n",
              "    [theme=dark] .colab-df-convert {\n",
              "      background-color: #3B4455;\n",
              "      fill: #D2E3FC;\n",
              "    }\n",
              "\n",
              "    [theme=dark] .colab-df-convert:hover {\n",
              "      background-color: #434B5C;\n",
              "      box-shadow: 0px 1px 3px 1px rgba(0, 0, 0, 0.15);\n",
              "      filter: drop-shadow(0px 1px 2px rgba(0, 0, 0, 0.3));\n",
              "      fill: #FFFFFF;\n",
              "    }\n",
              "  </style>\n",
              "\n",
              "    <script>\n",
              "      const buttonEl =\n",
              "        document.querySelector('#df-586b4b28-7928-4302-be40-4b21d0766474 button.colab-df-convert');\n",
              "      buttonEl.style.display =\n",
              "        google.colab.kernel.accessAllowed ? 'block' : 'none';\n",
              "\n",
              "      async function convertToInteractive(key) {\n",
              "        const element = document.querySelector('#df-586b4b28-7928-4302-be40-4b21d0766474');\n",
              "        const dataTable =\n",
              "          await google.colab.kernel.invokeFunction('convertToInteractive',\n",
              "                                                    [key], {});\n",
              "        if (!dataTable) return;\n",
              "\n",
              "        const docLinkHtml = 'Like what you see? Visit the ' +\n",
              "          '<a target=\"_blank\" href=https://colab.research.google.com/notebooks/data_table.ipynb>data table notebook</a>'\n",
              "          + ' to learn more about interactive tables.';\n",
              "        element.innerHTML = '';\n",
              "        dataTable['output_type'] = 'display_data';\n",
              "        await google.colab.output.renderOutput(dataTable, element);\n",
              "        const docLink = document.createElement('div');\n",
              "        docLink.innerHTML = docLinkHtml;\n",
              "        element.appendChild(docLink);\n",
              "      }\n",
              "    </script>\n",
              "  </div>\n",
              "\n",
              "\n",
              "<div id=\"df-d61ee036-c40d-4e8f-9b21-8363c690e570\">\n",
              "  <button class=\"colab-df-quickchart\" onclick=\"quickchart('df-d61ee036-c40d-4e8f-9b21-8363c690e570')\"\n",
              "            title=\"Suggest charts.\"\n",
              "            style=\"display:none;\">\n",
              "\n",
              "<svg xmlns=\"http://www.w3.org/2000/svg\" height=\"24px\"viewBox=\"0 0 24 24\"\n",
              "     width=\"24px\">\n",
              "    <g>\n",
              "        <path d=\"M19 3H5c-1.1 0-2 .9-2 2v14c0 1.1.9 2 2 2h14c1.1 0 2-.9 2-2V5c0-1.1-.9-2-2-2zM9 17H7v-7h2v7zm4 0h-2V7h2v10zm4 0h-2v-4h2v4z\"/>\n",
              "    </g>\n",
              "</svg>\n",
              "  </button>\n",
              "\n",
              "<style>\n",
              "  .colab-df-quickchart {\n",
              "      --bg-color: #E8F0FE;\n",
              "      --fill-color: #1967D2;\n",
              "      --hover-bg-color: #E2EBFA;\n",
              "      --hover-fill-color: #174EA6;\n",
              "      --disabled-fill-color: #AAA;\n",
              "      --disabled-bg-color: #DDD;\n",
              "  }\n",
              "\n",
              "  [theme=dark] .colab-df-quickchart {\n",
              "      --bg-color: #3B4455;\n",
              "      --fill-color: #D2E3FC;\n",
              "      --hover-bg-color: #434B5C;\n",
              "      --hover-fill-color: #FFFFFF;\n",
              "      --disabled-bg-color: #3B4455;\n",
              "      --disabled-fill-color: #666;\n",
              "  }\n",
              "\n",
              "  .colab-df-quickchart {\n",
              "    background-color: var(--bg-color);\n",
              "    border: none;\n",
              "    border-radius: 50%;\n",
              "    cursor: pointer;\n",
              "    display: none;\n",
              "    fill: var(--fill-color);\n",
              "    height: 32px;\n",
              "    padding: 0;\n",
              "    width: 32px;\n",
              "  }\n",
              "\n",
              "  .colab-df-quickchart:hover {\n",
              "    background-color: var(--hover-bg-color);\n",
              "    box-shadow: 0 1px 2px rgba(60, 64, 67, 0.3), 0 1px 3px 1px rgba(60, 64, 67, 0.15);\n",
              "    fill: var(--button-hover-fill-color);\n",
              "  }\n",
              "\n",
              "  .colab-df-quickchart-complete:disabled,\n",
              "  .colab-df-quickchart-complete:disabled:hover {\n",
              "    background-color: var(--disabled-bg-color);\n",
              "    fill: var(--disabled-fill-color);\n",
              "    box-shadow: none;\n",
              "  }\n",
              "\n",
              "  .colab-df-spinner {\n",
              "    border: 2px solid var(--fill-color);\n",
              "    border-color: transparent;\n",
              "    border-bottom-color: var(--fill-color);\n",
              "    animation:\n",
              "      spin 1s steps(1) infinite;\n",
              "  }\n",
              "\n",
              "  @keyframes spin {\n",
              "    0% {\n",
              "      border-color: transparent;\n",
              "      border-bottom-color: var(--fill-color);\n",
              "      border-left-color: var(--fill-color);\n",
              "    }\n",
              "    20% {\n",
              "      border-color: transparent;\n",
              "      border-left-color: var(--fill-color);\n",
              "      border-top-color: var(--fill-color);\n",
              "    }\n",
              "    30% {\n",
              "      border-color: transparent;\n",
              "      border-left-color: var(--fill-color);\n",
              "      border-top-color: var(--fill-color);\n",
              "      border-right-color: var(--fill-color);\n",
              "    }\n",
              "    40% {\n",
              "      border-color: transparent;\n",
              "      border-right-color: var(--fill-color);\n",
              "      border-top-color: var(--fill-color);\n",
              "    }\n",
              "    60% {\n",
              "      border-color: transparent;\n",
              "      border-right-color: var(--fill-color);\n",
              "    }\n",
              "    80% {\n",
              "      border-color: transparent;\n",
              "      border-right-color: var(--fill-color);\n",
              "      border-bottom-color: var(--fill-color);\n",
              "    }\n",
              "    90% {\n",
              "      border-color: transparent;\n",
              "      border-bottom-color: var(--fill-color);\n",
              "    }\n",
              "  }\n",
              "</style>\n",
              "\n",
              "  <script>\n",
              "    async function quickchart(key) {\n",
              "      const quickchartButtonEl =\n",
              "        document.querySelector('#' + key + ' button');\n",
              "      quickchartButtonEl.disabled = true;  // To prevent multiple clicks.\n",
              "      quickchartButtonEl.classList.add('colab-df-spinner');\n",
              "      try {\n",
              "        const charts = await google.colab.kernel.invokeFunction(\n",
              "            'suggestCharts', [key], {});\n",
              "      } catch (error) {\n",
              "        console.error('Error during call to suggestCharts:', error);\n",
              "      }\n",
              "      quickchartButtonEl.classList.remove('colab-df-spinner');\n",
              "      quickchartButtonEl.classList.add('colab-df-quickchart-complete');\n",
              "    }\n",
              "    (() => {\n",
              "      let quickchartButtonEl =\n",
              "        document.querySelector('#df-d61ee036-c40d-4e8f-9b21-8363c690e570 button');\n",
              "      quickchartButtonEl.style.display =\n",
              "        google.colab.kernel.accessAllowed ? 'block' : 'none';\n",
              "    })();\n",
              "  </script>\n",
              "</div>\n",
              "    </div>\n",
              "  </div>\n"
            ]
          },
          "metadata": {},
          "execution_count": 16
        }
      ],
      "source": [
        "complaints = pd.DataFrame()\n",
        "complaints['text'] = df['_source.complaint_what_happened'].apply(clean_text)\n",
        "complaints['text'] = complaints['text'].apply(lemmatize_text)\n",
        "complaints.head()"
      ]
    },
    {
      "cell_type": "markdown",
      "metadata": {
        "id": "mrSOc32Hfinz"
      },
      "source": [
        "# EDA"
      ]
    },
    {
      "cell_type": "markdown",
      "source": [
        "## Исследование длины обработанных сообщений"
      ],
      "metadata": {
        "id": "xv5AN6Gym7LI"
      }
    },
    {
      "cell_type": "code",
      "execution_count": null,
      "metadata": {
        "id": "J_MpzIcF15nE",
        "colab": {
          "base_uri": "https://localhost:8080/",
          "height": 542
        },
        "outputId": "3801619f-d443-4c45-d308-2983fa90ad09"
      },
      "outputs": [
        {
          "output_type": "display_data",
          "data": {
            "text/html": [
              "<html>\n",
              "<head><meta charset=\"utf-8\" /></head>\n",
              "<body>\n",
              "    <div>            <script src=\"https://cdnjs.cloudflare.com/ajax/libs/mathjax/2.7.5/MathJax.js?config=TeX-AMS-MML_SVG\"></script><script type=\"text/javascript\">if (window.MathJax && window.MathJax.Hub && window.MathJax.Hub.Config) {window.MathJax.Hub.Config({SVG: {font: \"STIX-Web\"}});}</script>                <script type=\"text/javascript\">window.PlotlyConfig = {MathJaxConfig: 'local'};</script>\n",
              "        <script charset=\"utf-8\" src=\"https://cdn.plot.ly/plotly-2.24.1.min.js\"></script>                <div id=\"4688e0d1-bb1e-42cd-b99e-07db9fe1457d\" class=\"plotly-graph-div\" style=\"height:525px; width:100%;\"></div>            <script type=\"text/javascript\">                                    window.PLOTLYENV=window.PLOTLYENV || {};                                    if (document.getElementById(\"4688e0d1-bb1e-42cd-b99e-07db9fe1457d\")) {                    Plotly.newPlot(                        \"4688e0d1-bb1e-42cd-b99e-07db9fe1457d\",                        [{\"alignmentgroup\":\"True\",\"bingroup\":\"x\",\"hovertemplate\":\"variable=text\\u003cbr\\u003evalue=%{x}\\u003cbr\\u003ecount=%{y}\\u003cextra\\u003e\\u003c\\u002fextra\\u003e\",\"legendgroup\":\"text\",\"marker\":{\"color\":\"#636efa\",\"pattern\":{\"shape\":\"\"}},\"name\":\"text\",\"nbinsx\":50,\"offsetgroup\":\"text\",\"orientation\":\"v\",\"showlegend\":true,\"texttemplate\":\"%{value}\",\"x\":[175,81,80,379,200,21,618,578,1138,53,12,211,113,160,504,147,58,57,265,531,332,78,250,47,372,560,50,401,335,60,362,319,113,269,43,131,725,152,369,2780,323,135,91,396,827,178,211,484,263,971,1044,86,271,179,37,298,426,1422,136,455,403,276,109,50,132,515,573,378,306,427,294,104,275,119,188,122,129,464,309,558,195,564,2364,619,75,545,115,199,629,1529,130,347,460,580,102,326,354,492,97,275,392,2690,168,879,673,717,64,377,314,246,740,2449,311,197,716,353,238,36,1101,312,203,683,1232,142,144,877,85,1018,503,623,384,6075,553,214,754,334,325,287,453,543,373,1494,65,240,181,301,147,346,200,1568,122,390,465,126,102,568,327,328,163,894,6,122,143,218,204,1693,304,345,138,299,481,948,633,122,516,236,180,383,938,145,643,229,217,168,619,135,337,710,302,421,382,319,303,471,721,191,275,546,2010,553,536,185,127,331,620,1746,88,576,98,1129,422,659,270,148,1179,84,324,155,757,189,241,264,466,876,690,244,177,109,151,811,1319,1104,293,87,706,680,53,436,56,432,21,153,123,258,185,132,372,117,296,247,1112,452,119,96,627,104,735,1415,40,147,97,237,337,129,194,164,161,336,424,340,174,255,775,659,680,218,140,305,135,148,520,244,521,446,820,327,166,73,800,174,105,124,113,279,323,114,365,2980,960,406,160,199,60,50,162,848,66,394,331,23,549,632,550,391,509,155,163,135,1551,358,360,233,320,722,133,190,107,366,1193,410,141,133,94,176,178,237,372,166,27,74,633,59,74,909,1394,297,101,338,375,319,336,368,67,330,542,322,226,271,2340,705,99,283,110,251,326,1269,1698,106,63,103,997,714,1031,129,752,232,383,180,17,428,529,532,555,187,1205,397,202,185,1192,514,466,549,578,91,364,1297,669,647,577,480,107,343,605,560,127,2453,44,916,680,194,457,64,252,439,676,89,34,419,450,155,237,445,462,1959,224,214,403,270,196,155,252,23,268,465,429,518,12487,932,731,226,340,278,240,196,201,283,201,501,228,1069,22,290,746,365,101,335,715,633,280,128,498,190,549,103,106,174,168,443,398,176,1233,183,688,125,273,82,1514,208,618,50,160,422,259,472,681,203,492,217,2582,129,972,287,316,34,431,404,120,246,494,104,510,128,67,355,895,769,301,616,303,387,555,90,474,392,51,1778,107,158,1430,243,44,1034,451,279,542,54,460,18,307,203,412,255,328,37,556,80,429,865,55,102,130,355,315,108,303,195,74,201,451,731,108,598,234,392,247,723,951,72,337,332,458,118,954,111,95,31,510,1000,424,230,277,1249,112,334,292,335,517,194,11,240,123,81,514,898,294,658,153,247,409,402,302,238,323,147,628,761,59,300,877,352,301,765,232,635,106,202,888,181,1015,448,270,188,181,333,61,226,488,498,561,206,97,392,437,356,445,338,367,10,125,142,823,480,219,25,164,151,129,1513,176,433,378,987,393,13,436,97,188,73,329,444,103,594,415,259,4709,436,405,656,431,706,111,159,629,622,169,226,160,358,296,396,91,342,308,999,56,182,101,177,1887,71,307,117,173,434,812,269,327,462,1256,856,200,329,176,205,96,229,513,152,136,334,303,166,70,210,89,192,332,208,339,25,164,1170,282,277,578,392,87,610,224,153,155,195,35,407,256,96,233,26,102,695,358,795,471,432,599,757,495,264,553,205,165,175,393,138,538,90,401,21,360,46,1877,139,234,422,21,181,403,178,938,322,437,131,199,57,161,210,245,1183,377,44,687,295,649,283,697,128,319,398,103,83,939,194,554,286,146,16,316,156,243,447,514,169,39,133,1214,174,35,945,351,555,465,467,144,398,91,491,383,533,361,31,604,229,62,222,384,140,593,1224,250,69,40,1583,169,376,262,344,44,345,253,731,212,304,513,440,134,284,274,1009,387,314,402,366,666,134,1169,74,993,771,233,956,529,1236,1114,392,405,356,730,307,306,317,134,350,485,331,323,425,1291,272,421,665,175,339,215,1308,279,87,94,266,606,181,319,488,412,396,289,1115,238,24,381,1121,240,50,151,194,428,305,1287,334,162,92,144,233,438,245,734,750,54,420,663,521,686,76,352,269,362,475,395,131,417,401,420,179,928,647,455,981,248,265,334,774,283,484,107,439,229,462,360,83,31,1086,1001,280,115,2333,504,199,1258,30,197,685,183,255,60,274,982,512,26,87,544,196,200,463,611,445,367,65,99,83,470,260,126,397,2895,240,60,1135,812,870,348,195,859,286,433,161,67,379,540,209,51,86,1044,306,410,156,159,819,65,220,76,173,1211,396,619,968,157,217,106,128,356,201,1540,224,110,1105,898,62,74,428,514,225,145,29,184,543,202,28,442,56,1041,311,638,612,31,90,508,1873,173,342,172,430,1655,257,218,155,1035,591,504,182,261,215,1176,26,206,231,75,55,536,179,65,247,137,548,760,123,201,401,1022,127,207,499,361,120,473,2166,265,532,328,102,900,554,426,446,735,108,186,57,401,13,934,459,174,131,86,1192,732,85,2074,445,294,236,248,343,455,242,655,7,28,1779,397,91,168,22,294,100,247,108,99,115,118,109,171,305,520,1329,587,97,241,76,488,409,8703,385,1228,979,211,898,661,665,87,212,321,521,84,175,119,2014,2215,498,322,394,130,351,1104,52,208,229,559,156,211,102,1585,381,377,790,80,783,155,311,398,269,471,302,165,652,382,469,55,857,58,359,304,118,1082,248,1058,346,170,166,301,119,60,457,311,429,300,482,161,179,295,330,385,193,11,86,345,956,125,521,392,937,414,2852,51,3320,22,918,865,240,127,281,185,210,421,582,30,201,202,296,138,527,128,870,381,312,1280,45,97,1037,95,493,87,64,207,1079,1053,307,36,70,386,1031,509,78,439,239,331,333,280,1057,384,125,431,51,677,176,1156,392,206,731,113,96,571,327,282,565,56,563,255,422,181,527,13,471,310,131,261,63,776,454,54,498,839,116,140,1437,92,115,292,84,305,358,427,179,238,379,340,818,558,121,146,389,165,471,388,1791,290,134,56,697,468,187,872,211,437,63,281,113,70,628,291,396,222,141,251,3126,313,292,1698,534,681,472,134,189,235,393,203,408,273,229,232,137,195,816,222,121,852,155,267,78,235,242,217,111,133,172,86,20,75,286,1073,295,781,400,190,1040,90,230,1370,651,227,267,557,103,109,953,143,388,476,179,88,132,141,319,255,962,366,831,105,141,307,153,557,392,287,100,429,488,68,560,110,176,134,165,437,284,324,34,882,196,302,54,377,819,122,455,620,307,602,230,140,96,135,83,70,265,94,143,365,149,109,214,335,1360,562,49,19,282,231,75,95,89,284,535,232,1462,918,150,104,945,577,1086,362,345,1032,199,738,284,446,335,907,455,550,33,60,109,99,86,345,220,1159,281,282,357,63,257,304,320,146,33,453,155,109,1222,149,830,164,195,322,574,795,252,292,772,77,432,36,523,665,144,214,321,547,4991,395,1141,179,167,400,935,515,488,182,148,70,203,199,686,1458,158,353,487,284,502,1025,35,290,79,83,527,710,203,717,1393,293,319,162,181,186,458,40,355,76,414,93,596,495,493,375,1802,326,904,560,113,399,61,131,203,139,67,213,230,225,141,175,432,265,632,727,377,356,846,121,66,547,136,1255,675,446,485,207,108,347,242,243,176,305,298,63,192,1389,419,284,272,205,1177,147,75,316,294,30,266,304,343,135,440,368,268,79,117,341,7,1856,56,123,19,286,1015,277,42,335,385,135,95,421,446,110,279,303,452,316,423,94,797,165,85,351,398,263,41,255,170,412,238,324,247,181,247,214,583,241,66,301,139,36,377,569,230,128,380,600,561,246,121,111,316,95,229,1044,326,215,426,472,323,93,1550,296,330,400,16,180,98,127,160,981,11,464,643,713,56,115,150,224,224,326,160,505,181,21,302,229,281,1099,150,694,238,1643,257,1239,433,495,237,83,729,79,105,260,274,31,673,217,384,552,92,550,625,279,283,85,160,259,121,323,110,184,439,209,1958,252,202,84,208,165,183,377,283,139,808,507,245,805,226,25,360,163,202,285,377,37,500,100,136,231,386,161,499,534,194,292,199,66,485,40,222,551,167,1474,324,88,371,205,335,44,334,37,108,324,161,180,288,94,211,337,370,250,1126,117,332,576,272,355,797,32,274,211,592,235,312,423,373,126,926,408,391,157,532,410,245,407,532,557,432,545,280,475,280,143,1075,232,207,659,76,259,416,151,687,281,147,68,524,298,433,193,386,490,121,174,866,127,1263,143,380,74,87,312,322,332,264,181,65,271,238,550,375,457,182,139,28,137,280,466,181,302,137,143,210,866,167,190,72,37,449,433,849,373,224,1916,193,991,559,339,414,309,356,526,248,204,146,1580,308,98,402,481,149,136,679,5427,82,985,375,221,400,105,266,524,254,169,214,94,521,1920,485,218,24,291,243,1386,261,11,232,96,2510,245,114,280,340,425,225,202,659,56,733,215,201,318,391,896,849,678,127,735,1537,631,418,72,62,386,283,559,45,554,170,25,397,938,48,96,549,64,147,508,138,809,397,331,1611,765,437,318,41,286,345,54,1030,966,1219,625,462,45,122,783,343,1115,293,229,28,495,146,557,80,321,330,411,195,828,71,65,506,92,90,690,195,477,720,65,259,432,522,299,1011,92,285,162,512,72,324,56,194,218,90,809,597,570,888,717,544,201,316,102,36,52,245,649,260,1155,73,440,287,38,349,264,2259,340,522,186,46,124,546,76,619,597,386,631,203,521,407,341,307,328,533,257,200,122,625,542,152,157,933,56,213,82,279,120,350,1192,458,368,118,1399,500,403,403,294,188,252,275,54,351,849,485,153,120,63,98,310,79,157,221,194,277,701,434,416,586,93,148,191,472,644,217,1008,1050,1013,248,238,1004,205,415,391,98,55,61,173,457,91,131,457,102,405,184,1018,1472,184,121,226,185,103,317,400,642,176,140,362,390,344,327,88,208,557,354,973,785,224,369,47,501,1174,826,463,213,481,167,48,44,168,152,77,176,338,76,278,625,206,1433,169,525,224,102,426,347,1394,123,187,643,1200,773,499,767,220,195,87,327,74,141,413,92,762,174,206,386,359,174,62,428,201,98,311,790,213,184,137,1029,7,481,316,882,1256,260,832,98,756,150,560,228,273,95,368,240,113,339,402,362,55,79,460,870,256,249,342,183,186,353,157,425,270,374,173,350,123,254,206,194,136,749,546,323,340,65,806,742,529,374,262,290,480,378,59,341,262,192,161,376,113,91,1376,323,30,119,85,158,197,212,141,620,852,343,30,73,943,259,11932,310,100,587,65,250,162,94,2473,400,905,906,223,173,97,737,119,318,185,128,340,515,364,466,104,1655,127,368,604,560,151,103,40,322,34,16,87,331,24,367,84,923,295,372,367,96,108,984,69,722,131,191,143,143,58,3081,133,475,573,208,100,45,518,250,202,91,444,854,309,474,249,86,75,591,141,356,157,277,110,163,966,295,842,124,804,493,39,164,119,291,826,255,3873,248,129,157,152,503,508,172,631,352,168,1364,226,42,252,1352,1826,194,177,80,334,179,2037,376,689,709,193,262,177,379,351,36,686,157,590,796,1033,107,195,157,233,526,702,170,311,1036,339,321,115,32,71,501,901,950,795,78,157,687,544,145,524,204,276,206,640,245,837,245,716,247,590,256,395,447,221,109,27,243,463,1009,148,450,595,213,262,520,280,525,140,296,416,212,506,559,250,437,557,505,1262,97,42,465,271,31,195,303,684,472,74,157,340,93,332,19,443,561,150,72,240,206,290,192,284,313,1023,16,237,288,2024,272,545,802,317,99,367,68,43,326,1373,994,399,342,202,731,711,648,809,55,363,351,279,94,296,55,718,298,467,1165,252,183,67,990,277,109,95,81,450,93,53,57,243,201,64,228,1325,322,284,95,4,566,40,661,27,21,275,540,782,322,469,198,276,377,304,199,172,520,228,80,593,276,257,22,527,655,135,1019,258,241,34,377,986,1104,505,130,1053,438,2034,112,252,624,145,294,342,564,118,199,192,195,73,24,545,426,1442,89,80,185,143,113,279,298,314,430,466,1091,44,168,156,358,285,160,50,89,118,102,106,527,23,221,345,693,363,53,137,83,732,463,602,43,271,188,766,1305,302,460,69,336,604,226,255,95,113,67,320,816,79,233,73,145,41,75,34,225,124,26,640,255,266,101,491,137,230,744,248,108,302,96,909,57,168,73,44,510,124,246,69,108,228,132,1549,200,354,272,293,968,47,116,551,236,48,630,652,37,84,228,286,871,48,43,170,660,44,673,604,180,153,195,1217,256,1275,167,102,250,599,2027,145,531,566,59,189,228,456,250,231,20,385,244,149,419,720,917,61,48,988,375,307,385,289,330,562,306,468,694,176,85,222,1557,430,160,340,224,143,461,48,225,313,281,248,485,926,660,149,357,774,153,352,527,479,251,37,620,400,423,621,180,325,249,163,160,239,141,182,32,554,232,652,322,228,1948,486,560,332,515,85,496,983,87,153,752,214,344,189,368,1164,832,167,107,166,1103,506,187,149,189,61,198,3856,83,234,233,448,129,181,386,907,176,209,125,345,699,350,245,425,228,660,688,597,103,218,2443,389,281,222,1556,26,75,681,430,445,164,323,338,222,41,1057,204,95,504,919,357,594,231,295,239,142,611,394,763,722,364,51,101,199,712,125,137,243,86,104,214,372,96,30,535,289,31,858,77,958,753,191,467,25,558,230,71,61,189,122,2740,59,397,412,140,39,255,335,652,2063,23,711,13,515,466,393,133,733,508,310,344,74,104,100,447,276,303,344,425,160,520,63,819,319,225,329,76,1144,210,353,214,207,354,345,356,266,537,548,65,1155,244,298,587,740,91,559,607,185,239,608,973,87,133,155,156,894,74,201,246,862,137,1055,103,782,138,162,1139,179,77,187,238,222,59,530,625,99,357,108,187,209,177,132,762,14,147,504,227,475,229,467,679,141,399,169,577,376,354,90,281,254,156,417,263,336,189,1016,78,111,111,126,501,89,271,62,452,76,235,143,220,378,388,612,193,290,1206,224,361,643,914,753,468,312,572,213,220,256,788,99,239,308,972,187,541,546,521,130,158,460,140,50,62,101,51,521,59,104,12,148,671,144,3810,232,224,217,1188,649,164,643,678,412,174,620,277,96,220,67,212,222,78,460,342,680,526,94,385,175,414,105,53,306,80,177,202,72,578,1249,180,1726,154,248,615,493,243,343,250,243,233,124,77,72,197,231,636,171,1080,338,194,865,92,213,69,345,159,218,271,404,221,103,485,520,109,80,468,124,372,309,835,403,243,247,411,384,373,1015,62,193,141,104,679,969,95,680,342,149,450,279,408,188,793,127,1100,1177,373,1008,198,626,329,513,342,114,1111,90,55,131,634,364,178,400,547,942,146,258,195,298,371,457,531,67,87,148,289,1125,163,219,79,367,588,46,637,365,273,231,144,188,543,1075,151,153,800,236,215,226,526,121,788,750,1280,1090,405,782,356,65,13,342,386,95,402,201,155,459,39,391,342,775,339,235,372,217,181,570,150,566,1324,332,281,136,373,219,654,1022,1124,374,285,241,158,88,290,92,316,81,178,100,302,354,11,267,952,308,396,213,380,465,158,358,437,1690,788,31,629,432,184,131,646,124,213,807,215,144,380,406,299,168,130,383,687,369,81,244,282,363,74,157,301,54,445,311,294,232,198,774,354,316,306,152,164,96,2316,185,731,75,257,579,573,191,228,555,776,417,70,91,299,364,216,274,502,775,260,977,205,535,173,374,122,684,302,109,473,626,362,603,268,23,1184,861,335,1019,408,705,326,446,241,193,64,601,270,297,426,294,141,42,2730,200,59,232,502,304,90,202,548,499,100,415,348,63,600,746,108,70,271,27,84,729,382,347,530,389,323,34,273,765,98,1106,645,405,92,712,854,602,434,445,624,285,343,236,414,280,1214,358,222,1863,153,66,429,163,108,247,185,189,298,258,50,63,444,149,354,243,418,127,205,54,443,343,1537,475,281,165,194,554,229,403,134,1021,166,710,303,238,370,73,369,574,2132,61,520,531,287,177,864,316,267,391,746,91,163,19,136,1076,316,74,297,565,396,288,386,524,249,424,322,306,317,603,125,43,67,646,44,260,75,137,280,553,890,569,433,111,788,238,476,206,9,50,318,386,95,1749,1685,277,275,48,2408,468,1126,24,273,102,1172,63,141,529,306,395,22,37,344,207,204,94,312,2002,1181,803,89,277,192,18,1528,347,295,42,594,300,67,214,242,507,266,257,425,468,180,684,351,207,208,705,40,12,128,730,136,75,648,784,266,821,738,579,483,118,198,234,173,703,696,930,497,171,245,529,124,596,150,939,286,210,69,534,176,142,1148,975,119,186,75,131,328,306,379,100,87,1369,98,209,97,543,306,136,318,237,38,278,285,397,623,379,374,382,524,141,293,530,244,146,130,253,493,614,119,254,395,209,115,244,110,393,195,213,31,355,252,52,484,62,602,602,205,637,123,1168,86,126,336,102,236,448,424,67,98,366,52,116,528,80,155,841,177,130,479,177,234,207,447,3008,1054,323,682,216,668,277,719,47,329,269,503,106,229,1748,2732,220,690,221,1615,83,919,216,66,373,711,84,215,555,534,359,343,152,323,436,481,184,122,443,150,193,513,87,4,532,401,577,663,150,66,314,509,66,783,90,226,456,70,319,211,215,482,311,585,73,433,184,659,694,290,427,517,63,104,783,783,346,67,85,1028,172,436,133,1197,359,2185,259,1028,63,189,179,464,202,351,590,465,726,410,232,216,258,533,312,319,107,438,308,246,117,220,402,569,458,784,212,772,1028,184,400,28,372,58,512,554,160,154,294,226,149,42,129,98,1013,374,211,182,508,423,347,1233,416,544,232,72,197,538,144,1132,138,286,124,445,58,300,424,155,510,322,572,231,510,77,357,159,260,1139,959,241,2137,37,94,85,279,239,311,1507,389,151,283,99,241,202,231,449,321,573,349,206,910,626,96,179,453,456,1042,610,8323,856,59,193,379,79,160,466,289,76,843,2397,436,193,315,294,720,462,179,197,284,366,460,84,189,50,110,573,132,657,1011,143,271,181,205,209,108,212,661,326,520,270,72,206,361,264,464,1080,100,1203,321,77,498,320,1404,955,553,796,354,241,853,73,1131,59,1271,318,38,371,465,348,213,104,334,54,107,510,601,252,101,72,1093,105,537,2054,447,863,201,882,171,510,285,104,558,62,272,404,1006,281,154,884,265,734,183,152,594,768,3763,228,107,431,338,462,296,88,388,430,418,86,271,337,706,108,403,833,230,484,488,470,245,293,192,155,179,201,975,250,169,1353,403,504,387,347,180,333,454,220,721,83,1406,131,58,643,457,379,791,74,667,552,454,1245,44,547,396,113,93,1380,161,788,209,75,255,234,545,254,460,2199,354,167,100,69,190,121,83,218,138,139,2838,380,278,241,243,255,663,92,374,466,142,268,1495,92,329,1068,5,379,131,400,606,73,279,36,36,106,176,272,85,954,199,134,289,233,321,144,246,448,618,124,235,5176,457,868,231,808,1014,123,1315,505,178,358,625,432,107,342,971,132,236,288,225,277,176,230,427,854,360,183,318,150,91,177,79,252,225,173,324,400,1314,187,754,160,422,46,3834,219,116,85,383,692,731,30,190,177,68,47,382,210,1156,378,305,191,1761,21,361,518,956,1032,775,40,217,443,282,135,246,88,74,132,960,187,191,240,16,1232,154,334,434,327,189,210,117,691,65,192,124,617,54,182,625,191,150,698,640,162,170,272,274,163,693,61,316,333,159,345,376,570,472,301,630,39,384,777,196,882,183,542,141,63,129,65,1309,245,198,383,303,263,89,160,218,291,133,74,746,71,246,295,324,161,480,288,164,69,483,399,344,210,266,137,83,621,262,125,195,35,85,144,735,99,20,678,444,246,118,1853,373,84,663,638,160,145,131,338,238,596,908,131,281,207,234,98,88,247,361,466,191,171,380,470,203,310,382,139,233,500,682,2548,804,208,220,77,789,524,152,10,761,136,257,156,1313,167,358,278,225,106,378,1088,412,244,314,161,106,156,264,108,157,621,226,282,246,547,150,974,205,57,202,107,362,359,59,819,647,124,373,193,866,543,940,266,336,286,336,228,137,480,66,210,123,377,191,102,244,328,1105,406,168,950,351,370,248,337,417,169,195,186,200,72,189,1043,1343,271,395,245,1137,67,100,270,170,2420,1409,279,641,182,115,311,140,82,665,187,191,944,156,435,97,191,288,758,219,132,3273,1112,299,118,167,94,71,632,288,123,292,150,875,569,620,101,186,172,740,151,260,291,548,123,191,84,140,47,137,674,238,1347,635,130,576,293,376,477,665,719,300,503,775,276,269,145,1188,520,52,748,164,423,386,524,44,316,105,400,229,565,221,452,342,314,335,302,252,646,125,688,325,133,1087,90,212,283,427,471,189,2466,134,326,107,491,373,431,724,279,252,939,181,306,158,828,905,535,3512,120,63,632,274,327,164,357,194,175,383,48,580,317,70,678,584,296,713,183,39,120,120,194,147,629,158,282,362,323,282,351,168,1058,142,367,967,331,85,124,4594,126,744,40,216,210,172,135,104,197,57,444,130,257,846,671,53,373,64,50,542,148,217,526,262,316,493,316,378,1376,142,590,155,826,68,357,784,513,299,37,440,153,102,612,542,69,472,92,178,115,384,55,33,540,204,147,407,21,5499,438,116,337,240,15,332,317,844,106,182,729,995,319,136,783,135,1014,1466,327,942,920,265,54,438,625,208,271,62,132,186,297,70,272,482,757,24,533,222,128,145,250,419,571,108,611,33,103,211,62,493,61,209,459,414,194,133,571,58,54,135,292,366,303,309,308,33,118,142,166,149,306,133,207,190,531,401,1636,387,5826,820,582,262,684,569,217,492,236,659,993,871,311,729,401,186,400,195,555,133,530,268,209,281,453,325,281,189,43,55,499,46,24,46,206,1054,564,278,1057,208,598,715,1032,172,175,417,190,402,1443,243,101,157,241,3326,387,222,493,334,1364,329,167,286,341,311,1938,608,395,314,166,531,2093,371,176,36,568,209,1299,698,459,212,455,330,823,434,180,272,494,608,143,59,770,349,115,207,839,209,70,252,161,185,1146,714,33,410,531,700,107,490,133,563,336,451,181,535,175,391,112,425,313,443,407,264,246,164,371,686,114,62,189,175,92,629,339,213,145,66,305,236,643,100,348,82,195,1063,297,347,199,125,290,386,708,75,256,53,794,131,177,205,9,108,86,299,142,102,579,159,112,714,374,318,575,114,344,186,134,162,500,576,95,209,635,344,391,473,278,60,49,185,110,734,595,196,213,253,1053,288,236,250,913,746,368,846,224,137,210,113,21,151,342,1871,209,213,106,0,139,571,331,192,266,357,112,236,70,499,94,117,178,279,396,1336,1345,230,743,253,554,1053,754,351,766,90,683,32,227,194,174,1579,527,188,595,332,174,740,636,581,56,212,497,57,290,1495,119,619,130,125,200,391,463,318,50,296,189,92,1294,403,110,27,721,295,449,180,71,139,304,465,729,31,359,875,58,67,241,190,335,421,487,262,840,38,139,96,129,846,225,738,867,697,499,260,437,111,380,103,378,82,417,251,520,3277,180,839,233,387,430,482,84,899,424,965,1064,109,328,237,198,253,559,240,176,239,326,518,904,36,370,838,89,149,229,139,313,546,160,144,260,167,711,271,250,1013,145,276,621,479,538,184,27,988,17,792,526,373,158,204,59,513,228,198,404,84,249,245,826,270,347,144,435,123,189,154,275,109,101,518,439,218,274,79,185,95,601,459,462,120,190,183,573,111,183,566,582,198,175,229,243,331,712,180,178,938,411,177,109,377,99,370,18,191,130,207,812,201,149,844,322,258,77,122,393,264,215,530,751,724,97,54,82,192,455,173,927,279,808,184,148,468,39,670,152,266,467,329,1003,324,459,150,196,441,342,1116,173,78,348,564,709,102,1045,51,210,427,594,163,687,583,123,419,297,224,522,272,273,92,93,418,125,28,174,62,236,91,730,1543,71,64,528,870,440,878,538,338,302,233,274,630,176,19,570,449,281,276,124,135,46,407,232,680,90,662,330,256,276,821,292,200,200,1297,443,144,460,249,361,314,722,320,378,269,217,15,59,449,854,455,493,496,1042,203,1567,357,504,170,79,59,45,280,846,95,139,619,1010,76,939,110,253,217,67,218,79,84,697,1101,60,292,114,327,113,943,419,187,76,49,174,518,78,319,137,1973,666,389,116,430,61,396,148,88,175,455,251,46,2633,264,898,1424,339,23,387,2202,239,267,344,71,14,473,147,531,1111,42,196,122,404,275,210,146,1199,133,220,48,308,26,191,365,1335,285,632,203,1077,844,331,206,246,1015,67,604,249,1019,1214,544,181,226,1093,2007,442,77,197,608,288,134,765,182,1284,725,486,527,205,736,298,679,718,87,268,180,597,1621,313,1953,1065,672,246,892,331,42,3599,263,100,167,279,153,391,29,33,166,108,1147,187,307,855,116,1183,475,23,131,144,135,63,233,88,64,50,458,282,62,2068,1056,137,325,566,257,279,310,281,161,397,700,1505,376,322,253,273,161,534,144,236,36,571,252,242,382,485,1607,357,2238,35,195,753,177,233,21,508,768,69,297,125,265,585,299,675,359,280,494,101,1095,328,81,181,158,328,524,313,604,129,785,298,223,943,458,101,272,307,278,194,805,401,395,846,51,245,182,425,264,738,83,103,399,515,538,286,717,902,314,166,165,138,580,248,246,218,206,60,512,39,209,296,1612,173,346,52,342,19,73,387,484,233,776,418,738,4274,238,231,577,350,294,356,3234,1057,103,1101,714,92,342,242,352,247,295,188,686,982,87,60,262,276,253,126,236,205,244,464,260,187,819,285,857,174,341,152,308,241,104,403,72,126,528,552,187,399,262,566,280,99,428,99,103,25,211,323,542,84,20,497,636,63,345,187,134,128,500,443,391,198,148,300,230,50,324,282,782,69,95,3799,95,355,461,286,1015,199,376,633,360,272,167,745,691,784,466,328,493,619,205,419,419,266,97,326,189,1142,363,716,67,379,215,390,266,1869,279,1436,278,533,289,389,34,216,691,77,370,68,79,455,493,1703,216,342,412,231,2360,505,594,578,177,789,776,130,665,127,145,3824,125,644,110,370,119,448,1290,276,210,208,222,243,1034,501,944,370,120,207,593,21,363,98,72,139,132,283,249,527,43,127,97,118,113,105,81,289,62,311,612,1099,58,1134,66,78,241,1322,562,563,359,291,303,269,120,420,247,538,148,98,177,70,1393,1100,95,214,327,325,382,520,1220,742,150,209,145,528,1724,44,94,7,536,162,1599,12,120,186,184,358,244,580,325,654,831,194,1198,373,964,64,63,540,76,382,192,326,325,311,249,300,599,282,550,493,55,350,1120,156,282,278,86,223,149,222,329,1237,216,479,175,159,501,684,260,25,410,1182,205,129,250,266,312,572,131,284,524,963,933,602,407,230,506,136,221,79,187,124,651,237,280,60,47,228,7444,83,199,108,118,111,48,152,140,287,48,70,495,330,142,339,170,967,1362,534,204,593,824,3610,1031,5038,258,66,269,221,541,706,190,65,209,379,605,593,363,130,211,108,281,745,843,3513,589,235,680,38,319,481,181,159,628,161,489,144,737,507,411,61,156,83,202,260,294,625,189,219,1016,386,235,539,1091,306,343,87,625,253,271,308,31,509,62,23,246,453,99,437,258,74,681,144,175,82,468,158,360,854,563,391,91,333,257,432,335,458,2669,164,283,981,366,764,225,305,347,225,200,660,476,115,171,240,178,23,168,998,135,441,395,63,783,215,108,112,128,351,460,173,130,1343,49,298,304,120,1053,227,112,196,77,752,140,357,208,481,261,688,640,4,512,1331,119,163,663,341,297,370,161,135,510,232,487,894,37,385,392,222,448,159,155,778,1484,630,231,325,427,295,3770,453,235,117,105,263,1051,1220,218,86,18,132,847,1477,78,294,311,899,68,1626,486,303,207,692,168,199,187,130,682,160,358,70,124,470,202,53,2827,1275,388,115,217,641,67,35,436,495,98,1333,2187,2279,166,45,343,404,288,145,268,268,598,43,933,417,57,700,85,581,831,820,131,39,2234,408,867,32,363,315,237,302,382,679,708,137,520,330,1037,821,452,632,318,331,25,254,158,404,199,196,483,386,351,1699,280,165,338,249,351,335,783,209,442,35,402,347,2794,159,200,132,250,227,256,319,80,56,93,273,376,588,485,342,148,236,408,382,1129,213,70,387,420,206,356,554,212,365,589,128,182,434,199,441,621,14,834,2307,119,33,542,277,338,139,816,52,211,194,210,192,513,69,552,83,68,186,282,209,372,52,144,699,216,298,218,153,161,292,463,126,229,354,130,436,166,850,237,137,459,215,72,79,252,428,427,59,84,316,533,274,695,106,979,227,56,237,933,437,164,499,399,43,53,564,171,343,494,269,1262,832,306,1210,85,307,366,190,151,79,1183,495,308,324,240,205,988,232,230,119,216,535,287,685,326,80,187,658,96,383,773,1379,679,296,146,395,81,352,98,289,434,436,93,865,230,105,112,426,589,58,285,530,42,288,805,1304,359,572,1563,488,548,32,2612,66,1120,540,297,378,926,276,206,587,238,279,266,140,754,379,296,610,96,134,523,12,101,66,301,64,134,585,534,272,1113,960,196,78,291,890,497,180,154,130,527,295,79,66,408,297,43,71,484,353,369,203,310,501,137,171,593,360,213,220,167,53,626,172,135,92,57,181,77,172,439,440,1062,183,1610,62,30,259,151,239,121,474,85,92,510,844,903,408,629,236,1015,46,294,337,623,396,41,296,137,104,693,221,400,271,199,235,260,175,46,234,475,251,509,557,1271,438,72,716,597,303,754,225,84,262,216,754,17,1008,252,62,98,519,123,362,532,113,161,473,229,194,938,228,247,602,1372,93,439,35,364,405,722,282,1015,383,231,434,350,389,487,2201,1131,102,666,229,625,65,1437,675,459,153,188,658,191,28,136,1540,577,275,563,99,70,48,190,288,769,2099,190,435,1455,268,81,904,2101,743,189,208,70,374,223,225,471,468,238,87,248,389,367,188,96,66,672,631,143,514,629,297,184,393,212,486,163,195,65,580,129,178,251,2397,79,267,232,1213,1554,59,205,162,388,299,2608,327,647,313,173,112,416,966,402,224,23,284,435,396,242,58,70,239,209,255,333,210,143,1800,91,105,137,178,102,273,270,133,249,1054,638,226,320,106,312,2311,307,209,72,135,53,238,281,559,264,249,1221,163,375,154,145,722,51,435,26,201,710,400,389,1040,436,83,735,493,309,173,154,85,394,134,344,244,401,435,213,546,436,423,34,108,708,329,261,499,379,389,171,388,318,260,477,342,591,133,327,224,65,357,217,454,57,570,35,560,305,273,337,269,808,261,182,620,437,439,282,391,25,132,839,125,455,288,1632,67,499,210,538,56,813,205,1114,51,288,178,52,1219,95,972,210,726,133,37,275,408,670,210,263,196,365,73,143,99,421,904,139,1473,457,371,750,217,1285,879,542,446,103,609,187,744,223,319,233,322,52,140,441,108,157,329,717,318,1839,133,290,382,529,672,197,384,422,411,533,540,360,82,166,2393,486,193,1385,327,286,141,100,253,98,316,67,173,182,73,303,140,679,480,446,770,51,840,155,138,534,216,271,249,142,291,183,193,264,418,610,1568,133,364,51,1193,416,235,328,95,218,408,97,53,643,432,365,448,63,178,116,1150,310,395,66,570,363,162,347,191,497,1078,82,876,109,282,540,101,593,315,553,616,1096,439,65,189,404,142,673,10,240,100,347,191,1447,412,118,96,176,80,975,151,68,128,320,367,198,583,137,530,136,261,109,224,325,88,265,65,676,1141,103,27,163,312,317,835,444,196,628,709,1335,414,309,666,572,362,449,109,265,288,134,107,482,104,182,139,303,694,311,826,350,163,1028,340,320,225,77,63,416,411,129,421,517,184,234,990,523,358,761,33,532,116,420,806,247,301,442,146,952,906,275,236,415,142,147,53,192,636,125,100,131,765,1245,558,404,1158,834,466,328,189,675,61,146,135,157,179,186,257,59,612,362,83,158,215,259,123,329,318,175,120,224,2240,267,158,453,345,211,185,226,80,233,222,835,228,408,201,359,37,240,277,308,635,527,246,212,519,191,353,208,69,1944,84,1342,309,366,2476,144,1537,456,637,681,316,93,122,1506,37,305,131,213,183,804,637,74,164,359,249,127,481,684,247,202,570,585,387,331,200,816,107,326,1540,13,643,435,275,842,97,474,226,294,155,983,507,1642,4717,161,182,1195,516,719,49,61,176,45,405,221,209,978,253,170,497,206,105,115,352,866,357,61,147,239,178,166,184,79,335,158,374,119,141,355,177,269,218,266,126,290,646,325,540,88,24,55,756,156,535,504,762,1502,152,131,295,87,1107,1372,113,133,142,395,168,243,141,153,165,348,364,57,747,437,891,320,287,355,254,219,264,843,139,860,1702,759,178,148,344,283,140,650,203,96,638,261,212,274,110,583,693,197,571,541,319,428,850,86,285,687,393,674,391,1142,618,28,167,146,142,612,77,1364,78,1156,145,97,343,373,60,171,279,341,1436,245,474,136,225,264,44,286,1105,105,805,298,129,613,191,1048,2836,356,21,21,638,178,838,725,123,504,51,161,198,321,121,383,45,146,149,224,222,382,373,11,323,634,1545,402,642,473,385,432,1018,286,1135,278,288,830,625,492,159,166,462,230,1410,392,47,279,244,329,403,385,2443,327,69,124,683,191,373,58,275,76,934,115,218,566,94,122,2016,218,306,2495,330,276,502,319,296,1635,247,130,695,557,226,146,211,63,773,173,208,228,886,97,89,114,149,701,377,196,438,87,100,130,389,422,204,212,151,614,384,176,97,872,25,301,206,112,295,154,241,101,87,395,478,45,503,337,798,29,386,586,545,1971,21,183,257,42,393,898,397,1561,63,371,214,341,85,153,408,115,127,377,156,422,303,343,225,291,205,137,414,73,166,86,435,707,501,263,551,953,157,280,171,549,58,156,229,88,2188,174,131,313,521,191,1078,341,363,3053,403,110,281,135,566,329,668,1708,306,494,130,182,121,188,178,42,407,320,442,153,901,233,562,1246,220,160,457,119,70,281,590,158,198,260,112,1430,243,333,378,187,627,620,384,1999,344,208,685,396,149,97,496,592,434,78,139,103,374,254,397,231,441,31,69,37,825,102,52,536,319,576,167,201,81,474,664,585,94,69,59,272,618,159,391,208,58,377,779,267,159,398,101,89,314,526,71,280,440,124,103,833,82,21,104,234,113,118,97,317,804,611,182,73,394,351,386,293,913,617,268,324,310,79,1083,351,459,690,320,406,1083,150,164,480,419,161,582,71,260,202,118,178,684,611,162,227,190,242,183,114,236,265,251,130,349,160,454,239,208,95,337,477,480,150,609,134,136,132,759,258,633,538,63,488,131,167,357,123,597,203,544,425,493,310,67,72,613,224,602,569,653,97,717,470,746,230,255,204,275,37,299,118,160,558,775,93,555,117,59,103,215,1198,86,319,179,327,305,231,326,323,203,945,478,963,180,693,62,168,179,86,1747,140,576,60,154,290,2532,450,154,711,253,307,966,397,31,107,767,133,872,734,425,1751,292,206,192,447,515,507,325,361,264,331,516,436,94,364,234,1824,154,329,516,384,507,1260,2049,248,149,67,78,471,163,186,446,133,233,91,271,186,262,109,232,613,53,494,145,307,649,198,350,208,309,270,234,642,183,192,666,367,260,164,121,261,944,501,135,30,180,527,322,1176,91,2735,23,243,163,109,414,1070,415,215,364,375,492,539,566,557,24,439,862,1078,503,154,122,130,231,639,167,239,614,498,293,180,1575,226,295,218,422,236,260,241,283,299,164,492,406,60,726,193,512,47,677,891,156,314,87,84,188,372,32,765,124,85,501,426,980,507,1504,116,201,141,89,115,842,1067,177,197,13,273,220,313,1004,208,303,134,130,398,951,1374,748,105,381,325,128,586,54,1056,605,195,20,92,416,213,358,786,51,66,48,1156,175,113,98,1096,697,69,390,130,327,207,681,54,1389,343,951,181,763,35,315,221,285,540,364,160,311,390,849,189,262,314,94,153,194,447,472,695,877,213,742,673,787,111,638,357,646,266,61,186,74,636,101,298,514,522,357,828,433,195,108,408,167,133,74,417,571,360,154,535,186,118,251,483,268,1115,175,68,336,34,132,502,791,117,191,1197,94,86,365,811,1983,173,368,541,352,460,236,46,1122,247,262,158,246,204,291,65,399,311,189,891,188,367,238,143,136,145,1959,216,387,124,407,508,721,196,41,605,74,234,294,1221,87,73,850,270,247,75,170,210,412,251,440,53,99,243,1195,329,291,591,330,1434,99,418,480,705,270,370,553,984,422,28,782,84,579,399,99,475,79,93,96,1190,239,274,1008,491,98,47,138,551,483,240,572,165,522,647,243,589,751,366,336,547,268,232,618,268,213,157,54,535,149,269,559,609,1753,101,563,135,611,164,141,366,299,1452,235,475,414,1007,370,316,417,137,875,268,442,317,802,17,70,91,656,37,54,143,211,2330,322,486,229,144,207,360,551,719,313,297,468,636,231,85,121,152,420,2515,73,541,196,75,59,220,514,1293,181,620,317,399,717,577,107,350,96,536,201,402,398,114,233,307,61,371,267,448,1585,1128,1364,911,178,612,841,15,39,303,121,443,331,214,485,255,122,149,193,49,631,406,33,1023,174,434,298,201,515,117,239,131,299,1171,116,194,548,443,349,177,343,462,96,74,249,800,1803,196,278,357,234,295,213,498,475,708,432,336,627,959,25,363,251,190,222,454,852,216,157,39,919,116,1107,183,330,418,432,288,608,714,308,165,95,219,321,728,321,153,174,1920,644,316,227,181,1450,727,138,39,890,187,216,898,916,118,416,60,402,388,625,839,43,88,196,164,141,2386,719,154,138,337,793,72,44,409,274,44,209,168,512,232,298,215,149,650,263,26,885,185,197,475,457,318,49,134,167,551,354,292,426,254,95,403,845,646,180,479,992,210,384,217,463,87,583,12,513,239,131,249,502,56,453,287,299,157,303,490,890,54,155,197,75,135,39,581,269,524,696,288,239,231,489,76,858,586,223,278,946,282,905,606,388,940,620,243,334,232,832,857,116,354,47,325,302,279,108,114,369,26,588,405,581,395,19,881,106,132,197,125,834,45,234,663,373,99,446,330,17,652,213,136,66,280,60,385,0,455,288,98,126,182,199,1247,168,268,236,309,790,303,2857,232,262,605,359,558,251,1712,162,239,94,539,243,293,99,607,467,306,248,186,258,371,201,629,239,116,509,150,1344,249,406,58,652,38,66,524,550,615,109,25,1026,239,74,2153,698,189,223,121,168,673,197,441,91,101,357,880,181,1632,457,228,773,99,217,967,591,148,118,198,439,377,309,128,75,1988,267,317,205,574,564,76,83,287,502,248,136,306,1652,219,640,493,111,176,110,710,1529,1022,334,735,58,447,51,258,549,826,121,327,608,745,194,186,58,252,252,1312,191,301,186,95,132,569,1052,129,54,447,94,540,177,296,1080,98,124,165,519,467,394,275,445,695,142,1079,102,402,650,393,132,151,24,165,568,347,461,932,488,102,183,101,258,372,483,374,503,788,165,450,193,1337,250,68,151,153,199,135,36,354,181,598,1784,380,91,233,91,244,100,213,169,52,1039,634,661,473,325,310,454,1009,499,454,31,147,193,1656,169,700,18,313,66,494,291,90,125,293,295,349,330,606,295,514,48,231,690,402,257,122,95,123,62,330,134,1352,171,81,384,254,453,172,66,46,27,458,1375,223,88,254,846,392,362,212,138,242,133,73,1252,292,77,39,723,102,91,143,100,196,378,79,346,78,65,486,297,814,237,152,489,106,664,150,483,133,336,239,249,656,69,441,413,194,297,544,157,138,273,166,72,348,114,61,660,804,929,170,1812,131,713,121,97,85,205,369,1637,2106,205,515,933,97,148,105,10,710,124,75,498,206,114,262,229,496,84,426,101,149,470,328,70,387,224,503,40,130,252,1216,1014,492,187,262,419,262,877,411,32,1223,282,151,227,92,721,581,293,699,529,328,75,318,128,494,457,1553,449,241,234,341,144,34,274,271,554,124,3252,591,51,548,339,124,199,152,150,2237,428,799,406,59,121,358,522,545,22,118,124,137,516,986,46,125,514,466,284,1637,610,401,290,171,236,451,301,663,989,240,73,342,6862,99,84,564,114,237,1225,90,416,257,255,565,68,1812,160,203,909,431,85,554,926,162,490,1619,116,469,7,1265,92,168,457,189,406,79,75,236,426,1212,592,228,159,59,335,96,205,428,149,73,367,924,516,208,1809,528,73,1304,108,1337,95,298,108,191,89,168,259,156,362,773,1047,1257,277,223,153,413,1509,573,142,234,629,1207,419,123,136,171,137,437,271,194,151,215,194,182,140,295,230,39,421,229,785,312,214,455,144,335,170,255,356,243,360,182,870,114,271,262,191,187,219,378,230,97,92,408,380,82,40,237,20,268,75,586,243,53,215,41,114,246,141,99,108,2103,156,1718,238,260,120,517,142,460,333,287,290,72,422,675,174,605,105,1132,182,284,380,513,452,95,408,138,38,437,82,246,262,630,85,444,373,402,502,128,75,296,118,140,293,451,295,179,72,82,232,254,275,247,594,297,372,265,393,1238,942,418,156,200,68,75,428,33,317,629,471,609,462,215,539,53,391,208,298,333,89,365,36,1188,606,95,39,134,1014,968,413,99,111,486,10050,473,1058,412,193,427,1251,33,320,780,133,1756,499,41,205,48,272,453,272,343,879,239,105,94,259,291,108,88,893,134,75,65,127,65,262,544,155,1127,2274,211,544,1017,41,370,214,121,2914,146,197,63,54,159,268,158,431,227,180,151,56,725,636,127,177,248,165,100,1053,76,47,311,486,658,285,442,173,247,331,302,616,297,1247,191,685,384,389,880,223,606,267,178,136,217,265,625,737,697,66,672,917,81,114,150,1439,73,233,199,432,1015,800,677,1104,369,44,472,196,300,235,316,1137,402,365,353,359,22,359,510,146,351,326,285,372,699,3543,2813,409,170,463,549,783,570,109,159,824,790,386,121,109,2491,794,168,273,453,205,343,221,148,265,143,1320,121,862,1171,536,263,707,129,593,113,1764,101,165,540,238,863,240,306,182,115,379,196,1618,637,79,387,198,317,22,773,1503,175,104,367,207,525,61,81,119,1338,1057,1415,494,93,173,212,293,4639,170,92,197,497,431,92,429,59,253,406,190,71,137,352,48,123,574,467,463,82,639,881,191,249,444,251,372,153,189,115,574,596,271,757,321,2640,285,346,193,49,414,224,181,619,111,140,629,197,332,845,187,126,704,109,495,635,825,531,13,36,269,736,262,486,1085,151,299,26,263,228,102,248,168,187,44,245,66,123,350,1562,207,265,81,212,91,326,562,278,311,246,296,1772,80,158,102,515,106,214,276,305,421,27,996,465,12,307,767,286,84,310,157,29,307,113,321,379,25,31,121,75,91,3166,210,248,93,35,81,163,250,210,1280,321,306,43,170,1181,258,347,1287,135,43,423,1190,769,275,98,115,859,60,188,302,714,267,635,440,325,170,119,144,1761,606,246,107,756,375,129,59,79,444,382,638,130,589,1685,256,279,1361,276,916,85,114,84,57,251,411,39,149,78,490,167,22,618,438,394,1177,2416,420,476,446,447,747,335,241,765,1232,220,303,195,64,356,114,123,208,37,973,325,141,148,292,281,213,1500,244,615,129,209,147,232,153,852,6488,510,277,67,440,476,1769,209,183,258,52,58,220,318,209,741,342,1377,1693,230,425,610,399,41,217,166,142,1125,179,938,195,286,461,788,325,428,415,542,288,168,108,1431,153,452,1680,218,232,275,519,1017,297,1302,701,463,169,1081,281,250,131,166,389,545,48,200,164,525,492,197,337,189,30,27,206,56,1157,354,490,491,257,97,824,237,175,306,538,189,462,689,243,234,406,485,312,563,525,87,356,416,551,219,264,131,54,553,274,1187,138,647,356,181,271,365,38,825,274,668,415,88,232,77,411,138,70,175,27,273,350,50,295,36,849,87,187,81,151,469,482,230,256,405,440,489,806,1646,556,185,253,264,34,879,632,462,692,806,759,316,186,535,549,146,255,26,43,769,187,375,260,121,181,175,344,157,149,152,879,279,724,110,244,410,225,155,251,371,59,156,113,320,99,1107,404,94,189,441,183,478,205,54,71,80,116,132,1085,434,68,1008,527,307,65,139,615,26,168,83,536,414,763,95,1124,445,202,388,111,188,1102,139,105,307,379,774,271,41,352,457,459,838,262,624,209,357,572,54,347,234,214,722,393,158,1245,27,438,452,101,127,179,677,307,82,87,202,962,293,531,576,536,392,1633,535,484,166,178,334,84,986,154,1213,298,1158,377,772,868,1041,220,612,957,276,165,182,380,911,1106,1130,199,1255,276,62,152,161,187,172,400,224,111,458,393,126,286,424,493,330,311,399,224,1146,285,268,126,657,924,129,113,243,141,261,43,634,138,1058,403,1031,126,102,103,359,197,412,94,1159,333,1083,305,1213,1089,1075,586,104,258,391,158,196,72,277,185,377,297,105,158,221,168,422,227,216,434,515,285,303,229,206,587,259,111,106,1210,340,376,75,210,65,621,754,38,746,997,332,28,127,384,695,263,231,830,404,186,56,262,95,387,316,1444,1225,1149,96,282,458,881,180,644,464,423,418,640,376,307,468,127,235,876,204,329,347,28,267,415,449,574,237,440,457,181,319,35,1164,325,65,277,338,289,102,142,175,40,65,820,532,207,353,105,78,1274,371,270,37,157,186,198,136,71,79,801,295,136,368,623,244,502,74,36,312,120,286,270,160,118,1503,549,682,263,190,98,158,138,93,260,118,207,57,1465,458,937,62,465,425,130,181,1253,1037,156,797,236,265,145,267,261,448,246,312,216,308,154,279,62,87,145,540,388,185,256,141,118,317,156,152,53,311,19,252,321,972,94,931,34,251,84,184,955,430,214,775,389,136,112,797,374,176,504,38,377,115,200,82,223,508,498,50,322,93,80,915,836,104,427,271,311,388,1050,163,390,98,103,344,209,239,411,268,50,230,911,417,169,71,335,42,33,184,965,483,147,324,51,212,379,142,289,465,299,162,491,985,574,613,1287,178,260,928,203,281,176,284,128,238,99,410,302,722,739,150,154,107,196,151,455,534,84,310,1013,586,360,179,284,124,117,1124,207,299,557,777,841,905,264,440,452,510,84,496,509,102,297,668,283,1084,1183,910,142,493,187,284,114,194,277,175,448,113,621,695,696,309,1231,73,919,228,159,149,129,500,1143,71,319,87,368,339,115,101,207,428,587,1273,530,595,132,419,253,1163,362,185,225,91,68,1041,72,1098,203,700,182,55,293,773,1018,389,538,329,85,587,310,320,934,618,288,317,471,357,259,1407,154,155,205,140,354,425,175,201,600,672,353,657,492,211,141,150,94,1115,674,309,270,274,167,83,63,1227,108,72,218,224,541,881,547,1349,41,469,122,243,740,355,483,281,102,690,199,157,476,178,45,228,426,1174,618,268,745,298,378,309,482,156,316,842,250,344,259,356,598,125,246,431,37,99,228,310,95,65,103,748,354,77,94,322,261,76,466,153,119,183,243,318,407,893,676,51,671,1257,280,134,252,108,1024,111,888,267,182,950,145,258,483,274,111,138,170,272,238,1000,617,243,783,470,195,364,466,203,144,330,229,963,211,190,136,21,1209,127,243,145,765,170,253,242,353,210,114,200,162,1094,36,160,145,278,327,854,371,153,242,112,283,590,868,561,584,305,120,188,637,368,353,694,102,191,54,510,188,699,479,808,777,33,397,1220,494,97,53,71,186,560,189,215,263,147,214,57,235,925,731,86,159,1081,56,150,754,649,101,924,566,511,978,517,658,331,388,683,390,254,353,343,1162,88,253,306,102,2719,563,244,669,119,329,169,212,138,705,148,153,262,117,1289,266,161,211,596,255,81,1080,72,181,89,75,133,934,136,416,178,262,391,359,53,381,264,577,740,622,794,703,155,537,520,732,339,254,341,137,591,469,60,705,134,237,355,835,1321,298,104,482,233,48,235,987,325,593,236,304,503,205,467,255,18,375,251,1107,1215,154,389,328,1039,557,862,1252,243,190,270,241,248,1045,94,197,211,493,1073,129,78,155,885,718,212,219,234,377,121,247,82,1159,125,141,84,609,215,159,535,246,115,656,20,161,337,187,323,317,63,208,67,155,307,123,492,17,231,121,300,301,318,411,260,134,247,94,246,130,375,443,381,161,597,179,999,548,359,623,220,76,143,660,86,180,788,22,70,388,199,428,504,437,532,276,143,1020,1322,393,543,348,325,100,444,508,132,331,238,420,289,239,548,35,710,66,241,529,105,998,634,353,315,198,347,857,114,149,587,419,361,1218,35,192,285,135,59,436,329,397,372,286,339,85,286,1410,1076,382,74,102,1033,100,407,90,206,1261,619,233,305,382,430,319,344,822,47,209,71,63,639,218,862,214,259,195,388,320,56,995,143,710,510,77,653,378,476,36,221,156,282,431,191,154,420,165,552,206,375,314,299,420,957,600,79,406,503,197,858,635,1106,290,455,125,37,592,420,508,164,236,1057,95,176,165,231,464,69,133,64,183,213,279,532,191,68,119,257,390,528,419,193,205,140,934,419,903,563,76,213,226,751,204,89,1591,487,89,107,397,382,221,57,43,188,152,544,260,280,698,96,68,157,239,468,366,632,1350,1147,1105,382,215,30,83,442,26,76,636,761,153,1380,396,257,268,199,47,138,71,209,383,133,155,505,566,181,415,689,619,151,83,343,161,95,161,317,395,310,109,33,320,346,605,694,795,590,228,325,752,1735,93,436,822,566,47,800,142,3807,22,68,483,210,126,248,448,617,32,278,1180,84,1121,199,248,389,190,124,206,206,413,284,462,235,334,105,981,326,226,847,837,186,153,75,202,988,302,169,313,668,632,240,180,571,1028,222,83,498,198,257,225,133,917,384,454,381,74,1148,284,389,436,111,860,608,739,422,401,308,151,177,131,440,302,898,126,155,1006,123,86,539,442,82,261,921,147,250,118,201,20,900,361,264,1076,284,346,483,144,215,146,663,200,251,681,783,489,783,182,1100,163,84,92,602,1213,40,213,227,455,669,111,1532,149,42,3249,195,666,914,382,12,47,164,200,1855,199,259,143,198,423,229,181,131,226,359,59,1361,124,349,609,73,172,113,480,71,445,624,137,1032,100,648,240,475,165,808,145,606,415,453,693,1608,82,1224,585,226,170,230,289,734,171,121,96,211,73,160,1966,2850,207,269,173,110,344,134,433,218,218,424,276,164,365,214,163,353,456,180,220,208,392,140,746,233,689,127,523,416,130,151,127,309,357,101,116,710,302,76,481,349,691,1090,250,764,202,61,357,290,180,364,155,187,93,198,543,80,71,491,247,373,1146,78,110,254,110,555,1127,86,1204,508,412,852,37,61,254,26,465,278,557,304,1049,197,664,1139,286,357,335,1000,172,59,293,143,241,219,76,352,522,410,276,1133,499,833,108,445,346,125,479,161,285,83,246,573,90,139,846,335,239,1755,451,653,664,543,217,130,1049,999,328,497,115,619,148,297,532,866,225,103,143,270,570,225,255,837,419,419,161,75,226,349,332,21,327,419,192,752,709,1038,457,188,558,208,114,570,1500,864,176,142,902,170,165,280,1025,398,123,228,514,138,155,286,114,990,318,210,400,133,247,582,278,684,119,127,941,58,96,146,105,124,688,186,40,95,273,172,181,136,175,1103,223,396,21,185,196,598,660,62,195,246,111,392,356,23,1336,230,605,263,310,1494,44,148,1046,483,601,123,108,800,242,5369,173,75,10093,96,168,230,220,138,71,576,465,665,180,84,1230,644,386,45,1347,441,114,537,718,192,212,226,1058,736,71,115,809,336,451,407,164,494,458,546,194,402,257,250,71,37,275,209,581,90,384,213,353,74,139,241,35,39,112,192,542,558,400,610,263,109,1017,96,285,59,358,52,157,81,39,294,509,334,116,129,125,170,444,171,323,445,1367,477,477,268,872,224,302,318,34,88,377,666,157,283,306,696,345,854,377,839,161,159,281,155,177,634,806,210,525,814,122,346,789,110,530,345,342,257,146,1487,184,274,209,773,273,234,385,502,82,297,287,701,183,276,385,43,395,1075,314,64,234,195,185,424,547,267,920,266,314,611,546,1634,104,365,75,680,147,3204,24,94,679,273,297,432,525,437,538,231,244,121,220,602,72,1315,552,258,656,293,770,389,750,168,215,144,377,497,292,188,1117,99,380,1125,160,815,669,195,361,315,1453,427,1853,336,237,164,29,390,153,924,1163,364,1188,365,33,279,302,294,467,273,67,823,149,227,55,191,201,174,217,231,712,442,75,306,342,45,220,248,664,169,394,192,218,369,206,533,444,444,198,149,986,225,182,373,149,209,163,370,319,451,58,422,167,101,331,153,285,745,335,295,21,1354,219,351,134,14,239,105,258,321,352,144,1016,430,375,159,382,791,404,1541,306,68,509,111,162,422,502,1037,391,302,518,144,830,1233,214,455,414,140,493,459,219,62,63,150,31,597,285,57,376,131,47,897,276,241,478,463,330,701,376,1160,88,340,85,585,51,17,163,1325,130,897,177,278,394,229,312,129,77,261,706,31,246,557,1807,93,362,253,140,699,153,283,351,207,269,336,270,45,103,815,16,317,7,285,166,593,420,534,166,98,303,485,253,476,222,270,208,166,387,42,1785,282,751,36,247,115,465,628,1726,208,700,53,78,384,15,619,309,121,243,324,169,220,524,135,179,216,802,525,291,113,1077,145,95,415,79,775,173,167,32,514,444,941,583,348,223,94,119,225,509,830,379,250,66,340,370,1241,981,226,337,78,389,218,940,312,206,273,96,145,2083,1179,223,753,333,230,180,478,71,315,132,191,342,517,87,188,583,341,375,1024,247,399,310,597,130,189,240,109,405,1486,387,527,378,240,334,600,374,573,158,439,367,96,261,75,136,240,77,213,481,88,331,96,566,2614,71,116,586,133,39,652,22,300,48,306,330,685,105,995,2023,446,40,81,268,145,91,528,486,200,239,207,315,330,232,290,170,651,373,282,446,743,210,1000,78,96,145,836,565,31,278,2056,145,79,151,139,138,169,124,245,222,357,272,3992,299,1274,114,367,640,1558,646,350,179,49,307,2161,365,215,200,90,851,316,348,44,141,688,1321,452,754,608,282,294,563,770,218,23,94,1370,151,369,17,196,503,357,1405,286,91,248,479,956,604,362,258,114,328,720,280,357,242,275,65,139,113,136,1045,277,362,481,391,982,317,663,684,159,1059,277,2668,138,999,216,360,593,357,292,142,242,1473,571,260,667,181,97,60,23,827,183,293,86,149,138,203,530,43,149,438,352,347,149,252,4862,125,301,301,456,160,147,492,285,94,272,1390,351,372,367,126,432,1654,195,225,174,520,172,399,172,628,420,235,782,440,70,938,189,77,150,657,979,259,127,876,581,153,543,562,45,615,231,747,403,111,173,72,423,231,205,292,253,345,150,105,239,151,65,461,406,319,438,317,77,615,244,362,372,457,58,301,121,2423,105,389,875,431,288,213,311,331,560,273,246,460,489,615,111,334,622,233,235,165,1380,190,433,189,234,192,742,335,166,524,299,604,245,101,133,112,319,600,229,651,312,437,585,98,500,606,33,189,438,98,566,246,210,310,3202,148,215,156,144,100,165,884,151,931,210,113,92,649,198,89,281,68,274,1257,600,117,344,730,1044,343,207,899,816,184,176,214,1658,137,279,166,344,1645,1639,119,260,714,268,305,161,229,1988,248,192,285,187,323,393,187,300,1644,154,389,71,184,150,253,413,569,374,383,102,342,42,133,1299,949,21,84,409,705,130,263,220,568,343,56,54,176,694,148,58,549,524,77,1006,210,719,910,70,406,141,442,209,3735,587,407,1046,582,245,150,298,255,489,46,282,103,281,499,1374,539,190,126,191,540,150,314,187,101,191,489,404,480,1031,146,206,88,564,147,157,175,135,126,768,68,359,137,317,226,466,230,485,55,563,112,453,186,98,225,310,550,276,190,262,303,400,273,393,545,629,209,453,152,343,268,711,39,511,144,279,96,151,335,1014,168,238,108,681,1291,581,212,545,218,453,254,436,282,205,585,171,396,61,345,204,191,415,781,422,829,428,380,1183,274,206,368,250,34,162,103,1012,144,332,68,43,210,49,33,383,805,224,309,51,523,698,61,968,577,243,98,1166,48,160,217,346,907,71,247,314,526,203,67,337,64,677,165,564,411,581,189,26,393,308,159,249,1081,530,183,466,426,11,417,65,398,213,270,380,566,1978,65,512,314,368,65,95,460,233,591,399,26,1030,592,84,216,74,462,302,507,278,312,333,96,140,158,310,98,232,555,240,215,236,892,96,102,743,462,318,675,126,421,225,177,500,248,1302,122,137,247,1011,292,173,371,483,689,186,312,1012,157,108,259,358,312,163,217,414,198,396,944,405,196,38,406,824,236,810,370,205,97,166,172,372,756,221,345,149,15,486,61,125,235,423,131,362,961,80,2147,400,279,18,817,124,551,392,513,212,457,288,2187,162,296,238,374,1765,174,335,54,667,790,707,191,329,357,188,185,840,167,348,224,191,179,153,764,216,230,439,211,223,1131,138,137,203,97,639,148,760,595,20,582,46,123,233,59,152,51,207,153,152,479,207,457,1042,122,15,515,217,137,163,96,66,248,544,406,382,53,158,979,101,357,517,196,342,355,214,347,774,321,114,225,253,855,359,526,602,225,146,498,197,317,307,179,213,144,598,493,566,364,133,488,374,410,625,119,251,421,26,249,187,347,733,587,91,119,25,655,359,147,409,300,149,76,341,433,326,352,195,425,507,443,263,680,675,232,252,164,605,296,177,927,38,689,765,662,484,204,305,467,460,784,403,573,105,406,64,1523,124,246,330,132,164,197,143,511,468,742,288,50,167,544,93,451,758,184,284,284,847,303,734,1132,173,140,154,135,215,438,238,911,442,189,582,228,106,268,391,235,3453,962,331,2802,403,491,233,1103,1161,115,233,740,292,677,374,389,340,258,103,2222,99,211,226,374,144,1768,373,109,630,147,295,48,169,213,538,330,253,200,224,507,62,308,393,493,367,32,300,569,182,187,99,404,410,470,93,514,364,736,906,392,102,43,178,1224,236,315,564,401,77,473,840,110,659,1207,115,59,115,233,80,1947,633,218,324,403,620,312,143,383,37,67,488,288,312,451,70,365,505,494,234,61,478,287,109,213,77,96,285,111,418,120,815,153,38,32,99,604,186,213,27,121,365,416,1145,490,634,517,758,35,87,156,85,569,225,554,92,292,100,398,658,239,111,145,523,95,930,32,1020,168,286,293,913,49,194,151,137,257,240,1052,497,11,679,96,246,99,102,69,391,45,162,465,95,1448,483,711,368,216,48,577,155,33,275,681,603,310,92,314,335,81,509,137,250,255,255,383,470,525,9,472,548,404,272,409,446,892,189,451,1700,308,94,143,276,200,446,663,175,278,929,590,60,464,428,605,279,636,209,381,1014,132,819,394,58,1047,303,484,590,481,652,677,469,316,954,80,142,178,198,166,428,56,363,66,144,433,219,1399,440,523,214,445,3878,73,57,502,239,442,419,151,430,85,89,281,1001,52,296,158,262,384,75,1284,377,522,1020,309,633,1527,148,542,362,705,200,187,297,462,160,399,382,81,144,826,317,76,830,473,81,677,266,2272,350,1077,448,276,280,320,1010,172,194,4231,79,315,223,519,492,751,434,1341,129,118,468,541,943,1172,457,160,226,57,859,424,503,174,843,299,250,426,64,150,94,226,365,411,93,238,875,87,130,995,68,592,71,1159,50,762,239,678,116,222,475,540,37,216,91,150,148,639,618,269,60,590,160,537,426,757,152,37,532,73,130,120,432,426,206,452,64,279,1132,74,1024,442,388,237,304,138,464,553,56,449,389,29,312,829,34,1396,32,477,148,636,75,333,582,85,185,270,931,306,152,249,255,114,575,426,224,53,298,164,187,195,64,1199,36,262,306,308,136,669,639,93,182,744,242,257,257,101,31,1236,877,24,1268,226,1061,279,46,175,130,42,1089,522,447,63,322,1065,147,324,470,232,595,923,211,943,96,313,316,496,74,558,99,209,1125,310,372,146,442,748,143,329,169,187,566,82,314,1330,739,330,493,474,168,716,422,197,210,233,460,228,965,120,155,169,812,388,58,364,383,270,496,329,151,288,722,145,612,114,780,341,89,143,36,125,336,374,388,62,534,351,178,352,202,563,151,103,952,603,262,429,242,736,46,1150,153,518,196,242,648,240,111,336,627,652,53,198,893,1122,103,155,97,178,674,132,887,295,567,208,22,97,80,45,951,193,131,541,241,581,290,389,107,203,114,427,76,7,744,274,20,314,433,114,360,215,308,681,1159,74,607,299,120,912,405,396,1824,251,175,360,226,413,870,240,165,293,640,321,197,321,700,669,610,42,579,489,591,2970,222,793,80,17,57,563,340,97,311,198,472,330,193,367,135,186,63,294,178,197,684,7,54,118,1358,364,199,822,558,466,318,365,1831,162,414,841,65,206,311,145,613,359,550,257,1025,658,199,501,250,305,68,509,192,900,230,264,365,71,525,212,88,151,278,212,441,128,1241,368,401,146,378,484,295,300,59,173,469,160,372,228,184,435,130,503,455,286,1072,458,295,180,593,144,427,66,342,370,425,1644,442,776,236,374,52,432,1846,615,1064,98,454,1287,713,474,679,187,558,570,776,343,485,194,188,220,249,1098,117,251,1110,318,516,54,337,321,157,377,739,349,406,198,409,1576,176,522,564,805,216,338,116,1240,294,80,139,1064,74,633,1086,80,229,182,176,100,215,455,168,386,857,208,318,422,563,67,18,234,131,157,327,200,69,1233,124,130,138,241,774,354,84,924,140,106,359,773,79,24,106,382,463,332,309,685,962,274,866,767,1141,726,945,294,279,134,949,42,294,60,449,187,225,120,171,236,414,101,460,151,470,1155,120,409,266,95,361,660,329,198,86,238,32,334,355,776,239,242,134,289,1478,166,191,369,2177,301,222,330,447,108,266,438,151,503,66,1189,59,102,70,258,78,10,31,148,294,218,124,1202,115,262,169,350,457,341,87,88,267,251,1001,754,160,224,211,441,402,502,1296,914,438,219,250,32,576,33,601,556,541,488,307,478,222,180,777,417,166,547,289,303,256,132,248,533,259,86,414,1718,116,334,496,343,849,280,140,378,508,1143,147,785,74,294,474,24,128,203,475,568,75,1231,338,1173,254,109,1566,251,176,325,296,588,111,371,349,265,120,503,32,519,133,893,838,227,5285,1039,719,313,127,53,740,107,48,540,81,297,423,453,1082,81,263,496,990,1021,611,24,109,76,304,165,473,543,812,829,480,127,228,265,251,138,309,204,400,379,467,952,1269,100,254,362,215,152,953,255,200,293,90,1118,134,323,1071,138,948,128,719,119,518,166,1142,313,150,122,420,350,198,171,84,204,108,509,564,130,1075,900,565,150,402,255,27,370,289,496,213,1507,203,269,332,236,17,40,680,274,264,273,364,627,222,248,84,519,213,250,486,279,343,41,32,167,359,102,7,57,1244,251,775,222,806,667,413,506,228,266,300,579,241,437,1003,327,99,105,186,178,751,102,1206,360,246,732,975,262,316,645,39,365,445,350,317,930,120,925,1051,221,600,307,203,664,463,325,524,28,148,230,651,307,517,193,71,285,247,920,1040,1302,178,148,314,824,199,663,1425,119,121,48,322,345,181,639,191,69,430,850,987,374,370,1174,710,1665,83,549,154,207,633,124,242,512,336,544,124,266,79,749,443,443,67,332,84,704,80,418,128,385,488,178,667,490,172,68,133,969,459,230,34,179,481,96,210,612,860,224,31,2542,103,289,39,1063,965,87,475,1332,777,595,444,130,348,128,881,800,1398,250,372,460,385,206,252,273,317,518,226,156,486,346,699,319,212,241,168,273,1608,86,166,233,612,369,337,255,306,150,234,179,726,569,440,873,846,257,203,61,926,556,511,545,400,129,273,224,524,392,422,67,111,599,80,143,699,473,331,188,334,35,793,80,398,230,215,86,547,426,179,67,322,603,761,49,1283,171,194,545,25,236,217,473,930,310,122,1290,225,230,619,179,363,600,94,436,1148,182,2388,201,267,199,29,332,123,13,805,462,166,109,55,42,137,443,477,427,344,292,874,911,170,925,405,545,88,202,532,540,42,182,25,362,888,25,670,274,120,62,1298,1229,1024,405,96,197,256,563,940,315,66,25,509,215,621,1654,368,758,206,572,183,597,444,173,3724,122,334,944,157,507,188,707,229,1565,551,118,110,17,1839,215,368,64,831,475,749,173,139,422,80,187,510,552,331,356,553,267,159,158,70,87,81,109,698,426,838,572,106,174,438,187,36,299,751,305,174,178,102,147,251,110,347,121,592,426,499,308,352,348,394,286,320,218,87,1481,103,344,563,124,444,274,258,144,467,229,333,147,80,419,362,49,1012,877,282,908,423,38,32,349,77,755,664,286,81,272,347,523,168,361,1656,668,175,236,177,173,349,651,225,380,78,257,136,479,398,16,337,189,243,144,81,421,80,274,160,369,149,713,211,274,492,379,60,564,44,294,212,199,632,29,492,338,456,871,98,1761,405,1020,92,55,153,168,694,822,1209,462,174,259,737,140,270,161,1135,117,196,577,140,259,91,577,330,294,182,202,80,280,401,379,733,205,540,459,81,310,176,1045,278,237,373,374,173,544,324,247,145,681,316,215,177,163,713,9503,222,555,269,131,230,439,603,49,190,355,135,218,333,17,134,201,37,158,132,43,552,237,788,210,56,120,1240,856,258,274,160,117,463,665,181,548,439,604,210,720,400,98,159,770,291,684,799,594,46,51,123,365,206,451,228,710,195,710,598,116,150,157,205,733,1042,470,59,95,113,876,258,612,385,74,216,113,225,42,539,582,69,131,164,279,689,233,616,94,121,107,212,713,62,215,113,465,379,192,198,208,102,157,713,1228,299,7,385,139,93,533,398,71,616,139,269,323,80,78,43,747,778,99,268,118,537,104,192,155,154,229,213,728,436,803,224,554,469,278,120,947,828,99,205,715,340,177,109,704,835,714,101,230,1191,134,968,767,31,415,552,77,161,407,569,23,316,247,273,293,688,250,170,992,356,356,232,140,105,232,122,34,467,215,440,425,758,449,260,255,262,384,1045,298,194,97,592,209,252,608,89,1204,318,73,50,146,99,424,205,299,79,143,759,435,152,238,374,250,655,470,610,778,497,173,235,120,127,1602,812,213,625,278,506,538,703,154,389,158,766,273,262,465,430,207,16,108,111,233,1167,352,974,400,435,410,466,391,274,257,327,393,370,713,320,244,90,361,154,415,883,195,227,91,155,450,118,1908,877,211,438,973,686,284,727,18,373,516,38,308,1119,108,129,512,111,320,202,143,146,97,199,310,198,198,88,268,495,121,155,262,157,42,202,69,1059,1024,1022,167,145,177,934,48,402,171,222,324,147,389,920,245,123,391,990,129,123,76,127,47,547,862,915,150,73,304,180,486,288,28,1119,313,254,290,554,364,260,402,175,191,93,478,248,438,160,264,206,401,461,442,79,104,142,456,422,437,156,771,480,229,279,221,1116,48,1090,123,771,171,83,843,128,339,1091,106,258,122,117,116,1326,173,1056,1016,345,526,480,148,62,1020,393,271,456,53,1039,1280,332,185,557,667,118,272,211,393,448,170,149,188,62,172,791,1062,380,137,576,105,28,379,538,195,1024,91,148,518,221,101,82,326,260,68,305,452,275,142,313,777,799,969,731,496,756,665,308,118,204,1216,117,332,631,125,147,659,82,16,461,814,290,303,244,236,57,170,100,236,58,354,253,854,554,546,726,322,891,300,255,264,370,514,361,62,207,104,517,844,16,145,57,393,125,181,220,143,363,390,259,584,235,184,202,481,283,30,241,34,424,140,479,973,278,223,187,319,315,327,96,833,270,66,549,216,137,84,131,1005,267,401,554,87,137,459,704,190,268,716,360,618,255,542,480,157,214,1464,306,55,284,431,304,1039,31,180,175,169,19,1191,485,327,151,154,424,263,41,59,760,651,379,643,834,299,866,729,740,1181,468,108,333,17,185,406,349,708,139,466,142,90,791,53,157,294,144,42,187,466,193,337,670,453,566,152,397,71,183,105,92,187,516,123,216,281,161,139,383,61,779,276,201,179,177,358,824,208,264,199,251,58,1169,60,1274,207,351,88,909,302,1268,333,196,488,296,1112,188,33,132,572,271,157,98,72,269,885,81,115,699,276,558,390,254,391,620,184,491,465,482,911,108,86,79,870,712,42,884,205,86,307,890,567,311,628,141,102,262,94,1218,233,185,490,653,95,354,193,244,258,362,1261,182,844,202,106,256,55,1244,307,391,860,153,128,1036,555,132,220,337,155,214,23,254,659,143,1119,134,194,181,555,180,247,250,275,154,145,362,151,538,697,82,1045,183,213,288,676,679,175,615,615,162,1275,266,689,95,401,196,176,516,353,247,233,378,238,56,16,76,549,518,171,162,383,399,331,446,231,357,227,246,697,804,137,146,309,1258,1118,241,228,602,156,352,216,944,475,465,213,181,1034,804,340,20,463,171,109,322,262,340,151,239,414,575,141,778,647,627,141,222,265,164,567,115,195,215,268,651,480,511,372,205,415,218,171,277,263,139,167,91,69,260,456,584,1005,60,37,220,299,105,475,123,153,85,858,197,103,173,198,206,1071,103,48,478,155,991,102,449,613,331,249,494,854,96,706,285,812,274,144,392,503,1128,241,239,1109,1185,429,193,44,216,131,431,57,582,258,265,262,353,1069,438,229,74,1038,198,1139,791,98,234,574,807,74,746,771,591,606,670,302,249,431,142,143,143,582,672,123,378,170,576,1142,1069,926,882,112,377,245,216,286,24,81,136,482,277,172,279,105,373,195,771,605,143,394,188,249,459,552,652,196,309,364,1101,389,1046,667,371,331,747,739,261,304,245,129,134,88,263,1011,264,181,236,86,411,866,1080,317,201,435,522,1359,125,191,549,114,632,459,1364,493,276,482,379,132,300,317,158,85,250,315,559,100,854,1153,704,258,87,65,76,398,174,630,696,141,124,168,319,500,318,750,68,376,129,36,504,876,99,204,280,946,340,3,155,571,179,93,451,222,667,427,157,322,285,387,117,481,699,439,200,1551,1133,40,912,460,460,57,127,44,24,269,406,217,145,133,884,480,86,419,91,476,186,218,457,540,189,236,402,457,575,452,75,484,131,145,311,388,384,208,142,452,739,599,259,381,293,12,509,356,185,604,151,1006,249,168,193,379,156,606,134,77,262,450,364,577,203,487,65,41,151,105,1092,118,149,411,161,612,69,138,242,788,293,560,601,176,141,389,314,512,199,302,310,462,132,222,544,637,57,922,59,162,240,204,422,168,440,110,179,922,201,416,586,441,269,401,152,1158,690,354,206,883,277,258,208,764,142,314,80,490,92,1295,553,523,279,550,1149,371,221,405,345,421,371,131,52,998,384,83,33,182,509,127,88,152,349,131,101,156,82,773,784,1083,68,1103,203,185,228,49,252,308,248,410,381,650,598,219,717,854,1331,425,139,304,315,630,67,198,212,593,541,255,544,456,227,108,144,657,165,485,199,17,524,1021,93,339,544,366,348,329,581,209,149,312,65,855,484,385,191,747,213,485,301,133,281,82,1437,683,724,486,329,131,11,77,216,735,142,80,722,327,264,110,439,449,882,329,1130,56,49,563,332,315,501,1308,402,70,448,37,107,993,196,33,106,534,24,69,299,392,178,553,322,1054,379,237,280,582,537,166,552,1096,438,673,563,475,456,20,551,66,526,475,348,139,587,426,529,1879,227,97,125,654,286,202,355,140,73,219,194,292,252,284,276,269,64,168,224,189,513,249,160,16,16,691,1047,990,100,1481,48,49,271,687,193,69,156,256,164,256,161,64,192,326,480,62,441,223,842,124,634,763,186,119,207,90,1127,102,66,196,74,379,383,392,922,251,69,218,701,280,301,309,830,248,332,243,391,743,246,238,228,1043,124,1238,285,645,987,170,105,736,472,2198,80,138,285,175,411,789,678,750,752,639,72,309,431,135,628,244,599,328,421,1520,271,579,248,191,214,1811,177,605,21,213,107,353,405,444,397,661,33,80,335,150,178,684,67,564,83,434,422,247,400,529,122,2656,968,198,139,38,63,45,1814,407,419,345,855,172,260,147,634,2570,283,128,225,286,61,81,475,264,179,480,219,350,613,262,688,548,138,105,429,401,465,319,99,153,171,410,325,3851,244,242,351,71,117,187,77,279,123,737,44,212,111,79,280,637,62,166,56,208,368,317,134,2128,641,468,196,506,102,80,161,130,529,741,156,959,93,59,1278,51,305,1062,478,204,889,571,878,939,287,246,343,32,388,1071,227,395,835,633,161,1031,390,337,189,323,269,123,140,490,313,807,189,103,635,50,583,25,391,360,464,356,769,68,547,335,235,1452,587,384,75,192,158,280,610,151,1035,487,221,669,176,69,96,368,309,242,197,108,70,406,498,371,203,112,466,94,95,249,150,499,1137,82,596,175,63,576,379,65,65,1364,52,407,872,164,68,746,97,111,176,149,345,1003,2543,186,25,165,223,49,357,357,46,212,63,176,1344,203,256,127,240,24,437,1272,120,227,175,65,294,145,145,388,360,516,248,564,477,207,149,440,312,793,184,568,508,238,387,93,328,413,506,462,2204,333,174,221,508,185,25,332,223,624,148,78,523,703,568,152,78,120,211,280,326,438,128,251,100,4919,226,4121,603,327,423,323,249,583,962,218,184,39,889,627,92,498,659,184,96,379,264,570,917,152,12,249,339,197,921,156,317,66,222,200,60,359,179,357,590,436,553,366,1013,625,373,1005,518,544,112,151,92,71,57,307,195,256,276,364,90,269,655,379,755,584,186,69,416,394,151,126,150,78,205,285,468,265,613,32,100,1092,880,182,265,170,359,107,544,561,329,396,669,177,289,560,534,510,271,459,234,2100,163,85,337,213,259,211,171,214,336,120,314,126,278,1008,112,261,84,69,16,274,846,213,260,441,271,8,122,339,627,446,763,329,195,435,296,478,218,69,3447,593,321,1414,1323,249,118,911,159,366,291,234,142,1226,342,150,498,451,177,393,61,93,361,1005,208,554,953,426,145,416,383,153,205,472,593,340,90,145,155,41,266,110,827,176,233,172,122,420,449,127,132,77,684,482,56,321,129,239,385,519,160,257,325,203,109,132,122,1243,1380,19,169,54,31,179,981,892,420,258,136,526,639,777,400,245,261,269,179,373,934,555,1029,88,444,1570,140,354,254,206,47,290,179,177,137,131,175,308,154,993,334,529,467,484,510,253,620,286,683,257,287,458,618,301,682,188,76,173,1299,94,533,207,941,112,355,124,402,111,236,207,630,166,360,103,75,257,187,369,371,87,474,324,162,268,1670,1977,453,103,1232,227,119,673,199,26,57,988,123,709,194,320,566,697,213,503,320,282,389,94,374,102,107,133,493,312,489,157,53,166,324,3008,224,292,253,1437,85,153,867,411,633,61,198,1004,199,189,789,57,841,581,247,424,357,356,68,32,82,263,169,45,165,104,623,773,211,165,1126,404,657,305,80,76,71,86,143,151,244,264,1903,188,102,345,877,313,46,16,366,75,975,80,289,130,355,118,294,1589,83,154,152,2001,424,286,342,235,279,187,666,60,178,1424,149,95,3824,283,219,172,487,47,781,264,561,244,221,360,387,172,459,295,197,411,245,142,880,80,219,1124,59,127,272,271,183,227,1457,12,637,164,127,379,229,403,526,606,71,321,569,64,7,174,2329,1238,1096,510,326,136,569,295,243,262,580,169,99,83,301,559,527,208,304,123,296,83,872,115,131,402,574,350,930,210,209,662,481,308,647,282,496,1261,779,1094,389,37,1365,422,169,852,1074,397,192,200,372,306,214,160,38,228,747,268,420,370,179,276,419,633,122,86,638,186,151,448,223,196,287,186,172,504,756,133,551,500,346,573,725,1080,160,104,64,51,1020,373,304,147,1163,974,204,305,253,161,330,204,259,199,307,1126,1578,1116,815,37,176,392,595,210,164,702,327,359,290,131,195,277,437,290,276,56,309,228,294,1147,263,201,97,240,349,395,267,268,48,422,195,360,208,915,675,105,147,118,403,323,525,123,314,210,978,824,269,164,382,504,1436,444,486,1018,349,622,194,343,668,900,588,831,35,359,366,113,149,121,521,277,209,320,78,345,187,836,377,254,132,383,402,32,75,682,155,404,247,1217,634,172,880,727,83,460,269,50,697,138,670,35,108,123,363,1001,1512,125,58,82,161,250,165,250,105,116,294,136,102,661,371,265,113,728,164,37,166,160,319,104,210,234,165,178,526,251,231,858,417,565,129,256,28,173,329,414,225,273,337,140,336,1038,320,56,778,586,399,573,89,371,1377,199,191,140,216,167,109,349,396,227,335,290,184,257,184,103,911,91,895,287,659,662,388,287,314,132,200,319,165,246,978,117,631,214,102,46,684,205,494,409,572,107,568,320,155,152,297,354,218,415,761,191,132,129,330,167,684,360,148,223,717,203,778,280,389,445,145,214,25,106,1150,227,1080,99,262,289,1033,592,152,47,96,331,161,95,563,148,240,122,872,626,143,929,193,304,162,145,269,839,413,545,305,1460,65,180,252,402,226,77,276,195,878,502,37,635,260,248,547,121,200,508,83,465,444,349,46,280,642,78,336,1087,182,258,448,380,505,115,666,128,534,126,321,132,202,144,338,179,249,418,103,64,734,220,156,1065,82,45,301,744,63,161,49,162,1287,743,320,163,752,104,93,523,486,50,367,24,47,91,812,1068,355,475,554,165,194,196,195,186,235,289,510,664,192,221,224,770,159,524,82,118,381,981,39,223,342,396,243,682,226,334,186,931,191,40,105,136,128,1050,443,218,566,1119,366,134,277,632,277,130,114,246,688,214,146,334,128,938,734,106,1111,71,415,148,372,125,35,182,119,116,93,293,89,780,52,592,660,537,983,195,466,103,787,850,301,510,223,404,74,369,221,236,80,356,487,321,512,129,132,385,142,554,250,918,259,317,666,806,120,144,155,325,199,692,226,62,86,824,184,1160,1021,771,633,78,170,509,373,281,244,163,44,166,439,531,382,287,999,90,254,108,129,151,270,338,911,540,190,217,570,174,324,116,192,274,240,1353,387,831,159,191,121,157,339,463,446,297,436,384,636,145,163,174,185,396,341,289,300,368,160,140,381,309,754,349,898,119,810,118,128,85,157,124,189,294,431,352,499,698,174,525,81,294,290,100,137,105,244,186,397,733,234,596,209,193,506,122,1075,107,490,384,704,637,1116,49,511,460,390,425,384,824,401,504,336,152,129,130,480,165,507,39,146,140,459,115,161,791,237,351,51,208,550,187,284,335,160,387,125,423,304,94,167,164,324,184,343,164,914,590,578,388,378,297,457,93,433,282,829,991,447,233,63,395,227,95,82,51,181,140,1384,204,77,911,168,435,605,339,205,79,39,331,284,81,200,291,618,18,884,113,1247,352,31,294,251,929,191,207,113,442,274,124,690,126,168,350,160,487,508,312,278,280,195,893,714,309,164,615,331,437,450,522,438,145,1115,97,258,302,698,528,334,85,651,115,559,179,380,97,484,980,1075,1030,986,172,204,118,26,194,128,109,118,198,152,488,206,36,250,416,414,295,197,441,183,110,491,215,439,416,243,1004,178,118,358,195,613,69,453,304,65,1134,67,677,21,42,324,169,34,510,801,172,557,293,827,201,718,299,153,305,40,153,326,135,1171,126,664,986,45,37,32,431,258,111,198,191,10,344,1014,122,535,526,1299,891,166,316,459,537,271,156,1056,571,112,1036,377,308,155,57,118,517,503,130,495,305,162,137,404,331,154,472,109,573,237,447,567,449,138,963,202,194,801,467,596,214,188,36,470,341,502,291,122,81,1046,405,603,429,345,172,65,341,325,606,265,140,847,155,39,133,644,250,59,844,226,376,234,244,115,355,571,563,412,863,1167,1064,26,505,893,436,404,222,319,341,105,185,96,350,245,95,186,1010,616,244,211,591,605,120,178,116,328,428,148,137,60,683,256,202,233,111,7,234,60,636,316,809,104,235,148,233,1205,218,252,379,444,730,270,474,94,255,58,97,288,358,109,156,1343,715,410,374,1309,655,168,157,5464,133,413,282,135,248,1088,263,143,87,986,418,519,686,19,957,532,2979,270,278,709,317,134,325,253,412,184,249,41,133,140,191,171,688,328,528,42,592,94,555,160,627,73,51,143,895,24,530,84,264,247,287,1298,421,174,366,218,128,805,209,287,349,959,546,1174,235,573,1248,963,687,75,784,65,21,185,406,409,181,219,341,305,267,935,743,85,123,37,311,538,519,239,166,338,939,840,953,281,242,409,135,643,265,404,248,339,978,124,881,1182,79,88,77,365,289,165,259,769,247,167,357,455,104,479,1022,80,207,1358,70,713,469,153,114,160,98,292,560,945,196,899,570,467,171,1034,125,115,261,400,359,457,783,139,180,140,217,70,427,71,749,218,211,733,381,494,114,657,161,175,817,131,122,201,258,436,2573,112,291,45,939,234,78,617,376,175,301,110,47,414,272,1029,66,183,974,191,227,99,930,134,16,61,237,403,262,169,239,1004,90,554,472,1049,2587,202,197,146,487,207,409,2804,202,189,72,75,165,364,447,184,180,195,2490,194,343,341,776,328,140,221,1755,181,98,1605,648,105,300,260,205,83,130,1352,170,560,172,155,299,437,640,189,922,376,142,70,239,521,235,79,201,194,607,55,383,1070,237,182,1112,276,437,649,291,1712,60,327,85,927,241,29,200,94,131,536,754,33,346,360,155,163,168,351,180,112,164,344,163,898,500,393,258,271,57,358,195,362,172,182,456,193,142,570,811,2323,200,121,226,471,925,267,95,196,115,166,303,302,170,190,512,169,239,208,267,257,367,61,316,403,85,287,487,141,253,194,257,316,159,163,688,582,580,285,479,23,17,520,188,97,1315,130,316,215,990,256,457,367,1059,189,385,458,729,509,100,232,193,277,477,264,381,132,309,136,601,155,2332,355,755,190,337,596,827,377,577,264,141,317,158,323,410,303,343,358,73,452,902,162,130,636,1950,451,975,259,910,346,94,378,105,164,101,305,154,52,398,131,434,103,192,442,171,505,226,297,76,189,2995,543,2268,38,571,82,747,200,96,400,11,257,92,110,143,249,73,161,577,788,107,135,857,977,440,384,435,1699,378,250,478,380,729,188,157,76,149,1704,166,1157,610,390,216,343,1252,155,74,962,179,802,392,201,68,74,110,416,649,219,1255,165,146,127,128,175,127,486,22,2955,414,44,236,164,204,108,44,2094,241,1282,610,169,513,191,261,1754,739,70,359,72,37,807,82,306,165,13,949,1010,37,37,233,2610,182,347,481,159,360,315,268,646,508,272,579,240,551,187,399,545,178,537,373,648,124,574,319,306,710,241,526,468,138,736,34,334,179,242,58,607,465,332,522,140,729,72,267,312,568,129,105,454,282,229,747,133,2413,191,326,122,127,135,133,403,119,316,610,60,1233,732,122,296,447,86,607,293,178,275,252,733,715,2844,1367,22,506,165,393,929,863,355,682,281,279,57,111,880,135,199,119,57,243,417,911,395,145,1386,137,236,94,136,178,421,211,44,124,411,1233,99,956,294,210,223,220,774,435,1224,373,72,794,671,1094,1555,358,564,77,154,368,527,211,110,588,155,277,306,153,222,190,317,1106,185,326,175,420,461,237,1043,928,218,191,268,217,400,483,306,67,97,139,978,800,1242,59,298,404,1084,127,367,358,121,200,631,483,218,246,442,288,1016,183,905,870,417,160,657,88,131,1056,197,364,234,940,416,103,341,215,849,504,665,273,235,1029,134,172,201,271,691,139,703,1004,225,1370,255,341,752,24,356,1042,379,158,237,1314,116,100,251,366,407,72,504,800,22,310,829,178,71,336,187,68,293,300,1066,398,464,84,131,130,868,307,29,330,157,1062,129,762,298,541,289,659,720,667,158,316,119,297,496,91,1048,638,288,929,1145,1165,235,788,491,160,280,289,415,160,60,265,116,581,209,251,184,120,37,401,439,382,183,250,841,292,242,110,45,406,297,309,267,285,47,142,464,25,386,463,402,62,546,214,869,85,68,367,271,104,146,150,234,595,60,897,101,195,473,200,698,853,217,438,1073,156,1058,210,262,555,765,1051,1246,282,354,139,417,32,91,340,226,255,335,45,314,125,270,97,174,879,237,235,1073,24,329,113,501,607,220,600,639,848,223,168,426,588,609,123,472,433,230,154,432,185,523,155,745,381,964,500,57,1139,80,226,961,45,70,547,276,559,416,340,993,144,515,375,539,757,205,183,290,96,144,179,563,161,705,934,133,238,361,1007,232,352,323,77,283,701,1045,395,262,1150,1212,50,971,284,390,85,237,242,176,238,198,245,1024,219,78,257,335,1184,320,62,653,633,618,763,840,573,720,145,864,1150,330,360,259,36,108,502,391,681,101,287,375,533,224,143,243,1017,728,212,885,363,350,239,240,342,69,38,18,144,442,560,115,705,142,432,356,248,376,443,282,502,358,178,446,58,244,339,1262,355,305,979,408,898,315,737,71,259,419,670,170,126,370,236,1142,488,827,1005,42,366,116,107,1133,247,389,826,173,457,1106,323,983,786,271,858,997,292,257,244,125,660,601,25,164,101,572,104,649,181,37,85,404,164,1355,1142,159,76,255,209,241,322,91,162,333,459,132,548,606,370,401,143,305,574,251,657,306,144,149,152,792,449,660,500,147,1028,610,51,236,771,109,42,211,127,1163,537,52,451,316,402,125,702,161,530,89,1064,455,42,559,109,31,33,351,641,98,678,40,249,115,247,164,161,322,741,202,228,167,52,191,376,261,776,891,311,275,43,268,460,22,261,989,248,163,90,679,420,264,224,521,403,267,701,41,93,270,114,219,290,71,67,653,322,416,302,35,116,115,254,362,263,135,590,98,1191,115,488,468,412,457,45,106,1112,155,691,267,136,403,241,460,676,195,991,35,45,88,487,710,102,326,81,90,407,34,270,240,793,418,356,60,335,149,506,228,99,914,1106,607,508,260,628,90,48,322,282,72,178,592,74,764,95,251,746,254,65,391,941,46,286,470,169,299,258,380,100,235,397,405,195,295,205,396,252,316,179,177,130,264,283,47,326,893,157,313,308,182,132,205,663,101,33,218,115,114,62,14,651,100,395,179,441,276,1062,76,349,115,102,577,511,150,132,471,317,166,801,227,584,424,323,1274,413,316,80,170,359,787,169,251,164,780,518,88,401,540,463,609,796,83,360,1057,381,569,93,151,62,289,1020,170,167,137,1049,137,179,320,177,172,89,546,335,383,902,320,546,1075,284,919,162,704,317,76,158,289,777,543,686,133,859,380,669,1002,409,284,253,183,1020,423,561,81,344,156,204,924,723,137,1140,258,215,596,714,446,106,200,231,206,50,284,155,1219,397,61,1098,282,1057,130,111,632,582,266,303,201,245,1041,124,1054,85,358,450,363,602,47,71,53,181,548,99,385,779,124,1308,391,850,186,162,121,58,109,495,39,227,213,1080,287,124,935,380,554,245,69,625,422,529,269,808,190,118,2667,306,1330,790,1891,689,180,180,1217,2704,1275,250,144,345,302,642,558,716,441,514,335,971,347,215,108,529,119,1010,999,229,396,463,80,505,167,186,381,162,147,431,215,45,506,42,247,257,481,336,1357,1715,1057,5383,21,428,214,263,194,148,294,272,262,148,816,776,638,515,160,359,308,74,240,312,171,419,386,87,51,451,614,310,235,1160,149,147,182,305,406,271,223,409,1090,199,432,553,280,308,213,357,833,484,746,245,246,224,363,250,351,721,336,222,582,858,270,95,359,284,659,126,1006,616,127,78,217,520,516,135,195,95,419,198,389,142,254,221,486,502,132,488,130,1040,728,225,111,588,216,1228,276,239,732,77,163,32,50,169,402,728,111,401,317,61,69,36,783,388,189,1131,742,1049,206,187,157,430,442,225,76,352,59,97,263,812,993,1072,488,1051,741,584,254,218,251,535,256,431,212,167,916,832,48,297,94,58,141,208,89,836,171,82,145,53,122,210,328,244,133,91,656,266,316,223,264,284,269,617,77,177,110,1031,1114,331,126,92,150,172,951,90,114,53,265,402,109,449,225,391,144,314,150,108,89,209,105,520,110,357,182,573,216,305,323,594,248,62,48,374,464,791,500,1238,389,1038,38,26,176,347,603,102,173,456,874,333,914,633,284,1092,259,556,377,1186,216,218,478,216,426,184,485,72,557,510,552,475,541,566,169,35,285,493,138,347,381,900,130,265,993,110,110,168,494,99,394,261,319,173,156,478,420,203,231,413,296,139,577,139,50,190,347,32,235,1141,316,134,34,575,417,124,648,759,1461,222,364,386,247,79,504,262,244,364,1284,90,766,519,170,837,234,224,335,192,1433,255,478,74,754,249,126,249,299,413,164,167,1182,416,613,379,23,309,43,170,144,693,129,145,177,597,150,649,398,229,79,714,296,332,794,372,209,1222,997,116,359,36,543,198,150,349,55,825,352,1073,360,267,113,28,33,393,204,136,315,860,321,195,65,306,447,322,40,208,53,294,116,1319,931,1087,927,456,37,1084,104,52,592,29,624,889,108,104,940,440,276,311,169,246,980,173,626,82,310,283,107,164,547,101,307,197,139,185,930,452,940,345,876,880,173,57,161,12,306,269,91,243,107,483,54,376,253,77,865,845,54,86,725,351,94,314,960,1216,206,159,961,539,323,64,1103,1128,147,919,321,356,533,253,123,153,1206,310,528,89,345,386,282,389,613,146,603,423,122,447,546,142,498,48,740,527,165,957,342,260,102,136,226,293,227,579,148,551,120,343,84,157,332,249,14,273,346,457,322,119,157,1003,120,229,456,712,403,632,239,142,428,368,518,469,193,284,281,372,854,217,269,464,569,1269,132,120,301,81,337,151,1056,580,279,67,398,312,184,908,252,179,281,786,758,172,164,112,613,371,163,81,127,1158,167,67,80,1205,393,507,128,1083,276,220,427,256,269,1115,864,67,235,560,261,461,143,287,1332,111,1139,364,162,52,63,519,301,219,175,213,676,47,175,49,993,170,29,249,291,81,1197,416,59,374,847,105,120,213,600,386,145,203,167,211,136,98,905,268,267,680,918,466,150,120,489,415,288,191,435,934,68,33,705,30,211,926,156,50,152,1322,103,1158,365,285,426,382,604,166,84,576,655,250,50,97,368,423,260,404,365,371,1126,247,110,565,198,263,456,90,89,529,1290,935,40,35,221,217,49,321,112,142,352,67,122,640,584,333,108,239,41,261,421,191,154,329,121,686,212,147,670,194,210,345,319,816,246,119,297,696,35,139,1078,187,792,136,220,584,296,975,149,1091,268,168,156,187,74,62,99,21,245,209,354,120,208,73,232,906,237,314,83,486,108,577,157,508,78,120,788,705,234,202,1033,29,156,423,200,372,409,676,292,809,526,310,183,321,97,122,264,901,317,136,280,784,81,605,269,993,435,506,256,81,165,1018,453,591,50,555,170,224,834,40,55,829,561,483,418,301,437,317,839,436,762,607,323,703,289,232,593,110,571,476,214,1137,1151,122,253,521,897,760,739,67,155,116,60,934,239,100,39,558,230,68,76,953,78,103,378,246,577,186,457,265,147,865,218,139,627,576,116,503,305,5931,771,342,158,145,109,496,453,222,300,375,656,433,781,750,111,125,331,944,88,233,79,265,581,1431,303,640,51,966,296,779,276,327,69,536,887,522,286,204,326,210,120,177,201,339,86,159,38,326,224,175,165,376,171,817,183,655,77,91,321,336,193,180,1723,241,76,148,131,660,296,630,399,152,1343,234,943,313,465,796,256,408,784,373,146,818,146,554,671,39,157,411,232,123,142,965,223,128,113,377,225,391,55,281,371,319,245,203,466,17,230,775,51,134,233,381,438,197,81,143,113,162,245,79,86,687,631,614,509,583,207,540,39,383,292,221,504,421,337,409,293,1213,112,95,201,513,686,190,345,354,474,117,284,274,44,532,442,1195,49,45,205,12,40,49,343,694,169,309,425,797,358,94,366,81,80,447,914,317,123,395,156,583,488,99,455,202,81,249,115,253,1597,159,714,205,240,129,348,37,46,644,635,569,209,618,89,174,266,1075,251,121,438,155,399,1103,71,81,472,358,394,571,392,103,300,249,545,295,487,120,307,284,138,27,1071,133,577,161,238,205,194,157,551,327,803,303,139,409,426,116,83,679,28,86,183,225,374,117,728,531,989,376,185,43,341,200,734,438,108,522,74,1344,459,485,242,330,1047,344,301,1295,249,484,297,682,508,660,217,3667,216,185,474,563,756,221,229,180,22,79,731,346,2662,230,115,199,106,35,146,400,72,445,197,294,309,234,148,79,288,134,403,292,519,5348,642,686,209,244,392,250,876,53,562,72,126,218,185,636,78,32,28,305,179,353,1403,92,1480,1107,339,763,151,252,1504,117,292,434,98,59,27,631,301,589,17,346,199,316,1729,4324,213,201,1275,410,393,418,615,33,256,97,361,119,425,458,791,341,1199,429,79,156,322,251,249,290,72,210,132,429,306,305,709,1164,594,343,366,1045,366,459,110,241,29,213,203,107,1017,329,123,212,125,287,799,766,745,258,211,224,1197,691,1413,349,681,119,564,583,475,32,101,121,311,255,203,101,229,227,59,360,22,258,399,148,48,1598,47,796,185,199,385,119,641,375,1097,680,355,212,479,549,180,295,1450,269,299,1005,472,333,1014,424,205,699,568,507,434,47,545,315,184,332,1323,282,45,1042,1587,384,1805,374,1120,1050,100,584,981,399,175,567,159,727,557,588,120,301,485,230,602,195,124,420,360,164,90,247,151,405,138,661,110,82,224,162,414,94,214,295,386,251,170,629,166,386,256,496,271,174,88,80,128,306,1006,422,1501,450,445,237,45,536,475,137,530,209,324,1001,56,208,863,852,178,74,635,97,191,92,69,662,1767,23,72,442,442,452,85,769,473,323,210,182,1313,104,704,64,673,283,35,653,586,111,1113,1163,428,492,351,144,120,472,74,339,28,143,457,54,233,247,317,151,700,265,909,503,194,154,173,667,253,235,497,1041,438,329,193,193,9,655,176,14,162,239,81,161,1138,2011,487,80,410,142,980,427,413,111,871,471,1782,154,1021,732,971,464,170,288,315,501,68,818,236,293,118,460,257,1881,746,121,433,215,364,72,571,188,1002,255,514,378,481,83,83,1020,229,151,136,433,502,279,485,204,122,905,306,212,206,147,882,559,526,581,1029,232,27,402,197,115,204,489,353,160,239,2205,176,2330,827,495,99,234,298,319,653,89,264,729,325,722,345,128,82,191,435,300,168,240,82,485,588,190,87,828,492,420,244,238,68,82,192,78,285,487,373,351,77,235,131,271,619,50,48,198,251,89,2279,245,209,1117,71,186,94,212,80,100,370,457,359,273,83,683,118,124,55,296,532,379,98,145,103,99,957,98,244,885,759,306,79,501,342,62,162,121,240,689,312,138,806,495,52,399,927,1172,336,189,325,46,311,264,120,271,283,1015,131,259,255,401,383,503,391,81,232,526,165,116,45,230,659,268,1366,1059,260,293,408,84,519,51,486,190,192,302,152,121,722,145,275,77,728,1141,2231,249,467,420,63,1147,485,330,190,37,198,260,241,107,455,345,332,150,593,2158,70,436,372,1417,294,5342,529,253,200,162,178,398,361,592,1088,570,358,2279,434,434,200,832,339,401,111,667,427,282,53,1000,158,729,731,403,825,29,722,372,100,504,443,464,439,845,186,836,247,119,135,465,322,3615,598,311,132,388,36,156,483,753,1639,839,133,178,1389,662,100,493,269,108,331,1101,311,300,525,29,533,344,248,520,117,219,128,739,194,1602,214,278,88,741,254,594,281,95,1041,186,530,541,57,271,765,81,658,565,642,103,81,364,821,46,13,308,1254,874,329,26,38,603,310,345,296,263,458,108,283,707,342,130,434,656,131,1248,615,459,263,384,633,644,60,60,209,301,627,454,426,561,343,35,397,321,436,344,151,111,293,305,872,1364,295,530,133,188,160,739,841,255,159,137,121,117,469,130,174,434,192,75,316,170,56,613,434,280,245,55,498,73,81,307,345,220,301,503,519,141,915,1643,459,355,508,1135,261,49,2272,730,202,1261,53,174,1854,173,340,327,386,368,706,715,79,578,114,1714,661,86,688,541,252,118,111,126,345,107,110,375,961,70,391,130,280,130,195,258,103,504,346,106,148,109,81,599,54,334,188,79,822,921,150,86,205,860,232,212,143,204,136,754,404,254,2163,419,136,1299,224,567,1099,611,72,466,435,174,142,121,2072,82,1050,493,553,241,105,1083,391,76,337,214,283,148,466,425,85,1018,87,965,323,200,534,219,451,39,629,152,82,592,131,215,216,193,1421,398,450,285,358,532,561,224,642,661,571,254],\"xaxis\":\"x\",\"yaxis\":\"y\",\"type\":\"histogram\"}],                        {\"template\":{\"data\":{\"histogram2dcontour\":[{\"type\":\"histogram2dcontour\",\"colorbar\":{\"outlinewidth\":0,\"ticks\":\"\"},\"colorscale\":[[0.0,\"#0d0887\"],[0.1111111111111111,\"#46039f\"],[0.2222222222222222,\"#7201a8\"],[0.3333333333333333,\"#9c179e\"],[0.4444444444444444,\"#bd3786\"],[0.5555555555555556,\"#d8576b\"],[0.6666666666666666,\"#ed7953\"],[0.7777777777777778,\"#fb9f3a\"],[0.8888888888888888,\"#fdca26\"],[1.0,\"#f0f921\"]]}],\"choropleth\":[{\"type\":\"choropleth\",\"colorbar\":{\"outlinewidth\":0,\"ticks\":\"\"}}],\"histogram2d\":[{\"type\":\"histogram2d\",\"colorbar\":{\"outlinewidth\":0,\"ticks\":\"\"},\"colorscale\":[[0.0,\"#0d0887\"],[0.1111111111111111,\"#46039f\"],[0.2222222222222222,\"#7201a8\"],[0.3333333333333333,\"#9c179e\"],[0.4444444444444444,\"#bd3786\"],[0.5555555555555556,\"#d8576b\"],[0.6666666666666666,\"#ed7953\"],[0.7777777777777778,\"#fb9f3a\"],[0.8888888888888888,\"#fdca26\"],[1.0,\"#f0f921\"]]}],\"heatmap\":[{\"type\":\"heatmap\",\"colorbar\":{\"outlinewidth\":0,\"ticks\":\"\"},\"colorscale\":[[0.0,\"#0d0887\"],[0.1111111111111111,\"#46039f\"],[0.2222222222222222,\"#7201a8\"],[0.3333333333333333,\"#9c179e\"],[0.4444444444444444,\"#bd3786\"],[0.5555555555555556,\"#d8576b\"],[0.6666666666666666,\"#ed7953\"],[0.7777777777777778,\"#fb9f3a\"],[0.8888888888888888,\"#fdca26\"],[1.0,\"#f0f921\"]]}],\"heatmapgl\":[{\"type\":\"heatmapgl\",\"colorbar\":{\"outlinewidth\":0,\"ticks\":\"\"},\"colorscale\":[[0.0,\"#0d0887\"],[0.1111111111111111,\"#46039f\"],[0.2222222222222222,\"#7201a8\"],[0.3333333333333333,\"#9c179e\"],[0.4444444444444444,\"#bd3786\"],[0.5555555555555556,\"#d8576b\"],[0.6666666666666666,\"#ed7953\"],[0.7777777777777778,\"#fb9f3a\"],[0.8888888888888888,\"#fdca26\"],[1.0,\"#f0f921\"]]}],\"contourcarpet\":[{\"type\":\"contourcarpet\",\"colorbar\":{\"outlinewidth\":0,\"ticks\":\"\"}}],\"contour\":[{\"type\":\"contour\",\"colorbar\":{\"outlinewidth\":0,\"ticks\":\"\"},\"colorscale\":[[0.0,\"#0d0887\"],[0.1111111111111111,\"#46039f\"],[0.2222222222222222,\"#7201a8\"],[0.3333333333333333,\"#9c179e\"],[0.4444444444444444,\"#bd3786\"],[0.5555555555555556,\"#d8576b\"],[0.6666666666666666,\"#ed7953\"],[0.7777777777777778,\"#fb9f3a\"],[0.8888888888888888,\"#fdca26\"],[1.0,\"#f0f921\"]]}],\"surface\":[{\"type\":\"surface\",\"colorbar\":{\"outlinewidth\":0,\"ticks\":\"\"},\"colorscale\":[[0.0,\"#0d0887\"],[0.1111111111111111,\"#46039f\"],[0.2222222222222222,\"#7201a8\"],[0.3333333333333333,\"#9c179e\"],[0.4444444444444444,\"#bd3786\"],[0.5555555555555556,\"#d8576b\"],[0.6666666666666666,\"#ed7953\"],[0.7777777777777778,\"#fb9f3a\"],[0.8888888888888888,\"#fdca26\"],[1.0,\"#f0f921\"]]}],\"mesh3d\":[{\"type\":\"mesh3d\",\"colorbar\":{\"outlinewidth\":0,\"ticks\":\"\"}}],\"scatter\":[{\"fillpattern\":{\"fillmode\":\"overlay\",\"size\":10,\"solidity\":0.2},\"type\":\"scatter\"}],\"parcoords\":[{\"type\":\"parcoords\",\"line\":{\"colorbar\":{\"outlinewidth\":0,\"ticks\":\"\"}}}],\"scatterpolargl\":[{\"type\":\"scatterpolargl\",\"marker\":{\"colorbar\":{\"outlinewidth\":0,\"ticks\":\"\"}}}],\"bar\":[{\"error_x\":{\"color\":\"#2a3f5f\"},\"error_y\":{\"color\":\"#2a3f5f\"},\"marker\":{\"line\":{\"color\":\"#E5ECF6\",\"width\":0.5},\"pattern\":{\"fillmode\":\"overlay\",\"size\":10,\"solidity\":0.2}},\"type\":\"bar\"}],\"scattergeo\":[{\"type\":\"scattergeo\",\"marker\":{\"colorbar\":{\"outlinewidth\":0,\"ticks\":\"\"}}}],\"scatterpolar\":[{\"type\":\"scatterpolar\",\"marker\":{\"colorbar\":{\"outlinewidth\":0,\"ticks\":\"\"}}}],\"histogram\":[{\"marker\":{\"pattern\":{\"fillmode\":\"overlay\",\"size\":10,\"solidity\":0.2}},\"type\":\"histogram\"}],\"scattergl\":[{\"type\":\"scattergl\",\"marker\":{\"colorbar\":{\"outlinewidth\":0,\"ticks\":\"\"}}}],\"scatter3d\":[{\"type\":\"scatter3d\",\"line\":{\"colorbar\":{\"outlinewidth\":0,\"ticks\":\"\"}},\"marker\":{\"colorbar\":{\"outlinewidth\":0,\"ticks\":\"\"}}}],\"scattermapbox\":[{\"type\":\"scattermapbox\",\"marker\":{\"colorbar\":{\"outlinewidth\":0,\"ticks\":\"\"}}}],\"scatterternary\":[{\"type\":\"scatterternary\",\"marker\":{\"colorbar\":{\"outlinewidth\":0,\"ticks\":\"\"}}}],\"scattercarpet\":[{\"type\":\"scattercarpet\",\"marker\":{\"colorbar\":{\"outlinewidth\":0,\"ticks\":\"\"}}}],\"carpet\":[{\"aaxis\":{\"endlinecolor\":\"#2a3f5f\",\"gridcolor\":\"white\",\"linecolor\":\"white\",\"minorgridcolor\":\"white\",\"startlinecolor\":\"#2a3f5f\"},\"baxis\":{\"endlinecolor\":\"#2a3f5f\",\"gridcolor\":\"white\",\"linecolor\":\"white\",\"minorgridcolor\":\"white\",\"startlinecolor\":\"#2a3f5f\"},\"type\":\"carpet\"}],\"table\":[{\"cells\":{\"fill\":{\"color\":\"#EBF0F8\"},\"line\":{\"color\":\"white\"}},\"header\":{\"fill\":{\"color\":\"#C8D4E3\"},\"line\":{\"color\":\"white\"}},\"type\":\"table\"}],\"barpolar\":[{\"marker\":{\"line\":{\"color\":\"#E5ECF6\",\"width\":0.5},\"pattern\":{\"fillmode\":\"overlay\",\"size\":10,\"solidity\":0.2}},\"type\":\"barpolar\"}],\"pie\":[{\"automargin\":true,\"type\":\"pie\"}]},\"layout\":{\"autotypenumbers\":\"strict\",\"colorway\":[\"#636efa\",\"#EF553B\",\"#00cc96\",\"#ab63fa\",\"#FFA15A\",\"#19d3f3\",\"#FF6692\",\"#B6E880\",\"#FF97FF\",\"#FECB52\"],\"font\":{\"color\":\"#2a3f5f\"},\"hovermode\":\"closest\",\"hoverlabel\":{\"align\":\"left\"},\"paper_bgcolor\":\"white\",\"plot_bgcolor\":\"#E5ECF6\",\"polar\":{\"bgcolor\":\"#E5ECF6\",\"angularaxis\":{\"gridcolor\":\"white\",\"linecolor\":\"white\",\"ticks\":\"\"},\"radialaxis\":{\"gridcolor\":\"white\",\"linecolor\":\"white\",\"ticks\":\"\"}},\"ternary\":{\"bgcolor\":\"#E5ECF6\",\"aaxis\":{\"gridcolor\":\"white\",\"linecolor\":\"white\",\"ticks\":\"\"},\"baxis\":{\"gridcolor\":\"white\",\"linecolor\":\"white\",\"ticks\":\"\"},\"caxis\":{\"gridcolor\":\"white\",\"linecolor\":\"white\",\"ticks\":\"\"}},\"coloraxis\":{\"colorbar\":{\"outlinewidth\":0,\"ticks\":\"\"}},\"colorscale\":{\"sequential\":[[0.0,\"#0d0887\"],[0.1111111111111111,\"#46039f\"],[0.2222222222222222,\"#7201a8\"],[0.3333333333333333,\"#9c179e\"],[0.4444444444444444,\"#bd3786\"],[0.5555555555555556,\"#d8576b\"],[0.6666666666666666,\"#ed7953\"],[0.7777777777777778,\"#fb9f3a\"],[0.8888888888888888,\"#fdca26\"],[1.0,\"#f0f921\"]],\"sequentialminus\":[[0.0,\"#0d0887\"],[0.1111111111111111,\"#46039f\"],[0.2222222222222222,\"#7201a8\"],[0.3333333333333333,\"#9c179e\"],[0.4444444444444444,\"#bd3786\"],[0.5555555555555556,\"#d8576b\"],[0.6666666666666666,\"#ed7953\"],[0.7777777777777778,\"#fb9f3a\"],[0.8888888888888888,\"#fdca26\"],[1.0,\"#f0f921\"]],\"diverging\":[[0,\"#8e0152\"],[0.1,\"#c51b7d\"],[0.2,\"#de77ae\"],[0.3,\"#f1b6da\"],[0.4,\"#fde0ef\"],[0.5,\"#f7f7f7\"],[0.6,\"#e6f5d0\"],[0.7,\"#b8e186\"],[0.8,\"#7fbc41\"],[0.9,\"#4d9221\"],[1,\"#276419\"]]},\"xaxis\":{\"gridcolor\":\"white\",\"linecolor\":\"white\",\"ticks\":\"\",\"title\":{\"standoff\":15},\"zerolinecolor\":\"white\",\"automargin\":true,\"zerolinewidth\":2},\"yaxis\":{\"gridcolor\":\"white\",\"linecolor\":\"white\",\"ticks\":\"\",\"title\":{\"standoff\":15},\"zerolinecolor\":\"white\",\"automargin\":true,\"zerolinewidth\":2},\"scene\":{\"xaxis\":{\"backgroundcolor\":\"#E5ECF6\",\"gridcolor\":\"white\",\"linecolor\":\"white\",\"showbackground\":true,\"ticks\":\"\",\"zerolinecolor\":\"white\",\"gridwidth\":2},\"yaxis\":{\"backgroundcolor\":\"#E5ECF6\",\"gridcolor\":\"white\",\"linecolor\":\"white\",\"showbackground\":true,\"ticks\":\"\",\"zerolinecolor\":\"white\",\"gridwidth\":2},\"zaxis\":{\"backgroundcolor\":\"#E5ECF6\",\"gridcolor\":\"white\",\"linecolor\":\"white\",\"showbackground\":true,\"ticks\":\"\",\"zerolinecolor\":\"white\",\"gridwidth\":2}},\"shapedefaults\":{\"line\":{\"color\":\"#2a3f5f\"}},\"annotationdefaults\":{\"arrowcolor\":\"#2a3f5f\",\"arrowhead\":0,\"arrowwidth\":1},\"geo\":{\"bgcolor\":\"white\",\"landcolor\":\"#E5ECF6\",\"subunitcolor\":\"white\",\"showland\":true,\"showlakes\":true,\"lakecolor\":\"white\"},\"title\":{\"x\":0.05},\"mapbox\":{\"style\":\"light\"}}},\"xaxis\":{\"anchor\":\"y\",\"domain\":[0.0,1.0],\"title\":{\"text\":\"value\"}},\"yaxis\":{\"anchor\":\"x\",\"domain\":[0.0,1.0],\"title\":{\"text\":\"count\"}},\"legend\":{\"title\":{\"text\":\"variable\"},\"tracegroupgap\":0},\"title\":{\"text\":\"\\u0420\\u0430\\u0441\\u043f\\u0440\\u0435\\u0434\\u0435\\u043b\\u0435\\u043d\\u0438\\u0435 \\u0434\\u043b\\u0438\\u043d \\u043e\\u0431\\u0440\\u0430\\u0431\\u043e\\u0442\\u0430\\u043d\\u043d\\u044b\\u0445 \\u043e\\u0431\\u0440\\u0430\\u0449\\u0435\\u043d\\u0438\\u0439\"},\"barmode\":\"relative\"},                        {\"responsive\": true}                    ).then(function(){\n",
              "                            \n",
              "var gd = document.getElementById('4688e0d1-bb1e-42cd-b99e-07db9fe1457d');\n",
              "var x = new MutationObserver(function (mutations, observer) {{\n",
              "        var display = window.getComputedStyle(gd).display;\n",
              "        if (!display || display === 'none') {{\n",
              "            console.log([gd, 'removed!']);\n",
              "            Plotly.purge(gd);\n",
              "            observer.disconnect();\n",
              "        }}\n",
              "}});\n",
              "\n",
              "// Listen for the removal of the full notebook cells\n",
              "var notebookContainer = gd.closest('#notebook-container');\n",
              "if (notebookContainer) {{\n",
              "    x.observe(notebookContainer, {childList: true});\n",
              "}}\n",
              "\n",
              "// Listen for the clearing of the current output cell\n",
              "var outputEl = gd.closest('.output');\n",
              "if (outputEl) {{\n",
              "    x.observe(outputEl, {childList: true});\n",
              "}}\n",
              "\n",
              "                        })                };                            </script>        </div>\n",
              "</body>\n",
              "</html>"
            ]
          },
          "metadata": {}
        }
      ],
      "source": [
        "x = complaints['text'].apply(len)\n",
        "\n",
        "fig = px.histogram(x, nbins=50, text_auto=True, title='Распределение длин обработанных обращений')\n",
        "fig.show()"
      ]
    },
    {
      "cell_type": "markdown",
      "metadata": {
        "id": "0nNKnkO4MLSP"
      },
      "source": [
        "Большая часть строк имеет длинну менее 500 символов. Примерно 95% строк не превышает 1000 символов. Однако есть несколько обращений, к оторых даже после обработки остается больше 10000 символов."
      ]
    },
    {
      "cell_type": "code",
      "source": [
        "x = complaints['text'].apply(lambda x: len(x.split(' ')))\n",
        "\n",
        "fig = px.histogram(x, nbins=50, text_auto=True, title='Распределение количества слов в обработанных сообщениях')\n",
        "fig.show()"
      ],
      "metadata": {
        "colab": {
          "base_uri": "https://localhost:8080/",
          "height": 542
        },
        "id": "S2Jf6JvPGzot",
        "outputId": "0444ff7e-5892-4f7f-e10c-83a6c7c6f050"
      },
      "execution_count": null,
      "outputs": [
        {
          "output_type": "display_data",
          "data": {
            "text/html": [
              "<html>\n",
              "<head><meta charset=\"utf-8\" /></head>\n",
              "<body>\n",
              "    <div>            <script src=\"https://cdnjs.cloudflare.com/ajax/libs/mathjax/2.7.5/MathJax.js?config=TeX-AMS-MML_SVG\"></script><script type=\"text/javascript\">if (window.MathJax && window.MathJax.Hub && window.MathJax.Hub.Config) {window.MathJax.Hub.Config({SVG: {font: \"STIX-Web\"}});}</script>                <script type=\"text/javascript\">window.PlotlyConfig = {MathJaxConfig: 'local'};</script>\n",
              "        <script charset=\"utf-8\" src=\"https://cdn.plot.ly/plotly-2.24.1.min.js\"></script>                <div id=\"4c74d7e5-ac42-4313-8ec8-1a219f7468a3\" class=\"plotly-graph-div\" style=\"height:525px; width:100%;\"></div>            <script type=\"text/javascript\">                                    window.PLOTLYENV=window.PLOTLYENV || {};                                    if (document.getElementById(\"4c74d7e5-ac42-4313-8ec8-1a219f7468a3\")) {                    Plotly.newPlot(                        \"4c74d7e5-ac42-4313-8ec8-1a219f7468a3\",                        [{\"alignmentgroup\":\"True\",\"bingroup\":\"x\",\"hovertemplate\":\"variable=text\\u003cbr\\u003evalue=%{x}\\u003cbr\\u003ecount=%{y}\\u003cextra\\u003e\\u003c\\u002fextra\\u003e\",\"legendgroup\":\"text\",\"marker\":{\"color\":\"#636efa\",\"pattern\":{\"shape\":\"\"}},\"name\":\"text\",\"nbinsx\":50,\"offsetgroup\":\"text\",\"orientation\":\"v\",\"showlegend\":true,\"texttemplate\":\"%{value}\",\"x\":[25,12,10,48,34,3,93,71,144,8,2,33,18,26,76,21,10,9,35,73,43,11,38,7,50,85,8,59,50,8,46,46,18,44,7,19,102,21,56,373,51,21,13,58,116,26,31,66,41,130,149,15,40,27,5,49,61,199,1,63,56,40,17,7,20,75,85,56,40,53,46,14,38,20,26,16,19,65,46,71,30,88,326,86,11,77,17,31,86,214,19,49,70,82,16,45,52,72,16,42,62,366,19,126,104,103,10,51,47,37,105,329,44,30,102,53,35,6,151,41,35,99,184,22,20,131,13,154,71,91,51,840,82,34,105,42,44,44,67,73,56,227,10,37,25,45,23,47,25,219,18,58,65,19,15,78,55,46,24,128,1,18,20,26,30,224,45,55,22,42,69,130,88,18,69,34,28,53,126,21,98,33,29,27,92,21,47,106,46,65,61,46,46,68,119,28,33,79,279,78,75,29,21,50,90,245,13,93,16,150,70,102,38,21,160,12,43,23,113,29,32,43,70,135,97,37,25,17,24,103,201,142,40,13,108,100,8,73,8,66,3,23,19,36,27,19,52,17,41,41,150,66,17,14,81,11,106,189,7,23,16,35,43,24,32,20,23,53,55,42,23,35,105,91,93,28,20,47,19,19,60,33,73,60,116,45,25,11,112,26,17,19,19,42,48,19,50,375,126,58,28,31,8,8,23,129,9,59,50,3,80,89,75,49,70,23,25,22,216,49,49,34,50,108,20,27,18,52,179,61,21,19,14,25,28,34,54,27,4,12,95,9,11,122,189,49,15,45,58,49,54,49,10,47,70,40,33,37,325,107,14,43,18,40,51,184,223,18,9,16,137,102,134,13,96,30,51,26,3,61,70,80,76,24,181,59,31,29,170,64,58,72,84,14,51,181,93,90,83,69,16,52,85,80,15,334,6,130,104,29,64,9,36,64,95,14,5,55,62,22,35,66,68,267,35,29,58,43,30,19,40,3,35,60,62,73,1571,118,114,26,51,44,37,26,27,38,29,77,34,153,3,42,101,57,13,48,113,81,40,20,76,26,79,16,18,25,27,70,56,26,166,29,98,20,40,12,209,28,78,7,26,62,35,67,90,31,65,32,369,20,132,47,42,5,59,56,19,38,69,16,76,18,9,57,126,111,46,86,46,58,69,13,61,59,9,237,15,27,202,36,7,135,65,37,76,9,71,3,46,31,63,32,52,6,85,11,67,116,8,14,20,51,49,15,45,29,9,29,68,98,15,86,35,59,41,99,144,11,50,43,73,18,142,20,15,7,66,142,58,32,43,173,18,43,47,45,75,33,3,35,17,13,78,126,45,103,24,35,56,62,46,36,47,21,96,112,8,38,125,53,44,106,33,74,14,29,124,24,136,61,38,24,25,49,10,33,69,73,76,34,13,54,67,45,64,50,53,2,18,22,122,61,27,4,25,21,20,221,23,62,54,142,58,2,60,15,27,11,50,74,14,83,66,40,667,69,61,101,67,89,18,25,83,82,25,30,26,63,40,61,15,50,46,131,9,29,14,25,261,10,42,16,29,58,112,43,47,61,172,113,33,49,26,35,14,38,77,23,21,44,45,25,11,26,14,24,43,30,54,4,24,163,36,45,86,57,13,81,36,24,20,27,5,65,39,16,35,4,18,111,53,122,74,59,83,96,75,39,84,33,25,24,61,20,78,14,61,3,53,8,263,21,34,60,4,26,55,24,151,45,55,16,29,8,22,26,39,184,54,6,99,47,89,46,93,19,46,56,14,11,121,25,76,42,22,3,45,23,37,57,81,24,6,18,160,28,6,137,48,79,62,67,23,62,10,63,50,74,53,5,83,36,9,34,55,22,83,163,35,10,7,244,25,53,42,50,7,48,33,103,38,43,75,72,19,45,32,139,61,47,58,57,97,18,157,12,142,118,37,125,79,167,178,57,62,51,109,46,48,43,18,54,73,48,43,60,182,42,64,80,25,50,30,186,38,11,14,43,99,22,40,70,52,60,45,165,37,4,54,165,33,7,21,28,67,47,182,51,26,14,18,36,60,34,109,106,8,56,93,67,101,12,54,39,53,68,56,19,57,61,59,26,135,86,64,134,38,39,48,120,41,73,15,60,32,71,48,12,5,150,156,35,16,331,65,29,161,5,28,101,28,39,9,38,126,74,3,12,76,27,28,66,86,61,51,10,15,12,67,32,18,60,412,36,9,147,116,125,49,29,129,43,58,24,11,56,73,32,8,13,144,50,61,24,23,111,7,35,13,23,171,50,92,156,23,28,15,21,56,26,213,30,18,152,117,11,11,67,67,38,23,4,26,83,30,5,64,12,139,42,89,87,4,15,76,270,22,55,21,60,236,40,31,25,159,85,71,24,38,32,164,5,33,33,11,8,79,26,9,35,19,64,112,16,26,58,149,17,29,72,55,20,69,297,43,80,50,17,121,77,60,64,109,15,28,8,62,2,134,65,26,22,15,168,106,14,293,60,46,36,41,49,65,33,88,1,4,278,54,14,24,4,39,18,40,15,15,17,19,14,22,47,70,198,91,15,33,11,66,55,1150,52,162,149,29,131,100,95,12,33,46,75,14,26,16,254,334,65,47,60,20,46,151,10,31,35,84,24,32,16,218,54,51,120,12,120,21,47,60,41,63,40,24,98,50,65,7,116,7,47,44,16,135,36,144,48,24,26,43,16,9,63,43,71,49,75,21,25,42,56,59,26,3,13,55,134,18,78,65,127,63,398,6,499,4,134,135,38,20,44,31,29,55,95,6,29,28,40,22,90,18,114,52,47,188,7,13,158,13,75,13,8,30,130,150,49,6,11,54,142,72,11,57,38,47,53,36,167,60,19,62,6,99,26,160,55,38,98,17,15,87,45,42,83,8,87,37,58,26,74,2,65,44,19,38,9,113,66,8,77,124,17,19,201,13,15,43,14,45,52,63,29,37,54,48,120,74,19,21,58,23,65,55,238,40,17,7,87,63,27,118,34,65,10,36,17,11,96,48,51,32,19,35,413,50,40,249,80,99,73,22,29,36,61,32,56,40,28,35,17,30,117,33,18,120,24,37,12,33,37,30,13,23,26,12,3,10,53,144,37,107,57,28,135,14,36,180,95,29,43,85,13,14,139,20,61,71,26,15,21,21,45,40,138,50,122,18,21,42,19,87,64,40,15,61,69,10,77,15,28,20,26,62,43,51,5,118,26,48,9,49,128,20,67,82,43,89,35,23,16,18,14,10,34,15,22,53,23,15,32,51,190,83,8,3,41,35,12,16,15,42,73,38,186,128,25,15,122,81,162,59,50,152,31,103,38,68,43,133,59,71,6,10,19,16,13,45,31,166,41,48,51,11,37,49,45,23,5,75,26,17,166,23,106,28,26,43,79,115,37,41,112,10,61,5,73,91,19,29,47,75,659,62,151,25,23,57,129,74,68,26,23,10,30,30,115,213,21,48,70,42,78,161,7,40,15,11,68,104,31,105,205,38,44,22,30,26,64,7,52,11,65,14,84,60,68,59,264,50,126,84,18,59,9,19,24,21,11,32,38,31,20,27,69,39,85,102,53,52,104,18,8,80,20,188,93,65,64,29,15,48,31,37,20,38,40,10,29,190,63,40,37,30,162,23,12,45,43,5,37,43,50,20,70,53,37,11,16,46,1,268,7,20,2,35,138,39,8,47,57,22,13,57,59,17,39,43,67,50,63,13,121,27,11,52,62,38,8,39,24,58,33,47,38,26,40,33,82,36,8,43,20,6,55,87,26,19,55,85,84,36,16,17,39,15,30,138,47,35,59,66,49,13,207,42,44,54,2,28,14,18,24,155,1,65,87,93,9,17,23,32,31,45,26,70,28,4,41,33,39,151,23,92,32,221,38,155,63,64,36,12,109,12,16,42,35,4,96,31,56,84,15,82,96,43,41,12,22,42,20,46,17,28,64,27,241,37,31,11,29,25,31,51,41,19,111,67,34,110,34,3,49,23,30,45,60,6,72,15,17,34,58,23,74,72,26,46,31,10,71,7,33,75,27,212,44,13,54,28,47,6,45,6,16,46,26,28,41,15,31,51,53,39,155,18,53,93,44,50,119,5,44,34,82,36,39,57,49,19,122,56,56,24,77,55,35,60,72,77,70,76,45,69,42,19,145,36,33,95,11,38,59,21,104,41,17,8,73,46,67,29,51,67,17,23,134,19,170,20,52,12,13,44,49,49,35,29,9,39,35,83,51,66,24,21,5,20,38,68,25,44,21,23,31,117,30,29,11,6,68,61,118,53,34,269,29,131,82,48,67,44,48,75,36,29,21,215,44,14,56,62,21,21,101,779,13,142,57,30,66,15,40,76,38,22,38,15,68,281,74,36,5,44,32,202,38,2,35,13,368,35,19,41,49,66,33,27,95,7,113,34,30,39,55,122,112,92,19,108,207,85,61,11,12,57,42,70,7,91,22,4,62,127,7,14,75,9,23,75,19,111,55,41,230,108,61,41,6,37,44,8,154,160,171,94,74,7,15,110,48,155,44,30,4,73,22,82,11,49,45,63,30,122,10,9,73,15,14,97,26,63,96,11,37,56,73,44,122,12,42,24,72,10,46,9,31,27,13,115,85,80,119,95,74,30,41,15,6,8,32,91,41,175,10,69,41,6,46,37,324,47,80,26,8,19,76,12,94,84,51,83,29,81,59,43,42,52,80,33,33,18,92,77,22,23,128,8,30,11,42,20,50,165,68,53,17,196,73,58,59,44,29,38,40,7,50,115,70,21,15,8,14,46,11,22,31,28,42,96,60,64,84,13,24,29,68,86,31,147,141,146,34,33,126,29,56,57,17,8,9,21,63,14,18,63,15,61,26,146,213,28,18,36,28,16,49,58,100,26,21,49,48,45,45,15,33,76,45,139,112,32,56,8,71,159,119,70,30,68,26,6,6,20,21,11,26,47,9,47,83,32,202,26,72,34,15,58,50,187,17,27,86,163,106,68,104,27,29,15,48,11,20,58,12,108,26,29,56,44,30,9,60,31,15,43,117,31,27,20,149,1,64,41,121,172,33,110,15,102,22,74,34,39,15,55,36,18,51,54,46,9,11,63,132,34,36,51,26,25,45,21,65,49,56,28,54,19,33,30,31,21,103,80,46,51,9,114,102,72,53,34,36,68,56,10,49,38,30,24,49,17,15,183,42,4,19,10,23,28,33,24,92,135,48,5,10,140,40,1473,43,15,79,9,35,24,15,331,50,127,136,33,22,16,113,20,50,28,20,48,76,56,72,16,222,15,58,83,76,22,14,5,44,5,3,13,44,4,49,12,136,40,52,50,16,15,140,11,101,20,26,20,23,8,415,21,73,82,27,15,6,75,36,30,15,64,118,40,66,32,12,11,84,21,50,21,43,15,24,128,45,117,20,115,62,6,26,19,40,120,35,535,35,19,24,23,80,71,24,82,48,24,192,36,7,32,182,260,28,24,12,48,26,291,52,94,95,28,38,27,52,57,7,109,21,80,119,147,16,29,25,33,83,101,26,43,146,48,47,16,4,12,74,129,133,117,13,20,103,69,22,77,28,45,31,96,37,125,35,95,36,82,34,55,70,37,18,4,34,72,155,20,60,93,28,43,76,39,68,22,42,61,32,78,85,35,66,82,70,182,14,7,69,38,6,28,43,90,71,10,21,47,16,41,3,54,84,19,11,31,30,43,24,36,44,138,2,36,43,278,40,78,117,50,15,55,11,7,47,185,141,58,47,29,112,99,93,111,9,51,50,40,15,36,8,90,43,70,160,34,27,9,162,35,15,14,10,62,16,8,8,39,34,9,33,187,49,39,17,1,79,6,92,3,3,40,70,112,51,63,27,35,62,48,32,28,81,35,11,83,41,37,4,80,98,23,160,36,37,6,54,141,161,77,21,140,63,290,18,34,90,22,45,51,73,17,30,28,28,11,4,77,52,202,14,13,27,22,17,39,43,48,55,72,155,7,22,22,51,41,22,7,13,18,14,16,70,4,35,49,94,55,8,22,11,104,67,91,6,40,25,125,178,48,61,13,37,81,34,36,15,15,8,51,114,9,35,12,25,7,11,5,34,19,4,91,41,41,16,76,17,39,106,36,17,45,14,112,9,27,12,7,72,19,35,10,18,35,18,237,31,56,46,43,136,6,19,87,30,7,85,95,5,13,32,39,126,7,6,25,93,8,97,85,23,20,30,176,38,182,22,15,36,88,297,22,74,77,9,25,36,68,39,35,3,60,38,21,57,94,122,9,7,147,59,48,55,39,54,84,45,69,100,27,12,31,234,58,22,48,30,22,69,7,34,49,41,35,70,129,80,19,55,106,21,46,74,64,38,6,91,57,65,91,1,45,35,25,24,34,21,29,4,70,35,98,45,29,262,69,84,47,74,14,66,132,15,21,112,35,52,24,60,162,106,23,12,20,159,75,24,22,31,11,28,568,13,40,29,70,21,25,55,138,27,31,17,48,109,47,35,62,31,86,103,81,18,31,376,54,45,34,219,4,12,106,60,62,24,46,50,33,6,151,27,15,71,132,57,86,34,41,36,19,86,54,98,101,52,7,16,28,95,20,21,34,15,16,35,51,15,4,79,46,5,122,12,140,104,31,77,3,78,36,10,8,26,18,365,9,58,57,22,6,37,51,88,282,4,107,2,65,68,58,20,109,80,45,47,10,14,13,64,40,43,46,59,22,70,10,111,47,29,44,12,149,33,50,31,32,47,51,49,37,83,85,13,155,34,41,76,106,14,81,82,29,32,92,133,12,19,23,23,136,11,32,43,119,18,159,17,110,22,23,158,25,10,28,33,34,9,74,103,14,49,18,27,25,27,22,106,2,22,73,35,69,30,73,99,21,51,24,82,56,53,13,47,35,23,72,32,47,29,143,11,16,16,17,68,16,40,9,74,14,34,21,34,50,63,91,27,44,141,32,59,99,114,105,62,45,75,30,30,40,125,17,37,39,134,30,81,87,77,21,21,75,17,7,11,18,8,73,8,14,2,22,100,23,594,31,25,32,151,91,29,97,93,64,26,93,45,15,29,10,35,29,11,65,54,100,69,14,54,29,59,16,6,49,13,22,31,11,76,176,29,250,22,34,92,78,41,50,38,38,32,21,14,13,30,35,96,26,147,51,30,136,13,33,12,44,27,33,42,55,30,12,74,71,16,11,66,18,54,45,114,57,38,36,58,55,60,154,10,28,22,1,101,136,13,106,43,24,69,36,60,23,119,21,150,150,53,144,28,94,50,73,50,16,164,14,9,21,83,49,28,62,77,140,22,41,27,41,55,65,67,10,11,20,46,154,19,30,11,47,94,8,92,53,39,27,24,26,64,158,22,21,112,36,36,35,76,16,111,100,159,146,54,116,51,10,2,60,58,15,55,30,24,64,6,58,44,108,48,32,53,29,22,74,22,80,178,44,42,21,49,34,98,132,149,51,42,31,24,13,39,15,39,13,26,14,49,53,2,36,151,46,50,33,57,61,22,55,63,223,110,5,95,64,26,20,89,18,33,117,34,23,53,57,44,26,18,59,97,50,14,35,43,56,11,22,48,10,57,41,39,37,35,107,52,48,42,23,23,14,295,28,116,10,37,82,82,30,36,74,111,65,10,15,44,42,36,42,74,112,38,127,28,80,26,54,19,99,42,17,64,97,52,80,37,4,161,113,53,140,61,101,47,59,41,30,10,83,44,41,53,41,22,7,377,29,9,32,73,42,15,29,76,69,16,66,46,11,88,108,17,10,38,4,12,102,59,51,71,55,44,6,41,105,16,163,81,57,15,94,112,97,57,63,92,38,52,36,57,43,164,53,32,265,23,12,63,25,15,33,28,29,53,36,7,9,64,24,45,33,61,16,31,8,57,55,240,71,43,26,30,75,29,58,18,137,27,102,45,34,54,11,55,85,287,9,85,80,41,29,124,43,38,62,112,11,21,4,20,156,46,11,49,91,60,42,63,71,36,58,45,41,44,81,18,7,10,96,7,42,11,21,41,76,130,89,64,15,107,36,63,31,2,7,45,58,15,234,229,34,36,7,338,68,145,4,42,18,178,10,19,78,41,55,3,4,49,34,31,13,45,272,154,116,12,38,31,3,182,54,45,6,89,45,11,33,36,73,42,39,62,60,28,101,53,29,32,99,7,2,17,109,19,9,92,102,41,135,111,94,56,16,28,35,25,102,93,133,74,27,35,66,17,85,20,139,42,32,11,80,25,19,154,144,18,25,13,23,50,45,51,15,12,183,15,27,16,70,46,20,41,38,6,40,39,55,86,62,49,58,78,23,42,79,35,23,22,39,70,80,16,37,56,35,17,35,17,60,32,29,5,48,37,7,67,10,97,97,34,88,22,168,12,18,49,16,33,65,54,9,14,60,7,16,72,12,26,118,28,22,73,29,37,30,66,437,155,45,94,29,90,41,101,9,49,38,74,17,33,255,400,34,95,32,237,11,139,34,9,59,98,12,36,75,76,50,45,27,49,61,68,23,18,70,20,30,77,14,1,77,60,79,98,24,10,46,77,10,116,15,35,70,12,46,29,32,71,45,86,11,61,26,90,96,50,64,70,10,14,116,117,52,11,12,140,27,66,21,172,56,309,34,138,11,26,28,74,29,46,89,73,104,58,35,31,34,80,43,47,14,62,44,36,16,31,56,74,66,111,29,101,139,26,50,4,52,10,75,80,23,24,49,32,23,8,20,15,158,56,31,25,76,59,47,175,55,71,38,11,27,78,21,159,21,38,17,60,8,42,63,22,75,46,79,34,71,11,51,22,38,161,131,35,305,6,14,12,41,35,44,205,62,25,45,13,34,27,32,61,41,79,57,29,108,98,13,30,62,67,142,78,1058,105,9,29,58,12,24,72,35,11,120,341,70,29,46,43,104,66,27,30,44,58,65,13,28,7,15,76,22,90,141,23,40,31,29,27,16,31,88,49,67,44,11,31,56,44,67,149,15,160,44,11,67,44,194,133,69,108,53,34,129,10,156,9,179,48,5,51,70,55,30,16,51,7,14,71,88,37,15,11,171,16,81,267,73,123,31,118,26,69,41,16,79,9,41,61,146,39,21,117,42,106,28,21,86,100,526,33,17,63,46,67,39,13,53,58,54,11,40,46,101,15,56,127,35,76,63,67,35,47,29,22,26,29,146,36,26,183,57,71,56,53,25,47,74,27,101,13,206,18,8,87,67,52,112,10,95,75,67,175,6,88,60,17,16,198,22,110,34,9,40,37,74,39,60,322,50,24,17,12,29,17,12,32,20,19,384,56,43,36,34,34,89,15,58,65,23,38,200,12,49,148,1,54,18,57,88,11,38,5,6,18,27,37,13,135,30,22,37,31,47,19,37,65,91,17,39,706,66,137,35,118,151,21,194,59,25,52,92,63,17,46,136,20,36,42,37,37,28,33,62,126,55,26,44,23,14,27,13,44,35,29,49,51,188,28,100,25,62,7,513,31,17,13,58,106,103,5,26,25,11,6,56,30,165,57,43,30,234,4,46,66,138,149,109,7,36,62,41,18,32,14,12,25,131,27,27,31,3,169,22,52,64,42,25,29,19,101,9,28,18,83,9,29,82,27,25,99,82,29,23,36,42,23,96,11,42,48,24,42,55,82,70,37,92,6,49,120,29,128,27,83,16,9,21,9,181,35,30,62,43,39,13,23,31,44,20,10,98,9,34,44,48,22,75,36,24,10,75,55,47,32,37,20,12,89,33,18,32,6,12,19,111,13,3,96,64,37,17,256,51,15,92,95,26,21,19,54,37,89,110,17,43,36,34,16,14,35,50,69,29,27,62,67,31,47,55,22,35,71,102,353,107,34,34,11,109,73,21,2,100,19,37,25,193,26,44,34,31,19,51,147,58,35,45,22,17,21,41,15,21,95,36,39,32,80,24,142,30,9,34,12,51,52,10,112,96,19,61,26,111,74,138,42,45,40,50,30,20,70,10,33,20,51,27,16,37,45,164,57,23,134,49,54,41,41,56,26,30,28,26,11,28,159,178,39,59,39,153,10,15,44,22,348,193,44,84,30,16,52,20,13,91,28,27,140,22,59,14,28,41,103,25,18,457,158,41,17,24,16,10,91,41,16,44,21,126,82,85,16,23,23,103,21,36,41,81,19,27,11,17,8,19,105,35,199,89,18,73,43,49,66,98,105,43,64,106,47,41,20,159,74,9,98,26,60,52,75,8,41,17,56,30,78,32,69,50,52,53,44,44,98,19,101,47,19,154,13,33,43,59,62,29,337,21,50,16,71,53,63,95,41,39,130,25,46,21,109,119,80,518,18,9,91,41,49,24,51,25,25,55,8,81,44,10,92,82,42,98,28,6,18,18,30,22,93,23,45,47,48,36,52,24,143,21,52,130,53,13,19,622,18,107,5,29,34,24,21,15,28,11,57,21,38,113,92,7,57,14,8,73,21,32,79,38,41,76,43,53,204,22,81,22,107,9,52,107,71,47,6,63,23,16,86,77,8,70,14,24,16,59,8,5,72,32,25,61,3,779,60,16,47,33,2,47,46,126,16,27,96,139,45,19,114,17,127,228,51,127,132,38,8,63,92,28,40,9,18,28,44,13,40,61,99,4,76,30,18,19,40,55,79,16,79,5,14,32,9,70,9,30,69,51,29,20,77,8,8,21,41,54,46,42,41,5,19,20,25,23,41,19,27,28,80,59,231,58,852,106,82,38,97,78,31,63,37,82,145,115,46,106,57,29,48,28,78,18,75,35,30,42,59,55,37,31,7,8,69,7,4,8,33,147,76,38,140,31,90,100,135,26,29,66,29,57,230,35,16,22,33,432,65,34,68,47,199,45,27,45,54,47,292,97,57,50,28,76,301,54,25,6,89,37,195,99,63,29,68,43,106,64,30,37,68,86,24,8,115,44,19,28,113,34,10,38,22,26,155,98,5,62,77,94,17,75,22,81,51,62,27,77,24,55,17,62,49,66,64,40,37,22,52,91,20,9,28,26,13,87,59,30,21,11,46,39,96,12,51,12,29,163,42,55,30,18,42,58,98,12,35,8,113,21,27,31,1,17,14,50,26,17,78,21,17,103,54,41,78,15,55,28,20,19,71,82,16,32,87,53,57,63,39,9,7,32,17,102,89,30,29,38,139,47,38,33,128,109,50,113,31,22,35,16,3,20,50,264,30,36,14,1,22,76,47,26,39,51,19,35,10,74,17,15,27,40,67,182,174,35,106,33,78,145,97,41,109,11,102,5,34,24,26,236,74,1,93,49,25,99,91,80,7,30,73,8,43,180,17,93,17,19,29,57,75,44,7,45,28,15,189,58,15,4,121,45,64,25,10,18,47,68,103,4,59,127,8,10,34,25,53,54,71,42,114,5,23,14,17,121,36,101,128,101,71,40,66,18,56,14,52,12,57,34,76,494,29,115,33,59,66,68,12,126,63,131,143,17,44,33,28,37,78,36,24,36,52,70,117,5,49,128,13,20,36,21,47,76,24,23,35,25,94,44,34,133,20,37,82,69,84,30,4,150,3,115,74,51,26,34,9,80,30,27,59,13,37,36,115,44,51,23,60,20,28,22,41,16,16,70,61,30,38,11,27,14,85,76,72,19,30,26,71,17,25,76,82,27,26,36,39,46,112,29,28,132,56,25,18,56,12,58,3,24,19,34,116,31,24,118,50,38,13,18,53,36,30,73,108,96,15,8,14,30,67,26,137,45,116,29,20,66,7,93,20,38,63,46,139,48,65,22,28,71,46,173,29,11,52,81,100,16,158,7,33,54,85,23,94,85,18,57,46,29,81,39,43,12,15,55,20,4,26,8,35,13,116,213,10,10,71,149,61,125,78,48,39,36,38,94,27,3,82,63,38,35,17,18,7,65,38,88,13,89,44,35,39,115,38,29,30,189,65,24,62,34,52,43,107,44,57,37,36,2,10,63,123,65,67,73,142,28,222,50,64,24,14,8,7,44,124,14,21,95,147,10,142,17,37,34,10,30,10,14,95,147,9,43,16,49,17,134,61,25,10,7,26,70,13,46,20,267,97,50,17,67,9,50,20,12,29,72,39,6,399,34,124,211,47,5,63,280,42,45,45,12,2,61,21,77,153,5,27,19,57,41,28,20,173,19,29,8,42,4,30,48,177,46,92,31,140,122,42,36,36,157,10,83,33,136,165,86,26,36,140,265,70,10,29,87,36,22,105,27,188,106,67,78,32,111,37,90,112,13,38,24,89,221,46,260,142,103,39,123,53,5,523,35,16,26,43,24,53,4,6,24,16,157,30,49,126,17,174,69,4,20,23,20,8,40,13,10,8,64,42,10,285,136,19,49,82,37,42,46,41,25,58,107,215,53,53,36,41,22,78,21,38,5,82,39,37,62,69,252,51,343,6,33,113,23,36,4,74,113,11,42,16,42,85,47,86,56,40,78,14,141,45,10,29,22,50,75,48,93,22,102,43,32,133,68,16,42,43,42,32,116,59,61,106,8,36,29,59,38,123,13,14,66,75,77,44,109,126,49,28,27,24,86,37,31,30,32,10,82,6,33,39,212,25,45,9,44,3,11,54,68,36,108,61,109,551,36,38,82,51,47,57,452,137,12,160,100,15,46,33,44,39,44,28,104,126,12,8,34,40,41,18,38,29,40,69,38,31,103,38,118,25,46,20,46,37,17,63,12,19,66,86,28,60,35,84,39,16,59,16,13,5,28,48,71,11,4,67,94,10,55,29,22,18,62,59,52,28,21,50,34,7,53,43,113,11,15,501,14,60,68,42,152,32,55,86,58,37,25,110,98,112,68,46,72,88,27,54,59,37,13,47,27,157,44,124,10,54,31,57,39,272,39,187,48,81,43,55,5,34,100,10,61,9,11,66,69,241,27,54,70,33,314,69,90,84,24,93,92,16,90,20,21,485,18,86,16,54,17,71,174,41,30,35,36,37,128,75,125,50,20,32,88,3,50,11,12,19,20,38,36,73,7,19,15,18,18,15,11,37,9,48,87,160,8,156,10,11,36,185,84,81,52,37,42,40,15,58,36,76,23,14,26,9,202,156,14,33,44,48,58,74,166,105,22,27,20,80,242,6,15,1,73,22,220,2,18,31,26,50,39,80,47,93,110,32,178,54,143,9,9,73,13,56,29,45,43,45,34,44,87,45,83,66,9,55,144,24,41,44,12,33,23,32,49,179,33,71,26,22,77,103,40,3,53,174,30,19,36,40,46,80,20,41,86,134,129,86,55,29,73,19,30,14,29,20,93,39,42,9,7,31,1001,11,28,15,14,17,8,18,21,46,8,11,72,51,23,49,25,136,182,81,28,85,112,509,151,725,37,9,46,36,67,106,25,10,27,57,81,84,53,21,32,17,37,116,102,497,86,33,91,5,48,76,26,24,85,28,61,18,108,68,50,8,19,12,31,37,42,93,28,31,145,58,33,76,157,50,43,13,80,33,42,45,5,75,9,4,34,69,15,69,38,10,109,25,28,14,71,25,51,98,76,54,17,44,38,67,47,71,369,24,45,144,47,101,29,48,47,28,29,88,66,17,26,32,24,5,19,145,20,58,53,11,114,31,17,16,18,50,65,22,17,200,7,43,46,15,157,31,13,29,12,99,22,53,26,75,38,89,95,1,77,172,18,25,95,49,42,55,27,20,70,33,76,124,5,56,60,32,68,24,24,112,200,93,32,47,64,44,535,96,36,20,15,38,169,171,30,11,3,20,121,172,12,41,43,137,10,225,67,50,29,97,26,31,30,20,102,24,51,12,19,60,32,8,436,167,56,16,31,99,10,5,64,73,15,198,331,317,22,7,51,52,41,20,39,39,89,8,127,62,8,94,13,81,122,104,20,6,315,65,127,5,50,45,44,47,64,84,100,22,78,51,136,122,64,80,47,47,4,36,23,55,31,30,69,56,42,240,42,27,44,34,52,44,115,31,68,4,54,43,412,24,27,21,35,27,39,46,13,9,14,37,51,87,64,38,21,32,60,48,167,30,10,51,64,26,49,82,33,52,89,20,26,68,25,67,93,2,109,296,20,5,71,43,42,23,110,8,29,28,29,23,68,12,84,13,9,25,43,27,58,8,20,91,33,45,32,20,21,44,71,16,26,48,24,62,23,115,38,19,61,33,9,12,36,66,62,9,15,45,73,35,109,15,137,34,10,35,142,67,23,73,64,8,8,72,24,51,70,38,170,112,36,169,15,37,50,27,22,13,172,63,44,50,38,29,135,37,34,19,37,80,40,106,44,14,26,94,16,55,118,193,103,42,24,59,13,53,15,43,63,65,13,130,26,17,17,66,76,8,45,70,6,47,96,196,57,79,211,75,82,5,362,10,162,80,47,56,129,40,27,79,32,40,43,23,97,58,39,87,13,20,81,2,17,9,45,11,21,87,74,37,158,136,31,10,43,135,69,20,18,18,72,43,12,10,59,41,6,11,67,51,59,28,47,67,19,25,84,49,29,31,26,8,87,23,21,16,10,27,12,26,59,69,162,27,222,9,5,38,22,36,16,65,13,15,68,122,125,58,86,37,132,8,48,51,95,55,6,42,21,19,87,31,53,39,36,30,33,23,8,35,72,34,86,64,173,63,11,101,79,42,102,34,12,39,38,111,2,141,43,9,15,71,20,51,81,15,20,64,34,27,132,31,32,74,190,14,60,6,52,58,102,41,132,53,35,54,47,54,70,296,157,15,92,30,87,9,185,102,67,20,33,100,26,5,21,221,79,41,76,14,11,7,32,41,106,308,29,60,192,40,11,115,305,109,24,34,11,52,38,29,70,67,34,14,37,53,56,26,13,11,101,83,24,76,93,40,28,56,29,69,23,29,9,83,18,29,30,341,10,38,33,148,210,8,29,21,55,44,390,44,99,48,23,17,57,137,58,29,4,39,67,62,33,10,11,34,30,34,51,36,21,239,12,15,20,22,17,37,37,20,37,158,79,32,49,17,47,328,41,26,11,17,8,33,39,78,37,35,171,23,54,24,22,102,8,67,4,31,112,60,58,155,58,12,109,68,44,22,23,12,56,20,42,35,56,56,29,80,61,57,4,16,106,41,33,74,58,60,21,54,47,32,69,46,79,21,47,34,9,52,31,65,10,75,7,76,46,38,50,41,113,39,30,88,59,65,43,55,4,21,118,15,72,41,230,10,76,32,73,8,125,27,174,8,41,25,9,167,14,141,37,111,16,5,43,63,98,32,36,26,47,10,22,15,63,123,22,216,68,50,98,33,193,128,75,67,15,83,28,102,36,46,34,39,7,20,55,16,22,43,103,47,245,20,40,55,77,95,27,61,57,61,70,79,50,11,24,341,76,31,188,48,40,23,13,39,15,43,10,29,24,12,44,21,98,70,53,105,7,118,22,18,73,29,37,37,18,41,26,28,37,64,91,240,22,56,7,168,59,37,57,14,30,61,14,8,87,61,55,66,8,26,17,158,45,58,9,78,58,23,52,27,68,147,13,119,18,38,73,16,80,48,72,79,162,68,9,28,56,18,93,2,34,16,45,28,206,62,16,15,23,13,137,19,12,18,41,50,33,76,18,77,23,38,18,31,43,14,34,9,97,166,14,4,22,45,51,119,63,25,92,94,183,55,45,97,77,55,64,19,33,38,17,17,67,16,27,22,44,91,46,112,47,24,155,52,46,38,10,10,56,57,17,62,74,29,31,133,68,51,108,4,76,19,52,116,38,41,63,22,135,131,36,30,68,18,21,8,26,90,17,15,19,108,163,72,62,162,110,65,49,26,95,9,24,21,23,25,26,41,10,87,52,12,23,27,40,16,49,52,25,19,32,310,36,21,60,57,29,24,32,14,37,30,122,35,58,27,50,6,37,35,41,86,69,36,29,79,26,53,27,11,268,11,177,40,51,320,23,196,66,93,91,44,13,18,220,6,37,18,28,23,120,100,9,22,43,37,19,67,95,40,31,88,79,58,43,26,108,16,46,232,2,96,63,41,127,15,78,33,46,25,135,81,230,643,22,25,150,74,110,7,9,28,7,59,36,32,143,37,24,67,29,17,18,46,119,51,9,22,35,24,23,30,14,48,23,56,20,18,54,28,39,33,36,20,45,94,46,73,13,4,10,105,23,70,75,99,220,22,20,42,12,161,170,17,21,23,60,24,32,19,22,28,51,55,7,108,68,117,43,39,54,33,32,42,97,19,120,231,105,25,24,50,44,17,94,29,14,77,43,31,43,15,80,100,27,81,82,54,68,124,15,44,93,56,90,53,164,88,4,24,23,24,96,11,178,11,156,20,14,46,57,9,24,40,49,207,38,74,23,27,36,7,42,149,18,116,42,20,80,26,153,395,55,3,3,89,28,107,99,18,78,9,23,28,47,18,56,7,17,20,32,31,56,48,2,45,80,219,60,88,61,53,61,148,41,169,41,35,121,92,68,21,27,65,32,208,48,8,41,35,49,52,49,358,50,12,18,97,29,53,9,40,13,125,15,29,91,12,18,277,27,42,359,46,36,72,44,48,213,36,18,93,82,37,23,30,10,111,27,29,29,127,15,13,19,22,108,49,32,69,12,11,23,57,69,33,31,23,81,51,25,15,126,4,39,33,16,49,24,33,14,16,59,72,6,63,56,122,5,54,91,77,270,3,26,36,6,54,122,54,215,8,53,27,48,11,22,60,19,19,49,22,62,41,55,30,40,31,24,63,13,21,12,56,99,66,33,74,129,21,37,26,67,10,23,31,13,301,27,19,50,77,28,144,41,52,435,58,16,40,18,91,43,87,221,44,64,20,28,18,26,23,7,59,48,67,22,137,36,79,160,36,23,58,18,12,37,83,24,27,41,17,218,36,52,53,28,79,93,54,293,48,30,100,62,20,15,68,94,60,11,19,14,59,38,55,35,61,5,10,5,112,15,9,79,43,80,28,31,13,69,95,78,15,13,9,37,87,27,51,33,9,58,110,36,24,48,16,13,44,70,10,41,56,19,14,113,12,3,16,34,15,18,13,50,109,90,26,10,54,56,57,42,123,84,42,44,46,13,147,46,60,110,46,57,147,19,24,73,60,23,84,10,36,30,19,25,97,86,21,37,25,35,27,17,35,37,36,19,49,24,59,37,31,13,47,82,71,23,87,20,19,16,102,35,78,82,8,78,20,24,59,17,86,33,82,65,78,46,10,10,88,37,85,74,91,17,101,70,107,36,37,33,44,6,48,19,22,86,119,13,79,18,9,16,29,169,13,46,24,45,43,33,51,45,30,133,75,130,27,103,11,23,25,10,226,21,78,8,20,38,367,78,24,101,35,42,133,61,4,16,111,20,132,109,69,241,46,31,30,75,75,72,50,52,35,48,75,64,18,50,31,247,25,47,74,54,81,177,281,34,21,11,13,70,22,28,71,23,29,14,40,28,36,16,33,96,8,70,19,44,90,31,53,31,45,42,33,95,27,28,83,52,38,26,19,37,127,71,20,4,26,75,48,177,14,418,1,38,23,16,64,147,60,29,51,53,62,79,75,83,4,62,124,179,84,23,18,20,37,98,25,32,85,67,43,28,210,28,45,31,56,36,38,33,43,46,22,63,65,9,109,31,68,7,112,125,20,52,13,14,27,50,8,97,20,14,69,53,130,71,200,19,29,21,11,17,119,158,27,29,2,41,33,43,148,28,44,22,17,50,126,191,111,16,50,51,21,83,6,143,93,28,4,14,56,32,49,124,8,11,6,154,30,15,16,143,99,11,59,25,43,28,100,8,177,52,142,27,102,6,47,38,40,77,53,22,54,55,123,25,39,51,15,23,31,67,65,98,125,33,113,96,111,16,100,49,93,35,8,25,12,95,16,41,74,81,53,129,67,29,18,62,27,17,13,59,78,55,23,79,28,20,39,64,41,152,28,13,50,5,18,72,103,15,24,164,14,14,52,126,302,26,50,82,52,65,32,5,155,35,35,27,35,29,44,10,56,51,23,122,28,53,35,25,20,21,275,30,58,18,51,67,112,31,6,88,12,40,43,183,14,11,121,39,36,10,25,32,58,32,64,8,15,39,161,51,45,84,48,174,16,60,71,98,39,49,81,141,61,5,99,14,84,55,14,65,11,15,14,170,33,36,144,66,15,7,21,80,71,35,87,25,69,90,34,88,116,50,46,76,44,36,87,39,30,23,9,75,24,43,71,89,259,14,82,20,86,22,17,59,41,200,29,65,57,126,58,46,64,20,130,42,69,46,121,2,10,16,91,6,8,23,31,299,48,74,36,20,29,45,85,104,49,41,66,89,38,12,19,25,60,372,12,70,29,11,9,32,72,181,27,84,39,60,106,92,15,44,13,72,24,52,63,13,34,44,9,45,37,60,216,170,207,140,25,95,128,3,6,37,18,57,45,31,68,37,16,20,27,7,91,59,6,136,28,57,44,32,72,15,30,19,49,167,18,33,75,66,53,25,49,67,13,12,38,111,253,31,39,48,35,42,33,72,72,122,69,49,92,138,4,49,35,29,34,63,120,31,21,6,138,17,149,26,48,58,60,43,86,108,41,26,13,29,45,103,46,20,27,251,93,41,34,28,209,105,18,6,130,26,37,127,130,19,53,8,60,51,86,126,5,12,26,24,23,333,110,23,18,46,117,10,6,65,36,7,27,27,71,36,43,32,21,103,37,5,119,29,29,64,76,47,8,22,25,77,54,46,51,34,13,61,124,90,28,72,150,29,59,28,70,16,76,2,69,36,19,36,73,9,67,46,43,22,45,68,133,9,20,28,11,15,7,90,41,75,92,48,31,35,69,11,113,86,32,39,153,45,128,84,60,134,85,38,47,32,116,119,18,45,8,45,43,41,15,18,51,4,84,57,87,59,3,129,16,17,26,19,122,8,31,93,55,16,67,44,2,95,26,20,10,46,10,48,1,66,37,15,18,26,27,172,26,37,38,44,115,43,416,26,33,87,54,81,35,234,24,36,15,76,35,45,17,82,61,46,31,30,35,52,28,98,37,17,74,24,179,38,60,9,91,6,10,75,80,88,18,4,152,32,13,310,95,28,34,18,26,92,31,61,11,15,54,126,29,236,67,33,99,16,33,144,85,22,14,26,63,50,46,17,11,294,38,44,30,80,78,12,12,42,65,39,20,49,220,31,94,72,18,27,17,107,211,158,47,109,9,67,9,39,79,117,18,43,73,95,25,25,10,37,43,196,27,46,25,16,18,81,143,18,8,70,14,82,25,42,149,15,18,26,65,68,56,40,62,87,19,160,18,52,100,53,19,21,3,25,79,50,67,127,74,15,31,15,37,52,65,49,68,105,24,62,24,183,37,9,24,24,29,19,6,50,26,72,278,54,16,37,13,33,15,33,28,8,145,93,96,69,49,46,70,137,71,63,4,23,27,202,27,93,3,47,10,70,40,15,15,36,41,55,44,78,44,74,7,32,104,59,41,18,16,19,10,51,19,177,26,11,52,32,69,25,10,7,4,68,196,28,12,43,125,56,56,30,19,33,20,13,182,43,12,6,104,15,15,23,17,30,53,13,50,12,9,74,44,115,36,20,78,15,92,24,74,18,48,30,31,84,10,61,61,23,46,68,23,21,38,31,11,43,16,10,102,111,127,26,258,18,100,19,15,13,28,57,225,315,31,76,136,14,22,14,2,98,18,10,74,34,13,41,39,66,13,62,15,25,70,46,10,54,35,73,6,20,38,168,133,71,26,33,59,33,117,62,5,171,41,19,34,13,92,86,40,97,75,47,13,41,17,67,65,203,66,38,35,47,19,6,41,37,83,19,464,87,7,77,50,17,30,23,23,272,68,114,57,8,18,52,70,81,3,17,20,20,71,144,6,16,71,65,43,245,88,55,43,28,36,61,44,96,134,34,10,46,993,16,13,77,17,37,184,13,64,36,40,85,12,255,21,29,130,54,12,85,132,28,67,238,16,64,1,180,13,24,63,25,56,10,11,36,63,170,84,35,27,8,46,14,29,61,23,11,54,147,72,25,236,80,10,193,17,181,16,46,18,28,13,25,36,25,52,102,146,157,43,32,23,60,218,71,24,32,90,161,61,19,20,25,19,66,39,25,24,29,29,24,22,41,30,6,58,33,140,45,33,61,19,46,27,37,52,30,56,26,130,16,38,34,27,32,31,60,32,15,12,59,55,11,6,31,3,41,12,82,32,8,32,6,18,40,23,15,14,289,24,228,38,39,16,77,19,59,47,43,44,11,66,97,23,85,15,153,25,41,59,74,73,12,54,23,6,60,12,36,37,92,14,61,49,63,72,20,12,39,17,19,43,60,39,31,11,14,29,34,39,30,76,45,54,39,56,166,155,53,21,27,9,10,59,5,41,88,69,84,68,30,76,7,54,27,42,52,12,50,6,154,85,15,6,21,127,137,59,16,14,69,1255,63,157,55,25,55,196,5,48,116,21,258,75,7,33,7,37,67,41,39,124,32,16,13,40,39,15,14,131,20,10,9,21,9,33,68,21,161,324,29,68,135,7,53,28,16,416,22,30,9,8,25,34,22,58,34,23,22,8,106,89,18,24,34,24,14,164,12,7,48,75,92,45,72,25,37,55,42,92,41,179,28,90,50,52,119,34,93,37,28,17,33,38,79,96,103,11,84,123,14,17,20,187,11,33,31,60,139,114,93,146,53,7,68,27,40,39,51,158,56,52,53,55,3,50,72,22,53,53,41,54,90,563,394,64,24,67,81,115,83,18,23,114,115,61,20,17,352,120,28,36,65,35,47,29,23,40,19,184,16,117,147,71,37,110,20,80,17,255,14,28,87,32,133,37,52,30,14,50,33,234,95,12,55,23,51,4,99,224,27,15,55,31,72,8,12,17,190,160,190,73,14,25,32,42,651,26,14,29,78,61,15,73,8,35,62,27,11,22,57,8,17,76,76,62,13,94,128,31,39,54,37,56,21,27,17,90,88,44,108,44,351,34,51,30,6,57,30,26,78,14,18,97,26,44,121,24,16,99,16,71,94,118,75,2,5,35,108,43,73,148,24,44,4,36,29,15,37,24,27,8,31,9,16,51,234,36,46,12,32,12,42,75,39,48,33,44,247,13,21,15,68,16,31,39,44,63,5,140,64,2,36,115,46,12,43,23,4,44,18,39,59,4,5,15,14,14,422,35,32,13,6,14,22,33,35,181,45,47,8,24,179,40,48,183,19,6,64,167,101,41,14,17,118,10,28,44,103,34,95,61,50,27,19,20,263,80,32,14,115,53,18,9,13,65,55,93,19,85,232,40,45,181,42,128,12,19,13,9,38,56,7,20,13,73,22,5,77,64,58,159,340,55,60,68,64,114,43,34,107,186,32,42,30,11,52,16,18,29,6,135,48,20,19,43,43,29,208,33,91,21,32,23,31,23,124,945,69,43,9,70,63,235,39,23,38,7,9,33,48,27,105,49,193,223,36,59,79,56,6,33,25,24,162,24,131,28,38,68,107,51,59,63,75,39,25,15,191,23,63,240,37,34,39,73,146,45,184,109,71,20,145,39,37,20,25,57,78,8,29,26,81,69,31,50,26,5,4,26,8,161,49,72,70,37,14,110,38,26,45,74,26,64,100,37,36,64,65,45,75,93,14,50,58,81,30,32,19,8,75,43,168,18,89,49,25,36,53,5,115,35,92,56,12,37,11,53,21,11,26,4,39,56,8,43,5,126,14,24,13,25,66,80,35,40,68,64,77,119,244,75,31,41,40,5,128,86,67,92,107,108,44,27,79,86,23,38,4,7,103,27,49,36,17,28,26,49,23,25,20,119,39,102,16,36,58,39,22,37,46,8,22,20,41,16,170,62,14,28,56,28,72,31,9,10,12,17,20,154,62,10,147,76,42,10,24,99,4,24,14,77,60,112,13,159,66,31,54,19,29,140,20,17,38,54,108,40,6,50,62,69,122,38,84,28,59,84,8,43,31,36,101,57,23,175,4,59,65,15,18,27,100,46,12,11,29,142,47,84,82,79,61,218,79,76,22,23,47,12,139,21,167,42,152,56,119,122,142,33,76,138,41,21,26,55,132,157,162,30,172,42,11,21,22,29,24,58,35,17,60,58,18,41,63,67,53,39,65,33,157,45,35,19,97,123,20,15,33,21,37,5,87,22,150,58,149,17,16,15,54,32,62,15,157,45,167,43,166,147,171,72,13,36,55,22,26,12,38,26,53,41,15,24,28,23,64,33,35,59,77,40,44,31,31,84,41,17,15,159,47,51,13,28,8,87,109,6,106,153,46,4,21,52,102,43,28,119,69,26,9,33,14,48,48,185,162,169,15,40,66,135,26,92,60,53,60,93,57,47,61,21,30,125,29,50,52,4,42,58,58,80,33,62,62,26,43,6,164,50,8,40,48,42,15,22,29,6,11,119,77,32,56,15,14,176,50,37,6,22,23,31,16,10,11,124,42,17,57,87,33,74,12,6,37,19,42,41,27,19,190,78,78,40,29,13,22,21,17,38,22,30,9,192,63,130,9,64,65,20,25,170,160,22,116,32,36,22,36,37,64,35,46,29,42,26,35,10,13,20,66,55,26,37,20,16,48,22,21,9,51,3,37,47,126,15,139,6,38,11,27,145,63,31,112,59,24,17,109,50,23,77,5,54,15,26,10,35,77,78,7,47,13,13,134,127,14,59,40,42,59,143,24,56,13,15,56,28,37,57,37,8,35,122,55,28,10,46,7,5,28,162,69,25,45,9,25,56,19,41,66,40,20,74,147,75,79,179,24,37,131,32,38,23,44,19,35,12,61,43,94,103,21,23,17,27,21,56,68,11,42,135,82,50,27,37,19,15,166,26,36,78,106,113,135,33,62,60,68,13,70,67,16,45,93,34,142,162,132,21,64,31,50,16,26,45,26,63,18,83,106,103,44,166,11,134,36,25,22,20,71,160,11,50,16,49,47,18,15,30,52,89,176,70,88,20,55,37,157,54,26,36,12,9,135,8,131,30,114,27,8,44,109,145,58,69,47,12,85,46,49,135,86,39,44,69,49,38,170,20,25,33,21,50,61,26,31,88,109,55,93,69,32,20,26,14,142,92,45,37,41,23,11,10,174,18,9,31,34,83,128,79,199,6,68,18,36,116,54,70,38,14,89,32,23,63,28,7,34,66,147,81,42,105,49,55,43,68,24,47,112,36,60,44,50,76,20,38,58,6,13,36,44,13,9,17,101,52,11,12,50,36,15,65,21,18,24,35,36,57,109,99,9,93,166,35,21,30,16,146,18,131,45,23,132,19,43,67,38,17,19,22,40,36,137,82,36,115,64,34,51,65,34,21,48,34,127,31,27,19,3,191,21,31,20,114,23,37,35,52,29,19,28,22,139,7,22,21,36,47,121,54,21,34,18,39,80,118,81,83,42,19,27,87,53,54,97,14,34,8,73,26,87,68,121,120,4,48,173,64,17,8,11,25,83,25,30,40,20,31,9,34,139,103,13,23,150,11,24,108,94,16,126,83,68,148,75,94,51,59,97,60,35,49,51,167,14,39,38,14,384,86,34,97,17,46,31,34,19,102,20,23,42,17,183,39,26,33,91,36,12,151,10,28,12,10,22,125,20,62,27,37,57,54,8,55,41,73,109,93,115,87,23,76,78,111,54,35,42,17,85,60,7,86,18,35,51,115,174,40,14,76,36,7,38,139,39,87,33,43,66,31,66,35,2,54,37,162,170,20,56,47,146,82,113,181,35,29,33,40,32,151,12,26,30,68,149,18,9,25,117,101,30,34,36,55,18,35,15,169,19,22,15,80,32,24,77,30,16,89,4,26,45,28,47,44,10,28,10,23,47,17,69,3,33,18,48,44,43,62,40,19,39,14,35,18,54,60,48,22,82,28,135,82,51,90,33,12,19,86,12,26,111,4,10,62,27,53,78,62,63,38,22,139,194,61,70,50,54,15,56,74,19,45,37,63,42,33,79,5,108,11,34,80,16,148,89,49,44,26,46,128,18,21,83,59,55,164,6,27,41,20,11,60,47,57,48,41,42,12,42,177,136,55,10,14,148,14,66,14,31,167,86,34,44,55,65,49,52,115,8,31,10,9,91,34,121,32,39,32,59,44,10,146,21,104,73,10,96,57,67,6,37,23,46,62,28,23,55,26,74,33,46,45,44,60,144,90,13,57,76,29,121,92,154,35,67,19,6,92,64,67,25,36,156,12,25,29,31,63,12,21,9,24,36,42,76,29,11,16,33,56,79,65,28,26,19,134,56,139,81,12,34,34,108,25,14,220,68,13,16,61,52,32,9,5,26,20,71,37,41,94,11,8,20,35,66,58,89,188,156,160,50,27,4,12,61,4,13,88,104,26,198,67,35,39,34,7,23,13,28,54,19,24,83,95,30,60,90,87,24,12,51,22,15,25,48,59,49,16,5,43,53,77,104,122,92,37,49,99,234,12,69,107,80,7,114,22,593,3,8,69,29,20,36,70,94,6,40,155,12,163,29,38,60,26,20,32,25,68,45,64,31,48,15,140,44,32,116,125,23,24,12,32,158,48,24,48,101,89,34,28,77,145,32,12,67,28,40,33,21,120,58,70,59,13,161,41,58,64,19,128,78,112,52,51,44,22,25,23,56,35,143,15,27,145,16,12,80,66,14,36,125,22,36,18,33,3,148,55,38,161,40,44,68,22,33,22,99,28,36,91,107,72,123,28,156,22,14,13,88,155,8,32,32,59,98,15,207,21,8,430,25,101,142,59,2,6,23,31,286,27,36,20,28,53,29,29,20,30,50,9,189,19,43,85,9,22,17,71,10,62,83,23,150,16,90,34,63,26,116,21,87,61,70,107,222,13,176,93,35,29,32,38,108,26,17,14,32,10,23,256,384,31,43,24,16,51,24,60,32,32,60,38,27,48,34,26,49,59,32,29,31,57,21,102,34,95,19,75,64,18,21,20,44,52,15,15,103,43,8,66,46,116,160,41,108,32,7,49,40,29,48,24,27,14,30,73,12,11,73,39,59,180,11,17,33,19,83,173,14,173,77,55,110,6,10,33,4,68,41,85,46,161,27,103,160,44,53,48,134,26,8,42,21,40,28,10,52,79,64,38,158,67,124,16,61,52,19,71,24,40,14,33,94,13,17,122,48,32,234,68,94,92,78,29,18,155,130,45,72,16,92,22,41,72,118,33,16,19,41,78,30,37,129,63,68,27,11,28,52,46,3,49,61,31,111,106,140,61,25,80,31,16,77,227,120,24,22,126,23,22,43,135,59,18,31,80,21,26,39,17,143,55,37,60,20,41,77,46,94,17,18,162,8,12,22,15,19,100,26,7,14,42,26,27,21,28,156,33,57,4,30,26,80,95,10,27,40,17,61,55,3,192,35,83,38,47,226,8,20,149,71,85,16,17,116,35,656,24,9,1342,16,25,33,32,23,11,83,70,98,26,15,158,100,50,7,189,66,16,77,95,27,31,36,154,114,10,18,113,57,63,50,24,75,66,78,28,60,40,31,12,6,40,30,81,14,52,33,46,11,23,40,5,5,18,36,80,78,59,91,43,16,132,15,41,8,48,7,25,12,7,44,74,41,17,21,17,24,69,23,46,60,210,67,79,41,122,33,39,42,5,13,53,92,23,38,45,104,45,127,52,120,24,21,43,23,27,97,124,31,72,110,15,51,122,14,73,50,48,41,22,226,28,43,27,126,42,37,57,85,13,41,41,88,24,45,52,7,57,147,53,10,35,31,33,61,69,38,127,38,40,90,68,243,15,54,9,95,20,465,4,13,95,39,41,67,74,60,69,35,38,18,30,87,11,186,80,39,95,44,116,57,108,23,34,22,57,70,42,27,155,15,52,156,26,114,95,30,54,45,200,66,263,43,31,25,5,55,24,120,153,55,165,53,5,41,42,43,68,41,10,120,23,32,10,31,30,26,33,32,93,61,11,49,51,5,33,38,92,25,56,28,34,51,27,75,67,62,27,22,145,31,26,54,22,28,27,53,54,61,8,62,24,17,51,21,36,113,48,43,3,173,34,54,17,2,35,18,36,47,57,20,132,55,56,24,54,113,58,213,48,10,74,17,21,64,65,142,54,42,76,23,129,174,30,67,65,24,73,60,32,11,10,22,4,81,36,9,58,16,8,109,40,34,68,69,42,95,46,156,13,51,12,85,7,3,27,165,21,111,26,39,55,37,46,21,10,38,92,4,36,84,235,12,52,38,21,91,23,43,49,32,38,43,41,6,17,112,2,44,1,41,22,81,62,76,26,14,42,64,32,67,31,47,34,27,61,6,237,37,102,6,37,19,69,87,223,27,101,8,11,57,3,89,41,18,36,46,22,29,75,17,25,31,119,67,44,18,152,23,15,58,12,108,30,26,5,67,66,125,80,53,33,14,17,32,70,117,55,37,10,48,52,177,140,31,45,12,58,33,140,46,36,39,13,20,298,149,33,104,48,36,24,68,12,45,18,27,46,74,12,27,87,49,59,147,39,61,46,79,22,27,32,17,66,195,49,67,51,36,42,97,49,83,25,60,55,14,39,10,18,35,9,31,66,12,42,16,78,372,13,16,86,20,5,96,3,40,8,46,44,98,15,137,289,63,7,14,44,22,15,73,74,24,33,31,40,52,26,37,27,90,50,38,60,98,32,133,11,15,20,116,82,5,40,270,25,11,22,23,20,25,19,34,30,52,41,578,40,182,16,52,95,203,88,51,31,7,39,308,52,30,24,15,122,49,49,6,21,98,186,60,104,84,35,41,77,109,33,3,13,185,24,52,2,30,74,51,202,39,12,37,68,131,85,55,37,15,42,104,36,54,33,40,9,21,16,22,143,41,53,71,56,144,42,92,108,24,144,40,356,19,155,31,54,90,54,49,20,43,214,79,42,102,26,13,8,3,114,25,41,13,20,23,30,74,6,21,60,49,55,18,37,676,18,46,41,68,23,25,77,40,13,39,200,55,50,52,19,65,235,29,30,23,75,24,57,24,91,54,34,101,61,10,125,26,11,20,84,139,34,17,118,84,22,83,79,8,77,31,100,61,15,25,11,60,31,32,40,37,52,25,16,36,23,9,64,57,47,70,44,11,85,37,53,55,68,9,38,17,329,15,53,118,55,41,34,47,53,81,39,36,61,66,84,17,48,79,36,30,26,207,29,63,29,36,26,98,49,24,69,47,88,32,17,21,16,46,93,37,80,45,62,93,15,67,72,7,30,62,15,72,39,32,41,421,20,32,22,23,14,24,121,21,126,32,14,13,88,27,13,44,11,39,184,87,16,50,111,155,39,31,134,119,27,24,32,232,17,38,26,47,232,225,17,35,102,36,39,26,35,297,41,28,45,26,48,58,27,41,227,23,60,11,29,22,44,58,85,51,57,15,53,7,21,193,136,3,12,63,95,19,38,31,76,48,9,7,25,100,22,8,75,75,9,142,35,102,134,11,61,25,61,31,478,80,57,144,86,37,18,43,39,68,6,43,14,40,74,193,71,30,20,27,74,19,41,29,14,27,68,56,73,144,21,30,13,76,20,21,25,20,21,119,10,47,20,45,32,65,31,69,10,78,17,57,28,15,32,42,74,40,28,37,42,55,40,60,78,93,29,64,21,45,39,102,6,67,21,40,15,23,43,133,27,40,17,111,155,80,32,77,28,67,36,59,51,30,81,21,57,11,46,31,29,54,101,66,119,67,51,161,41,31,52,37,4,23,15,135,21,44,9,8,31,9,6,54,105,31,52,7,75,113,10,128,92,37,14,138,7,22,31,49,120,9,34,45,70,27,9,43,9,93,26,76,57,86,27,4,50,43,25,34,149,76,29,69,59,2,55,9,57,36,43,56,79,261,9,73,44,53,9,13,64,36,84,60,5,137,79,14,33,10,68,47,78,37,42,47,14,21,24,46,13,30,72,40,28,35,137,14,15,112,76,44,99,16,67,33,25,69,36,173,19,20,31,137,40,27,52,64,95,26,45,136,21,14,37,57,43,25,33,55,30,58,132,65,25,7,54,118,39,111,57,28,15,23,26,50,99,33,50,22,2,77,9,18,34,58,21,56,144,13,287,62,37,3,109,17,76,54,77,31,58,41,293,25,45,36,59,264,28,53,7,90,122,105,31,45,51,31,29,135,29,48,36,36,26,25,106,31,35,70,24,34,163,16,20,30,14,91,23,110,87,3,77,7,22,34,8,20,9,31,21,25,64,31,72,149,19,3,76,35,18,22,14,11,32,79,60,57,8,25,147,15,50,79,29,48,49,32,49,107,49,18,34,40,124,56,80,78,31,22,68,23,48,44,26,31,25,86,61,83,53,20,69,51,58,81,17,42,64,4,32,26,52,90,83,14,17,4,89,47,18,60,40,21,14,43,63,52,52,28,60,63,64,42,95,100,40,33,21,88,43,24,124,7,100,109,101,67,33,45,65,62,104,57,83,15,58,11,215,18,37,59,20,24,29,21,70,67,108,43,7,21,82,15,58,103,29,44,45,112,45,102,167,27,21,24,18,35,57,37,133,57,30,89,32,16,40,54,33,469,140,44,398,57,70,35,164,147,15,33,98,44,96,51,55,48,41,19,313,16,27,35,52,21,246,60,16,91,25,39,8,23,29,80,48,36,29,32,76,10,48,57,71,52,5,46,88,27,27,16,54,59,75,14,72,49,106,133,59,13,7,26,165,34,44,82,55,13,64,110,16,87,159,18,8,15,38,10,282,94,31,46,64,85,49,18,58,8,9,73,48,46,67,10,50,78,69,35,12,71,42,16,34,12,15,43,17,65,17,124,21,6,5,14,94,26,29,4,18,59,58,164,66,86,76,112,5,10,24,13,88,33,75,16,40,17,58,98,36,16,24,76,14,135,4,140,24,42,45,124,7,24,21,19,37,33,162,70,3,92,15,39,14,13,10,61,7,25,59,15,206,63,91,50,30,8,84,25,5,43,102,85,46,15,50,51,11,71,19,38,34,34,57,70,82,1,73,77,55,43,63,70,125,29,67,224,45,16,22,43,29,63,95,23,42,151,80,9,59,60,94,42,103,33,60,149,20,117,58,9,136,45,64,82,66,99,88,69,48,129,11,22,27,31,25,54,8,50,11,22,72,31,199,65,72,34,62,490,10,8,69,37,63,57,21,62,13,12,43,154,9,52,21,41,60,11,202,50,78,150,46,87,195,20,74,52,101,29,27,45,61,23,54,59,10,20,111,49,12,109,69,10,89,42,341,51,140,63,33,40,47,131,24,28,528,12,48,35,77,71,104,56,178,15,14,71,76,134,155,64,28,35,9,127,59,70,26,125,44,39,60,10,20,13,32,47,59,14,35,126,12,21,136,11,98,11,168,7,103,32,84,15,30,69,73,6,34,13,22,21,91,92,40,8,81,24,83,49,106,22,6,70,13,20,16,65,55,28,65,10,43,164,9,134,57,54,38,43,20,66,83,9,67,50,5,50,115,5,179,5,71,21,87,11,49,89,12,27,40,134,42,20,30,35,17,82,63,31,9,46,23,24,32,9,169,5,38,51,48,20,98,96,13,24,104,31,40,37,15,5,175,135,5,175,32,148,42,6,27,20,5,146,74,66,10,48,147,21,41,66,33,80,121,25,139,13,46,45,70,12,87,14,30,153,44,50,20,69,104,20,48,25,23,80,14,51,185,123,43,71,67,24,94,63,31,33,38,61,34,137,15,25,22,124,49,10,46,60,38,64,45,21,41,109,20,83,18,112,51,13,22,6,18,48,59,68,9,76,51,27,52,31,75,21,17,131,86,40,59,34,116,7,151,22,70,29,35,84,34,17,47,84,93,6,28,119,172,15,23,17,25,100,20,131,42,87,29,4,17,10,8,129,31,16,84,40,76,37,62,13,33,16,69,11,1,110,42,4,46,65,16,50,30,44,91,151,12,92,46,18,127,56,51,262,38,24,48,35,62,124,35,22,43,88,47,28,50,93,94,95,8,78,77,84,385,30,115,12,3,8,85,58,17,42,32,67,50,32,57,22,28,9,44,27,27,97,1,8,22,194,48,32,121,78,60,42,47,245,25,63,126,9,31,49,18,89,56,75,35,136,84,27,71,36,41,11,75,26,136,36,37,54,11,69,34,18,25,37,31,64,18,176,52,56,22,45,74,41,51,9,24,67,30,58,35,31,62,18,76,60,41,135,58,41,22,90,20,53,10,51,55,54,232,63,108,33,56,8,68,252,92,156,16,62,170,98,72,104,26,87,87,98,44,75,27,25,31,36,165,19,36,157,44,73,8,49,46,22,53,120,51,66,28,59,218,27,73,78,126,34,47,17,179,42,14,19,152,11,94,154,14,36,25,23,16,29,71,23,53,122,28,45,66,73,10,3,34,20,21,49,31,10,159,20,24,21,35,120,57,13,121,20,15,53,118,15,4,17,55,66,45,38,93,145,41,117,123,163,114,128,45,41,22,132,7,34,10,63,30,25,14,28,30,56,16,71,23,63,166,20,62,38,13,51,84,51,28,12,38,5,49,51,105,35,36,19,38,220,24,27,53,327,49,36,53,67,17,41,62,24,66,11,157,9,15,11,42,12,2,7,22,44,30,19,161,19,38,25,49,62,47,13,15,36,38,150,111,26,31,30,68,60,72,178,130,65,30,41,5,79,6,91,83,75,73,44,72,34,28,123,61,26,77,43,43,33,21,36,70,40,11,58,237,19,44,73,50,110,42,21,51,74,178,20,93,11,44,72,4,20,27,73,74,11,175,49,167,34,16,239,41,28,46,42,81,17,54,58,40,17,63,5,77,17,132,113,33,730,148,97,44,17,7,106,16,7,84,12,43,57,74,148,10,39,75,143,157,90,4,17,11,42,24,79,79,117,123,68,22,35,32,34,22,43,29,59,48,70,138,170,14,41,51,31,25,144,39,27,36,15,156,20,41,147,21,141,21,109,19,77,24,163,49,23,17,55,52,31,24,13,30,15,69,81,21,154,141,79,22,51,35,5,50,46,68,28,207,26,39,51,38,3,6,88,38,38,35,52,92,34,38,12,75,30,38,76,44,54,6,5,29,52,17,1,8,162,31,114,28,111,99,55,73,32,41,43,89,31,57,133,50,16,15,26,25,109,13,169,56,37,105,128,39,46,95,5,54,64,50,47,136,18,133,138,33,84,49,30,93,60,51,79,4,20,35,87,47,74,28,11,38,31,136,137,194,30,23,47,110,26,83,208,17,18,7,42,50,26,91,31,10,61,113,148,48,55,145,101,248,11,78,22,27,83,18,32,72,54,76,16,37,11,109,59,61,10,44,13,105,12,59,19,66,74,27,88,67,25,8,19,129,64,32,5,24,73,16,29,92,127,34,4,327,16,39,6,148,141,13,64,170,105,83,66,20,46,18,122,118,190,35,47,68,55,30,35,36,45,79,33,23,75,56,97,47,29,33,23,37,221,13,25,36,82,53,45,38,45,22,31,30,99,87,65,114,118,37,29,9,141,79,77,83,52,19,40,31,76,59,67,9,19,88,12,20,101,77,48,27,46,6,111,12,66,34,31,11,80,61,24,10,50,87,105,8,188,22,26,79,4,33,31,65,134,45,22,208,31,29,89,27,51,90,13,63,148,28,305,32,35,31,5,50,18,2,115,72,23,15,9,7,21,62,71,61,51,42,116,133,25,134,58,74,11,27,76,72,7,23,4,56,123,4,92,42,19,8,179,180,153,61,13,29,40,78,128,42,10,4,73,34,84,226,53,100,24,86,28,83,60,22,460,17,48,141,22,74,26,108,33,225,83,16,17,3,275,31,56,10,115,64,105,25,23,56,12,27,77,75,50,50,86,43,20,22,11,12,10,15,99,65,106,79,15,22,68,28,6,41,92,43,31,26,15,23,36,18,48,18,76,70,69,46,56,55,60,38,49,28,12,207,14,52,86,20,66,43,37,22,75,33,41,16,14,69,49,10,137,113,47,126,56,6,5,48,11,110,100,39,10,41,50,67,23,55,215,100,26,37,20,25,54,83,33,51,15,38,19,73,66,3,48,29,33,24,10,57,10,35,26,57,27,103,28,40,76,52,10,84,7,37,31,23,87,4,71,51,62,128,15,234,60,165,13,6,21,25,89,127,179,63,31,40,109,21,38,20,168,18,29,80,23,37,13,84,47,43,26,31,10,45,56,55,103,32,74,70,10,46,26,142,44,32,53,54,21,76,44,35,24,95,42,33,25,22,106,1195,31,79,37,18,37,63,75,8,29,52,17,34,52,3,21,30,6,24,21,6,74,35,105,28,9,18,169,126,33,41,23,17,67,101,29,79,66,80,28,103,55,14,21,106,37,100,105,77,7,8,18,53,32,68,31,90,30,112,88,17,19,23,31,115,150,64,11,16,18,125,38,85,57,12,31,15,31,6,71,89,10,20,20,36,97,36,76,13,17,18,31,102,11,34,17,60,67,27,32,30,18,26,108,147,39,1,53,18,12,82,57,12,83,20,39,50,12,14,7,110,127,16,39,17,86,16,33,23,24,37,32,102,63,124,30,82,70,44,17,127,108,17,29,102,51,22,15,101,117,103,13,31,160,20,141,109,5,63,75,12,22,64,81,4,44,37,38,45,96,36,25,148,49,54,35,22,15,34,18,6,64,35,65,53,109,62,37,39,36,56,132,41,26,14,85,35,37,90,12,157,39,10,9,21,16,57,30,43,14,20,94,62,24,33,49,37,89,65,88,101,69,25,37,18,18,218,101,29,98,44,80,74,108,23,54,23,111,44,40,63,58,33,3,18,18,36,178,51,145,63,71,59,66,58,38,43,49,53,51,106,48,37,14,50,23,54,128,30,34,16,21,67,18,269,129,28,58,132,102,40,111,3,57,78,6,43,147,17,18,80,14,54,28,25,23,18,30,43,28,30,13,37,68,20,22,38,24,7,30,10,155,142,154,24,23,25,132,7,61,27,31,47,23,54,136,41,17,51,128,23,23,12,18,7,74,125,144,21,10,49,26,72,39,4,166,42,41,40,82,52,38,51,27,27,14,73,36,60,25,39,29,48,64,72,10,16,26,58,61,58,21,110,68,30,39,31,157,8,158,22,117,24,15,124,22,48,157,16,37,19,17,14,181,28,147,148,50,73,71,20,10,139,57,39,56,8,161,176,57,30,84,98,16,40,34,55,65,22,22,28,9,25,106,147,57,20,76,14,4,52,74,26,147,11,21,80,40,14,11,45,36,10,43,63,39,23,43,112,127,134,104,64,103,87,45,19,32,167,19,46,94,19,25,105,12,2,71,119,39,40,35,40,9,29,14,33,9,56,37,106,77,83,110,46,135,41,39,39,48,73,56,9,35,17,66,123,3,22,9,54,20,24,37,20,55,62,34,81,34,28,31,70,36,4,31,5,56,18,64,136,37,34,27,45,43,49,17,116,35,10,75,32,17,14,20,144,35,58,71,11,17,58,102,27,37,100,47,79,31,78,67,22,28,182,44,8,37,57,48,145,4,24,27,27,3,164,71,42,22,23,68,42,6,9,102,91,64,97,112,42,125,103,100,158,83,16,48,3,25,61,47,98,20,64,23,12,112,9,24,48,22,7,28,72,26,43,96,69,70,23,56,9,25,19,14,26,73,22,29,42,23,22,51,8,104,39,30,25,24,54,113,28,35,31,39,10,176,10,181,30,51,13,127,39,180,46,27,68,49,144,31,4,21,76,43,23,17,11,41,114,10,15,99,43,75,60,41,55,88,25,63,66,70,136,16,11,15,111,96,5,130,29,11,47,135,79,41,78,20,16,37,15,161,32,27,78,92,16,48,29,37,39,52,165,29,130,31,15,39,7,166,45,59,124,20,20,155,78,21,31,51,23,32,4,35,94,26,162,19,23,28,74,23,33,37,44,21,21,51,27,72,102,11,138,26,34,45,90,99,24,81,87,24,170,36,94,13,59,27,25,75,46,29,37,53,37,9,2,12,79,72,24,23,52,60,49,62,31,51,35,34,99,113,19,21,52,150,153,37,30,88,24,48,34,132,69,60,29,27,153,112,49,3,71,25,17,49,35,46,20,32,64,77,19,119,100,90,21,36,40,25,91,18,25,28,37,85,69,79,50,32,73,30,25,39,36,18,24,13,13,34,56,83,152,9,6,33,44,15,69,17,23,15,122,31,18,27,29,29,155,16,7,69,21,145,14,65,85,47,37,75,113,14,99,35,104,38,22,59,65,145,33,37,156,172,55,29,8,32,21,60,8,91,37,40,37,49,142,65,34,12,155,26,140,118,15,37,80,114,13,102,111,85,89,100,39,36,54,20,25,23,85,109,18,52,26,80,152,168,138,130,17,56,36,28,40,3,12,21,78,39,20,42,16,48,29,102,85,20,56,31,32,70,81,82,28,41,49,161,59,145,91,59,48,116,111,36,46,34,19,17,15,34,152,36,25,37,13,61,114,146,49,27,63,76,177,21,24,73,15,93,65,194,74,34,64,43,21,46,43,25,11,36,47,80,14,125,156,110,39,14,10,11,54,26,84,96,22,18,23,43,76,44,106,12,49,19,6,73,118,15,31,43,120,44,1,22,79,26,17,68,35,101,60,25,51,41,51,18,62,89,64,29,206,159,5,119,73,71,9,18,6,4,40,56,30,22,23,135,72,12,60,13,65,27,32,69,76,28,35,57,59,78,73,11,72,18,21,45,54,55,28,21,65,107,95,35,56,44,3,85,55,30,74,23,137,37,26,25,54,23,87,19,12,43,65,53,80,27,67,11,4,24,18,160,14,20,58,25,81,12,20,40,116,43,87,80,24,20,59,37,71,28,43,46,63,20,34,75,94,9,122,10,28,36,31,57,22,64,18,26,115,30,63,73,56,39,55,23,159,96,50,30,126,40,45,29,110,21,43,11,65,11,177,81,74,44,82,146,51,32,60,53,70,53,22,6,134,50,11,5,28,73,17,14,20,53,19,15,25,14,112,104,156,10,155,27,25,33,6,40,45,40,56,54,91,81,31,104,131,166,55,23,42,47,81,9,31,33,89,79,41,85,66,30,16,20,96,23,65,30,2,78,150,15,52,77,53,56,48,82,30,23,41,10,130,60,59,25,108,34,70,47,17,43,12,190,88,96,73,44,21,2,12,28,102,19,14,104,51,40,17,67,58,114,44,161,8,8,84,51,36,70,166,65,10,62,5,17,138,34,5,14,82,4,10,45,54,28,78,45,149,54,35,38,85,74,25,79,154,66,95,77,66,73,3,86,9,82,64,57,18,76,63,75,256,35,14,18,95,39,31,47,16,13,33,31,39,36,40,42,39,9,25,32,28,75,36,25,2,2,91,150,143,14,208,7,6,36,113,24,11,24,38,23,34,23,10,28,47,70,9,57,35,109,18,94,101,28,18,30,13,158,15,11,30,9,55,56,57,120,40,10,30,102,39,50,45,137,35,46,36,56,97,32,32,35,150,16,179,39,90,129,25,15,96,72,300,11,21,49,29,70,101,93,100,117,94,10,51,63,21,85,34,82,52,57,220,38,84,34,27,26,247,25,87,3,33,16,54,51,63,50,94,4,11,50,23,29,98,10,79,12,60,67,33,61,75,19,339,122,31,22,6,9,7,242,57,68,46,127,28,41,18,87,378,39,20,33,45,8,12,65,36,28,80,33,55,80,37,97,71,21,15,60,59,63,42,15,21,22,58,47,490,31,38,52,11,19,30,12,41,16,107,7,34,16,13,43,85,9,27,9,29,58,45,19,297,91,74,26,69,14,14,24,21,80,102,26,136,12,9,166,7,42,151,58,30,136,80,113,140,42,32,53,5,57,144,37,52,122,83,24,144,54,47,27,43,41,19,22,65,49,126,23,17,88,8,91,4,56,51,65,51,114,12,81,56,34,209,85,51,10,27,25,49,78,20,165,74,35,108,24,12,16,50,43,33,31,16,10,68,76,53,30,16,62,17,15,31,27,69,179,11,74,29,9,85,48,10,10,216,7,58,121,24,12,110,13,13,25,24,53,149,328,29,4,24,31,8,51,51,7,32,9,24,177,30,39,19,38,3,69,206,19,33,26,9,42,18,18,56,62,76,37,87,68,29,19,62,47,113,29,80,75,34,53,16,47,57,76,70,336,48,24,31,81,29,4,48,31,79,23,11,77,97,84,22,10,15,34,41,45,55,21,37,13,605,28,631,94,42,59,49,36,79,140,27,24,5,136,89,12,75,100,28,13,51,37,74,124,23,2,36,47,31,138,23,44,9,36,28,10,52,26,53,83,68,69,55,146,91,50,139,75,80,19,21,12,12,9,47,31,40,43,46,13,41,100,52,105,78,24,9,61,59,22,19,19,11,31,43,65,35,89,4,15,148,124,27,35,29,53,18,84,79,47,60,93,26,41,76,81,75,38,62,36,288,22,12,47,29,39,28,26,33,52,22,50,20,40,131,15,42,11,12,3,38,130,32,40,64,35,1,16,48,95,62,106,53,32,63,49,71,33,10,547,85,49,206,179,36,16,128,22,55,35,33,26,172,47,23,72,65,29,62,9,15,53,137,34,76,133,65,19,61,56,22,35,65,84,44,16,22,24,6,39,15,122,22,29,32,19,59,58,17,19,13,89,68,11,47,18,31,50,75,22,38,48,32,18,22,19,183,180,3,24,9,4,26,138,113,61,38,20,77,87,115,63,38,39,39,29,56,119,74,139,12,65,218,19,53,33,27,7,43,31,29,20,19,27,48,21,141,45,85,62,72,70,45,84,43,107,41,42,71,89,46,91,28,12,25,174,13,70,32,139,15,49,17,68,16,35,30,110,20,48,14,12,41,25,56,55,13,69,47,22,38,198,283,68,16,164,30,18,88,34,4,7,144,22,93,29,46,80,92,31,66,46,36,55,15,47,13,15,19,66,36,68,25,6,25,53,412,33,36,36,189,13,21,121,57,91,10,28,135,25,30,114,11,106,79,38,60,49,49,10,6,10,43,23,8,26,15,96,110,31,26,150,58,98,41,14,9,10,10,23,25,34,40,267,27,18,56,125,49,8,3,53,11,129,12,38,18,49,18,38,234,13,20,25,269,68,39,47,33,40,29,107,8,24,190,19,16,542,43,32,26,72,6,109,36,84,34,38,49,60,30,68,41,27,58,35,22,124,13,35,159,10,17,40,40,25,39,231,2,83,27,21,53,37,60,84,92,11,49,91,10,1,22,315,174,158,84,44,18,83,45,38,37,82,26,14,13,45,84,80,32,41,20,37,12,135,18,21,58,70,58,122,31,26,97,76,41,92,45,62,156,107,138,61,6,203,64,25,127,159,56,27,29,54,47,29,24,6,35,103,45,56,55,27,41,62,96,16,15,87,27,21,65,32,29,44,26,23,74,107,20,80,73,47,92,113,144,24,17,10,7,151,50,39,27,173,135,30,53,32,22,41,32,35,29,45,139,195,148,111,6,24,56,92,32,24,100,46,48,41,20,30,44,59,42,40,8,42,33,42,160,39,32,14,36,49,70,33,36,7,64,32,51,30,129,104,15,22,20,55,48,69,20,48,30,150,115,42,25,55,72,185,66,76,136,43,87,26,45,97,130,90,124,4,53,48,18,22,19,75,38,27,49,12,45,21,120,52,43,20,52,59,5,11,92,20,59,34,186,95,23,137,110,14,58,37,7,104,20,92,5,16,19,54,145,214,19,7,11,24,35,23,37,14,17,43,17,16,100,53,37,17,94,26,5,22,23,39,15,29,31,25,25,77,36,36,124,63,81,20,39,4,24,52,69,29,42,47,21,52,144,49,6,110,79,57,94,11,57,179,31,28,21,25,31,17,46,51,35,45,39,30,36,29,15,133,13,121,42,99,96,56,38,40,16,30,44,25,35,138,15,83,24,15,8,107,30,72,55,79,15,76,48,26,23,45,55,34,56,108,27,18,20,38,23,98,54,22,35,115,34,94,39,53,67,27,31,4,15,162,31,158,12,39,41,153,82,22,7,11,54,23,16,81,21,41,20,157,89,22,131,29,42,24,23,42,121,62,80,44,185,9,29,37,61,36,12,44,30,123,64,6,88,41,36,76,17,26,76,15,67,61,45,8,40,98,12,47,148,26,42,64,54,80,19,93,22,92,18,42,18,32,21,48,25,38,57,14,8,108,36,23,160,14,7,46,106,10,23,8,22,170,108,44,24,105,16,17,73,65,8,49,3,8,15,117,153,49,62,82,25,32,28,31,25,35,42,68,93,30,33,33,112,24,74,15,20,56,139,6,34,49,57,31,91,36,48,26,123,29,7,16,19,20,146,66,29,88,162,57,18,39,101,39,18,16,33,84,29,28,46,20,129,101,15,152,10,54,22,45,20,6,28,19,15,13,39,14,111,6,80,90,79,139,30,74,14,110,129,44,76,34,55,12,52,36,38,12,58,63,46,76,17,24,53,18,74,34,139,39,50,96,114,16,22,21,45,31,98,30,10,13,121,28,168,152,114,100,12,25,69,56,40,33,24,6,21,59,84,56,35,134,14,30,17,20,21,36,50,130,78,27,34,79,23,45,18,31,37,34,160,55,128,24,27,18,25,47,70,65,44,62,56,93,20,21,26,26,60,50,39,44,49,22,21,50,44,96,51,121,16,108,17,18,13,20,18,26,40,65,51,71,103,25,74,11,46,42,14,20,14,36,29,57,100,32,85,29,24,63,21,150,15,69,58,101,94,145,7,76,69,54,67,52,115,55,74,44,24,17,20,73,27,64,6,19,25,70,15,22,108,33,45,7,32,76,25,43,50,23,56,17,57,46,15,27,27,51,28,50,23,143,88,75,48,52,44,70,14,66,44,125,139,69,31,10,62,35,18,12,8,25,22,199,28,12,130,24,54,84,48,28,12,7,46,45,14,28,46,85,3,130,14,174,48,5,44,42,128,29,31,17,63,38,18,107,19,24,49,25,70,68,45,42,41,29,122,99,50,24,83,44,64,69,72,62,20,142,15,39,44,102,73,45,13,87,17,89,24,48,14,80,145,140,139,132,26,34,16,4,28,19,15,15,32,24,74,33,6,31,58,56,47,31,70,23,16,63,30,63,58,34,138,26,17,49,30,93,10,68,41,10,167,11,91,4,8,49,27,5,86,117,24,81,42,133,26,106,46,22,51,7,22,43,19,170,22,91,148,7,7,5,57,37,15,25,30,2,43,131,17,85,80,161,138,26,43,74,85,45,22,154,82,16,134,60,48,26,8,20,77,88,20,66,45,21,18,57,53,21,59,16,78,35,59,80,62,19,119,33,29,106,68,84,34,30,5,58,49,67,44,17,12,146,63,84,50,43,28,13,51,47,84,39,21,120,25,6,20,90,35,8,120,29,52,37,33,15,52,89,78,60,132,160,146,4,75,134,69,62,32,47,50,15,30,13,55,36,15,28,134,90,41,33,85,90,20,23,17,40,68,24,21,12,98,38,28,34,18,1,32,10,79,47,116,15,35,24,33,169,32,37,55,58,101,35,65,15,35,10,15,44,50,18,27,193,98,60,54,189,93,25,23,706,18,58,36,21,35,150,43,22,14,146,61,70,85,3,138,77,391,43,38,108,47,21,43,33,63,32,36,8,19,19,29,23,94,49,77,6,89,14,65,24,86,10,9,24,129,4,77,14,36,32,40,167,64,25,55,29,17,114,30,45,48,143,80,154,34,74,172,132,104,12,128,9,3,28,58,60,27,21,49,48,36,137,109,12,23,5,46,80,75,34,22,46,131,121,135,42,35,56,21,93,37,58,37,51,135,20,125,174,11,12,11,51,47,23,38,110,32,27,57,69,16,70,139,12,32,188,10,100,66,21,16,23,16,43,84,126,31,124,84,65,27,148,17,19,38,49,46,63,107,21,28,25,23,9,64,12,113,30,29,97,59,66,17,86,25,25,128,17,19,32,41,64,377,15,42,7,135,32,12,89,59,28,48,19,6,55,42,154,10,26,130,26,29,12,123,20,2,9,41,58,36,26,38,145,13,89,64,145,339,30,26,20,68,33,60,397,31,28,11,9,23,55,66,26,29,27,364,26,47,50,106,49,20,26,216,25,14,212,106,17,44,41,27,11,18,194,27,75,28,23,43,68,99,25,121,54,18,12,40,76,36,11,30,30,92,7,57,142,37,24,154,38,64,93,46,218,10,48,13,144,35,3,29,12,20,81,115,6,46,54,18,22,26,47,24,15,27,50,22,119,68,57,32,38,9,50,25,54,21,27,64,29,21,80,107,284,28,18,35,59,130,44,13,27,19,21,44,44,27,27,71,26,36,33,37,36,49,9,43,51,12,43,73,20,34,27,38,53,23,26,100,82,84,45,69,4,4,84,31,16,196,20,44,30,124,35,64,56,150,28,52,65,98,78,14,34,30,41,73,38,49,18,48,18,92,24,330,46,104,26,53,77,112,53,81,42,22,46,23,50,54,43,54,55,11,67,136,22,18,96,272,58,124,30,130,48,14,54,14,23,14,42,21,9,56,19,65,14,24,57,23,68,30,38,11,25,440,70,317,5,82,12,99,32,14,69,2,36,12,16,21,36,11,23,77,109,17,20,114,126,65,61,60,237,55,37,69,61,103,29,26,11,24,235,25,171,98,58,35,46,187,21,11,147,26,120,60,27,11,11,15,62,80,32,173,21,22,18,17,28,21,70,4,395,60,6,32,26,29,14,7,311,38,194,87,24,74,27,41,235,107,11,48,11,8,114,11,48,24,2,145,139,8,8,35,358,26,50,73,24,50,44,46,90,73,38,78,38,77,29,59,74,26,74,46,82,18,89,49,52,103,37,79,57,20,102,6,52,26,35,9,86,63,53,77,22,104,10,39,42,81,19,16,58,41,35,105,20,340,29,45,18,16,20,24,60,18,46,92,11,169,111,16,49,61,13,92,51,27,44,37,108,102,357,196,3,70,27,49,137,131,56,98,40,38,9,16,128,17,28,14,9,41,58,123,56,22,212,22,31,13,22,27,47,27,6,19,61,172,13,151,41,28,31,34,113,62,172,55,7,114,98,163,218,47,81,9,20,56,76,29,16,86,20,43,42,23,33,30,44,154,29,47,28,63,68,35,152,124,34,24,40,27,53,73,48,10,14,21,124,114,174,12,46,64,147,20,55,56,17,27,88,75,34,37,59,41,147,30,127,126,63,26,98,11,18,150,32,54,37,120,63,15,48,35,113,74,99,39,36,163,21,26,29,41,90,21,113,125,30,183,37,55,116,4,56,148,54,23,35,178,17,14,34,53,59,11,67,109,4,45,127,27,12,47,26,10,42,44,155,60,55,16,18,17,117,45,3,48,24,136,17,109,46,70,43,105,96,90,22,48,17,41,65,13,157,84,44,122,159,188,40,117,71,22,40,39,56,23,9,42,18,84,30,39,30,18,7,59,72,54,26,37,121,44,29,15,8,64,37,49,38,42,6,20,62,4,62,58,55,9,67,28,122,13,11,52,34,13,21,24,36,85,10,125,15,26,77,31,101,135,34,62,138,22,141,38,37,74,113,135,166,39,51,17,62,6,14,48,36,35,51,7,47,20,42,12,28,125,34,40,140,4,49,15,68,84,32,88,95,123,37,28,64,82,91,18,64,66,35,25,59,29,86,23,116,59,137,71,10,159,12,33,150,6,10,88,42,85,60,56,142,21,69,56,69,95,36,32,42,16,19,21,80,22,96,140,18,29,51,137,34,58,52,10,40,111,143,58,33,154,177,8,141,43,55,13,30,38,24,34,24,33,144,28,11,33,53,162,49,10,98,91,85,104,116,83,111,22,124,149,51,53,43,6,18,71,54,108,16,46,54,78,35,20,37,150,107,32,126,52,60,33,32,45,11,7,3,20,61,74,16,107,18,68,50,36,53,62,38,70,54,25,60,8,34,49,163,50,43,150,64,120,44,100,10,39,56,94,26,21,59,31,161,74,111,138,5,57,17,17,155,44,52,116,30,60,143,42,147,123,41,125,155,45,41,38,18,106,83,4,20,15,71,14,83,26,6,13,59,23,179,145,23,11,36,29,34,46,14,24,47,63,20,75,83,54,62,22,43,87,38,90,45,20,23,23,117,65,99,82,26,129,88,9,34,115,18,7,30,18,165,90,10,60,46,55,17,98,26,83,14,137,70,5,84,18,4,5,56,89,14,105,7,35,20,34,23,23,46,103,30,39,24,8,33,53,36,110,127,42,44,6,37,71,3,37,149,35,28,13,93,60,42,30,58,65,41,93,5,15,43,15,31,46,11,11,89,45,54,38,6,16,18,40,49,36,18,82,14,169,14,74,59,60,62,6,18,151,24,88,41,20,54,33,66,88,30,139,5,8,14,70,101,16,43,12,15,64,5,44,38,114,62,60,10,48,19,72,31,14,127,147,86,72,41,86,14,8,51,44,11,28,88,13,113,14,35,108,36,11,55,124,7,43,65,25,45,41,55,14,35,50,62,27,40,35,62,43,49,26,25,18,42,37,7,50,125,24,43,44,21,20,33,95,17,7,31,17,16,9,2,91,18,57,30,64,42,148,10,47,19,13,85,70,21,19,71,42,19,113,30,86,56,49,172,61,47,8,27,51,109,30,38,24,108,72,13,61,75,71,94,105,14,50,133,53,90,13,17,11,43,147,23,29,21,157,23,26,41,24,24,13,76,46,45,131,52,78,146,44,133,22,95,48,11,27,43,110,84,98,21,128,54,87,126,55,39,38,24,149,59,78,13,50,24,31,156,109,23,164,32,35,89,107,65,14,30,35,30,6,40,21,160,56,8,166,43,143,22,18,86,74,35,44,27,37,133,17,153,11,57,60,59,91,6,14,7,25,82,17,62,114,21,170,56,118,28,27,17,10,16,66,7,33,30,145,39,21,128,49,87,35,9,103,58,80,43,120,27,15,356,40,207,113,255,94,21,26,165,367,195,39,23,54,45,96,79,100,60,68,49,134,43,33,14,72,20,141,138,34,57,66,13,68,24,29,57,23,24,60,36,7,76,6,34,38,68,51,165,238,159,783,3,57,31,41,32,20,44,39,40,24,119,115,100,79,27,49,47,13,40,52,27,58,52,12,8,58,84,45,31,170,22,19,26,43,65,34,32,55,169,27,56,62,44,46,32,52,120,77,111,36,37,32,49,38,53,111,48,31,93,133,38,14,47,42,97,19,145,85,17,13,32,70,72,20,27,15,49,29,55,21,38,32,70,65,20,60,18,154,94,34,16,86,29,173,34,29,109,12,24,5,9,27,59,103,17,54,49,9,11,5,108,58,27,158,95,153,32,29,26,56,60,32,11,56,8,14,40,120,150,150,76,155,102,82,35,33,37,72,31,58,34,24,131,118,8,45,15,8,22,29,16,114,25,10,22,8,19,29,43,36,19,14,101,41,43,32,37,49,35,92,11,27,16,142,165,50,20,13,22,24,136,13,17,9,36,58,18,59,35,62,20,50,22,17,12,33,16,62,15,52,27,80,32,42,47,83,35,9,7,51,64,113,79,167,60,176,5,4,24,53,86,14,25,65,116,46,135,89,42,141,39,81,55,158,34,28,73,28,58,28,70,12,79,73,84,68,94,88,24,5,42,72,21,49,51,126,20,42,139,14,15,27,78,15,64,36,46,24,24,77,70,33,32,68,43,18,82,19,7,24,51,5,34,165,53,17,5,82,58,18,91,103,187,31,56,55,34,11,78,36,34,45,174,11,113,77,26,118,33,33,49,28,178,37,64,11,117,40,21,33,44,62,25,27,159,62,86,54,4,44,7,20,24,104,18,20,24,83,21,97,54,37,12,93,44,46,120,57,32,183,121,15,51,7,77,29,22,49,8,115,49,152,52,35,17,4,5,59,29,21,40,124,44,29,9,42,63,49,6,33,8,43,15,181,136,150,146,60,5,163,15,7,74,5,87,126,17,16,125,57,41,42,26,36,132,31,88,13,44,44,15,23,80,16,45,26,21,27,121,64,130,55,116,132,26,7,22,3,45,39,14,38,16,69,8,48,37,14,113,116,11,15,102,51,12,45,134,183,29,23,126,78,47,10,151,158,21,143,44,45,76,35,17,23,163,48,78,14,50,62,43,58,81,19,92,58,20,63,76,23,72,6,96,71,27,126,52,35,16,18,31,48,31,80,19,78,17,51,15,21,44,34,2,37,48,61,50,18,24,135,19,32,61,101,58,92,31,20,61,54,68,69,31,43,38,54,120,30,37,58,73,172,20,18,43,12,54,21,145,90,42,9,53,42,25,121,36,24,41,126,106,28,24,15,96,54,23,11,19,158,25,10,11,158,58,77,19,163,40,33,55,34,34,145,123,11,31,79,34,68,22,42,184,16,158,52,26,7,9,75,45,30,24,34,93,7,24,8,132,24,5,34,40,11,158,65,8,52,121,13,20,31,94,51,26,30,19,31,19,13,125,38,45,99,117,67,21,18,70,57,41,29,58,133,10,5,102,4,34,141,26,5,23,186,18,155,48,40,61,54,85,25,13,78,103,37,8,17,55,60,40,58,48,56,155,36,17,81,28,42,60,13,13,72,178,131,5,6,32,30,6,44,16,21,49,9,19,94,75,45,15,35,7,38,62,30,21,49,21,95,32,23,95,27,29,52,43,121,39,20,42,103,6,22,156,28,106,21,31,87,51,141,21,161,35,22,25,28,12,10,13,3,38,27,52,16,28,11,36,122,38,48,12,69,15,90,21,78,15,17,125,100,31,31,134,4,18,57,28,52,59,97,43,114,77,51,26,46,12,19,40,131,43,21,44,120,13,85,35,134,59,80,41,11,27,146,62,75,6,80,25,32,130,7,8,118,81,65,70,48,60,51,116,66,101,84,43,97,44,32,83,15,79,64,31,160,161,19,33,76,132,95,106,10,24,19,9,136,36,13,5,81,34,11,11,131,12,15,50,35,81,27,69,39,20,119,31,22,94,85,18,73,44,802,112,52,22,19,18,73,65,34,42,55,87,65,111,108,15,19,50,147,13,35,12,37,90,194,43,86,7,132,45,116,34,41,11,90,122,81,47,24,47,34,16,29,25,42,13,25,6,45,33,24,22,60,22,112,26,97,11,14,46,43,26,24,235,31,11,24,22,89,47,97,49,27,192,31,127,46,63,119,40,60,127,57,20,115,23,76,92,6,25,56,32,21,19,127,35,19,14,59,31,59,7,44,50,45,34,27,72,2,33,115,7,19,35,60,62,32,12,18,19,25,36,12,12,104,92,90,74,78,29,83,6,58,43,29,81,57,47,60,45,151,14,14,32,71,92,26,46,54,65,18,44,42,7,75,64,177,7,6,28,2,6,7,49,101,25,48,54,116,51,15,53,10,13,53,120,44,19,54,21,73,67,15,68,32,10,37,15,36,198,24,96,31,30,20,47,4,6,88,97,85,34,90,11,26,40,148,36,18,63,20,55,159,12,12,78,49,51,82,55,15,35,33,84,49,73,18,43,42,22,5,147,17,72,20,35,31,25,23,78,49,112,50,20,59,63,15,13,89,3,12,26,29,57,17,105,79,145,54,28,6,46,31,102,61,17,74,12,184,62,74,34,50,153,52,39,173,32,65,48,100,77,98,33,488,33,30,73,89,112,30,33,28,3,10,107,51,397,33,19,29,14,6,23,56,10,57,27,41,49,38,22,11,44,19,57,38,70,777,108,92,31,36,56,42,132,8,84,8,22,32,25,92,13,4,3,42,28,49,198,12,222,163,49,104,24,35,218,18,42,72,16,7,4,101,49,88,2,52,27,52,239,603,34,30,197,58,53,62,90,5,35,16,54,17,62,62,108,51,179,56,12,23,45,38,37,37,12,32,20,59,46,44,99,174,76,47,53,143,56,62,17,31,4,34,25,16,150,47,18,35,21,43,117,101,103,39,34,36,159,99,203,48,91,17,88,78,66,7,17,16,41,34,30,16,34,34,9,52,4,38,57,21,9,210,7,108,26,26,54,21,94,53,164,99,54,30,63,72,25,42,210,42,37,137,72,50,133,54,30,97,80,65,64,7,77,42,27,49,207,46,6,161,207,49,227,49,168,151,16,88,148,63,26,80,20,105,74,87,17,44,61,33,88,32,18,61,55,21,15,35,22,56,23,95,16,11,30,23,62,13,34,47,54,40,26,98,25,60,41,78,40,23,11,14,17,47,142,60,205,69,59,34,7,81,64,24,82,29,43,136,9,28,124,114,27,13,97,17,32,14,10,92,248,4,11,57,57,64,12,105,77,45,33,26,181,16,99,9,88,39,5,94,96,16,166,169,64,59,45,19,17,68,12,50,5,21,68,8,34,35,50,23,99,34,118,69,25,23,26,97,38,34,73,138,55,45,29,32,2,94,28,2,22,31,10,24,176,264,73,16,63,23,140,56,59,16,122,65,242,26,146,102,144,66,24,42,42,72,10,113,36,44,17,64,36,270,104,17,57,32,57,10,78,26,146,34,79,53,67,13,11,145,30,23,22,62,73,39,64,28,21,131,42,30,28,21,129,89,80,90,147,38,4,56,28,20,30,73,50,25,35,290,27,331,104,72,15,33,45,44,91,15,45,96,50,93,49,20,11,32,62,49,24,36,11,77,92,29,12,110,67,58,38,37,11,10,28,13,40,73,54,53,12,33,20,36,85,7,8,31,42,13,297,37,29,160,11,29,13,32,10,14,62,66,55,38,12,99,18,17,8,45,80,54,14,23,14,14,145,15,35,116,106,45,12,66,45,9,19,18,35,103,45,20,119,74,8,55,115,195,54,29,48,7,38,38,18,37,41,140,17,39,34,58,56,73,55,10,35,66,25,16,6,36,95,39,199,147,42,48,58,13,77,6,78,27,32,42,23,15,94,20,35,11,106,168,308,33,59,60,8,157,68,49,27,5,29,39,34,16,64,48,50,23,83,300,9,63,51,193,46,776,75,45,29,23,28,59,53,77,153,84,55,340,67,64,30,110,55,55,17,99,61,39,9,154,24,114,108,62,113,3,103,51,17,65,72,65,67,125,29,126,35,18,22,66,43,505,83,47,19,57,6,26,70,107,218,120,20,23,182,94,14,78,43,18,53,150,46,43,76,4,77,53,33,72,15,35,18,108,29,231,29,41,13,113,38,85,39,16,123,32,74,75,9,36,110,10,81,83,92,16,10,52,112,7,3,37,180,119,42,4,6,84,46,47,46,37,69,16,42,103,51,19,57,92,20,172,92,69,36,57,105,96,10,10,28,48,79,70,57,73,53,6,55,39,68,48,23,16,44,43,115,194,44,69,20,25,24,96,117,38,21,18,18,17,73,19,26,62,28,11,42,28,10,82,62,40,34,9,77,11,11,41,50,33,48,65,74,21,125,233,68,50,66,164,40,7,320,98,33,178,8,27,258,25,45,56,54,51,94,104,11,81,18,243,90,13,99,77,43,17,17,19,54,15,16,50,137,11,56,22,43,19,27,39,13,70,47,17,22,18,11,90,11,43,27,12,118,114,26,12,29,115,35,32,22,32,19,112,57,39,322,64,18,189,36,83,141,80,11,68,67,25,21,18,287,11,148,70,84,34,14,153,59,11,50,31,42,23,64,63,14,138,12,166,42,28,72,30,58,6,89,23,11,85,20,31,35,30,193,52,60,43,48,76,87,34,88,93,85,37],\"xaxis\":\"x\",\"yaxis\":\"y\",\"type\":\"histogram\"}],                        {\"template\":{\"data\":{\"histogram2dcontour\":[{\"type\":\"histogram2dcontour\",\"colorbar\":{\"outlinewidth\":0,\"ticks\":\"\"},\"colorscale\":[[0.0,\"#0d0887\"],[0.1111111111111111,\"#46039f\"],[0.2222222222222222,\"#7201a8\"],[0.3333333333333333,\"#9c179e\"],[0.4444444444444444,\"#bd3786\"],[0.5555555555555556,\"#d8576b\"],[0.6666666666666666,\"#ed7953\"],[0.7777777777777778,\"#fb9f3a\"],[0.8888888888888888,\"#fdca26\"],[1.0,\"#f0f921\"]]}],\"choropleth\":[{\"type\":\"choropleth\",\"colorbar\":{\"outlinewidth\":0,\"ticks\":\"\"}}],\"histogram2d\":[{\"type\":\"histogram2d\",\"colorbar\":{\"outlinewidth\":0,\"ticks\":\"\"},\"colorscale\":[[0.0,\"#0d0887\"],[0.1111111111111111,\"#46039f\"],[0.2222222222222222,\"#7201a8\"],[0.3333333333333333,\"#9c179e\"],[0.4444444444444444,\"#bd3786\"],[0.5555555555555556,\"#d8576b\"],[0.6666666666666666,\"#ed7953\"],[0.7777777777777778,\"#fb9f3a\"],[0.8888888888888888,\"#fdca26\"],[1.0,\"#f0f921\"]]}],\"heatmap\":[{\"type\":\"heatmap\",\"colorbar\":{\"outlinewidth\":0,\"ticks\":\"\"},\"colorscale\":[[0.0,\"#0d0887\"],[0.1111111111111111,\"#46039f\"],[0.2222222222222222,\"#7201a8\"],[0.3333333333333333,\"#9c179e\"],[0.4444444444444444,\"#bd3786\"],[0.5555555555555556,\"#d8576b\"],[0.6666666666666666,\"#ed7953\"],[0.7777777777777778,\"#fb9f3a\"],[0.8888888888888888,\"#fdca26\"],[1.0,\"#f0f921\"]]}],\"heatmapgl\":[{\"type\":\"heatmapgl\",\"colorbar\":{\"outlinewidth\":0,\"ticks\":\"\"},\"colorscale\":[[0.0,\"#0d0887\"],[0.1111111111111111,\"#46039f\"],[0.2222222222222222,\"#7201a8\"],[0.3333333333333333,\"#9c179e\"],[0.4444444444444444,\"#bd3786\"],[0.5555555555555556,\"#d8576b\"],[0.6666666666666666,\"#ed7953\"],[0.7777777777777778,\"#fb9f3a\"],[0.8888888888888888,\"#fdca26\"],[1.0,\"#f0f921\"]]}],\"contourcarpet\":[{\"type\":\"contourcarpet\",\"colorbar\":{\"outlinewidth\":0,\"ticks\":\"\"}}],\"contour\":[{\"type\":\"contour\",\"colorbar\":{\"outlinewidth\":0,\"ticks\":\"\"},\"colorscale\":[[0.0,\"#0d0887\"],[0.1111111111111111,\"#46039f\"],[0.2222222222222222,\"#7201a8\"],[0.3333333333333333,\"#9c179e\"],[0.4444444444444444,\"#bd3786\"],[0.5555555555555556,\"#d8576b\"],[0.6666666666666666,\"#ed7953\"],[0.7777777777777778,\"#fb9f3a\"],[0.8888888888888888,\"#fdca26\"],[1.0,\"#f0f921\"]]}],\"surface\":[{\"type\":\"surface\",\"colorbar\":{\"outlinewidth\":0,\"ticks\":\"\"},\"colorscale\":[[0.0,\"#0d0887\"],[0.1111111111111111,\"#46039f\"],[0.2222222222222222,\"#7201a8\"],[0.3333333333333333,\"#9c179e\"],[0.4444444444444444,\"#bd3786\"],[0.5555555555555556,\"#d8576b\"],[0.6666666666666666,\"#ed7953\"],[0.7777777777777778,\"#fb9f3a\"],[0.8888888888888888,\"#fdca26\"],[1.0,\"#f0f921\"]]}],\"mesh3d\":[{\"type\":\"mesh3d\",\"colorbar\":{\"outlinewidth\":0,\"ticks\":\"\"}}],\"scatter\":[{\"fillpattern\":{\"fillmode\":\"overlay\",\"size\":10,\"solidity\":0.2},\"type\":\"scatter\"}],\"parcoords\":[{\"type\":\"parcoords\",\"line\":{\"colorbar\":{\"outlinewidth\":0,\"ticks\":\"\"}}}],\"scatterpolargl\":[{\"type\":\"scatterpolargl\",\"marker\":{\"colorbar\":{\"outlinewidth\":0,\"ticks\":\"\"}}}],\"bar\":[{\"error_x\":{\"color\":\"#2a3f5f\"},\"error_y\":{\"color\":\"#2a3f5f\"},\"marker\":{\"line\":{\"color\":\"#E5ECF6\",\"width\":0.5},\"pattern\":{\"fillmode\":\"overlay\",\"size\":10,\"solidity\":0.2}},\"type\":\"bar\"}],\"scattergeo\":[{\"type\":\"scattergeo\",\"marker\":{\"colorbar\":{\"outlinewidth\":0,\"ticks\":\"\"}}}],\"scatterpolar\":[{\"type\":\"scatterpolar\",\"marker\":{\"colorbar\":{\"outlinewidth\":0,\"ticks\":\"\"}}}],\"histogram\":[{\"marker\":{\"pattern\":{\"fillmode\":\"overlay\",\"size\":10,\"solidity\":0.2}},\"type\":\"histogram\"}],\"scattergl\":[{\"type\":\"scattergl\",\"marker\":{\"colorbar\":{\"outlinewidth\":0,\"ticks\":\"\"}}}],\"scatter3d\":[{\"type\":\"scatter3d\",\"line\":{\"colorbar\":{\"outlinewidth\":0,\"ticks\":\"\"}},\"marker\":{\"colorbar\":{\"outlinewidth\":0,\"ticks\":\"\"}}}],\"scattermapbox\":[{\"type\":\"scattermapbox\",\"marker\":{\"colorbar\":{\"outlinewidth\":0,\"ticks\":\"\"}}}],\"scatterternary\":[{\"type\":\"scatterternary\",\"marker\":{\"colorbar\":{\"outlinewidth\":0,\"ticks\":\"\"}}}],\"scattercarpet\":[{\"type\":\"scattercarpet\",\"marker\":{\"colorbar\":{\"outlinewidth\":0,\"ticks\":\"\"}}}],\"carpet\":[{\"aaxis\":{\"endlinecolor\":\"#2a3f5f\",\"gridcolor\":\"white\",\"linecolor\":\"white\",\"minorgridcolor\":\"white\",\"startlinecolor\":\"#2a3f5f\"},\"baxis\":{\"endlinecolor\":\"#2a3f5f\",\"gridcolor\":\"white\",\"linecolor\":\"white\",\"minorgridcolor\":\"white\",\"startlinecolor\":\"#2a3f5f\"},\"type\":\"carpet\"}],\"table\":[{\"cells\":{\"fill\":{\"color\":\"#EBF0F8\"},\"line\":{\"color\":\"white\"}},\"header\":{\"fill\":{\"color\":\"#C8D4E3\"},\"line\":{\"color\":\"white\"}},\"type\":\"table\"}],\"barpolar\":[{\"marker\":{\"line\":{\"color\":\"#E5ECF6\",\"width\":0.5},\"pattern\":{\"fillmode\":\"overlay\",\"size\":10,\"solidity\":0.2}},\"type\":\"barpolar\"}],\"pie\":[{\"automargin\":true,\"type\":\"pie\"}]},\"layout\":{\"autotypenumbers\":\"strict\",\"colorway\":[\"#636efa\",\"#EF553B\",\"#00cc96\",\"#ab63fa\",\"#FFA15A\",\"#19d3f3\",\"#FF6692\",\"#B6E880\",\"#FF97FF\",\"#FECB52\"],\"font\":{\"color\":\"#2a3f5f\"},\"hovermode\":\"closest\",\"hoverlabel\":{\"align\":\"left\"},\"paper_bgcolor\":\"white\",\"plot_bgcolor\":\"#E5ECF6\",\"polar\":{\"bgcolor\":\"#E5ECF6\",\"angularaxis\":{\"gridcolor\":\"white\",\"linecolor\":\"white\",\"ticks\":\"\"},\"radialaxis\":{\"gridcolor\":\"white\",\"linecolor\":\"white\",\"ticks\":\"\"}},\"ternary\":{\"bgcolor\":\"#E5ECF6\",\"aaxis\":{\"gridcolor\":\"white\",\"linecolor\":\"white\",\"ticks\":\"\"},\"baxis\":{\"gridcolor\":\"white\",\"linecolor\":\"white\",\"ticks\":\"\"},\"caxis\":{\"gridcolor\":\"white\",\"linecolor\":\"white\",\"ticks\":\"\"}},\"coloraxis\":{\"colorbar\":{\"outlinewidth\":0,\"ticks\":\"\"}},\"colorscale\":{\"sequential\":[[0.0,\"#0d0887\"],[0.1111111111111111,\"#46039f\"],[0.2222222222222222,\"#7201a8\"],[0.3333333333333333,\"#9c179e\"],[0.4444444444444444,\"#bd3786\"],[0.5555555555555556,\"#d8576b\"],[0.6666666666666666,\"#ed7953\"],[0.7777777777777778,\"#fb9f3a\"],[0.8888888888888888,\"#fdca26\"],[1.0,\"#f0f921\"]],\"sequentialminus\":[[0.0,\"#0d0887\"],[0.1111111111111111,\"#46039f\"],[0.2222222222222222,\"#7201a8\"],[0.3333333333333333,\"#9c179e\"],[0.4444444444444444,\"#bd3786\"],[0.5555555555555556,\"#d8576b\"],[0.6666666666666666,\"#ed7953\"],[0.7777777777777778,\"#fb9f3a\"],[0.8888888888888888,\"#fdca26\"],[1.0,\"#f0f921\"]],\"diverging\":[[0,\"#8e0152\"],[0.1,\"#c51b7d\"],[0.2,\"#de77ae\"],[0.3,\"#f1b6da\"],[0.4,\"#fde0ef\"],[0.5,\"#f7f7f7\"],[0.6,\"#e6f5d0\"],[0.7,\"#b8e186\"],[0.8,\"#7fbc41\"],[0.9,\"#4d9221\"],[1,\"#276419\"]]},\"xaxis\":{\"gridcolor\":\"white\",\"linecolor\":\"white\",\"ticks\":\"\",\"title\":{\"standoff\":15},\"zerolinecolor\":\"white\",\"automargin\":true,\"zerolinewidth\":2},\"yaxis\":{\"gridcolor\":\"white\",\"linecolor\":\"white\",\"ticks\":\"\",\"title\":{\"standoff\":15},\"zerolinecolor\":\"white\",\"automargin\":true,\"zerolinewidth\":2},\"scene\":{\"xaxis\":{\"backgroundcolor\":\"#E5ECF6\",\"gridcolor\":\"white\",\"linecolor\":\"white\",\"showbackground\":true,\"ticks\":\"\",\"zerolinecolor\":\"white\",\"gridwidth\":2},\"yaxis\":{\"backgroundcolor\":\"#E5ECF6\",\"gridcolor\":\"white\",\"linecolor\":\"white\",\"showbackground\":true,\"ticks\":\"\",\"zerolinecolor\":\"white\",\"gridwidth\":2},\"zaxis\":{\"backgroundcolor\":\"#E5ECF6\",\"gridcolor\":\"white\",\"linecolor\":\"white\",\"showbackground\":true,\"ticks\":\"\",\"zerolinecolor\":\"white\",\"gridwidth\":2}},\"shapedefaults\":{\"line\":{\"color\":\"#2a3f5f\"}},\"annotationdefaults\":{\"arrowcolor\":\"#2a3f5f\",\"arrowhead\":0,\"arrowwidth\":1},\"geo\":{\"bgcolor\":\"white\",\"landcolor\":\"#E5ECF6\",\"subunitcolor\":\"white\",\"showland\":true,\"showlakes\":true,\"lakecolor\":\"white\"},\"title\":{\"x\":0.05},\"mapbox\":{\"style\":\"light\"}}},\"xaxis\":{\"anchor\":\"y\",\"domain\":[0.0,1.0],\"title\":{\"text\":\"value\"}},\"yaxis\":{\"anchor\":\"x\",\"domain\":[0.0,1.0],\"title\":{\"text\":\"count\"}},\"legend\":{\"title\":{\"text\":\"variable\"},\"tracegroupgap\":0},\"title\":{\"text\":\"\\u0420\\u0430\\u0441\\u043f\\u0440\\u0435\\u0434\\u0435\\u043b\\u0435\\u043d\\u0438\\u0435 \\u043a\\u043e\\u043b\\u0438\\u0447\\u0435\\u0441\\u0442\\u0432\\u0430 \\u0441\\u043b\\u043e\\u0432 \\u0432 \\u043e\\u0431\\u0440\\u0430\\u0431\\u043e\\u0442\\u0430\\u043d\\u043d\\u044b\\u0445 \\u0441\\u043e\\u043e\\u0431\\u0449\\u0435\\u043d\\u0438\\u044f\\u0445\"},\"barmode\":\"relative\"},                        {\"responsive\": true}                    ).then(function(){\n",
              "                            \n",
              "var gd = document.getElementById('4c74d7e5-ac42-4313-8ec8-1a219f7468a3');\n",
              "var x = new MutationObserver(function (mutations, observer) {{\n",
              "        var display = window.getComputedStyle(gd).display;\n",
              "        if (!display || display === 'none') {{\n",
              "            console.log([gd, 'removed!']);\n",
              "            Plotly.purge(gd);\n",
              "            observer.disconnect();\n",
              "        }}\n",
              "}});\n",
              "\n",
              "// Listen for the removal of the full notebook cells\n",
              "var notebookContainer = gd.closest('#notebook-container');\n",
              "if (notebookContainer) {{\n",
              "    x.observe(notebookContainer, {childList: true});\n",
              "}}\n",
              "\n",
              "// Listen for the clearing of the current output cell\n",
              "var outputEl = gd.closest('.output');\n",
              "if (outputEl) {{\n",
              "    x.observe(outputEl, {childList: true});\n",
              "}}\n",
              "\n",
              "                        })                };                            </script>        </div>\n",
              "</body>\n",
              "</html>"
            ]
          },
          "metadata": {}
        }
      ]
    },
    {
      "cell_type": "markdown",
      "source": [
        "Большинство обработанных запросов содержит менее 50 слов. Около 95% не превышают 150 слов."
      ],
      "metadata": {
        "id": "3iWcBEq0IG4C"
      }
    },
    {
      "cell_type": "markdown",
      "source": [
        "## WordCloud"
      ],
      "metadata": {
        "id": "sEbMVMJunqqN"
      }
    },
    {
      "cell_type": "code",
      "execution_count": null,
      "metadata": {
        "id": "UkS8xr58Mlln",
        "colab": {
          "base_uri": "https://localhost:8080/",
          "height": 501
        },
        "outputId": "b8ba8494-688e-4404-fdd8-60ee6f2d7436"
      },
      "outputs": [
        {
          "output_type": "display_data",
          "data": {
            "text/plain": [
              "<Figure size 1200x1200 with 1 Axes>"
            ],
            "image/png": "[encoded data removed]"
          },
          "metadata": {}
        }
      ],
      "source": [
        "from wordcloud import WordCloud, STOPWORDS\n",
        "\n",
        "stopwords = set(STOPWORDS)\n",
        "wordcloud = WordCloud(max_font_size=60, max_words=40,\n",
        "                      background_color=\"white\", random_state=100,\n",
        "                      stopwords=stopwords).generate(str(complaints['text']))\n",
        "plt.figure(figsize=[12,12])\n",
        "plt.imshow(wordcloud)\n",
        "plt.axis(\"off\")\n",
        "plt.show()"
      ]
    },
    {
      "cell_type": "markdown",
      "source": [
        "WorldCloud содержит обычные термины, встречающиеся в работе с финансами. Ничего интересного."
      ],
      "metadata": {
        "id": "Ub6iOBz3mkhF"
      }
    },
    {
      "cell_type": "markdown",
      "source": [
        "## Исследование частоты слов и словосочетаний"
      ],
      "metadata": {
        "id": "7PMCtNyNnw6-"
      }
    },
    {
      "cell_type": "markdown",
      "source": [
        "Искать n-граммы в тексте можно с помощью интрумента `CountVectorizer` библиотеки sklearn. Для удобства я напишу функцию."
      ],
      "metadata": {
        "id": "hmicLaLVn4qN"
      }
    },
    {
      "cell_type": "code",
      "execution_count": null,
      "metadata": {
        "id": "HytgZocegMN6"
      },
      "outputs": [],
      "source": [
        "from sklearn.feature_extraction.text import CountVectorizer\n",
        "\n",
        "def get_top_ngrams(data, n=1, top=10):\n",
        "  word_vectorizer = CountVectorizer(ngram_range=(n,n), analyzer='word')\n",
        "  sparse_matrix = word_vectorizer.fit_transform(data)\n",
        "  frequencies = sum(sparse_matrix).toarray()[0]\n",
        "  frequencies = pd.DataFrame(frequencies, index=word_vectorizer.get_feature_names_out(), columns=['frequency'])\n",
        "  return frequencies.sort_values(by='frequency', ascending=False).head(top)"
      ]
    },
    {
      "cell_type": "code",
      "execution_count": null,
      "metadata": {
        "id": "sfEK-x9DlYbq"
      },
      "outputs": [],
      "source": [
        "top_20_unigrams = get_top_ngrams(complaints['text'], n=1, top=20)"
      ]
    },
    {
      "cell_type": "code",
      "execution_count": null,
      "metadata": {
        "colab": {
          "base_uri": "https://localhost:8080/",
          "height": 542
        },
        "id": "5GRoYHYWiuMc",
        "outputId": "c9886ca4-f951-4e23-a410-f6595916793b"
      },
      "outputs": [
        {
          "output_type": "display_data",
          "data": {
            "text/html": [
              "<html>\n",
              "<head><meta charset=\"utf-8\" /></head>\n",
              "<body>\n",
              "    <div>            <script src=\"https://cdnjs.cloudflare.com/ajax/libs/mathjax/2.7.5/MathJax.js?config=TeX-AMS-MML_SVG\"></script><script type=\"text/javascript\">if (window.MathJax && window.MathJax.Hub && window.MathJax.Hub.Config) {window.MathJax.Hub.Config({SVG: {font: \"STIX-Web\"}});}</script>                <script type=\"text/javascript\">window.PlotlyConfig = {MathJaxConfig: 'local'};</script>\n",
              "        <script charset=\"utf-8\" src=\"https://cdn.plot.ly/plotly-2.24.1.min.js\"></script>                <div id=\"887115fd-d11b-46d4-a5f7-ddb91c8f8451\" class=\"plotly-graph-div\" style=\"height:525px; width:100%;\"></div>            <script type=\"text/javascript\">                                    window.PLOTLYENV=window.PLOTLYENV || {};                                    if (document.getElementById(\"887115fd-d11b-46d4-a5f7-ddb91c8f8451\")) {                    Plotly.newPlot(                        \"887115fd-d11b-46d4-a5f7-ddb91c8f8451\",                        [{\"alignmentgroup\":\"True\",\"hovertemplate\":\"variable=frequency\\u003cbr\\u003eindex=%{x}\\u003cbr\\u003evalue=%{y}\\u003cextra\\u003e\\u003c\\u002fextra\\u003e\",\"legendgroup\":\"frequency\",\"marker\":{\"color\":\"#636efa\",\"pattern\":{\"shape\":\"\"}},\"name\":\"frequency\",\"offsetgroup\":\"frequency\",\"orientation\":\"v\",\"showlegend\":true,\"textposition\":\"auto\",\"x\":[\"chase\",\"account\",\"credit\",\"bank\",\"card\",\"payment\",\"time\",\"charge\",\"day\",\"money\",\"check\",\"loan\",\"letter\",\"information\",\"call\",\"transaction\",\"number\",\"month\",\"report\",\"fee\"],\"xaxis\":\"x\",\"y\":[54584,45218,33106,28253,26993,21175,16048,13151,12994,11962,11428,10988,9679,9660,9251,8659,8633,8515,8343,8318],\"yaxis\":\"y\",\"type\":\"bar\"}],                        {\"template\":{\"data\":{\"histogram2dcontour\":[{\"type\":\"histogram2dcontour\",\"colorbar\":{\"outlinewidth\":0,\"ticks\":\"\"},\"colorscale\":[[0.0,\"#0d0887\"],[0.1111111111111111,\"#46039f\"],[0.2222222222222222,\"#7201a8\"],[0.3333333333333333,\"#9c179e\"],[0.4444444444444444,\"#bd3786\"],[0.5555555555555556,\"#d8576b\"],[0.6666666666666666,\"#ed7953\"],[0.7777777777777778,\"#fb9f3a\"],[0.8888888888888888,\"#fdca26\"],[1.0,\"#f0f921\"]]}],\"choropleth\":[{\"type\":\"choropleth\",\"colorbar\":{\"outlinewidth\":0,\"ticks\":\"\"}}],\"histogram2d\":[{\"type\":\"histogram2d\",\"colorbar\":{\"outlinewidth\":0,\"ticks\":\"\"},\"colorscale\":[[0.0,\"#0d0887\"],[0.1111111111111111,\"#46039f\"],[0.2222222222222222,\"#7201a8\"],[0.3333333333333333,\"#9c179e\"],[0.4444444444444444,\"#bd3786\"],[0.5555555555555556,\"#d8576b\"],[0.6666666666666666,\"#ed7953\"],[0.7777777777777778,\"#fb9f3a\"],[0.8888888888888888,\"#fdca26\"],[1.0,\"#f0f921\"]]}],\"heatmap\":[{\"type\":\"heatmap\",\"colorbar\":{\"outlinewidth\":0,\"ticks\":\"\"},\"colorscale\":[[0.0,\"#0d0887\"],[0.1111111111111111,\"#46039f\"],[0.2222222222222222,\"#7201a8\"],[0.3333333333333333,\"#9c179e\"],[0.4444444444444444,\"#bd3786\"],[0.5555555555555556,\"#d8576b\"],[0.6666666666666666,\"#ed7953\"],[0.7777777777777778,\"#fb9f3a\"],[0.8888888888888888,\"#fdca26\"],[1.0,\"#f0f921\"]]}],\"heatmapgl\":[{\"type\":\"heatmapgl\",\"colorbar\":{\"outlinewidth\":0,\"ticks\":\"\"},\"colorscale\":[[0.0,\"#0d0887\"],[0.1111111111111111,\"#46039f\"],[0.2222222222222222,\"#7201a8\"],[0.3333333333333333,\"#9c179e\"],[0.4444444444444444,\"#bd3786\"],[0.5555555555555556,\"#d8576b\"],[0.6666666666666666,\"#ed7953\"],[0.7777777777777778,\"#fb9f3a\"],[0.8888888888888888,\"#fdca26\"],[1.0,\"#f0f921\"]]}],\"contourcarpet\":[{\"type\":\"contourcarpet\",\"colorbar\":{\"outlinewidth\":0,\"ticks\":\"\"}}],\"contour\":[{\"type\":\"contour\",\"colorbar\":{\"outlinewidth\":0,\"ticks\":\"\"},\"colorscale\":[[0.0,\"#0d0887\"],[0.1111111111111111,\"#46039f\"],[0.2222222222222222,\"#7201a8\"],[0.3333333333333333,\"#9c179e\"],[0.4444444444444444,\"#bd3786\"],[0.5555555555555556,\"#d8576b\"],[0.6666666666666666,\"#ed7953\"],[0.7777777777777778,\"#fb9f3a\"],[0.8888888888888888,\"#fdca26\"],[1.0,\"#f0f921\"]]}],\"surface\":[{\"type\":\"surface\",\"colorbar\":{\"outlinewidth\":0,\"ticks\":\"\"},\"colorscale\":[[0.0,\"#0d0887\"],[0.1111111111111111,\"#46039f\"],[0.2222222222222222,\"#7201a8\"],[0.3333333333333333,\"#9c179e\"],[0.4444444444444444,\"#bd3786\"],[0.5555555555555556,\"#d8576b\"],[0.6666666666666666,\"#ed7953\"],[0.7777777777777778,\"#fb9f3a\"],[0.8888888888888888,\"#fdca26\"],[1.0,\"#f0f921\"]]}],\"mesh3d\":[{\"type\":\"mesh3d\",\"colorbar\":{\"outlinewidth\":0,\"ticks\":\"\"}}],\"scatter\":[{\"fillpattern\":{\"fillmode\":\"overlay\",\"size\":10,\"solidity\":0.2},\"type\":\"scatter\"}],\"parcoords\":[{\"type\":\"parcoords\",\"line\":{\"colorbar\":{\"outlinewidth\":0,\"ticks\":\"\"}}}],\"scatterpolargl\":[{\"type\":\"scatterpolargl\",\"marker\":{\"colorbar\":{\"outlinewidth\":0,\"ticks\":\"\"}}}],\"bar\":[{\"error_x\":{\"color\":\"#2a3f5f\"},\"error_y\":{\"color\":\"#2a3f5f\"},\"marker\":{\"line\":{\"color\":\"#E5ECF6\",\"width\":0.5},\"pattern\":{\"fillmode\":\"overlay\",\"size\":10,\"solidity\":0.2}},\"type\":\"bar\"}],\"scattergeo\":[{\"type\":\"scattergeo\",\"marker\":{\"colorbar\":{\"outlinewidth\":0,\"ticks\":\"\"}}}],\"scatterpolar\":[{\"type\":\"scatterpolar\",\"marker\":{\"colorbar\":{\"outlinewidth\":0,\"ticks\":\"\"}}}],\"histogram\":[{\"marker\":{\"pattern\":{\"fillmode\":\"overlay\",\"size\":10,\"solidity\":0.2}},\"type\":\"histogram\"}],\"scattergl\":[{\"type\":\"scattergl\",\"marker\":{\"colorbar\":{\"outlinewidth\":0,\"ticks\":\"\"}}}],\"scatter3d\":[{\"type\":\"scatter3d\",\"line\":{\"colorbar\":{\"outlinewidth\":0,\"ticks\":\"\"}},\"marker\":{\"colorbar\":{\"outlinewidth\":0,\"ticks\":\"\"}}}],\"scattermapbox\":[{\"type\":\"scattermapbox\",\"marker\":{\"colorbar\":{\"outlinewidth\":0,\"ticks\":\"\"}}}],\"scatterternary\":[{\"type\":\"scatterternary\",\"marker\":{\"colorbar\":{\"outlinewidth\":0,\"ticks\":\"\"}}}],\"scattercarpet\":[{\"type\":\"scattercarpet\",\"marker\":{\"colorbar\":{\"outlinewidth\":0,\"ticks\":\"\"}}}],\"carpet\":[{\"aaxis\":{\"endlinecolor\":\"#2a3f5f\",\"gridcolor\":\"white\",\"linecolor\":\"white\",\"minorgridcolor\":\"white\",\"startlinecolor\":\"#2a3f5f\"},\"baxis\":{\"endlinecolor\":\"#2a3f5f\",\"gridcolor\":\"white\",\"linecolor\":\"white\",\"minorgridcolor\":\"white\",\"startlinecolor\":\"#2a3f5f\"},\"type\":\"carpet\"}],\"table\":[{\"cells\":{\"fill\":{\"color\":\"#EBF0F8\"},\"line\":{\"color\":\"white\"}},\"header\":{\"fill\":{\"color\":\"#C8D4E3\"},\"line\":{\"color\":\"white\"}},\"type\":\"table\"}],\"barpolar\":[{\"marker\":{\"line\":{\"color\":\"#E5ECF6\",\"width\":0.5},\"pattern\":{\"fillmode\":\"overlay\",\"size\":10,\"solidity\":0.2}},\"type\":\"barpolar\"}],\"pie\":[{\"automargin\":true,\"type\":\"pie\"}]},\"layout\":{\"autotypenumbers\":\"strict\",\"colorway\":[\"#636efa\",\"#EF553B\",\"#00cc96\",\"#ab63fa\",\"#FFA15A\",\"#19d3f3\",\"#FF6692\",\"#B6E880\",\"#FF97FF\",\"#FECB52\"],\"font\":{\"color\":\"#2a3f5f\"},\"hovermode\":\"closest\",\"hoverlabel\":{\"align\":\"left\"},\"paper_bgcolor\":\"white\",\"plot_bgcolor\":\"#E5ECF6\",\"polar\":{\"bgcolor\":\"#E5ECF6\",\"angularaxis\":{\"gridcolor\":\"white\",\"linecolor\":\"white\",\"ticks\":\"\"},\"radialaxis\":{\"gridcolor\":\"white\",\"linecolor\":\"white\",\"ticks\":\"\"}},\"ternary\":{\"bgcolor\":\"#E5ECF6\",\"aaxis\":{\"gridcolor\":\"white\",\"linecolor\":\"white\",\"ticks\":\"\"},\"baxis\":{\"gridcolor\":\"white\",\"linecolor\":\"white\",\"ticks\":\"\"},\"caxis\":{\"gridcolor\":\"white\",\"linecolor\":\"white\",\"ticks\":\"\"}},\"coloraxis\":{\"colorbar\":{\"outlinewidth\":0,\"ticks\":\"\"}},\"colorscale\":{\"sequential\":[[0.0,\"#0d0887\"],[0.1111111111111111,\"#46039f\"],[0.2222222222222222,\"#7201a8\"],[0.3333333333333333,\"#9c179e\"],[0.4444444444444444,\"#bd3786\"],[0.5555555555555556,\"#d8576b\"],[0.6666666666666666,\"#ed7953\"],[0.7777777777777778,\"#fb9f3a\"],[0.8888888888888888,\"#fdca26\"],[1.0,\"#f0f921\"]],\"sequentialminus\":[[0.0,\"#0d0887\"],[0.1111111111111111,\"#46039f\"],[0.2222222222222222,\"#7201a8\"],[0.3333333333333333,\"#9c179e\"],[0.4444444444444444,\"#bd3786\"],[0.5555555555555556,\"#d8576b\"],[0.6666666666666666,\"#ed7953\"],[0.7777777777777778,\"#fb9f3a\"],[0.8888888888888888,\"#fdca26\"],[1.0,\"#f0f921\"]],\"diverging\":[[0,\"#8e0152\"],[0.1,\"#c51b7d\"],[0.2,\"#de77ae\"],[0.3,\"#f1b6da\"],[0.4,\"#fde0ef\"],[0.5,\"#f7f7f7\"],[0.6,\"#e6f5d0\"],[0.7,\"#b8e186\"],[0.8,\"#7fbc41\"],[0.9,\"#4d9221\"],[1,\"#276419\"]]},\"xaxis\":{\"gridcolor\":\"white\",\"linecolor\":\"white\",\"ticks\":\"\",\"title\":{\"standoff\":15},\"zerolinecolor\":\"white\",\"automargin\":true,\"zerolinewidth\":2},\"yaxis\":{\"gridcolor\":\"white\",\"linecolor\":\"white\",\"ticks\":\"\",\"title\":{\"standoff\":15},\"zerolinecolor\":\"white\",\"automargin\":true,\"zerolinewidth\":2},\"scene\":{\"xaxis\":{\"backgroundcolor\":\"#E5ECF6\",\"gridcolor\":\"white\",\"linecolor\":\"white\",\"showbackground\":true,\"ticks\":\"\",\"zerolinecolor\":\"white\",\"gridwidth\":2},\"yaxis\":{\"backgroundcolor\":\"#E5ECF6\",\"gridcolor\":\"white\",\"linecolor\":\"white\",\"showbackground\":true,\"ticks\":\"\",\"zerolinecolor\":\"white\",\"gridwidth\":2},\"zaxis\":{\"backgroundcolor\":\"#E5ECF6\",\"gridcolor\":\"white\",\"linecolor\":\"white\",\"showbackground\":true,\"ticks\":\"\",\"zerolinecolor\":\"white\",\"gridwidth\":2}},\"shapedefaults\":{\"line\":{\"color\":\"#2a3f5f\"}},\"annotationdefaults\":{\"arrowcolor\":\"#2a3f5f\",\"arrowhead\":0,\"arrowwidth\":1},\"geo\":{\"bgcolor\":\"white\",\"landcolor\":\"#E5ECF6\",\"subunitcolor\":\"white\",\"showland\":true,\"showlakes\":true,\"lakecolor\":\"white\"},\"title\":{\"x\":0.05},\"mapbox\":{\"style\":\"light\"}}},\"xaxis\":{\"anchor\":\"y\",\"domain\":[0.0,1.0],\"title\":{\"text\":\"index\"}},\"yaxis\":{\"anchor\":\"x\",\"domain\":[0.0,1.0],\"title\":{\"text\":\"value\"}},\"legend\":{\"title\":{\"text\":\"variable\"},\"tracegroupgap\":0},\"title\":{\"text\":\"\\u041d\\u0430\\u0438\\u0431\\u043e\\u043b\\u0435 \\u0447\\u0430\\u0441\\u0442\\u043e \\u0432\\u0441\\u0442\\u0440\\u0435\\u0447\\u0430\\u044e\\u0449\\u0438\\u0435\\u0441\\u044f \\u0441\\u043b\\u043e\\u0432\\u0430 \\u0432 \\u043e\\u0431\\u0440\\u0430\\u0431\\u043e\\u0442\\u0430\\u043d\\u043d\\u044b\\u0445 \\u043e\\u0431\\u0440\\u0430\\u0449\\u0435\\u043d\\u0438\\u044f\\u0445\"},\"barmode\":\"relative\"},                        {\"responsive\": true}                    ).then(function(){\n",
              "                            \n",
              "var gd = document.getElementById('887115fd-d11b-46d4-a5f7-ddb91c8f8451');\n",
              "var x = new MutationObserver(function (mutations, observer) {{\n",
              "        var display = window.getComputedStyle(gd).display;\n",
              "        if (!display || display === 'none') {{\n",
              "            console.log([gd, 'removed!']);\n",
              "            Plotly.purge(gd);\n",
              "            observer.disconnect();\n",
              "        }}\n",
              "}});\n",
              "\n",
              "// Listen for the removal of the full notebook cells\n",
              "var notebookContainer = gd.closest('#notebook-container');\n",
              "if (notebookContainer) {{\n",
              "    x.observe(notebookContainer, {childList: true});\n",
              "}}\n",
              "\n",
              "// Listen for the clearing of the current output cell\n",
              "var outputEl = gd.closest('.output');\n",
              "if (outputEl) {{\n",
              "    x.observe(outputEl, {childList: true});\n",
              "}}\n",
              "\n",
              "                        })                };                            </script>        </div>\n",
              "</body>\n",
              "</html>"
            ]
          },
          "metadata": {}
        }
      ],
      "source": [
        "fig = px.bar(top_20_unigrams, title='Наиболе часто встречающиеся слова в обработанных обращениях')\n",
        "fig.show()"
      ]
    },
    {
      "cell_type": "markdown",
      "source": [
        "Наиболее частое слово - \"chase\". Это название банка."
      ],
      "metadata": {
        "id": "1ZX_L4oIolEn"
      }
    },
    {
      "cell_type": "code",
      "execution_count": null,
      "metadata": {
        "id": "hWYc2WgQlaeS"
      },
      "outputs": [],
      "source": [
        "top_20_bigrams = get_top_ngrams(complaints['text'], n=2, top=20)"
      ]
    },
    {
      "cell_type": "code",
      "execution_count": null,
      "metadata": {
        "colab": {
          "base_uri": "https://localhost:8080/",
          "height": 542
        },
        "id": "usXPZMDOkRMT",
        "outputId": "d74e3f44-100b-4aad-a0c1-0ea17f327c0d"
      },
      "outputs": [
        {
          "output_type": "display_data",
          "data": {
            "text/html": [
              "<html>\n",
              "<head><meta charset=\"utf-8\" /></head>\n",
              "<body>\n",
              "    <div>            <script src=\"https://cdnjs.cloudflare.com/ajax/libs/mathjax/2.7.5/MathJax.js?config=TeX-AMS-MML_SVG\"></script><script type=\"text/javascript\">if (window.MathJax && window.MathJax.Hub && window.MathJax.Hub.Config) {window.MathJax.Hub.Config({SVG: {font: \"STIX-Web\"}});}</script>                <script type=\"text/javascript\">window.PlotlyConfig = {MathJaxConfig: 'local'};</script>\n",
              "        <script charset=\"utf-8\" src=\"https://cdn.plot.ly/plotly-2.24.1.min.js\"></script>                <div id=\"38c04664-31d4-4501-8aac-91efcad1af0b\" class=\"plotly-graph-div\" style=\"height:525px; width:100%;\"></div>            <script type=\"text/javascript\">                                    window.PLOTLYENV=window.PLOTLYENV || {};                                    if (document.getElementById(\"38c04664-31d4-4501-8aac-91efcad1af0b\")) {                    Plotly.newPlot(                        \"38c04664-31d4-4501-8aac-91efcad1af0b\",                        [{\"alignmentgroup\":\"True\",\"hovertemplate\":\"variable=frequency\\u003cbr\\u003eindex=%{x}\\u003cbr\\u003evalue=%{y}\\u003cextra\\u003e\\u003c\\u002fextra\\u003e\",\"legendgroup\":\"frequency\",\"marker\":{\"color\":\"#636efa\",\"pattern\":{\"shape\":\"\"}},\"name\":\"frequency\",\"offsetgroup\":\"frequency\",\"orientation\":\"v\",\"showlegend\":true,\"textposition\":\"auto\",\"x\":[\"credit card\",\"chase bank\",\"credit report\",\"customer service\",\"chase credit\",\"bank account\",\"chase account\",\"account chase\",\"account account\",\"account bank\",\"phone call\",\"card account\",\"credit score\",\"card chase\",\"letter chase\",\"account credit\",\"payment payment\",\"credit bureau\",\"interest rate\",\"money account\"],\"xaxis\":\"x\",\"y\":[12739,5226,3894,3089,3069,2818,2731,2659,2393,1703,1662,1586,1566,1526,1503,1394,1355,1299,1294,1275],\"yaxis\":\"y\",\"type\":\"bar\"}],                        {\"template\":{\"data\":{\"histogram2dcontour\":[{\"type\":\"histogram2dcontour\",\"colorbar\":{\"outlinewidth\":0,\"ticks\":\"\"},\"colorscale\":[[0.0,\"#0d0887\"],[0.1111111111111111,\"#46039f\"],[0.2222222222222222,\"#7201a8\"],[0.3333333333333333,\"#9c179e\"],[0.4444444444444444,\"#bd3786\"],[0.5555555555555556,\"#d8576b\"],[0.6666666666666666,\"#ed7953\"],[0.7777777777777778,\"#fb9f3a\"],[0.8888888888888888,\"#fdca26\"],[1.0,\"#f0f921\"]]}],\"choropleth\":[{\"type\":\"choropleth\",\"colorbar\":{\"outlinewidth\":0,\"ticks\":\"\"}}],\"histogram2d\":[{\"type\":\"histogram2d\",\"colorbar\":{\"outlinewidth\":0,\"ticks\":\"\"},\"colorscale\":[[0.0,\"#0d0887\"],[0.1111111111111111,\"#46039f\"],[0.2222222222222222,\"#7201a8\"],[0.3333333333333333,\"#9c179e\"],[0.4444444444444444,\"#bd3786\"],[0.5555555555555556,\"#d8576b\"],[0.6666666666666666,\"#ed7953\"],[0.7777777777777778,\"#fb9f3a\"],[0.8888888888888888,\"#fdca26\"],[1.0,\"#f0f921\"]]}],\"heatmap\":[{\"type\":\"heatmap\",\"colorbar\":{\"outlinewidth\":0,\"ticks\":\"\"},\"colorscale\":[[0.0,\"#0d0887\"],[0.1111111111111111,\"#46039f\"],[0.2222222222222222,\"#7201a8\"],[0.3333333333333333,\"#9c179e\"],[0.4444444444444444,\"#bd3786\"],[0.5555555555555556,\"#d8576b\"],[0.6666666666666666,\"#ed7953\"],[0.7777777777777778,\"#fb9f3a\"],[0.8888888888888888,\"#fdca26\"],[1.0,\"#f0f921\"]]}],\"heatmapgl\":[{\"type\":\"heatmapgl\",\"colorbar\":{\"outlinewidth\":0,\"ticks\":\"\"},\"colorscale\":[[0.0,\"#0d0887\"],[0.1111111111111111,\"#46039f\"],[0.2222222222222222,\"#7201a8\"],[0.3333333333333333,\"#9c179e\"],[0.4444444444444444,\"#bd3786\"],[0.5555555555555556,\"#d8576b\"],[0.6666666666666666,\"#ed7953\"],[0.7777777777777778,\"#fb9f3a\"],[0.8888888888888888,\"#fdca26\"],[1.0,\"#f0f921\"]]}],\"contourcarpet\":[{\"type\":\"contourcarpet\",\"colorbar\":{\"outlinewidth\":0,\"ticks\":\"\"}}],\"contour\":[{\"type\":\"contour\",\"colorbar\":{\"outlinewidth\":0,\"ticks\":\"\"},\"colorscale\":[[0.0,\"#0d0887\"],[0.1111111111111111,\"#46039f\"],[0.2222222222222222,\"#7201a8\"],[0.3333333333333333,\"#9c179e\"],[0.4444444444444444,\"#bd3786\"],[0.5555555555555556,\"#d8576b\"],[0.6666666666666666,\"#ed7953\"],[0.7777777777777778,\"#fb9f3a\"],[0.8888888888888888,\"#fdca26\"],[1.0,\"#f0f921\"]]}],\"surface\":[{\"type\":\"surface\",\"colorbar\":{\"outlinewidth\":0,\"ticks\":\"\"},\"colorscale\":[[0.0,\"#0d0887\"],[0.1111111111111111,\"#46039f\"],[0.2222222222222222,\"#7201a8\"],[0.3333333333333333,\"#9c179e\"],[0.4444444444444444,\"#bd3786\"],[0.5555555555555556,\"#d8576b\"],[0.6666666666666666,\"#ed7953\"],[0.7777777777777778,\"#fb9f3a\"],[0.8888888888888888,\"#fdca26\"],[1.0,\"#f0f921\"]]}],\"mesh3d\":[{\"type\":\"mesh3d\",\"colorbar\":{\"outlinewidth\":0,\"ticks\":\"\"}}],\"scatter\":[{\"fillpattern\":{\"fillmode\":\"overlay\",\"size\":10,\"solidity\":0.2},\"type\":\"scatter\"}],\"parcoords\":[{\"type\":\"parcoords\",\"line\":{\"colorbar\":{\"outlinewidth\":0,\"ticks\":\"\"}}}],\"scatterpolargl\":[{\"type\":\"scatterpolargl\",\"marker\":{\"colorbar\":{\"outlinewidth\":0,\"ticks\":\"\"}}}],\"bar\":[{\"error_x\":{\"color\":\"#2a3f5f\"},\"error_y\":{\"color\":\"#2a3f5f\"},\"marker\":{\"line\":{\"color\":\"#E5ECF6\",\"width\":0.5},\"pattern\":{\"fillmode\":\"overlay\",\"size\":10,\"solidity\":0.2}},\"type\":\"bar\"}],\"scattergeo\":[{\"type\":\"scattergeo\",\"marker\":{\"colorbar\":{\"outlinewidth\":0,\"ticks\":\"\"}}}],\"scatterpolar\":[{\"type\":\"scatterpolar\",\"marker\":{\"colorbar\":{\"outlinewidth\":0,\"ticks\":\"\"}}}],\"histogram\":[{\"marker\":{\"pattern\":{\"fillmode\":\"overlay\",\"size\":10,\"solidity\":0.2}},\"type\":\"histogram\"}],\"scattergl\":[{\"type\":\"scattergl\",\"marker\":{\"colorbar\":{\"outlinewidth\":0,\"ticks\":\"\"}}}],\"scatter3d\":[{\"type\":\"scatter3d\",\"line\":{\"colorbar\":{\"outlinewidth\":0,\"ticks\":\"\"}},\"marker\":{\"colorbar\":{\"outlinewidth\":0,\"ticks\":\"\"}}}],\"scattermapbox\":[{\"type\":\"scattermapbox\",\"marker\":{\"colorbar\":{\"outlinewidth\":0,\"ticks\":\"\"}}}],\"scatterternary\":[{\"type\":\"scatterternary\",\"marker\":{\"colorbar\":{\"outlinewidth\":0,\"ticks\":\"\"}}}],\"scattercarpet\":[{\"type\":\"scattercarpet\",\"marker\":{\"colorbar\":{\"outlinewidth\":0,\"ticks\":\"\"}}}],\"carpet\":[{\"aaxis\":{\"endlinecolor\":\"#2a3f5f\",\"gridcolor\":\"white\",\"linecolor\":\"white\",\"minorgridcolor\":\"white\",\"startlinecolor\":\"#2a3f5f\"},\"baxis\":{\"endlinecolor\":\"#2a3f5f\",\"gridcolor\":\"white\",\"linecolor\":\"white\",\"minorgridcolor\":\"white\",\"startlinecolor\":\"#2a3f5f\"},\"type\":\"carpet\"}],\"table\":[{\"cells\":{\"fill\":{\"color\":\"#EBF0F8\"},\"line\":{\"color\":\"white\"}},\"header\":{\"fill\":{\"color\":\"#C8D4E3\"},\"line\":{\"color\":\"white\"}},\"type\":\"table\"}],\"barpolar\":[{\"marker\":{\"line\":{\"color\":\"#E5ECF6\",\"width\":0.5},\"pattern\":{\"fillmode\":\"overlay\",\"size\":10,\"solidity\":0.2}},\"type\":\"barpolar\"}],\"pie\":[{\"automargin\":true,\"type\":\"pie\"}]},\"layout\":{\"autotypenumbers\":\"strict\",\"colorway\":[\"#636efa\",\"#EF553B\",\"#00cc96\",\"#ab63fa\",\"#FFA15A\",\"#19d3f3\",\"#FF6692\",\"#B6E880\",\"#FF97FF\",\"#FECB52\"],\"font\":{\"color\":\"#2a3f5f\"},\"hovermode\":\"closest\",\"hoverlabel\":{\"align\":\"left\"},\"paper_bgcolor\":\"white\",\"plot_bgcolor\":\"#E5ECF6\",\"polar\":{\"bgcolor\":\"#E5ECF6\",\"angularaxis\":{\"gridcolor\":\"white\",\"linecolor\":\"white\",\"ticks\":\"\"},\"radialaxis\":{\"gridcolor\":\"white\",\"linecolor\":\"white\",\"ticks\":\"\"}},\"ternary\":{\"bgcolor\":\"#E5ECF6\",\"aaxis\":{\"gridcolor\":\"white\",\"linecolor\":\"white\",\"ticks\":\"\"},\"baxis\":{\"gridcolor\":\"white\",\"linecolor\":\"white\",\"ticks\":\"\"},\"caxis\":{\"gridcolor\":\"white\",\"linecolor\":\"white\",\"ticks\":\"\"}},\"coloraxis\":{\"colorbar\":{\"outlinewidth\":0,\"ticks\":\"\"}},\"colorscale\":{\"sequential\":[[0.0,\"#0d0887\"],[0.1111111111111111,\"#46039f\"],[0.2222222222222222,\"#7201a8\"],[0.3333333333333333,\"#9c179e\"],[0.4444444444444444,\"#bd3786\"],[0.5555555555555556,\"#d8576b\"],[0.6666666666666666,\"#ed7953\"],[0.7777777777777778,\"#fb9f3a\"],[0.8888888888888888,\"#fdca26\"],[1.0,\"#f0f921\"]],\"sequentialminus\":[[0.0,\"#0d0887\"],[0.1111111111111111,\"#46039f\"],[0.2222222222222222,\"#7201a8\"],[0.3333333333333333,\"#9c179e\"],[0.4444444444444444,\"#bd3786\"],[0.5555555555555556,\"#d8576b\"],[0.6666666666666666,\"#ed7953\"],[0.7777777777777778,\"#fb9f3a\"],[0.8888888888888888,\"#fdca26\"],[1.0,\"#f0f921\"]],\"diverging\":[[0,\"#8e0152\"],[0.1,\"#c51b7d\"],[0.2,\"#de77ae\"],[0.3,\"#f1b6da\"],[0.4,\"#fde0ef\"],[0.5,\"#f7f7f7\"],[0.6,\"#e6f5d0\"],[0.7,\"#b8e186\"],[0.8,\"#7fbc41\"],[0.9,\"#4d9221\"],[1,\"#276419\"]]},\"xaxis\":{\"gridcolor\":\"white\",\"linecolor\":\"white\",\"ticks\":\"\",\"title\":{\"standoff\":15},\"zerolinecolor\":\"white\",\"automargin\":true,\"zerolinewidth\":2},\"yaxis\":{\"gridcolor\":\"white\",\"linecolor\":\"white\",\"ticks\":\"\",\"title\":{\"standoff\":15},\"zerolinecolor\":\"white\",\"automargin\":true,\"zerolinewidth\":2},\"scene\":{\"xaxis\":{\"backgroundcolor\":\"#E5ECF6\",\"gridcolor\":\"white\",\"linecolor\":\"white\",\"showbackground\":true,\"ticks\":\"\",\"zerolinecolor\":\"white\",\"gridwidth\":2},\"yaxis\":{\"backgroundcolor\":\"#E5ECF6\",\"gridcolor\":\"white\",\"linecolor\":\"white\",\"showbackground\":true,\"ticks\":\"\",\"zerolinecolor\":\"white\",\"gridwidth\":2},\"zaxis\":{\"backgroundcolor\":\"#E5ECF6\",\"gridcolor\":\"white\",\"linecolor\":\"white\",\"showbackground\":true,\"ticks\":\"\",\"zerolinecolor\":\"white\",\"gridwidth\":2}},\"shapedefaults\":{\"line\":{\"color\":\"#2a3f5f\"}},\"annotationdefaults\":{\"arrowcolor\":\"#2a3f5f\",\"arrowhead\":0,\"arrowwidth\":1},\"geo\":{\"bgcolor\":\"white\",\"landcolor\":\"#E5ECF6\",\"subunitcolor\":\"white\",\"showland\":true,\"showlakes\":true,\"lakecolor\":\"white\"},\"title\":{\"x\":0.05},\"mapbox\":{\"style\":\"light\"}}},\"xaxis\":{\"anchor\":\"y\",\"domain\":[0.0,1.0],\"title\":{\"text\":\"index\"}},\"yaxis\":{\"anchor\":\"x\",\"domain\":[0.0,1.0],\"title\":{\"text\":\"value\"}},\"legend\":{\"title\":{\"text\":\"variable\"},\"tracegroupgap\":0},\"title\":{\"text\":\"\\u041d\\u0430\\u0438\\u0431\\u043e\\u043b\\u0435 \\u0447\\u0430\\u0441\\u0442\\u043e \\u0432\\u0441\\u0442\\u0440\\u0435\\u0447\\u0430\\u044e\\u0449\\u0438\\u0435\\u0441\\u044f \\u0431\\u0438\\u0433\\u0440\\u0430\\u043c\\u043c\\u044b \\u0432 \\u043e\\u0431\\u0440\\u0430\\u0431\\u043e\\u0442\\u0430\\u043d\\u043d\\u044b\\u0445 \\u043e\\u0431\\u0440\\u0430\\u0449\\u0435\\u043d\\u0438\\u044f\\u0445\"},\"barmode\":\"relative\"},                        {\"responsive\": true}                    ).then(function(){\n",
              "                            \n",
              "var gd = document.getElementById('38c04664-31d4-4501-8aac-91efcad1af0b');\n",
              "var x = new MutationObserver(function (mutations, observer) {{\n",
              "        var display = window.getComputedStyle(gd).display;\n",
              "        if (!display || display === 'none') {{\n",
              "            console.log([gd, 'removed!']);\n",
              "            Plotly.purge(gd);\n",
              "            observer.disconnect();\n",
              "        }}\n",
              "}});\n",
              "\n",
              "// Listen for the removal of the full notebook cells\n",
              "var notebookContainer = gd.closest('#notebook-container');\n",
              "if (notebookContainer) {{\n",
              "    x.observe(notebookContainer, {childList: true});\n",
              "}}\n",
              "\n",
              "// Listen for the clearing of the current output cell\n",
              "var outputEl = gd.closest('.output');\n",
              "if (outputEl) {{\n",
              "    x.observe(outputEl, {childList: true});\n",
              "}}\n",
              "\n",
              "                        })                };                            </script>        </div>\n",
              "</body>\n",
              "</html>"
            ]
          },
          "metadata": {}
        }
      ],
      "source": [
        "fig = px.bar(top_20_bigrams, title='Наиболе часто встречающиеся биграммы в обработанных обращениях')\n",
        "fig.show()"
      ]
    },
    {
      "cell_type": "markdown",
      "source": [
        "Словосочетание \"credit card\" смещает название банка на второе место. Похоже, что чаще всего люди обращаются с проблемами с кредитными картами. Помимо них, встречаются упоминания кредитной истории, службы поддержки клиентов и личного счета."
      ],
      "metadata": {
        "id": "5mYYA5MMpRgk"
      }
    },
    {
      "cell_type": "code",
      "execution_count": null,
      "metadata": {
        "id": "cAJdqb30lcWJ"
      },
      "outputs": [],
      "source": [
        "top_20_trigrams = get_top_ngrams(complaints['text'], n=3, top=20)"
      ]
    },
    {
      "cell_type": "code",
      "execution_count": null,
      "metadata": {
        "id": "90P7IVj5lfTW",
        "colab": {
          "base_uri": "https://localhost:8080/",
          "height": 542
        },
        "outputId": "f8e67751-3a65-4201-803d-3cf11ca47d03"
      },
      "outputs": [
        {
          "output_type": "display_data",
          "data": {
            "text/html": [
              "<html>\n",
              "<head><meta charset=\"utf-8\" /></head>\n",
              "<body>\n",
              "    <div>            <script src=\"https://cdnjs.cloudflare.com/ajax/libs/mathjax/2.7.5/MathJax.js?config=TeX-AMS-MML_SVG\"></script><script type=\"text/javascript\">if (window.MathJax && window.MathJax.Hub && window.MathJax.Hub.Config) {window.MathJax.Hub.Config({SVG: {font: \"STIX-Web\"}});}</script>                <script type=\"text/javascript\">window.PlotlyConfig = {MathJaxConfig: 'local'};</script>\n",
              "        <script charset=\"utf-8\" src=\"https://cdn.plot.ly/plotly-2.24.1.min.js\"></script>                <div id=\"48d03b81-b90e-4db2-b0f4-5f4a702aa4f0\" class=\"plotly-graph-div\" style=\"height:525px; width:100%;\"></div>            <script type=\"text/javascript\">                                    window.PLOTLYENV=window.PLOTLYENV || {};                                    if (document.getElementById(\"48d03b81-b90e-4db2-b0f4-5f4a702aa4f0\")) {                    Plotly.newPlot(                        \"48d03b81-b90e-4db2-b0f4-5f4a702aa4f0\",                        [{\"alignmentgroup\":\"True\",\"hovertemplate\":\"variable=frequency\\u003cbr\\u003eindex=%{x}\\u003cbr\\u003evalue=%{y}\\u003cextra\\u003e\\u003c\\u002fextra\\u003e\",\"legendgroup\":\"frequency\",\"marker\":{\"color\":\"#636efa\",\"pattern\":{\"shape\":\"\"}},\"name\":\"frequency\",\"offsetgroup\":\"frequency\",\"orientation\":\"v\",\"showlegend\":true,\"textposition\":\"auto\",\"x\":[\"chase credit card\",\"credit card account\",\"credit card company\",\"credit card chase\",\"credit card credit\",\"chase bank account\",\"inquiry credit report\",\"chase customer service\",\"charge credit card\",\"account credit card\",\"credit report credit\",\"credit reporting agency\",\"bank credit card\",\"card credit card\",\"credit card bank\",\"credit reporting act\",\"account credit report\",\"credit card payment\",\"phone call chase\",\"account chase account\"],\"xaxis\":\"x\",\"y\":[2142,1036,1005,778,487,432,426,420,408,387,380,380,379,357,349,334,315,301,270,270],\"yaxis\":\"y\",\"type\":\"bar\"}],                        {\"template\":{\"data\":{\"histogram2dcontour\":[{\"type\":\"histogram2dcontour\",\"colorbar\":{\"outlinewidth\":0,\"ticks\":\"\"},\"colorscale\":[[0.0,\"#0d0887\"],[0.1111111111111111,\"#46039f\"],[0.2222222222222222,\"#7201a8\"],[0.3333333333333333,\"#9c179e\"],[0.4444444444444444,\"#bd3786\"],[0.5555555555555556,\"#d8576b\"],[0.6666666666666666,\"#ed7953\"],[0.7777777777777778,\"#fb9f3a\"],[0.8888888888888888,\"#fdca26\"],[1.0,\"#f0f921\"]]}],\"choropleth\":[{\"type\":\"choropleth\",\"colorbar\":{\"outlinewidth\":0,\"ticks\":\"\"}}],\"histogram2d\":[{\"type\":\"histogram2d\",\"colorbar\":{\"outlinewidth\":0,\"ticks\":\"\"},\"colorscale\":[[0.0,\"#0d0887\"],[0.1111111111111111,\"#46039f\"],[0.2222222222222222,\"#7201a8\"],[0.3333333333333333,\"#9c179e\"],[0.4444444444444444,\"#bd3786\"],[0.5555555555555556,\"#d8576b\"],[0.6666666666666666,\"#ed7953\"],[0.7777777777777778,\"#fb9f3a\"],[0.8888888888888888,\"#fdca26\"],[1.0,\"#f0f921\"]]}],\"heatmap\":[{\"type\":\"heatmap\",\"colorbar\":{\"outlinewidth\":0,\"ticks\":\"\"},\"colorscale\":[[0.0,\"#0d0887\"],[0.1111111111111111,\"#46039f\"],[0.2222222222222222,\"#7201a8\"],[0.3333333333333333,\"#9c179e\"],[0.4444444444444444,\"#bd3786\"],[0.5555555555555556,\"#d8576b\"],[0.6666666666666666,\"#ed7953\"],[0.7777777777777778,\"#fb9f3a\"],[0.8888888888888888,\"#fdca26\"],[1.0,\"#f0f921\"]]}],\"heatmapgl\":[{\"type\":\"heatmapgl\",\"colorbar\":{\"outlinewidth\":0,\"ticks\":\"\"},\"colorscale\":[[0.0,\"#0d0887\"],[0.1111111111111111,\"#46039f\"],[0.2222222222222222,\"#7201a8\"],[0.3333333333333333,\"#9c179e\"],[0.4444444444444444,\"#bd3786\"],[0.5555555555555556,\"#d8576b\"],[0.6666666666666666,\"#ed7953\"],[0.7777777777777778,\"#fb9f3a\"],[0.8888888888888888,\"#fdca26\"],[1.0,\"#f0f921\"]]}],\"contourcarpet\":[{\"type\":\"contourcarpet\",\"colorbar\":{\"outlinewidth\":0,\"ticks\":\"\"}}],\"contour\":[{\"type\":\"contour\",\"colorbar\":{\"outlinewidth\":0,\"ticks\":\"\"},\"colorscale\":[[0.0,\"#0d0887\"],[0.1111111111111111,\"#46039f\"],[0.2222222222222222,\"#7201a8\"],[0.3333333333333333,\"#9c179e\"],[0.4444444444444444,\"#bd3786\"],[0.5555555555555556,\"#d8576b\"],[0.6666666666666666,\"#ed7953\"],[0.7777777777777778,\"#fb9f3a\"],[0.8888888888888888,\"#fdca26\"],[1.0,\"#f0f921\"]]}],\"surface\":[{\"type\":\"surface\",\"colorbar\":{\"outlinewidth\":0,\"ticks\":\"\"},\"colorscale\":[[0.0,\"#0d0887\"],[0.1111111111111111,\"#46039f\"],[0.2222222222222222,\"#7201a8\"],[0.3333333333333333,\"#9c179e\"],[0.4444444444444444,\"#bd3786\"],[0.5555555555555556,\"#d8576b\"],[0.6666666666666666,\"#ed7953\"],[0.7777777777777778,\"#fb9f3a\"],[0.8888888888888888,\"#fdca26\"],[1.0,\"#f0f921\"]]}],\"mesh3d\":[{\"type\":\"mesh3d\",\"colorbar\":{\"outlinewidth\":0,\"ticks\":\"\"}}],\"scatter\":[{\"fillpattern\":{\"fillmode\":\"overlay\",\"size\":10,\"solidity\":0.2},\"type\":\"scatter\"}],\"parcoords\":[{\"type\":\"parcoords\",\"line\":{\"colorbar\":{\"outlinewidth\":0,\"ticks\":\"\"}}}],\"scatterpolargl\":[{\"type\":\"scatterpolargl\",\"marker\":{\"colorbar\":{\"outlinewidth\":0,\"ticks\":\"\"}}}],\"bar\":[{\"error_x\":{\"color\":\"#2a3f5f\"},\"error_y\":{\"color\":\"#2a3f5f\"},\"marker\":{\"line\":{\"color\":\"#E5ECF6\",\"width\":0.5},\"pattern\":{\"fillmode\":\"overlay\",\"size\":10,\"solidity\":0.2}},\"type\":\"bar\"}],\"scattergeo\":[{\"type\":\"scattergeo\",\"marker\":{\"colorbar\":{\"outlinewidth\":0,\"ticks\":\"\"}}}],\"scatterpolar\":[{\"type\":\"scatterpolar\",\"marker\":{\"colorbar\":{\"outlinewidth\":0,\"ticks\":\"\"}}}],\"histogram\":[{\"marker\":{\"pattern\":{\"fillmode\":\"overlay\",\"size\":10,\"solidity\":0.2}},\"type\":\"histogram\"}],\"scattergl\":[{\"type\":\"scattergl\",\"marker\":{\"colorbar\":{\"outlinewidth\":0,\"ticks\":\"\"}}}],\"scatter3d\":[{\"type\":\"scatter3d\",\"line\":{\"colorbar\":{\"outlinewidth\":0,\"ticks\":\"\"}},\"marker\":{\"colorbar\":{\"outlinewidth\":0,\"ticks\":\"\"}}}],\"scattermapbox\":[{\"type\":\"scattermapbox\",\"marker\":{\"colorbar\":{\"outlinewidth\":0,\"ticks\":\"\"}}}],\"scatterternary\":[{\"type\":\"scatterternary\",\"marker\":{\"colorbar\":{\"outlinewidth\":0,\"ticks\":\"\"}}}],\"scattercarpet\":[{\"type\":\"scattercarpet\",\"marker\":{\"colorbar\":{\"outlinewidth\":0,\"ticks\":\"\"}}}],\"carpet\":[{\"aaxis\":{\"endlinecolor\":\"#2a3f5f\",\"gridcolor\":\"white\",\"linecolor\":\"white\",\"minorgridcolor\":\"white\",\"startlinecolor\":\"#2a3f5f\"},\"baxis\":{\"endlinecolor\":\"#2a3f5f\",\"gridcolor\":\"white\",\"linecolor\":\"white\",\"minorgridcolor\":\"white\",\"startlinecolor\":\"#2a3f5f\"},\"type\":\"carpet\"}],\"table\":[{\"cells\":{\"fill\":{\"color\":\"#EBF0F8\"},\"line\":{\"color\":\"white\"}},\"header\":{\"fill\":{\"color\":\"#C8D4E3\"},\"line\":{\"color\":\"white\"}},\"type\":\"table\"}],\"barpolar\":[{\"marker\":{\"line\":{\"color\":\"#E5ECF6\",\"width\":0.5},\"pattern\":{\"fillmode\":\"overlay\",\"size\":10,\"solidity\":0.2}},\"type\":\"barpolar\"}],\"pie\":[{\"automargin\":true,\"type\":\"pie\"}]},\"layout\":{\"autotypenumbers\":\"strict\",\"colorway\":[\"#636efa\",\"#EF553B\",\"#00cc96\",\"#ab63fa\",\"#FFA15A\",\"#19d3f3\",\"#FF6692\",\"#B6E880\",\"#FF97FF\",\"#FECB52\"],\"font\":{\"color\":\"#2a3f5f\"},\"hovermode\":\"closest\",\"hoverlabel\":{\"align\":\"left\"},\"paper_bgcolor\":\"white\",\"plot_bgcolor\":\"#E5ECF6\",\"polar\":{\"bgcolor\":\"#E5ECF6\",\"angularaxis\":{\"gridcolor\":\"white\",\"linecolor\":\"white\",\"ticks\":\"\"},\"radialaxis\":{\"gridcolor\":\"white\",\"linecolor\":\"white\",\"ticks\":\"\"}},\"ternary\":{\"bgcolor\":\"#E5ECF6\",\"aaxis\":{\"gridcolor\":\"white\",\"linecolor\":\"white\",\"ticks\":\"\"},\"baxis\":{\"gridcolor\":\"white\",\"linecolor\":\"white\",\"ticks\":\"\"},\"caxis\":{\"gridcolor\":\"white\",\"linecolor\":\"white\",\"ticks\":\"\"}},\"coloraxis\":{\"colorbar\":{\"outlinewidth\":0,\"ticks\":\"\"}},\"colorscale\":{\"sequential\":[[0.0,\"#0d0887\"],[0.1111111111111111,\"#46039f\"],[0.2222222222222222,\"#7201a8\"],[0.3333333333333333,\"#9c179e\"],[0.4444444444444444,\"#bd3786\"],[0.5555555555555556,\"#d8576b\"],[0.6666666666666666,\"#ed7953\"],[0.7777777777777778,\"#fb9f3a\"],[0.8888888888888888,\"#fdca26\"],[1.0,\"#f0f921\"]],\"sequentialminus\":[[0.0,\"#0d0887\"],[0.1111111111111111,\"#46039f\"],[0.2222222222222222,\"#7201a8\"],[0.3333333333333333,\"#9c179e\"],[0.4444444444444444,\"#bd3786\"],[0.5555555555555556,\"#d8576b\"],[0.6666666666666666,\"#ed7953\"],[0.7777777777777778,\"#fb9f3a\"],[0.8888888888888888,\"#fdca26\"],[1.0,\"#f0f921\"]],\"diverging\":[[0,\"#8e0152\"],[0.1,\"#c51b7d\"],[0.2,\"#de77ae\"],[0.3,\"#f1b6da\"],[0.4,\"#fde0ef\"],[0.5,\"#f7f7f7\"],[0.6,\"#e6f5d0\"],[0.7,\"#b8e186\"],[0.8,\"#7fbc41\"],[0.9,\"#4d9221\"],[1,\"#276419\"]]},\"xaxis\":{\"gridcolor\":\"white\",\"linecolor\":\"white\",\"ticks\":\"\",\"title\":{\"standoff\":15},\"zerolinecolor\":\"white\",\"automargin\":true,\"zerolinewidth\":2},\"yaxis\":{\"gridcolor\":\"white\",\"linecolor\":\"white\",\"ticks\":\"\",\"title\":{\"standoff\":15},\"zerolinecolor\":\"white\",\"automargin\":true,\"zerolinewidth\":2},\"scene\":{\"xaxis\":{\"backgroundcolor\":\"#E5ECF6\",\"gridcolor\":\"white\",\"linecolor\":\"white\",\"showbackground\":true,\"ticks\":\"\",\"zerolinecolor\":\"white\",\"gridwidth\":2},\"yaxis\":{\"backgroundcolor\":\"#E5ECF6\",\"gridcolor\":\"white\",\"linecolor\":\"white\",\"showbackground\":true,\"ticks\":\"\",\"zerolinecolor\":\"white\",\"gridwidth\":2},\"zaxis\":{\"backgroundcolor\":\"#E5ECF6\",\"gridcolor\":\"white\",\"linecolor\":\"white\",\"showbackground\":true,\"ticks\":\"\",\"zerolinecolor\":\"white\",\"gridwidth\":2}},\"shapedefaults\":{\"line\":{\"color\":\"#2a3f5f\"}},\"annotationdefaults\":{\"arrowcolor\":\"#2a3f5f\",\"arrowhead\":0,\"arrowwidth\":1},\"geo\":{\"bgcolor\":\"white\",\"landcolor\":\"#E5ECF6\",\"subunitcolor\":\"white\",\"showland\":true,\"showlakes\":true,\"lakecolor\":\"white\"},\"title\":{\"x\":0.05},\"mapbox\":{\"style\":\"light\"}}},\"xaxis\":{\"anchor\":\"y\",\"domain\":[0.0,1.0],\"title\":{\"text\":\"index\"}},\"yaxis\":{\"anchor\":\"x\",\"domain\":[0.0,1.0],\"title\":{\"text\":\"value\"}},\"legend\":{\"title\":{\"text\":\"variable\"},\"tracegroupgap\":0},\"title\":{\"text\":\"\\u041d\\u0430\\u0438\\u0431\\u043e\\u043b\\u0435 \\u0447\\u0430\\u0441\\u0442\\u043e \\u0432\\u0441\\u0442\\u0440\\u0435\\u0447\\u0430\\u044e\\u0449\\u0438\\u0435\\u0441\\u044f \\u0442\\u0440\\u0438\\u0433\\u0440\\u0430\\u043c\\u043c\\u044b \\u0432 \\u043e\\u0431\\u0440\\u0430\\u0431\\u043e\\u0442\\u0430\\u043d\\u043d\\u044b\\u0445 \\u043e\\u0431\\u0440\\u0430\\u0449\\u0435\\u043d\\u0438\\u044f\\u0445\"},\"barmode\":\"relative\"},                        {\"responsive\": true}                    ).then(function(){\n",
              "                            \n",
              "var gd = document.getElementById('48d03b81-b90e-4db2-b0f4-5f4a702aa4f0');\n",
              "var x = new MutationObserver(function (mutations, observer) {{\n",
              "        var display = window.getComputedStyle(gd).display;\n",
              "        if (!display || display === 'none') {{\n",
              "            console.log([gd, 'removed!']);\n",
              "            Plotly.purge(gd);\n",
              "            observer.disconnect();\n",
              "        }}\n",
              "}});\n",
              "\n",
              "// Listen for the removal of the full notebook cells\n",
              "var notebookContainer = gd.closest('#notebook-container');\n",
              "if (notebookContainer) {{\n",
              "    x.observe(notebookContainer, {childList: true});\n",
              "}}\n",
              "\n",
              "// Listen for the clearing of the current output cell\n",
              "var outputEl = gd.closest('.output');\n",
              "if (outputEl) {{\n",
              "    x.observe(outputEl, {childList: true});\n",
              "}}\n",
              "\n",
              "                        })                };                            </script>        </div>\n",
              "</body>\n",
              "</html>"
            ]
          },
          "metadata": {}
        }
      ],
      "source": [
        "fig = px.bar(top_20_trigrams, title='Наиболе часто встречающиеся триграммы в обработанных обращениях')\n",
        "fig.show()"
      ]
    },
    {
      "cell_type": "markdown",
      "source": [
        "Среди триграмм все еще лидируют вариации \"credit card\". Однако появилось и новое слово - \"inquiry\" (запрос) в \"inquiry credit report\"."
      ],
      "metadata": {
        "id": "I8NTKr9fSc3c"
      }
    },
    {
      "cell_type": "markdown",
      "metadata": {
        "id": "ryoUyfefflHE"
      },
      "source": [
        "# Обнаружение тем"
      ]
    },
    {
      "cell_type": "markdown",
      "source": [
        "## Обучение модели LDA"
      ],
      "metadata": {
        "id": "E42KrBWm4Rkz"
      }
    },
    {
      "cell_type": "markdown",
      "source": [
        "LDA (Latent Dirichlet allocation, Латентное размещение Дирихле) - модель, позволяющая объяснить сходство некоторых частей данных с помощью неявных (латентных) групп. В задаче тематического моделирования, этими группами являются темы документов, а документы - пересечение этих тем. Эта модель пытается выделить эти группы, основываясь на вероятность принадлежности некоторого слова из документа к группе."
      ],
      "metadata": {
        "id": "nNxqyWdvqs0g"
      }
    },
    {
      "cell_type": "markdown",
      "source": [
        "Библиотека pyLDAvis, использующаяся для визуализации результатов работы модели LDA, конфликтует с некоторыми версиями pandas. После выполнения команды ниже проблемы проходят."
      ],
      "metadata": {
        "id": "VB90XWZ8qKJm"
      }
    },
    {
      "cell_type": "code",
      "execution_count": null,
      "metadata": {
        "colab": {
          "base_uri": "https://localhost:8080/"
        },
        "id": "7bs4hgPTC0ZU",
        "outputId": "77bbdfb6-d5f7-4647-beb1-843f43a8ec0a"
      },
      "outputs": [
        {
          "output_type": "stream",
          "name": "stdout",
          "text": [
            "Requirement already satisfied: pandas in /usr/local/lib/python3.10/dist-packages (2.1.0)\n",
            "Requirement already satisfied: numpy>=1.22.4 in /usr/local/lib/python3.10/dist-packages (from pandas) (1.25.2)\n",
            "Requirement already satisfied: python-dateutil>=2.8.2 in /usr/local/lib/python3.10/dist-packages (from pandas) (2.8.2)\n",
            "Requirement already satisfied: pytz>=2020.1 in /usr/local/lib/python3.10/dist-packages (from pandas) (2023.3)\n",
            "Requirement already satisfied: tzdata>=2022.1 in /usr/local/lib/python3.10/dist-packages (from pandas) (2023.3)\n",
            "Requirement already satisfied: six>=1.5 in /usr/local/lib/python3.10/dist-packages (from python-dateutil>=2.8.2->pandas) (1.16.0)\n"
          ]
        }
      ],
      "source": [
        "!pip install pandas -U  #\"pandas<2.0.0\""
      ]
    },
    {
      "cell_type": "code",
      "execution_count": null,
      "metadata": {
        "id": "6MAbzN-RtZHS"
      },
      "outputs": [],
      "source": [
        "from gensim.corpora.dictionary import Dictionary\n",
        "from gensim.models import LdaModel\n",
        "\n",
        "texts = [t.split(' ') for t in complaints['text'].values]\n",
        "\n",
        "# Create a corpus from a list of texts\n",
        "common_dictionary = Dictionary(texts)\n",
        "common_corpus = [common_dictionary.doc2bow(text) for text in texts]\n",
        "\n",
        "# Train the model on the corpus\n",
        "lda = LdaModel(common_corpus, num_topics=5, id2word=common_dictionary, passes=5, random_state=17)"
      ]
    },
    {
      "cell_type": "code",
      "execution_count": null,
      "metadata": {
        "colab": {
          "base_uri": "https://localhost:8080/",
          "height": 861
        },
        "id": "hMyuQ3iRzZCb",
        "outputId": "1e8a821a-b8e5-40f0-e32f-59e7570ab3ba"
      },
      "outputs": [
        {
          "output_type": "execute_result",
          "data": {
            "text/plain": [
              "PreparedData(topic_coordinates=              x         y  topics  cluster       Freq\n",
              "topic                                                \n",
              "3      0.128486 -0.002383       1        1  25.400450\n",
              "2      0.017409  0.001846       2        1  24.228557\n",
              "0     -0.038556  0.201387       3        1  20.038236\n",
              "4      0.103137 -0.109164       4        1  15.474847\n",
              "1     -0.210476 -0.091686       5        1  14.857910, topic_info=         Term          Freq         Total Category  logprob  loglift\n",
              "29     credit  33805.000000  33805.000000  Default  30.0000  30.0000\n",
              "21       card  27354.000000  27354.000000  Default  29.0000  29.0000\n",
              "0     account  44734.000000  44734.000000  Default  28.0000  28.0000\n",
              "91    payment  20506.000000  20506.000000  Default  27.0000  27.0000\n",
              "128      loan  10775.000000  10775.000000  Default  26.0000  26.0000\n",
              "..        ...           ...           ...      ...      ...      ...\n",
              "0     account   3777.250575  44734.952718   Topic5  -3.8690  -0.5651\n",
              "3        bank   1948.388582  28310.754013   Topic5  -4.5310  -0.7696\n",
              "173  response   1067.509951   2842.139947   Topic5  -5.1327   0.9274\n",
              "24       date   1138.865834   4948.519481   Topic5  -5.0680   0.4376\n",
              "13       name   1090.848870   4079.189756   Topic5  -5.1110   0.5877\n",
              "\n",
              "[392 rows x 6 columns], token_table=      Topic      Freq    Term\n",
              "term                         \n",
              "313       1  0.819676  access\n",
              "313       2  0.085155  access\n",
              "313       3  0.004282  access\n",
              "313       4  0.078495  access\n",
              "313       5  0.012369  access\n",
              "...     ...       ...     ...\n",
              "138       2  0.260571    year\n",
              "138       3  0.462524    year\n",
              "138       4  0.029367    year\n",
              "138       5  0.066774    year\n",
              "563       5  0.979579       z\n",
              "\n",
              "[795 rows x 3 columns], R=30, lambda_step=0.01, plot_opts={'xlab': 'PC1', 'ylab': 'PC2'}, topic_order=[4, 3, 1, 5, 2])"
            ],
            "text/html": [
              "\n",
              "<link rel=\"stylesheet\" type=\"text/css\" href=\"https://cdn.jsdelivr.net/gh/bmabey/pyLDAvis@3.4.0/pyLDAvis/js/ldavis.v1.0.0.css\">\n",
              "\n",
              "\n",
              "<div id=\"ldavis_el9121379972463329922430737082\" style=\"background-color:white;\"></div>\n",
              "<script type=\"text/javascript\">\n",
              "\n",
              "var ldavis_el9121379972463329922430737082_data = {\"mdsDat\": {\"x\": [0.1284863439149875, 0.017408615947982587, -0.03855632329130273, 0.1031374835162552, -0.2104761200879224], \"y\": [-0.00238342607705761, 0.0018461104147821964, 0.20138696800751898, -0.10916367986787659, -0.09168597247736689], \"topics\": [1, 2, 3, 4, 5], \"cluster\": [1, 1, 1, 1, 1], \"Freq\": [25.400450239678683, 24.228557123746267, 20.03823562151112, 15.474847465458463, 14.857909549605452]}, \"tinfo\": {\"Term\": [\"credit\", \"card\", \"account\", \"payment\", \"loan\", \"check\", \"transaction\", \"mortgage\", \"charge\", \"report\", \"fraud\", \"claim\", \"bank\", \"money\", \"fund\", \"debt\", \"deposit\", \"home\", \"branch\", \"interest\", \"property\", \"modification\", \"information\", \"inquiry\", \"rate\", \"letter\", \"balance\", \"bureau\", \"dispute\", \"month\", \"coupon\", \"check\", \"payroll\", \"wire\", \"teller\", \"cashier\", \"maker\", \"payee\", \"deposit\", \"manger\", \"deposited\", \"aunt\", \"writer\", \"banker\", \"lobby\", \"everytime\", \"rebate\", \"sba\", \"urgency\", \"unlock\", \"amp\", \"seizure\", \"checking\", \"tuition\", \"restrict\", \"mgr\", \"frozen\", \"direct\", \"dad\", \"internship\", \"branch\", \"paycheck\", \"fund\", \"employer\", \"transfer\", \"access\", \"account\", \"banking\", \"manager\", \"hold\", \"tuesday\", \"monday\", \"bank\", \"business\", \"money\", \"call\", \"wait\", \"day\", \"ach\", \"phone\", \"number\", \"customer\", \"chase\", \"hour\", \"get\", \"go\", \"reason\", \"problem\", \"person\", \"time\", \"week\", \"issue\", \"service\", \"name\", \"balance\", \"pay\", \"information\", \"fee\", \"payment\", \"year\", \"flight\", \"reward\", \"hotel\", \"sapphire\", \"airline\", \"membership\", \"slate\", \"cardholder\", \"freedom\", \"airport\", \"mileage\", \"visa\", \"cardmember\", \"marriott\", \"train\", \"companion\", \"rebill\", \"tv\", \"tire\", \"mastercard\", \"plane\", \"utilization\", \"paperless\", \"reservation\", \"subscription\", \"amazon\", \"premier\", \"club\", \"inactivity\", \"timeshare\", \"cycle\", \"travel\", \"resort\", \"advertising\", \"limit\", \"card\", \"billing\", \"apr\", \"trip\", \"product\", \"mile\", \"promotion\", \"spending\", \"credit\", \"marketing\", \"benefit\", \"ticket\", \"dispute\", \"point\", \"offer\", \"merchant\", \"purchase\", \"balance\", \"charge\", \"service\", \"statement\", \"chase\", \"refund\", \"fee\", \"customer\", \"month\", \"score\", \"interest\", \"company\", \"time\", \"pay\", \"account\", \"issue\", \"year\", \"letter\", \"day\", \"amount\", \"call\", \"reason\", \"get\", \"payment\", \"date\", \"modification\", \"escrow\", \"foreclosure\", \"mortgage\", \"refinance\", \"homeowner\", \"payoff\", \"borrower\", \"forbearance\", \"pmi\", \"repayment\", \"realtor\", \"modify\", \"appraisal\", \"cd\", \"shortage\", \"underwriter\", \"property\", \"hurricane\", \"fha\", \"harp\", \"equity\", \"housing\", \"balloon\", \"hamp\", \"hud\", \"flood\", \"heloc\", \"mod\", \"roof\", \"loan\", \"mitigation\", \"house\", \"lender\", \"servicer\", \"trial\", \"investor\", \"contractor\", \"tax\", \"home\", \"deed\", \"insurance\", \"payment\", \"sale\", \"rate\", \"income\", \"lien\", \"plan\", \"interest\", \"value\", \"year\", \"assistance\", \"month\", \"program\", \"pay\", \"chase\", \"time\", \"paperwork\", \"process\", \"amount\", \"get\", \"help\", \"attorney\", \"bank\", \"document\", \"date\", \"letter\", \"work\", \"fee\", \"day\", \"statement\", \"atm\", \"police\", \"pin\", \"wallet\", \"camera\", \"chip\", \"quickpay\", \"thief\", \"video\", \"footage\", \"scammer\", \"stolen\", \"device\", \"ip\", \"stole\", \"cheque\", \"fake\", \"surveillance\", \"detective\", \"hacker\", \"ride\", \"investigator\", \"counterfeit\", \"cutoff\", \"perpetrator\", \"dispense\", \"purse\", \"seperate\", \"artist\", \"hack\", \"transaction\", \"fraud\", \"machine\", \"scam\", \"station\", \"overdraft\", \"claim\", \"reversal\", \"debit\", \"gas\", \"investigation\", \"withdrawal\", \"store\", \"seller\", \"charge\", \"crime\", \"department\", \"money\", \"victim\", \"bank\", \"someone\", \"case\", \"chase\", \"number\", \"theft\", \"account\", \"amount\", \"fee\", \"item\", \"phone\", \"person\", \"card\", \"day\", \"help\", \"time\", \"report\", \"purchase\", \"information\", \"email\", \"address\", \"get\", \"reporting\", \"creditor\", \"dealership\", \"cease\", \"validation\", \"fcra\", \"desist\", \"jpmcb\", \"dealer\", \"lease\", \"derogatory\", \"inaccurate\", \"repossession\", \"chargeoff\", \"jpmchase\", \"tila\", \"vehicle\", \"fdcpa\", \"termination\", \"statute\", \"origination\", \"accuracy\", \"consolidation\", \"jurisdiction\", \"arbitration\", \"ceiling\", \"allegation\", \"deletion\", \"repo\", \"z\", \"inquiry\", \"collector\", \"violation\", \"collection\", \"debt\", \"instrument\", \"bureau\", \"agency\", \"act\", \"trade\", \"section\", \"report\", \"judgment\", \"law\", \"car\", \"exhibit\", \"remark\", \"entity\", \"consumer\", \"remove\", \"auto\", \"damage\", \"credit\", \"information\", \"court\", \"letter\", \"document\", \"finance\", \"state\", \"contract\", \"file\", \"action\", \"company\", \"complaint\", \"application\", \"copy\", \"request\", \"chase\", \"account\", \"bank\", \"response\", \"date\", \"name\"], \"Freq\": [33805.0, 27354.0, 44734.0, 20506.0, 10775.0, 11870.0, 8550.0, 8191.0, 12989.0, 8496.0, 6803.0, 7709.0, 28310.0, 11799.0, 7313.0, 3871.0, 4242.0, 5037.0, 4165.0, 5244.0, 2829.0, 2698.0, 9611.0, 2103.0, 3142.0, 9831.0, 7760.0, 1921.0, 4857.0, 8441.0, 280.17127263718845, 11818.61988745932, 172.65708946719715, 1169.5866008615938, 566.180969479658, 203.7893691409577, 102.64032959376057, 142.37445393065016, 4195.681637073676, 62.98880417231109, 48.932411209336955, 40.948611479555616, 42.05003536533247, 1410.8279645706991, 39.230920384595954, 37.580046965116146, 38.06714563658908, 35.16484666663664, 36.28166024300073, 35.244682233628005, 36.9328406046124, 33.92173141406409, 650.3637606410857, 30.574247557823366, 29.51037640731772, 28.81355579062632, 36.99936349292061, 27.477852613033768, 81.812720303616, 26.113606836317295, 3980.693343786768, 279.5395549797571, 6352.507973482144, 363.82879356383995, 3236.946119811029, 1722.601502145179, 29968.8749084072, 1271.6499667022026, 2211.6550581223496, 1079.5110186394108, 136.48401216613323, 332.2089224064646, 15891.03177263979, 3375.2493513744926, 6591.92433906524, 5172.357496551986, 500.5402284071933, 6449.379772683993, 260.70984661807177, 3702.771130748286, 3809.2218658211173, 3922.617444614938, 14000.576816749413, 1345.571175913318, 3142.180730220211, 1046.6571638809328, 1625.6601421719542, 1302.1890175718443, 1471.4705553935487, 4054.7255909993946, 1545.1251869901407, 1956.3485928521457, 2053.5123168647137, 1553.7933520160402, 2073.500885354689, 1830.1014095150408, 1855.6667932223006, 1814.9325527741973, 1713.4174640694562, 1551.7814183180967, 963.3535075807805, 868.5345831852443, 845.8926603977646, 629.5127665738754, 493.7118176906827, 339.6707751147715, 310.52572174340344, 260.89269551991737, 747.523863858367, 166.44243044995181, 166.77870394068958, 513.3098841247854, 132.83371267563982, 105.46700395956114, 103.68752597176966, 89.02143925369609, 88.34981954426769, 89.77305334889795, 81.58561036398557, 76.17804311798282, 70.56484041674045, 69.01895771216664, 68.9381347916473, 379.6990831302033, 70.58023914282016, 300.0299637848317, 71.30564921683704, 66.74515786470766, 64.44460020859107, 63.69845959422322, 398.9046387410774, 756.9633559249783, 108.68619200252482, 215.30882592258317, 1398.0141342384509, 23960.349230595762, 758.4112053681201, 339.5863933584785, 499.89339093465617, 843.324528947998, 437.07012590055166, 599.029007113659, 353.0055653345218, 21731.445491622395, 196.3575832564992, 896.0528579517747, 1257.6619624306745, 3422.5278817051844, 2597.0911861022055, 1949.904889056436, 1834.1555113252332, 2842.423192024832, 4498.750041857275, 6708.5536251424655, 4038.65138941239, 3106.0192976831763, 16712.278780953733, 1577.0203625443355, 3786.2199139493136, 3518.330607399365, 3412.5908223267406, 1204.6512619168282, 2295.2023166100603, 2666.517624071066, 4236.919462176754, 2207.510405169116, 4928.168215794306, 1889.9209653741925, 2236.079038761232, 2272.035077036151, 2494.420053324368, 1952.5075699758122, 2053.657289728099, 1479.8783812667605, 1867.289482983096, 2193.5151911913213, 1582.5491019236883, 2697.8007703557237, 960.1378906044769, 1498.6974381771724, 8179.885297666535, 803.1296993677898, 374.3820283849301, 379.2462802665422, 339.65844359553705, 232.36080812156746, 214.49229323532057, 167.36424694656571, 171.40844062107047, 151.83625598121182, 310.1504363883159, 194.06757072641017, 139.34962249933568, 147.8237750680196, 2811.3890928865103, 124.93981526078154, 123.37874641909957, 118.69191841884782, 598.9986455225444, 189.51030632734714, 113.13084500110443, 106.41471981877922, 106.50025054202366, 101.78132633014344, 420.58148582531004, 88.21557844810026, 79.82905137753477, 10623.192081610152, 134.96028093491645, 1948.4713658015687, 708.5071703069005, 335.8470042627929, 352.2557237963501, 299.9459713699958, 243.14269250820178, 1898.2032448757832, 4402.544071237187, 426.1126288156167, 1545.2664849146404, 16006.866329235736, 2075.897075258566, 2645.121854688188, 1444.1708032540125, 468.7144985846248, 680.3635077274332, 2940.6760417732335, 590.4103809802168, 3968.739173450765, 899.165370659599, 3588.4573501014343, 787.5624118459864, 3089.2152641214334, 11523.968341248774, 4335.998455997069, 715.4084238815633, 1464.1703219681635, 2326.1000538094904, 2196.1775431250694, 1652.5807649726935, 974.2812424790606, 3292.184435105728, 1293.770682320812, 1437.2339314055603, 1713.101836078967, 1115.294840523379, 1318.735740607431, 1401.0142939058283, 1190.930216511588, 981.3078690535307, 706.7239966302076, 530.3426217722301, 263.20657216852777, 204.2364212850577, 260.58061782179067, 202.28063214206878, 199.21834216319763, 199.43001715063448, 129.47877113781755, 133.1671255367849, 113.60885024033827, 107.45438352918843, 81.69173338530534, 75.11958695671731, 72.90621786981919, 67.60508103224598, 59.010040102605196, 60.05242973957231, 52.71700304799573, 51.80144840544381, 183.46882375339098, 57.128715587968735, 53.95825749699417, 39.25574883236487, 36.29299270995673, 35.28227754779363, 35.495649773795535, 30.659657753498845, 30.695253150997615, 8247.724390902113, 6368.681535213139, 634.8838748991868, 547.7709092818817, 255.78292197441536, 1170.4165041405859, 6745.799762530199, 277.0224998899866, 1724.8234352462282, 264.11986748219823, 1625.2945142103845, 856.7447943428725, 441.7218283169552, 457.65430849569566, 6254.151547813741, 223.14439373020423, 2074.888502407268, 4356.484802867422, 494.02156293311015, 6570.536207087743, 1317.2531397261725, 1574.051882287966, 8952.476366317756, 2164.3352889534153, 644.7074807461958, 5900.804092557359, 1874.3738099764505, 2002.510484920607, 856.6012501855889, 1715.3454847828493, 1063.8127689028793, 3277.2215585706663, 2126.155877271223, 1301.192864886623, 2220.006380965331, 1626.4139129625996, 1172.9335281259125, 1551.1781734693825, 993.7626059619954, 942.631755981129, 1090.6090236233701, 1536.7150322539592, 888.1659828107394, 247.4229270104747, 219.22742322144762, 197.28988573163656, 193.0471160418878, 183.02111012319526, 145.24238134788342, 134.4003139961174, 580.9580683506647, 110.04259245678318, 119.8526099882845, 92.05847119256799, 92.57048929750673, 67.04661896093513, 67.39965482826383, 1018.3064257987521, 63.75618946750079, 64.82539042764216, 70.08791046731098, 60.00631473359322, 55.91062269992653, 55.92716064357061, 56.2082740944147, 57.43070771099472, 55.0431783340219, 49.62495100132969, 48.8732353846441, 48.90668510001208, 48.19860206498154, 2064.6194195158773, 302.876584371697, 930.226885914524, 1291.1450709966762, 3546.1189281606466, 136.3193788720432, 1768.286090185329, 1408.8388712106298, 1376.196498130638, 219.53307769595457, 602.8962376625825, 6551.8645019042115, 148.3059919701801, 1588.805310994339, 1783.2343272873652, 244.32493473520262, 143.94036447177447, 244.14086389477052, 2034.327508915929, 995.3655548034279, 1018.3371744746137, 570.665686231768, 11400.987633519266, 4165.821844470049, 818.2985887890513, 3860.233921891672, 1681.7566205363185, 702.2717037785892, 1501.0420191352744, 779.1224169387749, 1206.0100748587283, 981.2920122259712, 2348.0319025205167, 1771.7353334304782, 1288.9136438015435, 1062.0751019355982, 1460.6540967272063, 4254.24223132013, 3777.2505748775116, 1948.3885823293574, 1067.509951454882, 1138.8658341171167, 1090.8488703774563], \"Total\": [33805.0, 27354.0, 44734.0, 20506.0, 10775.0, 11870.0, 8550.0, 8191.0, 12989.0, 8496.0, 6803.0, 7709.0, 28310.0, 11799.0, 7313.0, 3871.0, 4242.0, 5037.0, 4165.0, 5244.0, 2829.0, 2698.0, 9611.0, 2103.0, 3142.0, 9831.0, 7760.0, 1921.0, 4857.0, 8441.0, 280.97023862780986, 11870.69536551879, 173.45596402951065, 1175.9206002479787, 569.8421354672616, 205.24118087545924, 103.44427206851236, 143.71375549341946, 4242.2874527795375, 63.81748600432195, 49.72923890004168, 41.74778848609302, 42.89336331164794, 1440.3161951796565, 40.0528701619812, 38.4053606563357, 38.90734699179184, 35.96186777075047, 37.105944285530136, 36.04543162944205, 37.7805381598575, 34.75839292685874, 667.228419094123, 31.392384989694907, 30.312663302136617, 29.62461386951905, 38.059000997524926, 28.282121031169325, 84.35067607881942, 26.929938060560108, 4165.02507461662, 289.95792237866857, 7313.224730311371, 395.8821895869662, 4066.009110845977, 2102.0494444681763, 44734.95271801842, 1590.645285253652, 2927.351807604242, 1366.5080216100923, 153.8067712867233, 408.6070176181059, 28310.75401340861, 5567.328223141656, 11799.088205290116, 9167.05130136201, 684.654214283374, 13332.869534402704, 326.78202282365635, 7743.975694075544, 8101.964225243518, 8469.005997481945, 55443.54253658981, 2659.5460416887436, 8389.803634481177, 1962.84612218059, 3800.584849007501, 2783.045496937744, 3365.3489534809, 15783.677071478898, 3624.010534961859, 5623.891461434667, 7172.98142596703, 4079.1897562378235, 7760.678033107983, 7678.816751504203, 9611.77893386512, 8922.908371833142, 20506.946279562522, 8581.167878224633, 964.1448411821303, 869.327284314089, 846.6890022730561, 630.3064302278426, 494.50153639211595, 340.4678027777233, 311.32481678089954, 261.6911842611798, 750.543953470061, 167.23755227004824, 167.5761683436944, 516.0166964582622, 133.62799518151488, 106.25562267959378, 104.52201937317857, 89.81320701992125, 89.1485106941814, 90.5957837732768, 82.41388847888484, 76.99362822733586, 71.36055697347447, 69.8109871385785, 69.7332984758515, 384.0821285778614, 71.39970499693744, 303.5881131967321, 72.1796141169231, 67.57226808615565, 65.2553202053341, 64.52984716438846, 406.2305049365033, 777.8794194080037, 110.23535499466418, 220.38301034518753, 1490.997319268672, 27354.1714643823, 806.1522830095231, 357.9919646871622, 545.7437862402143, 946.6647771669161, 478.693598603073, 676.7336578540844, 386.06840085760757, 33805.647050742606, 208.4017806666951, 1087.7981598657855, 1593.6367304657267, 4857.900850238273, 3605.9983109033333, 2723.9096031296135, 2585.2256357708934, 4289.558473902697, 7760.678033107983, 12989.662059220025, 7172.98142596703, 5276.69202238489, 55443.54253658981, 2658.4919237457843, 8922.908371833142, 8469.005997481945, 8441.472609967514, 1914.1538991763357, 5244.788774056972, 7301.749164867739, 15783.677071478898, 7678.816751504203, 44734.95271801842, 5623.891461434667, 8581.167878224633, 9831.67535187298, 13332.869534402704, 7876.327011734525, 9167.05130136201, 3800.584849007501, 8389.803634481177, 20506.946279562522, 4948.519480813322, 2698.6167248799084, 960.9516752953166, 1500.7551963248702, 8191.236996651683, 804.293254184102, 375.1958132987061, 380.1052502584206, 340.7356006291473, 233.17327091593373, 215.3259668429124, 168.1838416131795, 172.28481062270777, 152.65866403519385, 311.88547968576967, 195.1966840704163, 140.1714298185645, 148.76642189289896, 2829.4346108883424, 125.7612936509682, 124.1929724500158, 119.50802385788691, 603.2150620965864, 190.87341095821574, 113.94697345768822, 107.22653293758125, 107.32685363281105, 102.59775456193806, 424.1059907926807, 89.03258751711084, 80.6798196171387, 10775.617624126982, 136.74631247329913, 2038.9908063300584, 738.2621395525231, 344.70737109382964, 363.63042274298505, 308.97007279144805, 249.29736028059318, 2093.384130820458, 5037.107589426102, 448.35881268015356, 1734.3073347553961, 20506.946279562522, 2395.125341879336, 3142.742172511488, 1660.4958762516148, 521.1061326030559, 847.5983089226531, 5244.788774056972, 743.0317874349554, 8581.167878224633, 1293.0191372998227, 8441.472609967514, 1118.3276263679452, 7678.816751504203, 55443.54253658981, 15783.677071478898, 1006.759653851102, 3231.2514120215274, 7876.327011734525, 8389.803634481177, 5171.559701643009, 1879.3852785640802, 28310.75401340861, 3577.3316799439954, 4948.519480813322, 9831.67535187298, 2831.0543016679744, 8922.908371833142, 13332.869534402704, 5276.69202238489, 982.1067892183063, 707.5383154688255, 531.1369502044906, 264.0029348311152, 205.03071922663506, 261.6058808113997, 203.07702877838508, 200.0136545848997, 200.6488819790834, 130.271390673684, 134.0830599492847, 114.40644724870421, 108.24956601931056, 82.48403938000811, 75.9243205951163, 73.71616249402466, 68.42903565118041, 59.80107279281602, 60.865452793987586, 53.51213835319714, 52.6015319866555, 186.5308217190466, 58.089617680481226, 55.045183406074536, 40.054741853348204, 37.084511674917316, 36.073735835123145, 36.31016489138033, 31.457032223550932, 31.49596335096458, 8550.600612986875, 6803.691744633631, 667.0592381815607, 576.0894263894678, 267.75172843404675, 1268.265056341794, 7709.655663900221, 295.8973071383558, 1998.9485777737848, 286.20372610405474, 1993.5710605062854, 1024.2929758096107, 584.2108642231545, 610.5350274597054, 12989.662059220025, 282.40160987874856, 4584.387133999302, 11799.088205290116, 799.7334111649416, 28310.75401340861, 3132.8835934732074, 4077.291898702265, 55443.54253658981, 8101.964225243518, 1240.1927433276328, 44734.95271801842, 7876.327011734525, 8922.908371833142, 2143.2908127743062, 7743.975694075544, 3365.3489534809, 27354.1714643823, 13332.869534402704, 5171.559701643009, 15783.677071478898, 8496.784514954728, 4289.558473902697, 9611.77893386512, 3285.1107921426587, 3140.578119079737, 8389.803634481177, 1538.2998597425437, 890.5810492151965, 248.22687407474362, 220.02877801703272, 198.08623769731676, 193.8406348758592, 183.82309521046398, 146.04889887010418, 135.20049604535427, 585.0242386260772, 110.84832690679869, 120.87434953860658, 92.85733977834596, 93.39468775198189, 67.8431994956879, 68.20340820526252, 1030.886116098758, 64.55459833197638, 65.64647381642177, 71.03519778234015, 60.849734762280356, 56.71826864189134, 56.76041922575724, 57.05197032972999, 58.305555308592, 55.920971147918024, 50.42462632054201, 49.66619783518901, 49.7079677102168, 49.000658510087646, 2103.986357838364, 309.9030645106542, 966.5673236263167, 1347.773542932992, 3871.37015449315, 140.5204656191278, 1921.7147273619362, 1547.8945704754242, 1525.3107367117168, 235.72768133914073, 686.5256942818559, 8496.784514954728, 157.04068324234848, 1999.2560392444684, 2361.5862893850435, 276.486789772687, 154.71738210734756, 284.7548275873252, 3366.5887920593054, 1463.3140440316402, 1545.7494603382663, 808.9611505100276, 33805.647050742606, 9611.77893386512, 1315.8618195097479, 9831.67535187298, 3577.3316799439954, 1112.3782263793091, 3207.8171784211518, 1332.6268835367887, 2508.6722874484067, 1921.6929071458726, 7301.749164867739, 4773.764378232186, 2914.3357929744616, 2193.715568984635, 3841.3438611601014, 55443.54253658981, 44734.95271801842, 28310.75401340861, 2842.1399465798277, 4948.519480813322, 4079.1897562378235], \"Category\": [\"Default\", \"Default\", \"Default\", \"Default\", \"Default\", \"Default\", \"Default\", \"Default\", \"Default\", \"Default\", \"Default\", \"Default\", \"Default\", \"Default\", \"Default\", \"Default\", \"Default\", \"Default\", \"Default\", \"Default\", \"Default\", \"Default\", \"Default\", \"Default\", \"Default\", \"Default\", \"Default\", \"Default\", \"Default\", \"Default\", \"Topic1\", \"Topic1\", \"Topic1\", \"Topic1\", \"Topic1\", \"Topic1\", \"Topic1\", \"Topic1\", \"Topic1\", \"Topic1\", \"Topic1\", \"Topic1\", \"Topic1\", \"Topic1\", \"Topic1\", \"Topic1\", \"Topic1\", \"Topic1\", \"Topic1\", \"Topic1\", \"Topic1\", \"Topic1\", \"Topic1\", \"Topic1\", \"Topic1\", \"Topic1\", \"Topic1\", \"Topic1\", \"Topic1\", \"Topic1\", \"Topic1\", \"Topic1\", \"Topic1\", \"Topic1\", \"Topic1\", \"Topic1\", \"Topic1\", \"Topic1\", \"Topic1\", \"Topic1\", \"Topic1\", \"Topic1\", \"Topic1\", \"Topic1\", \"Topic1\", \"Topic1\", \"Topic1\", \"Topic1\", \"Topic1\", \"Topic1\", \"Topic1\", \"Topic1\", \"Topic1\", \"Topic1\", \"Topic1\", \"Topic1\", \"Topic1\", \"Topic1\", \"Topic1\", \"Topic1\", \"Topic1\", \"Topic1\", \"Topic1\", \"Topic1\", \"Topic1\", \"Topic1\", \"Topic1\", \"Topic1\", \"Topic1\", \"Topic1\", \"Topic2\", \"Topic2\", \"Topic2\", \"Topic2\", \"Topic2\", \"Topic2\", \"Topic2\", \"Topic2\", \"Topic2\", \"Topic2\", \"Topic2\", \"Topic2\", \"Topic2\", \"Topic2\", \"Topic2\", \"Topic2\", \"Topic2\", \"Topic2\", \"Topic2\", \"Topic2\", \"Topic2\", \"Topic2\", \"Topic2\", \"Topic2\", \"Topic2\", \"Topic2\", \"Topic2\", \"Topic2\", \"Topic2\", \"Topic2\", \"Topic2\", \"Topic2\", \"Topic2\", \"Topic2\", \"Topic2\", \"Topic2\", \"Topic2\", \"Topic2\", \"Topic2\", \"Topic2\", \"Topic2\", \"Topic2\", \"Topic2\", \"Topic2\", \"Topic2\", \"Topic2\", \"Topic2\", \"Topic2\", \"Topic2\", \"Topic2\", \"Topic2\", \"Topic2\", \"Topic2\", \"Topic2\", \"Topic2\", \"Topic2\", \"Topic2\", \"Topic2\", \"Topic2\", \"Topic2\", \"Topic2\", \"Topic2\", \"Topic2\", \"Topic2\", \"Topic2\", \"Topic2\", \"Topic2\", \"Topic2\", \"Topic2\", \"Topic2\", \"Topic2\", \"Topic2\", \"Topic2\", \"Topic2\", \"Topic2\", \"Topic2\", \"Topic2\", \"Topic3\", \"Topic3\", \"Topic3\", \"Topic3\", \"Topic3\", \"Topic3\", \"Topic3\", \"Topic3\", \"Topic3\", \"Topic3\", \"Topic3\", \"Topic3\", \"Topic3\", \"Topic3\", \"Topic3\", \"Topic3\", \"Topic3\", \"Topic3\", \"Topic3\", \"Topic3\", \"Topic3\", \"Topic3\", \"Topic3\", \"Topic3\", \"Topic3\", \"Topic3\", \"Topic3\", \"Topic3\", \"Topic3\", \"Topic3\", \"Topic3\", \"Topic3\", \"Topic3\", \"Topic3\", \"Topic3\", \"Topic3\", \"Topic3\", \"Topic3\", \"Topic3\", \"Topic3\", \"Topic3\", \"Topic3\", \"Topic3\", \"Topic3\", \"Topic3\", \"Topic3\", \"Topic3\", \"Topic3\", \"Topic3\", \"Topic3\", \"Topic3\", \"Topic3\", \"Topic3\", \"Topic3\", \"Topic3\", \"Topic3\", \"Topic3\", \"Topic3\", \"Topic3\", \"Topic3\", \"Topic3\", \"Topic3\", \"Topic3\", \"Topic3\", \"Topic3\", \"Topic3\", \"Topic3\", \"Topic3\", \"Topic3\", \"Topic3\", \"Topic3\", \"Topic4\", \"Topic4\", \"Topic4\", \"Topic4\", \"Topic4\", \"Topic4\", \"Topic4\", \"Topic4\", \"Topic4\", \"Topic4\", \"Topic4\", \"Topic4\", \"Topic4\", \"Topic4\", \"Topic4\", \"Topic4\", \"Topic4\", \"Topic4\", \"Topic4\", \"Topic4\", \"Topic4\", \"Topic4\", \"Topic4\", \"Topic4\", \"Topic4\", \"Topic4\", \"Topic4\", \"Topic4\", \"Topic4\", \"Topic4\", \"Topic4\", \"Topic4\", \"Topic4\", \"Topic4\", \"Topic4\", \"Topic4\", \"Topic4\", \"Topic4\", \"Topic4\", \"Topic4\", \"Topic4\", \"Topic4\", \"Topic4\", \"Topic4\", \"Topic4\", \"Topic4\", \"Topic4\", \"Topic4\", \"Topic4\", \"Topic4\", \"Topic4\", \"Topic4\", \"Topic4\", \"Topic4\", \"Topic4\", \"Topic4\", \"Topic4\", \"Topic4\", \"Topic4\", \"Topic4\", \"Topic4\", \"Topic4\", \"Topic4\", \"Topic4\", \"Topic4\", \"Topic4\", \"Topic4\", \"Topic4\", \"Topic4\", \"Topic4\", \"Topic4\", \"Topic5\", \"Topic5\", \"Topic5\", \"Topic5\", \"Topic5\", \"Topic5\", \"Topic5\", \"Topic5\", \"Topic5\", \"Topic5\", \"Topic5\", \"Topic5\", \"Topic5\", \"Topic5\", \"Topic5\", \"Topic5\", \"Topic5\", \"Topic5\", \"Topic5\", \"Topic5\", \"Topic5\", \"Topic5\", \"Topic5\", \"Topic5\", \"Topic5\", \"Topic5\", \"Topic5\", \"Topic5\", \"Topic5\", \"Topic5\", \"Topic5\", \"Topic5\", \"Topic5\", \"Topic5\", \"Topic5\", \"Topic5\", \"Topic5\", \"Topic5\", \"Topic5\", \"Topic5\", \"Topic5\", \"Topic5\", \"Topic5\", \"Topic5\", \"Topic5\", \"Topic5\", \"Topic5\", \"Topic5\", \"Topic5\", \"Topic5\", \"Topic5\", \"Topic5\", \"Topic5\", \"Topic5\", \"Topic5\", \"Topic5\", \"Topic5\", \"Topic5\", \"Topic5\", \"Topic5\", \"Topic5\", \"Topic5\", \"Topic5\", \"Topic5\", \"Topic5\", \"Topic5\", \"Topic5\", \"Topic5\", \"Topic5\", \"Topic5\", \"Topic5\", \"Topic5\", \"Topic5\"], \"logprob\": [30.0, 29.0, 28.0, 27.0, 26.0, 25.0, 24.0, 23.0, 22.0, 21.0, 20.0, 19.0, 18.0, 17.0, 16.0, 15.0, 14.0, 13.0, 12.0, 11.0, 10.0, 9.0, 8.0, 7.0, 6.0, 5.0, 4.0, 3.0, 2.0, 1.0, -7.0066, -3.2646, -7.4907, -5.5776, -6.3031, -7.3249, -8.0108, -7.6835, -4.3002, -8.499, -8.7516, -8.9297, -8.9031, -5.3901, -8.9725, -9.0155, -9.0026, -9.0819, -9.0507, -9.0797, -9.0329, -9.1179, -6.1645, -9.2218, -9.2572, -9.2811, -9.0311, -9.3286, -8.2376, -9.3795, -4.3528, -7.0088, -3.8854, -6.7453, -4.5596, -5.1904, -2.3341, -5.4939, -4.9405, -5.6577, -7.7258, -6.8362, -2.9685, -4.5178, -3.8484, -4.0909, -6.4263, -3.8703, -7.0786, -4.4252, -4.3968, -4.3675, -3.0951, -5.4374, -4.5893, -5.6886, -5.2483, -5.4702, -5.348, -4.3344, -5.2991, -5.0632, -5.0147, -5.2935, -5.005, -5.1299, -5.116, -5.1382, -5.1957, -5.2948, -5.7243, -5.8279, -5.8544, -6.1498, -6.3928, -6.7668, -6.8565, -7.0306, -5.978, -7.4801, -7.4781, -6.3539, -7.7057, -7.9364, -7.9534, -8.1059, -8.1135, -8.0975, -8.1931, -8.2617, -8.3382, -8.3604, -8.3615, -6.6554, -8.338, -6.8909, -8.3278, -8.3939, -8.429, -8.4406, -6.606, -5.9654, -7.9063, -7.2227, -5.3519, -2.5106, -5.9635, -6.767, -6.3804, -5.8574, -6.5147, -6.1994, -6.7283, -2.6082, -7.3148, -5.7968, -5.4577, -4.4566, -4.7326, -5.0192, -5.0804, -4.6423, -4.1832, -3.7836, -4.2911, -4.5537, -2.8709, -5.2315, -4.3556, -4.429, -4.4595, -5.5008, -4.8562, -4.7062, -4.2432, -4.8951, -4.092, -5.0505, -4.8823, -4.8663, -4.7729, -5.0179, -4.9674, -5.295, -5.0625, -4.9015, -5.228, -4.5047, -5.5378, -5.0925, -3.3954, -5.7164, -6.4796, -6.4667, -6.5769, -6.9566, -7.0366, -7.2847, -7.2608, -7.3821, -6.6678, -7.1367, -7.4679, -7.4088, -4.4634, -7.577, -7.5896, -7.6283, -6.0096, -7.1604, -7.6763, -7.7375, -7.7367, -7.782, -6.3632, -7.9251, -8.025, -3.1341, -7.4999, -4.8301, -5.8417, -6.5882, -6.5405, -6.7013, -6.9112, -4.8562, -4.0149, -6.3502, -5.0619, -2.7241, -4.7667, -4.5244, -5.1296, -6.2549, -5.8822, -4.4185, -6.024, -4.1187, -5.6034, -4.2194, -5.7359, -4.3692, -3.0527, -4.0302, -5.832, -5.1158, -4.6529, -4.7104, -4.9948, -5.5232, -4.3056, -5.2396, -5.1344, -4.9588, -5.388, -5.2204, -5.1599, -5.3224, -5.2576, -5.5858, -5.8729, -6.5735, -6.8272, -6.5835, -6.8368, -6.852, -6.851, -7.2829, -7.2548, -7.4137, -7.4694, -7.7435, -7.8274, -7.8573, -7.9328, -8.0687, -8.0512, -8.1815, -8.199, -6.9344, -8.1011, -8.1582, -8.4763, -8.5548, -8.5831, -8.577, -8.7235, -8.7223, -3.1287, -3.3873, -5.693, -5.8406, -6.6021, -5.0813, -3.3298, -6.5223, -4.6936, -6.57, -4.753, -5.3933, -6.0558, -6.0203, -3.4054, -6.7386, -4.5088, -3.767, -5.9439, -3.3561, -4.9631, -4.785, -3.0468, -4.4666, -5.6776, -3.4636, -4.6104, -4.5443, -5.3935, -4.6991, -5.1768, -4.0517, -4.4844, -4.9754, -4.4412, -4.7523, -5.0792, -4.7997, -5.2449, -5.2978, -5.1519, -4.7684, -5.3166, -6.5947, -6.7156, -6.8211, -6.8428, -6.8962, -7.1274, -7.2049, -5.7411, -7.4049, -7.3195, -7.5833, -7.5778, -7.9004, -7.8951, -5.1799, -7.9507, -7.9341, -7.856, -8.0113, -8.082, -8.0817, -8.0767, -8.0552, -8.0976, -8.2013, -8.2165, -8.2158, -8.2304, -4.4731, -6.3924, -5.2703, -4.9425, -3.9321, -7.1908, -4.628, -4.8552, -4.8787, -6.7143, -5.704, -3.3183, -7.1065, -4.735, -4.6196, -6.6073, -7.1364, -6.608, -4.4878, -5.2026, -5.1798, -5.759, -2.7643, -3.7711, -5.3985, -3.8473, -4.6782, -5.5514, -4.7918, -5.4476, -5.0107, -5.2169, -4.3444, -4.626, -4.9442, -5.1378, -4.8191, -3.7501, -3.869, -4.531, -5.1327, -5.068, -5.111], \"loglift\": [30.0, 29.0, 28.0, 27.0, 26.0, 25.0, 24.0, 23.0, 22.0, 21.0, 20.0, 19.0, 18.0, 17.0, 16.0, 15.0, 14.0, 13.0, 12.0, 11.0, 10.0, 9.0, 8.0, 7.0, 6.0, 5.0, 4.0, 3.0, 2.0, 1.0, 1.3676, 1.366, 1.3658, 1.365, 1.364, 1.3633, 1.3626, 1.361, 1.3594, 1.3573, 1.3543, 1.3511, 1.3505, 1.3497, 1.3497, 1.3487, 1.3486, 1.348, 1.3479, 1.3479, 1.3477, 1.346, 1.3448, 1.344, 1.3436, 1.3426, 1.3422, 1.3416, 1.3399, 1.3396, 1.3251, 1.3338, 1.2296, 1.286, 1.1424, 1.1713, 0.9698, 1.1466, 1.09, 1.1347, 1.2509, 1.1634, 0.7929, 0.87, 0.7882, 0.7981, 1.0572, 0.6442, 1.1445, 0.6326, 0.6157, 0.6007, -0.0059, 0.6891, 0.3883, 0.7416, 0.5212, 0.6109, 0.5431, 0.0113, 0.5179, 0.3145, 0.1196, 0.4052, 0.0506, -0.0637, -0.2743, -0.2222, -1.1119, -0.3398, 1.4168, 1.4167, 1.4167, 1.4164, 1.416, 1.4153, 1.4151, 1.4146, 1.4136, 1.4129, 1.4129, 1.4124, 1.4117, 1.4102, 1.4096, 1.4088, 1.4086, 1.4085, 1.4075, 1.407, 1.4064, 1.4062, 1.4062, 1.4062, 1.4061, 1.4058, 1.4055, 1.4053, 1.4051, 1.4047, 1.3994, 1.3904, 1.4035, 1.3943, 1.3532, 1.2852, 1.3566, 1.3649, 1.3299, 1.302, 1.3267, 1.2957, 1.3281, 0.9758, 1.3581, 1.2237, 1.1809, 1.0674, 1.0894, 1.0834, 1.0744, 1.0061, 0.8724, 0.7569, 0.8432, 0.8877, 0.2184, 0.8954, 0.5604, 0.5392, 0.512, 0.9546, 0.5912, 0.4103, 0.1025, 0.171, -0.7881, 0.3271, 0.0728, -0.0473, -0.2585, 0.0229, -0.0784, 0.4744, -0.0849, -0.8176, 0.2776, 1.6072, 1.6067, 1.6062, 1.6061, 1.6061, 1.6054, 1.6053, 1.6044, 1.604, 1.6036, 1.6026, 1.6024, 1.6021, 1.6019, 1.6017, 1.6016, 1.6012, 1.6011, 1.601, 1.601, 1.6007, 1.6005, 1.6004, 1.6003, 1.5999, 1.5998, 1.5995, 1.5992, 1.5983, 1.5969, 1.5933, 1.5944, 1.5621, 1.5664, 1.5815, 1.5757, 1.5779, 1.5825, 1.5097, 1.4729, 1.5566, 1.4921, 1.3598, 1.4645, 1.4351, 1.4679, 1.5016, 1.3877, 1.0289, 1.3776, 0.8364, 1.2443, 0.7521, 1.2569, 0.697, 0.0366, 0.3155, 1.2659, 0.8159, 0.3879, 0.2672, 0.4667, 0.9505, -0.5442, 0.5905, 0.3712, -0.1398, 0.676, -0.3044, -0.6455, 0.119, 1.8651, 1.8648, 1.8645, 1.8629, 1.8621, 1.862, 1.862, 1.862, 1.8599, 1.8599, 1.8591, 1.859, 1.8586, 1.8563, 1.8553, 1.8549, 1.8538, 1.8526, 1.8525, 1.851, 1.8506, 1.8494, 1.8493, 1.846, 1.8458, 1.8444, 1.8438, 1.8433, 1.8403, 1.8402, 1.8299, 1.7999, 1.8165, 1.8155, 1.8202, 1.7857, 1.7324, 1.8, 1.7185, 1.7857, 1.6617, 1.6873, 1.5864, 1.5777, 1.135, 1.6304, 1.0732, 0.8696, 1.3843, 0.4053, 0.9995, 0.9142, 0.0425, 0.546, 1.2117, -0.1597, 0.4304, 0.3717, 0.9488, 0.3587, 0.7143, -0.2559, 0.03, 0.4861, -0.0955, 0.2126, 0.5693, 0.042, 0.6703, 0.6625, -0.1743, 1.9056, 1.9039, 1.9034, 1.903, 1.9026, 1.9025, 1.9023, 1.9011, 1.9007, 1.8997, 1.8993, 1.8981, 1.898, 1.8978, 1.8948, 1.8948, 1.8944, 1.8942, 1.8941, 1.8932, 1.8927, 1.8923, 1.8918, 1.8917, 1.8915, 1.8908, 1.8907, 1.8905, 1.8904, 1.8901, 1.8877, 1.8837, 1.8683, 1.8637, 1.8189, 1.8763, 1.8234, 1.8125, 1.8038, 1.8355, 1.7767, 1.6467, 1.8494, 1.6768, 1.6257, 1.783, 1.8344, 1.7528, 1.4029, 1.5213, 1.4893, 1.5577, 0.8197, 1.0706, 1.4316, 0.9718, 1.1519, 1.4467, 1.1472, 1.3699, 1.1742, 1.2345, 0.7721, 0.9155, 1.0908, 1.1813, 0.9397, -0.6608, -0.5651, -0.7696, 0.9274, 0.4376, 0.5877]}, \"token.table\": {\"Topic\": [1, 2, 3, 4, 5, 1, 2, 3, 4, 5, 5, 1, 4, 1, 2, 3, 4, 5, 1, 2, 3, 4, 5, 1, 2, 3, 4, 5, 1, 2, 1, 2, 3, 4, 5, 2, 2, 5, 2, 4, 1, 2, 3, 4, 5, 1, 1, 2, 3, 5, 3, 5, 2, 3, 5, 4, 1, 2, 3, 4, 5, 4, 1, 2, 3, 4, 5, 1, 1, 2, 3, 5, 1, 2, 3, 4, 5, 3, 1, 2, 3, 4, 5, 1, 3, 4, 1, 2, 3, 4, 5, 1, 2, 3, 4, 5, 2, 3, 5, 3, 1, 4, 2, 3, 4, 5, 1, 2, 3, 4, 5, 1, 2, 3, 4, 5, 4, 1, 2, 3, 4, 5, 1, 2, 4, 5, 2, 2, 1, 2, 3, 4, 5, 1, 3, 3, 4, 5, 5, 2, 3, 4, 5, 5, 1, 2, 3, 4, 5, 1, 2, 3, 4, 1, 4, 4, 4, 1, 2, 3, 4, 5, 2, 1, 3, 5, 3, 5, 2, 1, 2, 3, 4, 5, 1, 2, 3, 4, 5, 5, 1, 2, 3, 4, 5, 2, 3, 4, 5, 1, 2, 3, 1, 2, 3, 4, 5, 4, 1, 1, 3, 4, 5, 1, 2, 3, 4, 5, 2, 3, 5, 3, 4, 5, 1, 2, 3, 4, 5, 4, 2, 3, 1, 3, 1, 2, 3, 4, 5, 1, 2, 3, 4, 5, 1, 2, 3, 4, 5, 5, 5, 1, 2, 4, 3, 5, 3, 5, 5, 1, 2, 3, 4, 5, 1, 4, 1, 5, 5, 4, 4, 1, 4, 2, 4, 5, 1, 2, 3, 4, 5, 1, 2, 3, 4, 5, 1, 3, 5, 1, 3, 4, 5, 3, 5, 3, 1, 2, 3, 5, 4, 5, 5, 1, 2, 3, 4, 5, 3, 1, 2, 3, 4, 5, 1, 2, 3, 4, 5, 2, 3, 4, 3, 3, 5, 1, 2, 3, 4, 5, 2, 5, 1, 1, 3, 4, 1, 2, 4, 5, 1, 2, 3, 4, 5, 1, 2, 3, 4, 5, 4, 4, 3, 3, 3, 5, 1, 2, 3, 4, 5, 1, 2, 3, 4, 5, 1, 2, 3, 4, 5, 3, 2, 1, 2, 3, 4, 5, 1, 2, 3, 4, 5, 3, 5, 3, 3, 5, 2, 1, 2, 3, 4, 5, 1, 2, 3, 4, 5, 2, 5, 3, 5, 1, 2, 3, 4, 5, 1, 2, 3, 1, 1, 2, 4, 5, 4, 5, 3, 5, 4, 1, 2, 3, 4, 5, 1, 2, 3, 4, 5, 5, 5, 3, 5, 5, 1, 2, 3, 4, 5, 3, 5, 3, 5, 1, 2, 3, 4, 5, 3, 5, 1, 2, 3, 4, 5, 3, 5, 1, 1, 4, 1, 1, 2, 3, 4, 5, 1, 1, 2, 5, 2, 2, 2, 2, 4, 1, 1, 2, 2, 3, 5, 3, 3, 3, 1, 2, 3, 4, 1, 2, 3, 4, 1, 2, 3, 4, 5, 3, 5, 1, 2, 3, 4, 5, 1, 2, 3, 4, 5, 1, 2, 3, 5, 5, 1, 4, 2, 1, 2, 3, 4, 5, 1, 2, 3, 4, 5, 1, 3, 4, 1, 3, 1, 2, 3, 4, 5, 3, 1, 4, 1, 2, 3, 4, 5, 1, 2, 3, 4, 5, 4, 1, 2, 3, 4, 5, 2, 3, 1, 2, 3, 4, 5, 4, 2, 1, 2, 3, 4, 5, 1, 2, 3, 4, 5, 1, 2, 3, 4, 5, 1, 2, 3, 5, 1, 2, 3, 5, 1, 2, 3, 4, 5, 4, 4, 2, 3, 5, 3, 1, 2, 3, 4, 5, 1, 2, 3, 5, 1, 2, 3, 4, 2, 5, 1, 2, 3, 4, 5, 3, 5, 1, 2, 3, 4, 5, 2, 5, 5, 1, 2, 3, 4, 5, 2, 5, 2, 5, 1, 2, 3, 4, 5, 1, 2, 4, 2, 4, 3, 2, 3, 5, 2, 1, 1, 2, 4, 5, 4, 2, 3, 5, 2, 3, 5, 1, 2, 3, 4, 5, 4, 1, 2, 3, 4, 5, 3, 5, 3, 2, 1, 2, 3, 4, 5, 1, 2, 4, 1, 2, 3, 4, 5, 1, 2, 3, 4, 5, 2, 4, 5, 4, 4, 2, 4, 2, 4, 1, 2, 3, 4, 5, 1, 4, 5, 4, 5, 4, 2, 4, 5, 1, 2, 3, 4, 5, 2, 2, 2, 4, 5, 2, 1, 2, 4, 5, 1, 2, 3, 4, 5, 1, 2, 4, 1, 2, 3, 1, 2, 4, 1, 2, 4, 5, 1, 2, 3, 1, 1, 2, 5, 1, 2, 3, 5, 3, 5, 3, 4, 5, 2, 4, 2, 3, 5, 2, 4, 1, 2, 3, 4, 4, 1, 2, 3, 4, 5, 1, 4, 1, 4, 1, 2, 3, 4, 5, 1, 1, 2, 3, 4, 5, 5], \"Freq\": [0.819676247166452, 0.08515499027440215, 0.004281535823852622, 0.07849482343729808, 0.012368881268907575, 0.66992358724298, 0.1101599465425408, 0.0035766216409915848, 0.1319102768968209, 0.08443062461265759, 0.9873362029714561, 0.7986975468991611, 0.19890935076032748, 0.0006556041178571994, 0.03933624707143196, 0.04917030883928995, 0.008522853532143592, 0.9021112661715064, 0.1862940736622206, 0.11083977008394688, 0.11136014459138326, 0.08169879766751015, 0.5104873917950793, 0.2509092180234964, 0.1658930235916772, 0.03343333488891767, 0.30026318857380346, 0.24963556717058527, 0.018150219446293844, 0.9755742952382941, 0.0012920776635231138, 0.058143494858540125, 0.02519551443870072, 0.005168310654092455, 0.9102687139520337, 0.9989857738445563, 0.99260003358546, 0.9915789892453992, 0.9881809825854186, 0.009881809825854185, 0.19145980071082755, 0.24795821670308105, 0.29531531595052046, 0.23792816083029897, 0.027423950234442142, 0.9793402053577195, 0.0020587881514766058, 0.3259747906504626, 0.22955487888964154, 0.44229632120889084, 0.9939545768925526, 0.0032063050867501696, 0.9497419873574962, 0.05028045815422039, 0.9776083890860463, 0.9854712224502613, 0.09435281851649106, 0.08197867838318075, 0.6952719987403726, 0.05877716563322394, 0.06883115449153855, 0.998873045955433, 0.05799768745835874, 0.0005320888757647591, 0.5182545649948753, 0.013302221894118976, 0.4097084343388645, 0.9820879497283521, 0.067281278543834, 0.002587741482455154, 0.2717128556577912, 0.6585802072848368, 0.267244690625235, 0.5797173881981351, 0.14663667209812797, 0.004381060502053033, 0.0020616755303778976, 0.9916893496250705, 0.5613061380305754, 0.021511260339854035, 0.11628090154154265, 0.23210261361770254, 0.06880777527427859, 0.9796460004561709, 0.0034714599590934475, 0.016663007803648548, 0.7996754598855526, 0.034577162180586, 0.02514702704042618, 0.1106469189778752, 0.030176432448511415, 0.06618874958281185, 0.8236822170305474, 0.06894661414876234, 0.006435017320551152, 0.035852239357356416, 0.940268998768122, 0.004961841682153678, 0.05333979808315204, 0.9978411394999845, 0.9558165746136452, 0.04417740510648348, 0.07753492122347529, 0.0015611057964458111, 0.0005203685988152704, 0.920011682705398, 0.6062153810100817, 0.20153293555357382, 0.027302144566972567, 0.04921570796941108, 0.11567487566533113, 0.5641945081327909, 0.22406332554229555, 0.09097800073138973, 0.09425059068575627, 0.02650797863036895, 0.9949728546506451, 0.07494962212288706, 0.005081330313416071, 0.09061705725591994, 0.07367928954453304, 0.7550009957350713, 0.0008042649008267739, 0.8759175919913411, 0.11979891272769719, 0.0034364045762598524, 0.9973587789625731, 0.9953004220361023, 0.1216493722605116, 0.16947523433873693, 0.13145980550732705, 0.38604054826218803, 0.19105818748173092, 0.9939525738929929, 0.004872316538691141, 0.9938693422169784, 0.005123037846479271, 0.995324347904377, 0.983530844886761, 0.5164876475934161, 0.0006158743748319167, 0.4814597925248508, 0.0013857173433718124, 0.9957739807104444, 0.252527153919865, 0.3014237408977062, 0.20785107647828904, 0.16146154431045154, 0.07672669900543574, 0.9956451274397159, 8.424106332513037e-05, 0.002021785519803129, 0.00227450870977852, 0.974179128764459, 0.02397979393881745, 0.9902848646783166, 0.9976839939166486, 0.0007782448739046113, 0.03515072680469161, 0.03982019604811928, 0.8750066532267513, 0.049288842013958716, 0.9915310214920418, 0.001483928817631817, 0.04080804248487497, 0.957876051781338, 0.019360892766498362, 0.9777250847081673, 0.9909455741877597, 0.08532202160511834, 0.3652549464219111, 0.14626632275163143, 0.0816242774906108, 0.32156678447643317, 0.24634646933192267, 0.16192671836188455, 0.11458462476578375, 0.10578653657535794, 0.37119553031986985, 0.9866030019487212, 0.04336733976669999, 0.2438670270442513, 0.06148657076511574, 0.04722881522537876, 0.6041723909963547, 0.10430526482483553, 0.30991420411983506, 0.0007503975886678816, 0.5845597215722798, 0.020056369607653765, 0.004011273921530753, 0.974739562931973, 0.11624114064980046, 0.1454153877148484, 0.14997386381876215, 0.10438910277962472, 0.4841101622356396, 0.9812424711335749, 0.9965468277617292, 0.002279874646045824, 0.3541405283524513, 0.021278830029761022, 0.6216458201551612, 0.0025439536735064753, 0.6428215962670839, 0.004525871070308032, 0.012867672650875777, 0.3372513468796201, 0.0011228624288392689, 0.0011228624288392689, 0.9971018368092708, 0.01770528150369536, 0.7896555550648131, 0.1912170402399099, 0.46321846993217497, 0.41539703727285027, 0.031526722271702966, 0.08702319967882054, 0.0028338626761081316, 0.9810122640819615, 0.9822009798657699, 0.017231596137995964, 0.9721321015065382, 0.02371053906113508, 0.012361533052230355, 0.0803499648394973, 0.19778452883568567, 0.0037084599156691064, 0.7058435372823533, 0.090330047549198, 0.31989365832299876, 0.29038988440312646, 0.06931366064737118, 0.23016985270366114, 0.4836918251813455, 0.1870565067455847, 0.10507865515259188, 0.1594555466484014, 0.0646522489232935, 0.9911206239587201, 0.9950574486371923, 0.13657179731158378, 0.0005002629938153252, 0.8629536643314359, 0.08369129973892123, 0.9159547804759712, 0.9501318764172397, 0.04906784338304994, 0.9865864941504139, 0.3097469647510393, 0.09663232773571157, 0.0811449794981596, 0.45262320553408913, 0.059768076297031535, 0.9890890343252884, 0.010843206763337289, 0.9853358121666111, 0.9923469579517248, 0.9955223514786236, 0.9857808862949414, 0.9884566186705298, 0.9546667299190073, 0.970755670603832, 0.7046253321189351, 0.13421434897503523, 0.1611807289071359, 0.053950826277037164, 0.036060396838019655, 0.36172212022013517, 0.07827062879570158, 0.4701828486941788, 0.27305015165559965, 0.34428062600053866, 0.049617809052243854, 0.3025773140977325, 0.03074477738820018, 0.91946546112562, 0.03536405619713923, 0.04294206823938335, 0.024582550748339194, 0.02107075778429074, 0.09481841002930833, 0.8568774832278233, 0.9930123394433551, 0.006631134153211053, 0.9990096533261944, 0.9894452063616065, 0.01808404663423789, 0.09403704249803703, 0.8825014757508091, 0.9937302104713642, 0.9956632680428561, 0.9914088485358654, 0.20340901468061612, 0.42430111822634303, 0.14782175777616124, 0.224478378184724, 0.00011207108246865901, 0.9903942032589973, 0.06935939814481587, 0.06816354645266387, 0.16223721290195436, 0.21884085966381558, 0.48073238024510306, 0.01348462208652146, 0.05124156392878155, 0.3002575851265445, 0.003595899223072389, 0.6310803136492044, 0.9988125838222329, 0.9941738046364631, 0.9902404459865735, 0.9949682443818497, 0.9988304579393306, 0.0006663311927547235, 0.0164616511452535, 0.004997286954809098, 0.0011758322246609642, 0.9361094298582102, 0.04130110689121637, 0.9966105203322214, 0.0026647340115834796, 0.9721747557800112, 0.8687002292803208, 0.028715102809517924, 0.10255393860542115, 0.05590423373517821, 0.006988029216897276, 0.9224198566304403, 0.010482043825345913, 0.3745022096925753, 0.22253202593763147, 0.2617462929614562, 0.1300388003738382, 0.011204076292521348, 0.5334091084210174, 0.12787553602070237, 0.18238821472275477, 0.15589607180213116, 0.0005094642869350692, 0.9842531137899171, 0.990429491906736, 0.9885612925832896, 0.9957490397591126, 0.9926763807630365, 0.007073703425864869, 0.28095972662529267, 0.13419549227663669, 0.31963277915458277, 0.2515682067030322, 0.01372893364789799, 0.7903356459828802, 0.11269600877904033, 0.0417121590935409, 0.05268904306552535, 0.0021953767943968896, 0.02938194139642394, 0.013698337542927378, 0.8741127565436123, 0.05618303658910794, 0.026801095192684, 0.9968128287781449, 0.9991862392552563, 0.5061014093763628, 0.22297038317992804, 0.042488454130407874, 0.2267304233684597, 0.002256024113119002, 0.0058852643978314825, 0.001961754799277161, 0.9553745872479773, 0.03334983158771174, 0.0034330708987350316, 0.9954241350126711, 0.005239074394803532, 0.9969545959678526, 0.9939465186078552, 0.9927664592037592, 0.9807629446705023, 0.06925642011204493, 0.00421560818073317, 0.8696197447112424, 0.0018066892203142154, 0.05540513608963594, 0.1930964093921019, 0.15252119405647704, 0.05961435483926422, 0.16136451021936965, 0.4334265309954184, 0.01853624186045988, 0.981470242098709, 0.02846560451088852, 0.9678305533702097, 0.013838377731006322, 0.021910764740760008, 0.890845566433532, 0.008072387009753688, 0.06515569515015476, 0.0015253235820614, 0.4375772026038641, 0.5607470818553222, 0.9654682436153822, 0.0240773960612219, 0.013543535284437318, 0.8151201791559497, 0.146972438457042, 0.981071108321365, 0.010722088615534045, 0.9709678263968862, 0.02589247537058363, 0.9941317207104987, 0.34780187587422257, 0.33606622975576717, 0.14136119188139412, 0.08250514846914073, 0.09228485356785353, 0.0023328612105269694, 0.3653260655685234, 0.00046657224210539384, 0.39985241148432255, 0.23235297656848614, 0.9928181665303956, 0.9875713483155892, 0.050942213411375906, 0.9424309481104542, 0.9815611919509499, 0.025509489029365756, 0.007002604831590599, 0.12604688696863078, 0.04701748958353688, 0.7947956483855331, 0.005127992657270861, 0.99312124462479, 0.9603634833959391, 0.03928144008248552, 0.14951673518389297, 0.23108981111415292, 0.17423276691837322, 0.052483425411488954, 0.3926085699386577, 0.9000085983583177, 0.09978773371989877, 0.005365536139209134, 0.9376274403267962, 0.0013413840348022836, 0.042924289113673075, 0.012743148330621694, 0.9858367631953396, 0.014105919985474124, 0.9737129909111832, 0.04797175148527096, 0.9519394435358457, 0.995705203781432, 0.7556317605058583, 0.08164375712518089, 0.08813426501379361, 0.06046420506760259, 0.014347438490617563, 0.9871902505801218, 0.023992117456984163, 0.9404910043137792, 0.028790540948380995, 0.9881830001280966, 0.9870946693874197, 0.9986259999509302, 0.7094158338148755, 0.29011007380651943, 0.9789157127154418, 0.08564977705915953, 0.9129012823134808, 0.9965617524890967, 0.9872295461448723, 0.00731281145292498, 0.9884021396445162, 0.9997714662944824, 0.9956853805884086, 0.8125166374658188, 0.009789357077901432, 0.019578714155802864, 0.1566297132464229, 0.5586872379718697, 0.0033053401518360007, 0.06873412469587172, 0.36918106926660565, 0.13457367600276698, 0.4043133417231019, 0.42504432174113377, 0.0299710739689261, 0.006160062633929475, 0.9986281685347066, 0.0013428985151444708, 0.380958007070804, 0.05270654537980879, 0.08727223328005548, 0.2115616216873255, 0.2674550744621925, 0.470132907787002, 0.11960062684316224, 0.030733288012329614, 0.26709572393044695, 0.11231844213341345, 0.04258584788082642, 0.7158827876518236, 0.2408303121536391, 0.00036711937828298643, 0.9860355223305411, 0.07648243520939424, 0.9225200947937244, 0.9894842422217351, 0.12018757360522483, 0.06953000125922097, 0.7101992985763286, 0.029798571968237562, 0.07052328699149556, 0.23831796736671979, 0.2875443016096816, 0.4022755197791243, 0.06316077277205415, 0.008725302630366244, 0.9656573536705644, 0.02069265757865495, 0.013795105052436633, 0.9880752159907342, 0.006958276168948833, 0.0835326711567581, 0.10698813807234515, 0.7805647794548901, 0.010337960470071638, 0.018579070467440065, 0.997092252060004, 0.9973712980579147, 0.9736674909250467, 0.43710177468475964, 0.06537212129887636, 0.042789024850173614, 0.3161633502818384, 0.13847003875125627, 0.47817815373993816, 0.19602334252693118, 0.06185453298445325, 0.22146247195895058, 0.04235550484112874, 0.9978594029203713, 0.027135495384876758, 0.1486553225432379, 0.8022668200746172, 0.007078824883011328, 0.014157649766022656, 0.9949473912653387, 0.993842048581722, 0.12978375463596986, 0.7201889119436191, 0.12701059748562862, 0.013865785751706182, 0.008874102881091956, 0.9992391712829448, 0.9836572399097028, 0.46783281172823943, 0.2486484682918139, 0.1785813421113172, 0.06252143566875089, 0.04239959430409543, 0.21292060328093604, 0.1699032139552818, 0.4530752372140848, 0.06065761372538294, 0.1033655254299893, 0.010563401365715753, 0.8904947351298379, 0.0010563401365715752, 0.07500014969658184, 0.023239483004574655, 0.000894192342585469, 0.2915067036828629, 0.7046235659573495, 0.003576769370341876, 0.11378183884656516, 0.8851340450531497, 0.993484701566383, 0.006008267494353793, 0.00046624845241481774, 0.662539050881456, 0.0603791745877189, 0.2734547173412906, 0.0030306149406963156, 0.9702349698398106, 0.994696451957841, 0.157823955251037, 0.8416216968528083, 0.0003181934581674134, 0.9925425194591215, 0.42782889070997054, 0.38941375046171983, 0.10708878137697295, 0.020260039719967853, 0.055517771180691136, 0.9766792890817444, 0.9871168829940268, 0.9983920613813753, 0.001243327598233344, 0.11773592283815805, 0.5931934514880998, 0.03046840175683962, 0.2587933383790822, 0.0646339788315556, 0.9307292951744005, 0.04578648053934164, 0.14761014621638496, 0.08063887617376586, 0.0451031002327843, 0.6799634050245511, 0.9929610264468668, 0.9857574601652587, 0.00023538316129824273, 0.036719773162525865, 0.00047076632259648545, 0.19136651013547135, 0.7711152364130432, 0.0006500683164382295, 0.9991550023655588, 0.9907671296594059, 0.14760459372901955, 0.22049575112606623, 0.20878110083011228, 0.042693392189698774, 0.3803356462753043, 0.9893717299657334, 0.010414439262797195, 0.9887934774217947, 0.009071499792860501, 0.14496119393972567, 0.32897746682923185, 0.09394329801433679, 0.056295609296980846, 0.37577319205734716, 0.9896853899302679, 0.06083191555232218, 0.936135589332958, 0.9996235200252029, 0.9885643637373888, 0.9915738579936749, 0.00709774962618906, 0.8667604837628523, 0.1260894345358292, 0.9995138392801548, 0.9732531197522281, 0.0034716832289990534, 0.03818851551898959, 0.9512412047457406, 0.006943366457998107, 0.9919224699250275, 0.6295209598969623, 0.07000482043667465, 0.3003938190379696, 0.08593997353837905, 0.03495863330374741, 0.8783356617566537, 0.9781810129008378, 0.04258559923773738, 0.16379076629898992, 0.7501617096493739, 0.04258559923773738, 0.9639174072797628, 0.28635233775515995, 0.5630852444951758, 0.027603584652152714, 0.06120188718330829, 0.061898947401796994, 0.9747398175263868, 0.0232080908934854, 0.9916428774388564, 0.998956662741319, 0.35430617413059423, 0.08682097239956904, 0.09416245168335613, 0.42037948768467803, 0.04436807045419153, 0.03626300409176346, 0.9143457460280359, 0.049214076981678984, 0.16927398595304546, 0.13591797030483946, 0.13965883187286257, 0.08759850838454103, 0.46791943446688994, 0.07144627702368889, 0.5886263565930442, 0.22570959134008875, 0.0623496688084712, 0.051926471895200936, 0.041082834700391285, 0.9561096075727427, 0.9854269740261425, 0.9878257640256611, 0.9964473396519284, 0.2430629224754701, 0.7565761389729422, 0.994401867669417, 0.9866043742126269, 0.06448888095234084, 0.012420080776006384, 0.906665896648466, 0.000477695414461784, 0.015763948677238872, 0.9932575441019097, 0.00526461595813733, 0.9901521928164851, 0.5200804499705128, 0.4797641360193103, 0.9949320730776936, 0.7893894360933562, 0.210211018355544, 0.9823556001535761, 0.25691098352027136, 0.2684418833971368, 0.27471418607740977, 0.14065163586066642, 0.05930177079530801, 0.9917891148410954, 0.9949779280346555, 0.025453098956875655, 0.04242183159479276, 0.9332802950854407, 0.9950056516673794, 0.004093279710297905, 0.01403410186387853, 0.9646106014439176, 0.0171917747832512, 0.796112333188183, 0.13748124629354164, 0.02951296879288908, 0.018445605495555677, 0.018199664088948266, 0.025710925756617615, 0.9731585398879767, 0.0012855462878308807, 0.016500269572441183, 0.011000179714960787, 0.9680158149165493, 0.051306126988453764, 0.9161808390795315, 0.03298251020686314, 0.8842263501290961, 0.01300332867836906, 0.0650166433918453, 0.03250832169592265, 0.9875006314485595, 0.9934237141237411, 0.9948481526735198, 0.9709968342121853, 0.9701949564463338, 0.9883831016890129, 0.994516339398719, 0.004037512325490675, 0.17765054232158972, 0.7940440906798328, 0.02287923651111383, 0.011640471059414684, 0.9874999615403458, 0.011253750155179884, 0.6177058418509848, 0.3701233384370273, 0.00498383041129651, 0.9917822518480054, 0.0010345890819568081, 0.03621061786848828, 0.9621678462198315, 0.9941538782001287, 0.003875843579727597, 0.7317562494293496, 0.1781921405796021, 0.05404187870037113, 0.036514782905656164, 0.9962010466597395, 0.4263232639902523, 0.25551802100645543, 0.18101492632854727, 0.13079432176788322, 0.006622497304702948, 0.9949651360417275, 0.0051023853130345, 0.16303929046081925, 0.8366746821851622, 0.24125287868819625, 0.12362885437901712, 0.39384620752172594, 0.22217871258400504, 0.01872094080596545, 0.9791724583321415, 0.18086116272568425, 0.2605705926898389, 0.46252445544989745, 0.02936663209205698, 0.06677412773312956, 0.9795786721951575], \"Term\": [\"access\", \"access\", \"access\", \"access\", \"access\", \"account\", \"account\", \"account\", \"account\", \"account\", \"accuracy\", \"ach\", \"ach\", \"act\", \"act\", \"act\", \"act\", \"act\", \"action\", \"action\", \"action\", \"action\", \"action\", \"address\", \"address\", \"address\", \"address\", \"address\", \"advertising\", \"advertising\", \"agency\", \"agency\", \"agency\", \"agency\", \"agency\", \"airline\", \"airport\", \"allegation\", \"amazon\", \"amazon\", \"amount\", \"amount\", \"amount\", \"amount\", \"amount\", \"amp\", \"application\", \"application\", \"application\", \"application\", \"appraisal\", \"appraisal\", \"apr\", \"apr\", \"arbitration\", \"artist\", \"assistance\", \"assistance\", \"assistance\", \"assistance\", \"assistance\", \"atm\", \"attorney\", \"attorney\", \"attorney\", \"attorney\", \"attorney\", \"aunt\", \"auto\", \"auto\", \"auto\", \"auto\", \"balance\", \"balance\", \"balance\", \"balance\", \"balance\", \"balloon\", \"bank\", \"bank\", \"bank\", \"bank\", \"bank\", \"banker\", \"banker\", \"banker\", \"banking\", \"banking\", \"banking\", \"banking\", \"banking\", \"benefit\", \"benefit\", \"benefit\", \"benefit\", \"benefit\", \"billing\", \"billing\", \"billing\", \"borrower\", \"branch\", \"branch\", \"bureau\", \"bureau\", \"bureau\", \"bureau\", \"business\", \"business\", \"business\", \"business\", \"business\", \"call\", \"call\", \"call\", \"call\", \"call\", \"camera\", \"car\", \"car\", \"car\", \"car\", \"car\", \"card\", \"card\", \"card\", \"card\", \"cardholder\", \"cardmember\", \"case\", \"case\", \"case\", \"case\", \"case\", \"cashier\", \"cashier\", \"cd\", \"cd\", \"cease\", \"ceiling\", \"charge\", \"charge\", \"charge\", \"charge\", \"chargeoff\", \"chase\", \"chase\", \"chase\", \"chase\", \"chase\", \"check\", \"check\", \"check\", \"check\", \"checking\", \"checking\", \"cheque\", \"chip\", \"claim\", \"claim\", \"claim\", \"claim\", \"claim\", \"club\", \"collection\", \"collection\", \"collection\", \"collector\", \"collector\", \"companion\", \"company\", \"company\", \"company\", \"company\", \"company\", \"complaint\", \"complaint\", \"complaint\", \"complaint\", \"complaint\", \"consolidation\", \"consumer\", \"consumer\", \"consumer\", \"consumer\", \"consumer\", \"contract\", \"contract\", \"contract\", \"contract\", \"contractor\", \"contractor\", \"contractor\", \"copy\", \"copy\", \"copy\", \"copy\", \"copy\", \"counterfeit\", \"coupon\", \"court\", \"court\", \"court\", \"court\", \"credit\", \"credit\", \"credit\", \"credit\", \"credit\", \"creditor\", \"creditor\", \"creditor\", \"crime\", \"crime\", \"crime\", \"customer\", \"customer\", \"customer\", \"customer\", \"customer\", \"cutoff\", \"cycle\", \"cycle\", \"dad\", \"dad\", \"damage\", \"damage\", \"damage\", \"damage\", \"damage\", \"date\", \"date\", \"date\", \"date\", \"date\", \"day\", \"day\", \"day\", \"day\", \"day\", \"dealer\", \"dealership\", \"debit\", \"debit\", \"debit\", \"debt\", \"debt\", \"deed\", \"deed\", \"deletion\", \"department\", \"department\", \"department\", \"department\", \"department\", \"deposit\", \"deposit\", \"deposited\", \"derogatory\", \"desist\", \"detective\", \"device\", \"direct\", \"dispense\", \"dispute\", \"dispute\", \"dispute\", \"document\", \"document\", \"document\", \"document\", \"document\", \"email\", \"email\", \"email\", \"email\", \"email\", \"employer\", \"employer\", \"employer\", \"entity\", \"entity\", \"entity\", \"entity\", \"equity\", \"equity\", \"escrow\", \"everytime\", \"exhibit\", \"exhibit\", \"exhibit\", \"fake\", \"fcra\", \"fdcpa\", \"fee\", \"fee\", \"fee\", \"fee\", \"fee\", \"fha\", \"file\", \"file\", \"file\", \"file\", \"file\", \"finance\", \"finance\", \"finance\", \"finance\", \"finance\", \"flight\", \"flood\", \"footage\", \"forbearance\", \"foreclosure\", \"foreclosure\", \"fraud\", \"fraud\", \"fraud\", \"fraud\", \"fraud\", \"freedom\", \"freedom\", \"frozen\", \"fund\", \"fund\", \"fund\", \"gas\", \"gas\", \"gas\", \"gas\", \"get\", \"get\", \"get\", \"get\", \"get\", \"go\", \"go\", \"go\", \"go\", \"go\", \"hack\", \"hacker\", \"hamp\", \"harp\", \"heloc\", \"heloc\", \"help\", \"help\", \"help\", \"help\", \"help\", \"hold\", \"hold\", \"hold\", \"hold\", \"hold\", \"home\", \"home\", \"home\", \"home\", \"home\", \"homeowner\", \"hotel\", \"hour\", \"hour\", \"hour\", \"hour\", \"hour\", \"house\", \"house\", \"house\", \"house\", \"house\", \"housing\", \"housing\", \"hud\", \"hurricane\", \"inaccurate\", \"inactivity\", \"income\", \"income\", \"income\", \"income\", \"income\", \"information\", \"information\", \"information\", \"information\", \"information\", \"inquiry\", \"inquiry\", \"instrument\", \"instrument\", \"insurance\", \"insurance\", \"insurance\", \"insurance\", \"insurance\", \"interest\", \"interest\", \"interest\", \"internship\", \"investigation\", \"investigation\", \"investigation\", \"investigation\", \"investigator\", \"investigator\", \"investor\", \"investor\", \"ip\", \"issue\", \"issue\", \"issue\", \"issue\", \"issue\", \"item\", \"item\", \"item\", \"item\", \"item\", \"jpmcb\", \"jpmchase\", \"judgment\", \"judgment\", \"jurisdiction\", \"law\", \"law\", \"law\", \"law\", \"law\", \"lease\", \"lease\", \"lender\", \"lender\", \"letter\", \"letter\", \"letter\", \"letter\", \"letter\", \"lien\", \"lien\", \"limit\", \"limit\", \"limit\", \"limit\", \"limit\", \"loan\", \"loan\", \"lobby\", \"machine\", \"machine\", \"maker\", \"manager\", \"manager\", \"manager\", \"manager\", \"manager\", \"manger\", \"marketing\", \"marketing\", \"marketing\", \"marriott\", \"mastercard\", \"membership\", \"merchant\", \"merchant\", \"mgr\", \"mile\", \"mile\", \"mileage\", \"mitigation\", \"mitigation\", \"mod\", \"modification\", \"modify\", \"monday\", \"monday\", \"monday\", \"monday\", \"money\", \"money\", \"money\", \"money\", \"month\", \"month\", \"month\", \"month\", \"month\", \"mortgage\", \"mortgage\", \"name\", \"name\", \"name\", \"name\", \"name\", \"number\", \"number\", \"number\", \"number\", \"number\", \"offer\", \"offer\", \"offer\", \"offer\", \"origination\", \"overdraft\", \"overdraft\", \"paperless\", \"paperwork\", \"paperwork\", \"paperwork\", \"paperwork\", \"paperwork\", \"pay\", \"pay\", \"pay\", \"pay\", \"pay\", \"paycheck\", \"paycheck\", \"paycheck\", \"payee\", \"payee\", \"payment\", \"payment\", \"payment\", \"payment\", \"payment\", \"payoff\", \"payroll\", \"perpetrator\", \"person\", \"person\", \"person\", \"person\", \"person\", \"phone\", \"phone\", \"phone\", \"phone\", \"phone\", \"pin\", \"plan\", \"plan\", \"plan\", \"plan\", \"plan\", \"plane\", \"pmi\", \"point\", \"point\", \"point\", \"point\", \"point\", \"police\", \"premier\", \"problem\", \"problem\", \"problem\", \"problem\", \"problem\", \"process\", \"process\", \"process\", \"process\", \"process\", \"product\", \"product\", \"product\", \"product\", \"product\", \"program\", \"program\", \"program\", \"program\", \"promotion\", \"promotion\", \"property\", \"property\", \"purchase\", \"purchase\", \"purchase\", \"purchase\", \"purchase\", \"purse\", \"quickpay\", \"rate\", \"rate\", \"rate\", \"realtor\", \"reason\", \"reason\", \"reason\", \"reason\", \"reason\", \"rebate\", \"rebill\", \"refinance\", \"refinance\", \"refund\", \"refund\", \"refund\", \"refund\", \"remark\", \"remark\", \"remove\", \"remove\", \"remove\", \"remove\", \"remove\", \"repayment\", \"repo\", \"report\", \"report\", \"report\", \"report\", \"report\", \"reporting\", \"reporting\", \"repossession\", \"request\", \"request\", \"request\", \"request\", \"request\", \"reservation\", \"reservation\", \"resort\", \"resort\", \"response\", \"response\", \"response\", \"response\", \"response\", \"restrict\", \"reversal\", \"reversal\", \"reward\", \"ride\", \"roof\", \"sale\", \"sale\", \"sale\", \"sapphire\", \"sba\", \"scam\", \"scam\", \"scam\", \"scam\", \"scammer\", \"score\", \"score\", \"score\", \"section\", \"section\", \"section\", \"seizure\", \"seller\", \"seller\", \"seller\", \"seller\", \"seperate\", \"service\", \"service\", \"service\", \"service\", \"service\", \"servicer\", \"servicer\", \"shortage\", \"slate\", \"someone\", \"someone\", \"someone\", \"someone\", \"someone\", \"spending\", \"spending\", \"spending\", \"state\", \"state\", \"state\", \"state\", \"state\", \"statement\", \"statement\", \"statement\", \"statement\", \"statement\", \"station\", \"station\", \"statute\", \"stole\", \"stolen\", \"store\", \"store\", \"subscription\", \"surveillance\", \"tax\", \"tax\", \"tax\", \"tax\", \"tax\", \"teller\", \"teller\", \"termination\", \"theft\", \"theft\", \"thief\", \"ticket\", \"ticket\", \"tila\", \"time\", \"time\", \"time\", \"time\", \"time\", \"timeshare\", \"tire\", \"trade\", \"trade\", \"trade\", \"train\", \"transaction\", \"transaction\", \"transaction\", \"transaction\", \"transfer\", \"transfer\", \"transfer\", \"transfer\", \"transfer\", \"travel\", \"travel\", \"travel\", \"trial\", \"trial\", \"trial\", \"trip\", \"trip\", \"trip\", \"tuesday\", \"tuesday\", \"tuesday\", \"tuesday\", \"tuition\", \"tv\", \"underwriter\", \"unlock\", \"urgency\", \"utilization\", \"validation\", \"value\", \"value\", \"value\", \"value\", \"vehicle\", \"vehicle\", \"victim\", \"victim\", \"victim\", \"video\", \"video\", \"violation\", \"violation\", \"violation\", \"visa\", \"visa\", \"wait\", \"wait\", \"wait\", \"wait\", \"wallet\", \"week\", \"week\", \"week\", \"week\", \"week\", \"wire\", \"wire\", \"withdrawal\", \"withdrawal\", \"work\", \"work\", \"work\", \"work\", \"work\", \"writer\", \"year\", \"year\", \"year\", \"year\", \"year\", \"z\"]}, \"R\": 30, \"lambda.step\": 0.01, \"plot.opts\": {\"xlab\": \"PC1\", \"ylab\": \"PC2\"}, \"topic.order\": [4, 3, 1, 5, 2]};\n",
              "\n",
              "function LDAvis_load_lib(url, callback){\n",
              "  var s = document.createElement('script');\n",
              "  s.src = url;\n",
              "  s.async = true;\n",
              "  s.onreadystatechange = s.onload = callback;\n",
              "  s.onerror = function(){console.warn(\"failed to load library \" + url);};\n",
              "  document.getElementsByTagName(\"head\")[0].appendChild(s);\n",
              "}\n",
              "\n",
              "if(typeof(LDAvis) !== \"undefined\"){\n",
              "   // already loaded: just create the visualization\n",
              "   !function(LDAvis){\n",
              "       new LDAvis(\"#\" + \"ldavis_el9121379972463329922430737082\", ldavis_el9121379972463329922430737082_data);\n",
              "   }(LDAvis);\n",
              "}else if(typeof define === \"function\" && define.amd){\n",
              "   // require.js is available: use it to load d3/LDAvis\n",
              "   require.config({paths: {d3: \"https://d3js.org/d3.v5\"}});\n",
              "   require([\"d3\"], function(d3){\n",
              "      window.d3 = d3;\n",
              "      LDAvis_load_lib(\"https://cdn.jsdelivr.net/gh/bmabey/pyLDAvis@3.4.0/pyLDAvis/js/ldavis.v3.0.0.js\", function(){\n",
              "        new LDAvis(\"#\" + \"ldavis_el9121379972463329922430737082\", ldavis_el9121379972463329922430737082_data);\n",
              "      });\n",
              "    });\n",
              "}else{\n",
              "    // require.js not available: dynamically load d3 & LDAvis\n",
              "    LDAvis_load_lib(\"https://d3js.org/d3.v5.js\", function(){\n",
              "         LDAvis_load_lib(\"https://cdn.jsdelivr.net/gh/bmabey/pyLDAvis@3.4.0/pyLDAvis/js/ldavis.v3.0.0.js\", function(){\n",
              "                 new LDAvis(\"#\" + \"ldavis_el9121379972463329922430737082\", ldavis_el9121379972463329922430737082_data);\n",
              "            })\n",
              "         });\n",
              "}\n",
              "</script>"
            ]
          },
          "metadata": {},
          "execution_count": 28
        }
      ],
      "source": [
        "import pyLDAvis.gensim\n",
        "import pyLDAvis\n",
        "\n",
        "pyLDAvis.enable_notebook()\n",
        "vis = pyLDAvis.gensim.prepare(topic_model=lda, corpus=common_corpus, dictionary=common_dictionary)\n",
        "vis"
      ]
    },
    {
      "cell_type": "markdown",
      "source": [
        "Синие круги обозначают полученные темы. Они не пересекаются, и некоторые темы достаточно сильно удалены от других. К сожалению, номера на кругах не соответствуют номеру темы в полученной модели, что создает путаницу. Однако, эти темы все равно можно исследовать:\n",
        "* **Тема 3** содержит все слова \"loan\" и \"mortgage\", встречающиеся в документах. Значит, это тема **\"Mortgages / Loans\"**.\n",
        "* **Тема 4** содержит такие слова, как \"fraud\", \"investigation\", \"overdraft\". Должно быть, это тема **\"Theft / Dispute reporting\"**.\n",
        "* **Тема 2** содержит больше всего слов \"card\" и \"credit\". Это тема **\"Credit card / Prepaid card\"**.\n",
        "* **Тема 1** содержит такие слова, как \"account\", \"check\", \"fund\". Это тема **\"Bank account services\"**.\n",
        "* Осталась только **тема 5**, и она должна быть темой **\"Others\"**."
      ],
      "metadata": {
        "id": "GqgNpaYvt4DV"
      }
    },
    {
      "cell_type": "markdown",
      "source": [
        "Метрика 'Coherence Score' измеряет согласованность тем для тематических моделей."
      ],
      "metadata": {
        "id": "i-zVzhoOx7sW"
      }
    },
    {
      "cell_type": "code",
      "execution_count": null,
      "metadata": {
        "colab": {
          "base_uri": "https://localhost:8080/"
        },
        "id": "SieYRCaUhfF_",
        "outputId": "ebf86765-e085-40f2-9228-3ec7aa0f1c95"
      },
      "outputs": [
        {
          "output_type": "stream",
          "name": "stdout",
          "text": [
            "Coherence Score:  0.4256897984964456\n"
          ]
        }
      ],
      "source": [
        "from gensim.models import CoherenceModel\n",
        "\n",
        "coherence_model_lda = CoherenceModel(model=lda, texts=texts, dictionary=common_dictionary, coherence='c_v')\n",
        "coherence_lda = coherence_model_lda.get_coherence()\n",
        "print('Coherence Score: ', coherence_lda)"
      ]
    },
    {
      "cell_type": "markdown",
      "source": [
        "Согласованность тем примерно равна 0.43, а сами темы хорошо отличимы. Неплохой результат. Однако в процессе обучения результаты модельно сильно отличались на разных random_state, что в данном примере можно назвать минусом модели."
      ],
      "metadata": {
        "id": "1qlHuvC3ytDe"
      }
    },
    {
      "cell_type": "markdown",
      "source": [
        "Пора посмотреть на темы модели и их характерные слова."
      ],
      "metadata": {
        "id": "fJJo0tnPzrKH"
      }
    },
    {
      "cell_type": "code",
      "execution_count": null,
      "metadata": {
        "colab": {
          "base_uri": "https://localhost:8080/"
        },
        "id": "JIw928x4vl5q",
        "outputId": "a4e2f937-6ba5-4c04-f0b9-6396a0083b59"
      },
      "outputs": [
        {
          "output_type": "stream",
          "name": "stdout",
          "text": [
            "topic_0: payment chase loan mortgage home time year month bank pay\n",
            "topic_1: credit report chase information letter account debt company inquiry consumer\n",
            "topic_2: card credit chase charge account balance time service fee customer\n",
            "topic_3: account bank chase check money day fund call deposit time\n",
            "topic_4: chase transaction claim bank fraud charge account money card time\n"
          ]
        }
      ],
      "source": [
        "x=lda.show_topics(num_topics=5, num_words=10,formatted=False)\n",
        "topics_words = [(tp[0], [wd[0] for wd in tp[1]]) for tp in x]\n",
        "\n",
        "for topic,words in topics_words:\n",
        "    print(f'topic_{topic}: {\" \".join(words)}')"
      ]
    },
    {
      "cell_type": "markdown",
      "metadata": {
        "id": "58ONq1DBwY-Z"
      },
      "source": [
        "0. Mortgages/loans\n",
        "1. Others\n",
        "2. Credit card / Prepaid card\n",
        "3. Bank account services\n",
        "4. Theft/Dispute reporting\n",
        "\n",
        "\n",
        "\n",
        "\n",
        "\n"
      ]
    },
    {
      "cell_type": "markdown",
      "source": [
        "## Обучение модели NMF"
      ],
      "metadata": {
        "id": "hrHMxL0z4KDk"
      }
    },
    {
      "cell_type": "markdown",
      "source": [
        "Еще один способ моделирования тем - факторизация матрицы. Факторизация - процесс декомпозиции объекта в *факторы*, произведение которых дает исходный объект. Задача факторизация матрицы - поиск двух матриц, произведение которых будет давать исходную.\n",
        "\n",
        "В задаче моделирования тем, за факторизируемую матрицу берется **терм-документная матрица** размерности NxM, где N - число документов в обучающем наборе, а M - число уникальных слов в документах. Ее факторами будут матрица *признаков* и матрица *компонент*. Матрица компонент имеет размер kxM, где k - число тем, и содержит \"вес\" слова в каждой теме. Матрица признаков имеет размер Nxk, и содержит в себе величину принадлежности документов к темам."
      ],
      "metadata": {
        "id": "2SIeX-O00TJD"
      }
    },
    {
      "cell_type": "code",
      "source": [
        "from sklearn.feature_extraction.text import TfidfVectorizer\n",
        "\n",
        "tfidf = TfidfVectorizer(min_df=2, # игнорировать слова, которые встреачются менее чем в 2 документах\n",
        "                        max_df=0.95, # игнорировать слова, которые встречаются более чем в 95% документов\n",
        "                        stop_words='english')\n",
        "\n",
        "# Document Term Matrix\n",
        "dtm = tfidf.fit_transform(complaints['text'])"
      ],
      "metadata": {
        "id": "GEM7NvNCl3yX"
      },
      "execution_count": null,
      "outputs": []
    },
    {
      "cell_type": "markdown",
      "source": [
        "Терм-документная матрица - способ предстваления документов в векторном виде. Эта матрица имеет размер NxM, где N - число документов в обучающем наборе, а M - число уникальных слов в документах. На пересечении i-ой строки и j-того столбца находится значение TF-IDF для слова j в документе i.\n",
        "\n",
        "TF-IDF - статистическая мера, используемая для оценки важности слова в контексте документа, являющегося частью коллекции документов. Большой вес в TF-IDF получат слова с высокой частотой в пределах конкретного документа и с низкой частотой употреблений в других документах.\n",
        "\n",
        "TF (term frequency — частота слова) — отношение числа появлений некоторого слова к общему числу слов в документе.\n",
        "\n",
        "IDF (inverse document frequency — обратная частота документа) — инверсия частоты, с которой некоторое слово встречается в документах коллекции.\n",
        "\n",
        "$TF \\times IDF=TF-IDF$"
      ],
      "metadata": {
        "id": "myOuaNcD-2PR"
      }
    },
    {
      "cell_type": "code",
      "source": [
        "dtm"
      ],
      "metadata": {
        "colab": {
          "base_uri": "https://localhost:8080/"
        },
        "id": "YpzWAv_xfXDr",
        "outputId": "89ef30f2-1a0c-49ac-b300-f9ac34ec146c"
      },
      "execution_count": null,
      "outputs": [
        {
          "output_type": "execute_result",
          "data": {
            "text/plain": [
              "<21072x7587 sparse matrix of type '<class 'numpy.float64'>'\n",
              "\twith 648801 stored elements in Compressed Sparse Row format>"
            ]
          },
          "metadata": {},
          "execution_count": 38
        }
      ]
    },
    {
      "cell_type": "markdown",
      "source": [
        "Полученный объект - sparse matrix, то есть разреженная матрица — матрица с преимущественно нулевыми элементами. Действительно, ведь в матрице целых 7587 уникальных слов, а большая часть документов содержит не более 50. А значение TF-IDF для слов, не встречающихся в документе, равно 0."
      ],
      "metadata": {
        "id": "TJcJKTsXfm2C"
      }
    },
    {
      "cell_type": "code",
      "source": [
        "1-(648801/(21072*7587))"
      ],
      "metadata": {
        "colab": {
          "base_uri": "https://localhost:8080/"
        },
        "id": "1ZrNTl4qC0Eb",
        "outputId": "927cb5f3-8bc9-46b7-84ce-10c123504e61"
      },
      "execution_count": null,
      "outputs": [
        {
          "output_type": "execute_result",
          "data": {
            "text/plain": [
              "0.9959417792333307"
            ]
          },
          "metadata": {},
          "execution_count": 56
        }
      ]
    },
    {
      "cell_type": "markdown",
      "source": [
        "Больше 99% значений в этой матрице - нули."
      ],
      "metadata": {
        "id": "w0gnneBKDGLb"
      }
    },
    {
      "cell_type": "markdown",
      "source": [
        "Обучение модели NMF:"
      ],
      "metadata": {
        "id": "OL3GK_l4Jas5"
      }
    },
    {
      "cell_type": "code",
      "source": [
        "from sklearn.decomposition import NMF\n",
        "\n",
        "nmf_model = NMF(n_components=5, random_state=17)\n",
        "nmf_model.fit(dtm)\n",
        "nmf_features = nmf_model.transform(dtm)"
      ],
      "metadata": {
        "id": "kRnhgg7QBCGl"
      },
      "execution_count": null,
      "outputs": []
    },
    {
      "cell_type": "code",
      "source": [
        "print('Размер терм-документной матрицы:', dtm.shape)\n",
        "print('Размер матрицы признаков:', nmf_features.shape)\n",
        "print('Размер матрицы компонентов:', nmf_model.components_.shape)"
      ],
      "metadata": {
        "colab": {
          "base_uri": "https://localhost:8080/"
        },
        "id": "fHu4lknpDvMw",
        "outputId": "7cbce9f3-0813-4a55-cb57-e0b0e09d834b"
      },
      "execution_count": null,
      "outputs": [
        {
          "output_type": "stream",
          "name": "stdout",
          "text": [
            "Размер терм-документной матрицы: (21072, 7587)\n",
            "Размер матрицы признаков: (21072, 5)\n",
            "Размер матрицы компонентов: (5, 7587)\n"
          ]
        }
      ]
    },
    {
      "cell_type": "markdown",
      "source": [
        "Матрица компонентов содержит темы. Матрица признаков показывает принадлежность документа к теме."
      ],
      "metadata": {
        "id": "ijrQ-pJQFDH9"
      }
    },
    {
      "cell_type": "markdown",
      "source": [
        "Посмотрим на матрицу компонентов:"
      ],
      "metadata": {
        "id": "wuE29sgl_owA"
      }
    },
    {
      "cell_type": "code",
      "source": [
        "components_df = pd.DataFrame(nmf_model.components_, columns=tfidf.get_feature_names_out())\n",
        "components_df"
      ],
      "metadata": {
        "colab": {
          "base_uri": "https://localhost:8080/",
          "height": 235
        },
        "id": "hGg6Aus75BRR",
        "outputId": "3f7ae80c-af55-4e0e-acb1-3dc01db7cd5a"
      },
      "execution_count": null,
      "outputs": [
        {
          "output_type": "execute_result",
          "data": {
            "text/plain": [
              "         __       ___     _____      aarp        ab  abandonment  abatement  \\\n",
              "0  0.000043  0.000391  0.000246  0.000000  0.000000     0.000000   0.000000   \n",
              "1  0.000214  0.000000  0.000136  0.004394  0.000000     0.000000   0.000000   \n",
              "2  0.000000  0.000160  0.000000  0.000000  0.001623     0.001504   0.001803   \n",
              "3  0.000220  0.000082  0.000053  0.001182  0.000000     0.000000   0.000000   \n",
              "4  0.000522  0.000000  0.000544  0.000000  0.000000     0.000000   0.000552   \n",
              "\n",
              "   abbreviation       abd      abet  ...     youth     youve        yr  \\\n",
              "0      0.000000  0.001233  0.000000  ...  0.000777  0.001913  0.001295   \n",
              "1      0.000000  0.000000  0.000213  ...  0.000000  0.000748  0.001607   \n",
              "2      0.000855  0.000000  0.000535  ...  0.000096  0.000722  0.018321   \n",
              "3      0.000085  0.000245  0.000028  ...  0.000000  0.000578  0.002639   \n",
              "4      0.000000  0.000000  0.000000  ...  0.000000  0.000387  0.004160   \n",
              "\n",
              "        ytd      zero    zeroed       zip    zombie      zone      zoom  \n",
              "0  0.000476  0.004762  0.000843  0.002111  0.000000  0.000751  0.000325  \n",
              "1  0.000000  0.002691  0.000211  0.002554  0.000503  0.000000  0.000047  \n",
              "2  0.000000  0.002550  0.000350  0.004123  0.000486  0.003638  0.000000  \n",
              "3  0.000698  0.002082  0.000212  0.004962  0.000000  0.001050  0.000197  \n",
              "4  0.000035  0.002477  0.000801  0.004012  0.000000  0.000000  0.000000  \n",
              "\n",
              "[5 rows x 7587 columns]"
            ],
            "text/html": [
              "\n",
              "  <div id=\"df-639f6014-1dd6-4e64-b345-d136a9e8c791\" class=\"colab-df-container\">\n",
              "    <div>\n",
              "<style scoped>\n",
              "    .dataframe tbody tr th:only-of-type {\n",
              "        vertical-align: middle;\n",
              "    }\n",
              "\n",
              "    .dataframe tbody tr th {\n",
              "        vertical-align: top;\n",
              "    }\n",
              "\n",
              "    .dataframe thead th {\n",
              "        text-align: right;\n",
              "    }\n",
              "</style>\n",
              "<table border=\"1\" class=\"dataframe\">\n",
              "  <thead>\n",
              "    <tr style=\"text-align: right;\">\n",
              "      <th></th>\n",
              "      <th>__</th>\n",
              "      <th>___</th>\n",
              "      <th>_____</th>\n",
              "      <th>aarp</th>\n",
              "      <th>ab</th>\n",
              "      <th>abandonment</th>\n",
              "      <th>abatement</th>\n",
              "      <th>abbreviation</th>\n",
              "      <th>abd</th>\n",
              "      <th>abet</th>\n",
              "      <th>...</th>\n",
              "      <th>youth</th>\n",
              "      <th>youve</th>\n",
              "      <th>yr</th>\n",
              "      <th>ytd</th>\n",
              "      <th>zero</th>\n",
              "      <th>zeroed</th>\n",
              "      <th>zip</th>\n",
              "      <th>zombie</th>\n",
              "      <th>zone</th>\n",
              "      <th>zoom</th>\n",
              "    </tr>\n",
              "  </thead>\n",
              "  <tbody>\n",
              "    <tr>\n",
              "      <th>0</th>\n",
              "      <td>0.000043</td>\n",
              "      <td>0.000391</td>\n",
              "      <td>0.000246</td>\n",
              "      <td>0.000000</td>\n",
              "      <td>0.000000</td>\n",
              "      <td>0.000000</td>\n",
              "      <td>0.000000</td>\n",
              "      <td>0.000000</td>\n",
              "      <td>0.001233</td>\n",
              "      <td>0.000000</td>\n",
              "      <td>...</td>\n",
              "      <td>0.000777</td>\n",
              "      <td>0.001913</td>\n",
              "      <td>0.001295</td>\n",
              "      <td>0.000476</td>\n",
              "      <td>0.004762</td>\n",
              "      <td>0.000843</td>\n",
              "      <td>0.002111</td>\n",
              "      <td>0.000000</td>\n",
              "      <td>0.000751</td>\n",
              "      <td>0.000325</td>\n",
              "    </tr>\n",
              "    <tr>\n",
              "      <th>1</th>\n",
              "      <td>0.000214</td>\n",
              "      <td>0.000000</td>\n",
              "      <td>0.000136</td>\n",
              "      <td>0.004394</td>\n",
              "      <td>0.000000</td>\n",
              "      <td>0.000000</td>\n",
              "      <td>0.000000</td>\n",
              "      <td>0.000000</td>\n",
              "      <td>0.000000</td>\n",
              "      <td>0.000213</td>\n",
              "      <td>...</td>\n",
              "      <td>0.000000</td>\n",
              "      <td>0.000748</td>\n",
              "      <td>0.001607</td>\n",
              "      <td>0.000000</td>\n",
              "      <td>0.002691</td>\n",
              "      <td>0.000211</td>\n",
              "      <td>0.002554</td>\n",
              "      <td>0.000503</td>\n",
              "      <td>0.000000</td>\n",
              "      <td>0.000047</td>\n",
              "    </tr>\n",
              "    <tr>\n",
              "      <th>2</th>\n",
              "      <td>0.000000</td>\n",
              "      <td>0.000160</td>\n",
              "      <td>0.000000</td>\n",
              "      <td>0.000000</td>\n",
              "      <td>0.001623</td>\n",
              "      <td>0.001504</td>\n",
              "      <td>0.001803</td>\n",
              "      <td>0.000855</td>\n",
              "      <td>0.000000</td>\n",
              "      <td>0.000535</td>\n",
              "      <td>...</td>\n",
              "      <td>0.000096</td>\n",
              "      <td>0.000722</td>\n",
              "      <td>0.018321</td>\n",
              "      <td>0.000000</td>\n",
              "      <td>0.002550</td>\n",
              "      <td>0.000350</td>\n",
              "      <td>0.004123</td>\n",
              "      <td>0.000486</td>\n",
              "      <td>0.003638</td>\n",
              "      <td>0.000000</td>\n",
              "    </tr>\n",
              "    <tr>\n",
              "      <th>3</th>\n",
              "      <td>0.000220</td>\n",
              "      <td>0.000082</td>\n",
              "      <td>0.000053</td>\n",
              "      <td>0.001182</td>\n",
              "      <td>0.000000</td>\n",
              "      <td>0.000000</td>\n",
              "      <td>0.000000</td>\n",
              "      <td>0.000085</td>\n",
              "      <td>0.000245</td>\n",
              "      <td>0.000028</td>\n",
              "      <td>...</td>\n",
              "      <td>0.000000</td>\n",
              "      <td>0.000578</td>\n",
              "      <td>0.002639</td>\n",
              "      <td>0.000698</td>\n",
              "      <td>0.002082</td>\n",
              "      <td>0.000212</td>\n",
              "      <td>0.004962</td>\n",
              "      <td>0.000000</td>\n",
              "      <td>0.001050</td>\n",
              "      <td>0.000197</td>\n",
              "    </tr>\n",
              "    <tr>\n",
              "      <th>4</th>\n",
              "      <td>0.000522</td>\n",
              "      <td>0.000000</td>\n",
              "      <td>0.000544</td>\n",
              "      <td>0.000000</td>\n",
              "      <td>0.000000</td>\n",
              "      <td>0.000000</td>\n",
              "      <td>0.000552</td>\n",
              "      <td>0.000000</td>\n",
              "      <td>0.000000</td>\n",
              "      <td>0.000000</td>\n",
              "      <td>...</td>\n",
              "      <td>0.000000</td>\n",
              "      <td>0.000387</td>\n",
              "      <td>0.004160</td>\n",
              "      <td>0.000035</td>\n",
              "      <td>0.002477</td>\n",
              "      <td>0.000801</td>\n",
              "      <td>0.004012</td>\n",
              "      <td>0.000000</td>\n",
              "      <td>0.000000</td>\n",
              "      <td>0.000000</td>\n",
              "    </tr>\n",
              "  </tbody>\n",
              "</table>\n",
              "<p>5 rows × 7587 columns</p>\n",
              "</div>\n",
              "    <div class=\"colab-df-buttons\">\n",
              "\n",
              "  <div class=\"colab-df-container\">\n",
              "    <button class=\"colab-df-convert\" onclick=\"convertToInteractive('df-639f6014-1dd6-4e64-b345-d136a9e8c791')\"\n",
              "            title=\"Convert this dataframe to an interactive table.\"\n",
              "            style=\"display:none;\">\n",
              "\n",
              "  <svg xmlns=\"http://www.w3.org/2000/svg\" height=\"24px\" viewBox=\"0 -960 960 960\">\n",
              "    <path d=\"M120-120v-720h720v720H120Zm60-500h600v-160H180v160Zm220 220h160v-160H400v160Zm0 220h160v-160H400v160ZM180-400h160v-160H180v160Zm440 0h160v-160H620v160ZM180-180h160v-160H180v160Zm440 0h160v-160H620v160Z\"/>\n",
              "  </svg>\n",
              "    </button>\n",
              "\n",
              "  <style>\n",
              "    .colab-df-container {\n",
              "      display:flex;\n",
              "      gap: 12px;\n",
              "    }\n",
              "\n",
              "    .colab-df-convert {\n",
              "      background-color: #E8F0FE;\n",
              "      border: none;\n",
              "      border-radius: 50%;\n",
              "      cursor: pointer;\n",
              "      display: none;\n",
              "      fill: #1967D2;\n",
              "      height: 32px;\n",
              "      padding: 0 0 0 0;\n",
              "      width: 32px;\n",
              "    }\n",
              "\n",
              "    .colab-df-convert:hover {\n",
              "      background-color: #E2EBFA;\n",
              "      box-shadow: 0px 1px 2px rgba(60, 64, 67, 0.3), 0px 1px 3px 1px rgba(60, 64, 67, 0.15);\n",
              "      fill: #174EA6;\n",
              "    }\n",
              "\n",
              "    .colab-df-buttons div {\n",
              "      margin-bottom: 4px;\n",
              "    }\n",
              "\n",
              "    [theme=dark] .colab-df-convert {\n",
              "      background-color: #3B4455;\n",
              "      fill: #D2E3FC;\n",
              "    }\n",
              "\n",
              "    [theme=dark] .colab-df-convert:hover {\n",
              "      background-color: #434B5C;\n",
              "      box-shadow: 0px 1px 3px 1px rgba(0, 0, 0, 0.15);\n",
              "      filter: drop-shadow(0px 1px 2px rgba(0, 0, 0, 0.3));\n",
              "      fill: #FFFFFF;\n",
              "    }\n",
              "  </style>\n",
              "\n",
              "    <script>\n",
              "      const buttonEl =\n",
              "        document.querySelector('#df-639f6014-1dd6-4e64-b345-d136a9e8c791 button.colab-df-convert');\n",
              "      buttonEl.style.display =\n",
              "        google.colab.kernel.accessAllowed ? 'block' : 'none';\n",
              "\n",
              "      async function convertToInteractive(key) {\n",
              "        const element = document.querySelector('#df-639f6014-1dd6-4e64-b345-d136a9e8c791');\n",
              "        const dataTable =\n",
              "          await google.colab.kernel.invokeFunction('convertToInteractive',\n",
              "                                                    [key], {});\n",
              "        if (!dataTable) return;\n",
              "\n",
              "        const docLinkHtml = 'Like what you see? Visit the ' +\n",
              "          '<a target=\"_blank\" href=https://colab.research.google.com/notebooks/data_table.ipynb>data table notebook</a>'\n",
              "          + ' to learn more about interactive tables.';\n",
              "        element.innerHTML = '';\n",
              "        dataTable['output_type'] = 'display_data';\n",
              "        await google.colab.output.renderOutput(dataTable, element);\n",
              "        const docLink = document.createElement('div');\n",
              "        docLink.innerHTML = docLinkHtml;\n",
              "        element.appendChild(docLink);\n",
              "      }\n",
              "    </script>\n",
              "  </div>\n",
              "\n",
              "\n",
              "<div id=\"df-54c1b443-e907-4ba3-a6eb-4f3d5f4e5e22\">\n",
              "  <button class=\"colab-df-quickchart\" onclick=\"quickchart('df-54c1b443-e907-4ba3-a6eb-4f3d5f4e5e22')\"\n",
              "            title=\"Suggest charts.\"\n",
              "            style=\"display:none;\">\n",
              "\n",
              "<svg xmlns=\"http://www.w3.org/2000/svg\" height=\"24px\"viewBox=\"0 0 24 24\"\n",
              "     width=\"24px\">\n",
              "    <g>\n",
              "        <path d=\"M19 3H5c-1.1 0-2 .9-2 2v14c0 1.1.9 2 2 2h14c1.1 0 2-.9 2-2V5c0-1.1-.9-2-2-2zM9 17H7v-7h2v7zm4 0h-2V7h2v10zm4 0h-2v-4h2v4z\"/>\n",
              "    </g>\n",
              "</svg>\n",
              "  </button>\n",
              "\n",
              "<style>\n",
              "  .colab-df-quickchart {\n",
              "      --bg-color: #E8F0FE;\n",
              "      --fill-color: #1967D2;\n",
              "      --hover-bg-color: #E2EBFA;\n",
              "      --hover-fill-color: #174EA6;\n",
              "      --disabled-fill-color: #AAA;\n",
              "      --disabled-bg-color: #DDD;\n",
              "  }\n",
              "\n",
              "  [theme=dark] .colab-df-quickchart {\n",
              "      --bg-color: #3B4455;\n",
              "      --fill-color: #D2E3FC;\n",
              "      --hover-bg-color: #434B5C;\n",
              "      --hover-fill-color: #FFFFFF;\n",
              "      --disabled-bg-color: #3B4455;\n",
              "      --disabled-fill-color: #666;\n",
              "  }\n",
              "\n",
              "  .colab-df-quickchart {\n",
              "    background-color: var(--bg-color);\n",
              "    border: none;\n",
              "    border-radius: 50%;\n",
              "    cursor: pointer;\n",
              "    display: none;\n",
              "    fill: var(--fill-color);\n",
              "    height: 32px;\n",
              "    padding: 0;\n",
              "    width: 32px;\n",
              "  }\n",
              "\n",
              "  .colab-df-quickchart:hover {\n",
              "    background-color: var(--hover-bg-color);\n",
              "    box-shadow: 0 1px 2px rgba(60, 64, 67, 0.3), 0 1px 3px 1px rgba(60, 64, 67, 0.15);\n",
              "    fill: var(--button-hover-fill-color);\n",
              "  }\n",
              "\n",
              "  .colab-df-quickchart-complete:disabled,\n",
              "  .colab-df-quickchart-complete:disabled:hover {\n",
              "    background-color: var(--disabled-bg-color);\n",
              "    fill: var(--disabled-fill-color);\n",
              "    box-shadow: none;\n",
              "  }\n",
              "\n",
              "  .colab-df-spinner {\n",
              "    border: 2px solid var(--fill-color);\n",
              "    border-color: transparent;\n",
              "    border-bottom-color: var(--fill-color);\n",
              "    animation:\n",
              "      spin 1s steps(1) infinite;\n",
              "  }\n",
              "\n",
              "  @keyframes spin {\n",
              "    0% {\n",
              "      border-color: transparent;\n",
              "      border-bottom-color: var(--fill-color);\n",
              "      border-left-color: var(--fill-color);\n",
              "    }\n",
              "    20% {\n",
              "      border-color: transparent;\n",
              "      border-left-color: var(--fill-color);\n",
              "      border-top-color: var(--fill-color);\n",
              "    }\n",
              "    30% {\n",
              "      border-color: transparent;\n",
              "      border-left-color: var(--fill-color);\n",
              "      border-top-color: var(--fill-color);\n",
              "      border-right-color: var(--fill-color);\n",
              "    }\n",
              "    40% {\n",
              "      border-color: transparent;\n",
              "      border-right-color: var(--fill-color);\n",
              "      border-top-color: var(--fill-color);\n",
              "    }\n",
              "    60% {\n",
              "      border-color: transparent;\n",
              "      border-right-color: var(--fill-color);\n",
              "    }\n",
              "    80% {\n",
              "      border-color: transparent;\n",
              "      border-right-color: var(--fill-color);\n",
              "      border-bottom-color: var(--fill-color);\n",
              "    }\n",
              "    90% {\n",
              "      border-color: transparent;\n",
              "      border-bottom-color: var(--fill-color);\n",
              "    }\n",
              "  }\n",
              "</style>\n",
              "\n",
              "  <script>\n",
              "    async function quickchart(key) {\n",
              "      const quickchartButtonEl =\n",
              "        document.querySelector('#' + key + ' button');\n",
              "      quickchartButtonEl.disabled = true;  // To prevent multiple clicks.\n",
              "      quickchartButtonEl.classList.add('colab-df-spinner');\n",
              "      try {\n",
              "        const charts = await google.colab.kernel.invokeFunction(\n",
              "            'suggestCharts', [key], {});\n",
              "      } catch (error) {\n",
              "        console.error('Error during call to suggestCharts:', error);\n",
              "      }\n",
              "      quickchartButtonEl.classList.remove('colab-df-spinner');\n",
              "      quickchartButtonEl.classList.add('colab-df-quickchart-complete');\n",
              "    }\n",
              "    (() => {\n",
              "      let quickchartButtonEl =\n",
              "        document.querySelector('#df-54c1b443-e907-4ba3-a6eb-4f3d5f4e5e22 button');\n",
              "      quickchartButtonEl.style.display =\n",
              "        google.colab.kernel.accessAllowed ? 'block' : 'none';\n",
              "    })();\n",
              "  </script>\n",
              "</div>\n",
              "    </div>\n",
              "  </div>\n"
            ]
          },
          "metadata": {},
          "execution_count": 59
        }
      ]
    },
    {
      "cell_type": "markdown",
      "source": [
        "Строки этой матрицы представляют темы, а значения ячеек - \"вес\" каждого слова в данной теме."
      ],
      "metadata": {
        "id": "2B5dvjBbFwcx"
      }
    },
    {
      "cell_type": "markdown",
      "source": [
        "Посмотрим на слова с наибольшим весом в каждой теме:"
      ],
      "metadata": {
        "id": "SV83owUKJogX"
      }
    },
    {
      "cell_type": "code",
      "source": [
        "topic_words = {i:[] for i in range(components_df.shape[0])}\n",
        "\n",
        "for topic,words in topic_words.items():\n",
        "  tmp = components_df.iloc[topic]\n",
        "  words.extend([*tmp.nlargest(10).index])\n",
        "\n",
        "topic_words = pd.DataFrame(topic_words)\n",
        "topic_words.index = [f'Word {i}' for i in range(10)]\n",
        "topic_words.columns = [f'Topic {i}' for i in range(5)]\n",
        "topic_words = topic_words.T\n",
        "topic_words"
      ],
      "metadata": {
        "colab": {
          "base_uri": "https://localhost:8080/",
          "height": 206
        },
        "id": "u6VVigFyGmHy",
        "outputId": "55ef329c-3c01-4d15-db48-bbda8d37aa42"
      },
      "execution_count": null,
      "outputs": [
        {
          "output_type": "execute_result",
          "data": {
            "text/plain": [
              "          Word 0    Word 1       Word 2   Word 3        Word 4    Word 5  \\\n",
              "Topic 0  account      bank        check    money         chase      fund   \n",
              "Topic 1   credit      card       report  inquiry         chase   account   \n",
              "Topic 2     loan  mortgage         home    chase  modification  property   \n",
              "Topic 3   charge     chase  transaction     card       dispute     fraud   \n",
              "Topic 4  payment   balance        month      fee     statement       pay   \n",
              "\n",
              "          Word 6   Word 7    Word 8    Word 9  \n",
              "Topic 0  deposit      day    branch    number  \n",
              "Topic 1    score  company    bureau      debt  \n",
              "Topic 2     year     rate    letter      time  \n",
              "Topic 3    claim      fee  merchant  purchase  \n",
              "Topic 4      day    chase      time      auto  "
            ],
            "text/html": [
              "\n",
              "  <div id=\"df-5e803491-c949-41d8-8b7c-e032b7e67c4c\" class=\"colab-df-container\">\n",
              "    <div>\n",
              "<style scoped>\n",
              "    .dataframe tbody tr th:only-of-type {\n",
              "        vertical-align: middle;\n",
              "    }\n",
              "\n",
              "    .dataframe tbody tr th {\n",
              "        vertical-align: top;\n",
              "    }\n",
              "\n",
              "    .dataframe thead th {\n",
              "        text-align: right;\n",
              "    }\n",
              "</style>\n",
              "<table border=\"1\" class=\"dataframe\">\n",
              "  <thead>\n",
              "    <tr style=\"text-align: right;\">\n",
              "      <th></th>\n",
              "      <th>Word 0</th>\n",
              "      <th>Word 1</th>\n",
              "      <th>Word 2</th>\n",
              "      <th>Word 3</th>\n",
              "      <th>Word 4</th>\n",
              "      <th>Word 5</th>\n",
              "      <th>Word 6</th>\n",
              "      <th>Word 7</th>\n",
              "      <th>Word 8</th>\n",
              "      <th>Word 9</th>\n",
              "    </tr>\n",
              "  </thead>\n",
              "  <tbody>\n",
              "    <tr>\n",
              "      <th>Topic 0</th>\n",
              "      <td>account</td>\n",
              "      <td>bank</td>\n",
              "      <td>check</td>\n",
              "      <td>money</td>\n",
              "      <td>chase</td>\n",
              "      <td>fund</td>\n",
              "      <td>deposit</td>\n",
              "      <td>day</td>\n",
              "      <td>branch</td>\n",
              "      <td>number</td>\n",
              "    </tr>\n",
              "    <tr>\n",
              "      <th>Topic 1</th>\n",
              "      <td>credit</td>\n",
              "      <td>card</td>\n",
              "      <td>report</td>\n",
              "      <td>inquiry</td>\n",
              "      <td>chase</td>\n",
              "      <td>account</td>\n",
              "      <td>score</td>\n",
              "      <td>company</td>\n",
              "      <td>bureau</td>\n",
              "      <td>debt</td>\n",
              "    </tr>\n",
              "    <tr>\n",
              "      <th>Topic 2</th>\n",
              "      <td>loan</td>\n",
              "      <td>mortgage</td>\n",
              "      <td>home</td>\n",
              "      <td>chase</td>\n",
              "      <td>modification</td>\n",
              "      <td>property</td>\n",
              "      <td>year</td>\n",
              "      <td>rate</td>\n",
              "      <td>letter</td>\n",
              "      <td>time</td>\n",
              "    </tr>\n",
              "    <tr>\n",
              "      <th>Topic 3</th>\n",
              "      <td>charge</td>\n",
              "      <td>chase</td>\n",
              "      <td>transaction</td>\n",
              "      <td>card</td>\n",
              "      <td>dispute</td>\n",
              "      <td>fraud</td>\n",
              "      <td>claim</td>\n",
              "      <td>fee</td>\n",
              "      <td>merchant</td>\n",
              "      <td>purchase</td>\n",
              "    </tr>\n",
              "    <tr>\n",
              "      <th>Topic 4</th>\n",
              "      <td>payment</td>\n",
              "      <td>balance</td>\n",
              "      <td>month</td>\n",
              "      <td>fee</td>\n",
              "      <td>statement</td>\n",
              "      <td>pay</td>\n",
              "      <td>day</td>\n",
              "      <td>chase</td>\n",
              "      <td>time</td>\n",
              "      <td>auto</td>\n",
              "    </tr>\n",
              "  </tbody>\n",
              "</table>\n",
              "</div>\n",
              "    <div class=\"colab-df-buttons\">\n",
              "\n",
              "  <div class=\"colab-df-container\">\n",
              "    <button class=\"colab-df-convert\" onclick=\"convertToInteractive('df-5e803491-c949-41d8-8b7c-e032b7e67c4c')\"\n",
              "            title=\"Convert this dataframe to an interactive table.\"\n",
              "            style=\"display:none;\">\n",
              "\n",
              "  <svg xmlns=\"http://www.w3.org/2000/svg\" height=\"24px\" viewBox=\"0 -960 960 960\">\n",
              "    <path d=\"M120-120v-720h720v720H120Zm60-500h600v-160H180v160Zm220 220h160v-160H400v160Zm0 220h160v-160H400v160ZM180-400h160v-160H180v160Zm440 0h160v-160H620v160ZM180-180h160v-160H180v160Zm440 0h160v-160H620v160Z\"/>\n",
              "  </svg>\n",
              "    </button>\n",
              "\n",
              "  <style>\n",
              "    .colab-df-container {\n",
              "      display:flex;\n",
              "      gap: 12px;\n",
              "    }\n",
              "\n",
              "    .colab-df-convert {\n",
              "      background-color: #E8F0FE;\n",
              "      border: none;\n",
              "      border-radius: 50%;\n",
              "      cursor: pointer;\n",
              "      display: none;\n",
              "      fill: #1967D2;\n",
              "      height: 32px;\n",
              "      padding: 0 0 0 0;\n",
              "      width: 32px;\n",
              "    }\n",
              "\n",
              "    .colab-df-convert:hover {\n",
              "      background-color: #E2EBFA;\n",
              "      box-shadow: 0px 1px 2px rgba(60, 64, 67, 0.3), 0px 1px 3px 1px rgba(60, 64, 67, 0.15);\n",
              "      fill: #174EA6;\n",
              "    }\n",
              "\n",
              "    .colab-df-buttons div {\n",
              "      margin-bottom: 4px;\n",
              "    }\n",
              "\n",
              "    [theme=dark] .colab-df-convert {\n",
              "      background-color: #3B4455;\n",
              "      fill: #D2E3FC;\n",
              "    }\n",
              "\n",
              "    [theme=dark] .colab-df-convert:hover {\n",
              "      background-color: #434B5C;\n",
              "      box-shadow: 0px 1px 3px 1px rgba(0, 0, 0, 0.15);\n",
              "      filter: drop-shadow(0px 1px 2px rgba(0, 0, 0, 0.3));\n",
              "      fill: #FFFFFF;\n",
              "    }\n",
              "  </style>\n",
              "\n",
              "    <script>\n",
              "      const buttonEl =\n",
              "        document.querySelector('#df-5e803491-c949-41d8-8b7c-e032b7e67c4c button.colab-df-convert');\n",
              "      buttonEl.style.display =\n",
              "        google.colab.kernel.accessAllowed ? 'block' : 'none';\n",
              "\n",
              "      async function convertToInteractive(key) {\n",
              "        const element = document.querySelector('#df-5e803491-c949-41d8-8b7c-e032b7e67c4c');\n",
              "        const dataTable =\n",
              "          await google.colab.kernel.invokeFunction('convertToInteractive',\n",
              "                                                    [key], {});\n",
              "        if (!dataTable) return;\n",
              "\n",
              "        const docLinkHtml = 'Like what you see? Visit the ' +\n",
              "          '<a target=\"_blank\" href=https://colab.research.google.com/notebooks/data_table.ipynb>data table notebook</a>'\n",
              "          + ' to learn more about interactive tables.';\n",
              "        element.innerHTML = '';\n",
              "        dataTable['output_type'] = 'display_data';\n",
              "        await google.colab.output.renderOutput(dataTable, element);\n",
              "        const docLink = document.createElement('div');\n",
              "        docLink.innerHTML = docLinkHtml;\n",
              "        element.appendChild(docLink);\n",
              "      }\n",
              "    </script>\n",
              "  </div>\n",
              "\n",
              "\n",
              "<div id=\"df-9a07ce40-faa8-4073-932e-c2ef9fe96f4d\">\n",
              "  <button class=\"colab-df-quickchart\" onclick=\"quickchart('df-9a07ce40-faa8-4073-932e-c2ef9fe96f4d')\"\n",
              "            title=\"Suggest charts.\"\n",
              "            style=\"display:none;\">\n",
              "\n",
              "<svg xmlns=\"http://www.w3.org/2000/svg\" height=\"24px\"viewBox=\"0 0 24 24\"\n",
              "     width=\"24px\">\n",
              "    <g>\n",
              "        <path d=\"M19 3H5c-1.1 0-2 .9-2 2v14c0 1.1.9 2 2 2h14c1.1 0 2-.9 2-2V5c0-1.1-.9-2-2-2zM9 17H7v-7h2v7zm4 0h-2V7h2v10zm4 0h-2v-4h2v4z\"/>\n",
              "    </g>\n",
              "</svg>\n",
              "  </button>\n",
              "\n",
              "<style>\n",
              "  .colab-df-quickchart {\n",
              "      --bg-color: #E8F0FE;\n",
              "      --fill-color: #1967D2;\n",
              "      --hover-bg-color: #E2EBFA;\n",
              "      --hover-fill-color: #174EA6;\n",
              "      --disabled-fill-color: #AAA;\n",
              "      --disabled-bg-color: #DDD;\n",
              "  }\n",
              "\n",
              "  [theme=dark] .colab-df-quickchart {\n",
              "      --bg-color: #3B4455;\n",
              "      --fill-color: #D2E3FC;\n",
              "      --hover-bg-color: #434B5C;\n",
              "      --hover-fill-color: #FFFFFF;\n",
              "      --disabled-bg-color: #3B4455;\n",
              "      --disabled-fill-color: #666;\n",
              "  }\n",
              "\n",
              "  .colab-df-quickchart {\n",
              "    background-color: var(--bg-color);\n",
              "    border: none;\n",
              "    border-radius: 50%;\n",
              "    cursor: pointer;\n",
              "    display: none;\n",
              "    fill: var(--fill-color);\n",
              "    height: 32px;\n",
              "    padding: 0;\n",
              "    width: 32px;\n",
              "  }\n",
              "\n",
              "  .colab-df-quickchart:hover {\n",
              "    background-color: var(--hover-bg-color);\n",
              "    box-shadow: 0 1px 2px rgba(60, 64, 67, 0.3), 0 1px 3px 1px rgba(60, 64, 67, 0.15);\n",
              "    fill: var(--button-hover-fill-color);\n",
              "  }\n",
              "\n",
              "  .colab-df-quickchart-complete:disabled,\n",
              "  .colab-df-quickchart-complete:disabled:hover {\n",
              "    background-color: var(--disabled-bg-color);\n",
              "    fill: var(--disabled-fill-color);\n",
              "    box-shadow: none;\n",
              "  }\n",
              "\n",
              "  .colab-df-spinner {\n",
              "    border: 2px solid var(--fill-color);\n",
              "    border-color: transparent;\n",
              "    border-bottom-color: var(--fill-color);\n",
              "    animation:\n",
              "      spin 1s steps(1) infinite;\n",
              "  }\n",
              "\n",
              "  @keyframes spin {\n",
              "    0% {\n",
              "      border-color: transparent;\n",
              "      border-bottom-color: var(--fill-color);\n",
              "      border-left-color: var(--fill-color);\n",
              "    }\n",
              "    20% {\n",
              "      border-color: transparent;\n",
              "      border-left-color: var(--fill-color);\n",
              "      border-top-color: var(--fill-color);\n",
              "    }\n",
              "    30% {\n",
              "      border-color: transparent;\n",
              "      border-left-color: var(--fill-color);\n",
              "      border-top-color: var(--fill-color);\n",
              "      border-right-color: var(--fill-color);\n",
              "    }\n",
              "    40% {\n",
              "      border-color: transparent;\n",
              "      border-right-color: var(--fill-color);\n",
              "      border-top-color: var(--fill-color);\n",
              "    }\n",
              "    60% {\n",
              "      border-color: transparent;\n",
              "      border-right-color: var(--fill-color);\n",
              "    }\n",
              "    80% {\n",
              "      border-color: transparent;\n",
              "      border-right-color: var(--fill-color);\n",
              "      border-bottom-color: var(--fill-color);\n",
              "    }\n",
              "    90% {\n",
              "      border-color: transparent;\n",
              "      border-bottom-color: var(--fill-color);\n",
              "    }\n",
              "  }\n",
              "</style>\n",
              "\n",
              "  <script>\n",
              "    async function quickchart(key) {\n",
              "      const quickchartButtonEl =\n",
              "        document.querySelector('#' + key + ' button');\n",
              "      quickchartButtonEl.disabled = true;  // To prevent multiple clicks.\n",
              "      quickchartButtonEl.classList.add('colab-df-spinner');\n",
              "      try {\n",
              "        const charts = await google.colab.kernel.invokeFunction(\n",
              "            'suggestCharts', [key], {});\n",
              "      } catch (error) {\n",
              "        console.error('Error during call to suggestCharts:', error);\n",
              "      }\n",
              "      quickchartButtonEl.classList.remove('colab-df-spinner');\n",
              "      quickchartButtonEl.classList.add('colab-df-quickchart-complete');\n",
              "    }\n",
              "    (() => {\n",
              "      let quickchartButtonEl =\n",
              "        document.querySelector('#df-9a07ce40-faa8-4073-932e-c2ef9fe96f4d button');\n",
              "      quickchartButtonEl.style.display =\n",
              "        google.colab.kernel.accessAllowed ? 'block' : 'none';\n",
              "    })();\n",
              "  </script>\n",
              "</div>\n",
              "    </div>\n",
              "  </div>\n"
            ]
          },
          "metadata": {},
          "execution_count": 60
        }
      ]
    },
    {
      "cell_type": "markdown",
      "source": [
        "Полученные темы достаточно хорошо интерпретируются:\n",
        "0. Bank account services\n",
        "1. Credit card / Prepaid card\n",
        "2. Mortgages/loans\n",
        "3. Theft/Dispute reporting\n",
        "4. Others\n",
        "\n",
        "\n",
        "\n",
        "\n",
        "\n"
      ],
      "metadata": {
        "id": "EYKrzs1ZDGCf"
      }
    },
    {
      "cell_type": "markdown",
      "source": [
        "Модель NMF тоже имеет параметр `random_state`, однако результаты ее работы практически не отличались на разных значениях этого параметра, в отличие от модели LDA. Помимо этого, эта модель обучалась значительно быстрее LDA. Да и значения TF-IDF мне кажутся более правильным показателем веса слова, чем вероятность. Поэтому далее я буду использовать **темы, полученные моделью NMF**."
      ],
      "metadata": {
        "id": "avLt9DFVNZXf"
      }
    },
    {
      "cell_type": "markdown",
      "source": [
        "## Сопоставление тем и документов"
      ],
      "metadata": {
        "id": "_NaOGS_KNC0p"
      }
    },
    {
      "cell_type": "markdown",
      "source": [
        "Как было скзано ранее, матрица признаков показывает принадлежность документа к теме. Модель считает, что документы могут принадлежать к нескольким темам одновременно. Однако в этой задаче такое решения не подходит, поэтому для определения темы документа я буду брать наибольшее значение в каждой строке этой матрицы."
      ],
      "metadata": {
        "id": "Ejk-jgDgPuEp"
      }
    },
    {
      "cell_type": "code",
      "source": [
        "pd.DataFrame(nmf_features).loc[0]"
      ],
      "metadata": {
        "colab": {
          "base_uri": "https://localhost:8080/"
        },
        "id": "uC0zTjxJOSJj",
        "outputId": "d937d93b-1bf7-49a0-ded6-20c38dcacff0"
      },
      "execution_count": null,
      "outputs": [
        {
          "output_type": "execute_result",
          "data": {
            "text/plain": [
              "0    0.023519\n",
              "1    0.012799\n",
              "2    0.022366\n",
              "3    0.011324\n",
              "4    0.007408\n",
              "Name: 0, dtype: float64"
            ]
          },
          "metadata": {},
          "execution_count": 61
        }
      ]
    },
    {
      "cell_type": "code",
      "source": [
        "complaints['topic'] = nmf_features.argmax(axis=1)\n",
        "complaints"
      ],
      "metadata": {
        "colab": {
          "base_uri": "https://localhost:8080/",
          "height": 562
        },
        "id": "2R52wkyzOvSn",
        "outputId": "03ccac7d-e469-4d0f-83a3-b0214632dab7"
      },
      "execution_count": null,
      "outputs": [
        {
          "output_type": "execute_result",
          "data": {
            "text/plain": [
              "                                                                                                                                                                                                                                                                                                                                                                                                                                                                                                                                                                                                                                                                                        text  \\\n",
              "1                                                                                                                                                                                                                                                                                                                                                                                                                                                                                                            morning name appreciate help put stop chase bank cardmember service debt verification statement bank debt mail month debt right information consumer chase account advance help   \n",
              "2                                                                                                                                                                                                                                                                                                                                                                                                                                                                                                                                                                                                          card agent date change agent information order upgrade account date consent agent   \n",
              "10                                                                                                                                                                                                                                                                                                                                                                                                                                                                                                                                                                                                          chase card application identity consent obtain service credit identity applicant   \n",
              "11                                                                                                                                                                                                                                                                                               book ticket offer ticket card information offer minute decision made bank bank notification screen spoke application state information offer credit offer get account statement purchase ticket account application withdrawn representative application request proceed application chase fact credit account name credit report chase information credit report application consent error   \n",
              "14                                                                                                                                                                                                                                                                                                                                                                                                                                                                                  son give check deposit chase account fund chase bank account money son check money bank refuse pay money son chase time call verify check owner country time date happen check number claim number chase   \n",
              "...                                                                                                                                                                                                                                                                                                                                                                                                                                                                                                                                                                                                                                                                                      ...   \n",
              "78303                                                                                                                                                                                                                                                                                                                                                                                                                                                       chase card customer decade solicitation credit card chase bonus airline hotel point card fee year month payment chase card card chase harm credit fee account credit point airline hotel credit enrollment credit airline charge   \n",
              "78309                     wednesday chas visa credit card provider claim purchase protection benefit school textbook year daughter school book water bottle backpack representative textbook covered file claim claim paperwork copy credit card statement copy receipt evidence damage book list item cover make claim insurance provider review information contact business day step process email claim submission complain representative claim day take day review claim information contradictory information email sent work adjuster put hold file claim textbook life revision course end course textbook purchase covered claim time call claim status find borderline fraudulent   \n",
              "78310  pay risk consumer chase bank chase year trust deal merchant merchant inquiry shut communication website look face brand individual medium consent research phone number information pi merchant account title holder perpetuate cycle fraud identity chase bank report report take recourse matter isnt place address issue app verbiage point position chase banking service entitlement customer service protection protocol chase link place consumer risk service flag concern chase minimum risk banking app made stand plan report authority identity inform neighbor work television news network risk banking fraud banking mogul chase action clicked extent better informed   \n",
              "78311                                                                                            flawless credit chase credit card chase freedom problem balance transfer life experience balance transfer chase bill payment representative payment bc pay balance transfer fee payment balance standard rate advertise pay payment payment work chase pay agreement paperwork year everyone world card amt someone pay credit card bill pay chart payment percentage paperwork offer everyone term change term benefit wont budge payment refund transfer fee use transfer balance card payment transfer slate card min pmt work person like preserve credit transfer card id pay lump sum   \n",
              "78312                                                                                                                                                                                                                                                                                                                                                                                                                         year account jp bank order line credit pay account payment account get payment credit report year dollar payment schedule notification year need show proof like think received payment notification bank customer service charge way line banking institution   \n",
              "\n",
              "       topic  \n",
              "1          0  \n",
              "2          1  \n",
              "10         1  \n",
              "11         1  \n",
              "14         0  \n",
              "...      ...  \n",
              "78303      1  \n",
              "78309      3  \n",
              "78310      3  \n",
              "78311      4  \n",
              "78312      4  \n",
              "\n",
              "[21072 rows x 2 columns]"
            ],
            "text/html": [
              "\n",
              "  <div id=\"df-0846e136-3312-4254-8305-a46feac75b18\" class=\"colab-df-container\">\n",
              "    <div>\n",
              "<style scoped>\n",
              "    .dataframe tbody tr th:only-of-type {\n",
              "        vertical-align: middle;\n",
              "    }\n",
              "\n",
              "    .dataframe tbody tr th {\n",
              "        vertical-align: top;\n",
              "    }\n",
              "\n",
              "    .dataframe thead th {\n",
              "        text-align: right;\n",
              "    }\n",
              "</style>\n",
              "<table border=\"1\" class=\"dataframe\">\n",
              "  <thead>\n",
              "    <tr style=\"text-align: right;\">\n",
              "      <th></th>\n",
              "      <th>text</th>\n",
              "      <th>topic</th>\n",
              "    </tr>\n",
              "  </thead>\n",
              "  <tbody>\n",
              "    <tr>\n",
              "      <th>1</th>\n",
              "      <td>morning name appreciate help put stop chase bank cardmember service debt verification statement bank debt mail month debt right information consumer chase account advance help</td>\n",
              "      <td>0</td>\n",
              "    </tr>\n",
              "    <tr>\n",
              "      <th>2</th>\n",
              "      <td>card agent date change agent information order upgrade account date consent agent</td>\n",
              "      <td>1</td>\n",
              "    </tr>\n",
              "    <tr>\n",
              "      <th>10</th>\n",
              "      <td>chase card application identity consent obtain service credit identity applicant</td>\n",
              "      <td>1</td>\n",
              "    </tr>\n",
              "    <tr>\n",
              "      <th>11</th>\n",
              "      <td>book ticket offer ticket card information offer minute decision made bank bank notification screen spoke application state information offer credit offer get account statement purchase ticket account application withdrawn representative application request proceed application chase fact credit account name credit report chase information credit report application consent error</td>\n",
              "      <td>1</td>\n",
              "    </tr>\n",
              "    <tr>\n",
              "      <th>14</th>\n",
              "      <td>son give check deposit chase account fund chase bank account money son check money bank refuse pay money son chase time call verify check owner country time date happen check number claim number chase</td>\n",
              "      <td>0</td>\n",
              "    </tr>\n",
              "    <tr>\n",
              "      <th>...</th>\n",
              "      <td>...</td>\n",
              "      <td>...</td>\n",
              "    </tr>\n",
              "    <tr>\n",
              "      <th>78303</th>\n",
              "      <td>chase card customer decade solicitation credit card chase bonus airline hotel point card fee year month payment chase card card chase harm credit fee account credit point airline hotel credit enrollment credit airline charge</td>\n",
              "      <td>1</td>\n",
              "    </tr>\n",
              "    <tr>\n",
              "      <th>78309</th>\n",
              "      <td>wednesday chas visa credit card provider claim purchase protection benefit school textbook year daughter school book water bottle backpack representative textbook covered file claim claim paperwork copy credit card statement copy receipt evidence damage book list item cover make claim insurance provider review information contact business day step process email claim submission complain representative claim day take day review claim information contradictory information email sent work adjuster put hold file claim textbook life revision course end course textbook purchase covered claim time call claim status find borderline fraudulent</td>\n",
              "      <td>3</td>\n",
              "    </tr>\n",
              "    <tr>\n",
              "      <th>78310</th>\n",
              "      <td>pay risk consumer chase bank chase year trust deal merchant merchant inquiry shut communication website look face brand individual medium consent research phone number information pi merchant account title holder perpetuate cycle fraud identity chase bank report report take recourse matter isnt place address issue app verbiage point position chase banking service entitlement customer service protection protocol chase link place consumer risk service flag concern chase minimum risk banking app made stand plan report authority identity inform neighbor work television news network risk banking fraud banking mogul chase action clicked extent better informed</td>\n",
              "      <td>3</td>\n",
              "    </tr>\n",
              "    <tr>\n",
              "      <th>78311</th>\n",
              "      <td>flawless credit chase credit card chase freedom problem balance transfer life experience balance transfer chase bill payment representative payment bc pay balance transfer fee payment balance standard rate advertise pay payment payment work chase pay agreement paperwork year everyone world card amt someone pay credit card bill pay chart payment percentage paperwork offer everyone term change term benefit wont budge payment refund transfer fee use transfer balance card payment transfer slate card min pmt work person like preserve credit transfer card id pay lump sum</td>\n",
              "      <td>4</td>\n",
              "    </tr>\n",
              "    <tr>\n",
              "      <th>78312</th>\n",
              "      <td>year account jp bank order line credit pay account payment account get payment credit report year dollar payment schedule notification year need show proof like think received payment notification bank customer service charge way line banking institution</td>\n",
              "      <td>4</td>\n",
              "    </tr>\n",
              "  </tbody>\n",
              "</table>\n",
              "<p>21072 rows × 2 columns</p>\n",
              "</div>\n",
              "    <div class=\"colab-df-buttons\">\n",
              "\n",
              "  <div class=\"colab-df-container\">\n",
              "    <button class=\"colab-df-convert\" onclick=\"convertToInteractive('df-0846e136-3312-4254-8305-a46feac75b18')\"\n",
              "            title=\"Convert this dataframe to an interactive table.\"\n",
              "            style=\"display:none;\">\n",
              "\n",
              "  <svg xmlns=\"http://www.w3.org/2000/svg\" height=\"24px\" viewBox=\"0 -960 960 960\">\n",
              "    <path d=\"M120-120v-720h720v720H120Zm60-500h600v-160H180v160Zm220 220h160v-160H400v160Zm0 220h160v-160H400v160ZM180-400h160v-160H180v160Zm440 0h160v-160H620v160ZM180-180h160v-160H180v160Zm440 0h160v-160H620v160Z\"/>\n",
              "  </svg>\n",
              "    </button>\n",
              "\n",
              "  <style>\n",
              "    .colab-df-container {\n",
              "      display:flex;\n",
              "      gap: 12px;\n",
              "    }\n",
              "\n",
              "    .colab-df-convert {\n",
              "      background-color: #E8F0FE;\n",
              "      border: none;\n",
              "      border-radius: 50%;\n",
              "      cursor: pointer;\n",
              "      display: none;\n",
              "      fill: #1967D2;\n",
              "      height: 32px;\n",
              "      padding: 0 0 0 0;\n",
              "      width: 32px;\n",
              "    }\n",
              "\n",
              "    .colab-df-convert:hover {\n",
              "      background-color: #E2EBFA;\n",
              "      box-shadow: 0px 1px 2px rgba(60, 64, 67, 0.3), 0px 1px 3px 1px rgba(60, 64, 67, 0.15);\n",
              "      fill: #174EA6;\n",
              "    }\n",
              "\n",
              "    .colab-df-buttons div {\n",
              "      margin-bottom: 4px;\n",
              "    }\n",
              "\n",
              "    [theme=dark] .colab-df-convert {\n",
              "      background-color: #3B4455;\n",
              "      fill: #D2E3FC;\n",
              "    }\n",
              "\n",
              "    [theme=dark] .colab-df-convert:hover {\n",
              "      background-color: #434B5C;\n",
              "      box-shadow: 0px 1px 3px 1px rgba(0, 0, 0, 0.15);\n",
              "      filter: drop-shadow(0px 1px 2px rgba(0, 0, 0, 0.3));\n",
              "      fill: #FFFFFF;\n",
              "    }\n",
              "  </style>\n",
              "\n",
              "    <script>\n",
              "      const buttonEl =\n",
              "        document.querySelector('#df-0846e136-3312-4254-8305-a46feac75b18 button.colab-df-convert');\n",
              "      buttonEl.style.display =\n",
              "        google.colab.kernel.accessAllowed ? 'block' : 'none';\n",
              "\n",
              "      async function convertToInteractive(key) {\n",
              "        const element = document.querySelector('#df-0846e136-3312-4254-8305-a46feac75b18');\n",
              "        const dataTable =\n",
              "          await google.colab.kernel.invokeFunction('convertToInteractive',\n",
              "                                                    [key], {});\n",
              "        if (!dataTable) return;\n",
              "\n",
              "        const docLinkHtml = 'Like what you see? Visit the ' +\n",
              "          '<a target=\"_blank\" href=https://colab.research.google.com/notebooks/data_table.ipynb>data table notebook</a>'\n",
              "          + ' to learn more about interactive tables.';\n",
              "        element.innerHTML = '';\n",
              "        dataTable['output_type'] = 'display_data';\n",
              "        await google.colab.output.renderOutput(dataTable, element);\n",
              "        const docLink = document.createElement('div');\n",
              "        docLink.innerHTML = docLinkHtml;\n",
              "        element.appendChild(docLink);\n",
              "      }\n",
              "    </script>\n",
              "  </div>\n",
              "\n",
              "\n",
              "<div id=\"df-227f365d-eb5e-411e-a2a6-b0bc98475422\">\n",
              "  <button class=\"colab-df-quickchart\" onclick=\"quickchart('df-227f365d-eb5e-411e-a2a6-b0bc98475422')\"\n",
              "            title=\"Suggest charts.\"\n",
              "            style=\"display:none;\">\n",
              "\n",
              "<svg xmlns=\"http://www.w3.org/2000/svg\" height=\"24px\"viewBox=\"0 0 24 24\"\n",
              "     width=\"24px\">\n",
              "    <g>\n",
              "        <path d=\"M19 3H5c-1.1 0-2 .9-2 2v14c0 1.1.9 2 2 2h14c1.1 0 2-.9 2-2V5c0-1.1-.9-2-2-2zM9 17H7v-7h2v7zm4 0h-2V7h2v10zm4 0h-2v-4h2v4z\"/>\n",
              "    </g>\n",
              "</svg>\n",
              "  </button>\n",
              "\n",
              "<style>\n",
              "  .colab-df-quickchart {\n",
              "      --bg-color: #E8F0FE;\n",
              "      --fill-color: #1967D2;\n",
              "      --hover-bg-color: #E2EBFA;\n",
              "      --hover-fill-color: #174EA6;\n",
              "      --disabled-fill-color: #AAA;\n",
              "      --disabled-bg-color: #DDD;\n",
              "  }\n",
              "\n",
              "  [theme=dark] .colab-df-quickchart {\n",
              "      --bg-color: #3B4455;\n",
              "      --fill-color: #D2E3FC;\n",
              "      --hover-bg-color: #434B5C;\n",
              "      --hover-fill-color: #FFFFFF;\n",
              "      --disabled-bg-color: #3B4455;\n",
              "      --disabled-fill-color: #666;\n",
              "  }\n",
              "\n",
              "  .colab-df-quickchart {\n",
              "    background-color: var(--bg-color);\n",
              "    border: none;\n",
              "    border-radius: 50%;\n",
              "    cursor: pointer;\n",
              "    display: none;\n",
              "    fill: var(--fill-color);\n",
              "    height: 32px;\n",
              "    padding: 0;\n",
              "    width: 32px;\n",
              "  }\n",
              "\n",
              "  .colab-df-quickchart:hover {\n",
              "    background-color: var(--hover-bg-color);\n",
              "    box-shadow: 0 1px 2px rgba(60, 64, 67, 0.3), 0 1px 3px 1px rgba(60, 64, 67, 0.15);\n",
              "    fill: var(--button-hover-fill-color);\n",
              "  }\n",
              "\n",
              "  .colab-df-quickchart-complete:disabled,\n",
              "  .colab-df-quickchart-complete:disabled:hover {\n",
              "    background-color: var(--disabled-bg-color);\n",
              "    fill: var(--disabled-fill-color);\n",
              "    box-shadow: none;\n",
              "  }\n",
              "\n",
              "  .colab-df-spinner {\n",
              "    border: 2px solid var(--fill-color);\n",
              "    border-color: transparent;\n",
              "    border-bottom-color: var(--fill-color);\n",
              "    animation:\n",
              "      spin 1s steps(1) infinite;\n",
              "  }\n",
              "\n",
              "  @keyframes spin {\n",
              "    0% {\n",
              "      border-color: transparent;\n",
              "      border-bottom-color: var(--fill-color);\n",
              "      border-left-color: var(--fill-color);\n",
              "    }\n",
              "    20% {\n",
              "      border-color: transparent;\n",
              "      border-left-color: var(--fill-color);\n",
              "      border-top-color: var(--fill-color);\n",
              "    }\n",
              "    30% {\n",
              "      border-color: transparent;\n",
              "      border-left-color: var(--fill-color);\n",
              "      border-top-color: var(--fill-color);\n",
              "      border-right-color: var(--fill-color);\n",
              "    }\n",
              "    40% {\n",
              "      border-color: transparent;\n",
              "      border-right-color: var(--fill-color);\n",
              "      border-top-color: var(--fill-color);\n",
              "    }\n",
              "    60% {\n",
              "      border-color: transparent;\n",
              "      border-right-color: var(--fill-color);\n",
              "    }\n",
              "    80% {\n",
              "      border-color: transparent;\n",
              "      border-right-color: var(--fill-color);\n",
              "      border-bottom-color: var(--fill-color);\n",
              "    }\n",
              "    90% {\n",
              "      border-color: transparent;\n",
              "      border-bottom-color: var(--fill-color);\n",
              "    }\n",
              "  }\n",
              "</style>\n",
              "\n",
              "  <script>\n",
              "    async function quickchart(key) {\n",
              "      const quickchartButtonEl =\n",
              "        document.querySelector('#' + key + ' button');\n",
              "      quickchartButtonEl.disabled = true;  // To prevent multiple clicks.\n",
              "      quickchartButtonEl.classList.add('colab-df-spinner');\n",
              "      try {\n",
              "        const charts = await google.colab.kernel.invokeFunction(\n",
              "            'suggestCharts', [key], {});\n",
              "      } catch (error) {\n",
              "        console.error('Error during call to suggestCharts:', error);\n",
              "      }\n",
              "      quickchartButtonEl.classList.remove('colab-df-spinner');\n",
              "      quickchartButtonEl.classList.add('colab-df-quickchart-complete');\n",
              "    }\n",
              "    (() => {\n",
              "      let quickchartButtonEl =\n",
              "        document.querySelector('#df-227f365d-eb5e-411e-a2a6-b0bc98475422 button');\n",
              "      quickchartButtonEl.style.display =\n",
              "        google.colab.kernel.accessAllowed ? 'block' : 'none';\n",
              "    })();\n",
              "  </script>\n",
              "</div>\n",
              "    </div>\n",
              "  </div>\n"
            ]
          },
          "metadata": {},
          "execution_count": 62
        }
      ]
    },
    {
      "cell_type": "markdown",
      "source": [
        "Посмотри на количество документов в каждой теме:"
      ],
      "metadata": {
        "id": "LCnLAjFhLjnM"
      }
    },
    {
      "cell_type": "code",
      "source": [
        "pd.DataFrame(nmf_features).idxmax(axis=1).value_counts(normalize=True)"
      ],
      "metadata": {
        "colab": {
          "base_uri": "https://localhost:8080/"
        },
        "id": "FE0ULdViQoRY",
        "outputId": "80761e36-ec24-4a32-8e67-c707411a704c"
      },
      "execution_count": null,
      "outputs": [
        {
          "output_type": "execute_result",
          "data": {
            "text/plain": [
              "0    0.247817\n",
              "1    0.241363\n",
              "3    0.225513\n",
              "2    0.172077\n",
              "4    0.113231\n",
              "Name: proportion, dtype: float64"
            ]
          },
          "metadata": {},
          "execution_count": 70
        }
      ]
    },
    {
      "cell_type": "markdown",
      "source": [
        "Дисбаланс классов небольшой: документов с темами 0, 1, 3 примерно одинаковое количество, немного меньше документов с темой 2, и меньше всего с темой 4."
      ],
      "metadata": {
        "id": "CkdukMDGQ7gO"
      }
    },
    {
      "cell_type": "markdown",
      "source": [
        "Посмотрим на несколько документов и проверим точность назначенной темы:"
      ],
      "metadata": {
        "id": "JUCfltfcNBsU"
      }
    },
    {
      "cell_type": "code",
      "source": [
        "sample_idx = [1,2,57,30,58]\n",
        "sample_complaints = []\n",
        "\n",
        "for i in sample_idx:\n",
        "  sample_complaints.append({'Complaint':df['_source.complaint_what_happened'].loc[i], 'Topic':complaints['topic'].loc[i]})\n",
        "\n",
        "pd.DataFrame(sample_complaints)\n",
        "# 0:'Bank account services', 1:'Credit card / Prepaid card', 2:'Mortgages/loans', 3:'Theft/Dispute reporting', 4:'Others'"
      ],
      "metadata": {
        "colab": {
          "base_uri": "https://localhost:8080/",
          "height": 379
        },
        "id": "GehlPe1ITpzo",
        "outputId": "eac6b7a2-2e86-4240-d160-6696b1a27ae2"
      },
      "execution_count": null,
      "outputs": [
        {
          "output_type": "execute_result",
          "data": {
            "text/plain": [
              "                                                                                                                                                                                                                                                                                                                                                                                                                                                                                                                                                                                                                                                                                                                                                                                                                                                                                                                                                                                                                                                                                                                                                                                                                                                                                                                         Complaint  \\\n",
              "0                                                                                                                                                                                                                                                                                                                                                                                                                                                                                                                                                                                                                                                                                                                                                                                                                       Good morning my name is XXXX XXXX and I appreciate it if you could help me put a stop to Chase Bank cardmember services. \\nIn 2018 I wrote to Chase asking for debt verification and what they sent me a statement which is not acceptable. I am asking the bank to validate the debt. Instead I been receiving mail every month from them attempting to collect a debt. \\nI have a right to know this information as a consumer. \\n\\nChase account # XXXX XXXX XXXX XXXX Thanks in advance for your help.   \n",
              "1                                                                                                                                                                                                                                                                                                                                                                                                                                                                                                                                                                                                                                                                                                                                                                                                                                                                                                                                                              I upgraded my XXXX XXXX card in XX/XX/2018 and was told by the agent who did the upgrade my anniversary date would not change. It turned the agent was giving me the wrong information in order to upgrade the account. XXXX   changed my anniversary date from XX/XX/XXXX to XX/XX/XXXX without my consent! XXXX has the recording of the agent who was misled me.   \n",
              "2                                                                                                                                                                                                                                                                                                                                                                                                                                                                                                                                                                                                                                                                                                                                                                                                                                                                                                                                                                                                                                                                                                                                   I have been trying to do a loan modification with Chase and all they do is give me the runaround I'm 72 mo behind they dont let me make payments I have aens all doc in but always asking more   \n",
              "3                                                                                                                                                                                                                                                                                                                                                                                                                                                                                                                                                                                                                                                                                                                                       To whom it may concern, Chase bank charged wrongly overdraft fees, I have alert of low balance or unsuficent fee balance and always deposit immediatly to cover transactions if needed but Chase always changed the order and charged me overdraft fee anyway. when you call they said their per their guidelines they don't refund more then 2 overdrawft doesn't matter bank fault or not.\\n\\nTaken {$34.00} from people is money just because you can is not Ok.\\n\\nSee attached documents. When Chase refund, they always find the way to take back what they refunded in first place.   \n",
              "4  I made a purchase of {$260.00} on XX/XX/XXXX. I made payments of {$160.00} on XX/XX/XXXX and {$260.00} on XX/XX/XXXX. The minimum payment was {$140.00}. The closing date was XX/XX/XXXX ( please see attached statement ). That statement ( XX/XX/XXXX ) shows that I had an outstanding purchase balance of {$230.00} on XX/XX/XXXX. I have enclosed the previous months statement to show that there were NO other purchases prior to the one on XX/XX/XXXX. \\nHowever, when I got the XXXX statement, it shows that I still have a purchase balance of {$210.00}. I have a promotional balance (@XXXX ) in XXXX of {$6900.00}. In XXXX, the promotional balance was {$7200.00} - a difference of {$380.00}. \\n\\nApparently, the payment ( above the minimum payment required by Chase ) I thought would be applied to the purchase (@ 21.49 % ) was applied to the promotional balance first. It is my understanding that once the minimum payment has been met, payments in excess of the minimum would be applied to the highest interest rate balance first. This is not the first time that Chase has skirted US Financial Law to turn a larger profit. I need help in rectifying this problem, because my logic fell on deaf ears at Chase. Thank you in advance for your assistance. \\n\\nRespectfully, XXXX XXXX XXXX   \n",
              "\n",
              "   Topic  \n",
              "0      0  \n",
              "1      1  \n",
              "2      2  \n",
              "3      3  \n",
              "4      4  "
            ],
            "text/html": [
              "\n",
              "  <div id=\"df-0c2bae94-716c-4bf9-9d04-5ecc3ffb9bf2\" class=\"colab-df-container\">\n",
              "    <div>\n",
              "<style scoped>\n",
              "    .dataframe tbody tr th:only-of-type {\n",
              "        vertical-align: middle;\n",
              "    }\n",
              "\n",
              "    .dataframe tbody tr th {\n",
              "        vertical-align: top;\n",
              "    }\n",
              "\n",
              "    .dataframe thead th {\n",
              "        text-align: right;\n",
              "    }\n",
              "</style>\n",
              "<table border=\"1\" class=\"dataframe\">\n",
              "  <thead>\n",
              "    <tr style=\"text-align: right;\">\n",
              "      <th></th>\n",
              "      <th>Complaint</th>\n",
              "      <th>Topic</th>\n",
              "    </tr>\n",
              "  </thead>\n",
              "  <tbody>\n",
              "    <tr>\n",
              "      <th>0</th>\n",
              "      <td>Good morning my name is XXXX XXXX and I appreciate it if you could help me put a stop to Chase Bank cardmember services. \\nIn 2018 I wrote to Chase asking for debt verification and what they sent me a statement which is not acceptable. I am asking the bank to validate the debt. Instead I been receiving mail every month from them attempting to collect a debt. \\nI have a right to know this information as a consumer. \\n\\nChase account # XXXX XXXX XXXX XXXX Thanks in advance for your help.</td>\n",
              "      <td>0</td>\n",
              "    </tr>\n",
              "    <tr>\n",
              "      <th>1</th>\n",
              "      <td>I upgraded my XXXX XXXX card in XX/XX/2018 and was told by the agent who did the upgrade my anniversary date would not change. It turned the agent was giving me the wrong information in order to upgrade the account. XXXX   changed my anniversary date from XX/XX/XXXX to XX/XX/XXXX without my consent! XXXX has the recording of the agent who was misled me.</td>\n",
              "      <td>1</td>\n",
              "    </tr>\n",
              "    <tr>\n",
              "      <th>2</th>\n",
              "      <td>I have been trying to do a loan modification with Chase and all they do is give me the runaround I'm 72 mo behind they dont let me make payments I have aens all doc in but always asking more</td>\n",
              "      <td>2</td>\n",
              "    </tr>\n",
              "    <tr>\n",
              "      <th>3</th>\n",
              "      <td>To whom it may concern, Chase bank charged wrongly overdraft fees, I have alert of low balance or unsuficent fee balance and always deposit immediatly to cover transactions if needed but Chase always changed the order and charged me overdraft fee anyway. when you call they said their per their guidelines they don't refund more then 2 overdrawft doesn't matter bank fault or not.\\n\\nTaken {$34.00} from people is money just because you can is not Ok.\\n\\nSee attached documents. When Chase refund, they always find the way to take back what they refunded in first place.</td>\n",
              "      <td>3</td>\n",
              "    </tr>\n",
              "    <tr>\n",
              "      <th>4</th>\n",
              "      <td>I made a purchase of {$260.00} on XX/XX/XXXX. I made payments of {$160.00} on XX/XX/XXXX and {$260.00} on XX/XX/XXXX. The minimum payment was {$140.00}. The closing date was XX/XX/XXXX ( please see attached statement ). That statement ( XX/XX/XXXX ) shows that I had an outstanding purchase balance of {$230.00} on XX/XX/XXXX. I have enclosed the previous months statement to show that there were NO other purchases prior to the one on XX/XX/XXXX. \\nHowever, when I got the XXXX statement, it shows that I still have a purchase balance of {$210.00}. I have a promotional balance (@XXXX ) in XXXX of {$6900.00}. In XXXX, the promotional balance was {$7200.00} - a difference of {$380.00}. \\n\\nApparently, the payment ( above the minimum payment required by Chase ) I thought would be applied to the purchase (@ 21.49 % ) was applied to the promotional balance first. It is my understanding that once the minimum payment has been met, payments in excess of the minimum would be applied to the highest interest rate balance first. This is not the first time that Chase has skirted US Financial Law to turn a larger profit. I need help in rectifying this problem, because my logic fell on deaf ears at Chase. Thank you in advance for your assistance. \\n\\nRespectfully, XXXX XXXX XXXX</td>\n",
              "      <td>4</td>\n",
              "    </tr>\n",
              "  </tbody>\n",
              "</table>\n",
              "</div>\n",
              "    <div class=\"colab-df-buttons\">\n",
              "\n",
              "  <div class=\"colab-df-container\">\n",
              "    <button class=\"colab-df-convert\" onclick=\"convertToInteractive('df-0c2bae94-716c-4bf9-9d04-5ecc3ffb9bf2')\"\n",
              "            title=\"Convert this dataframe to an interactive table.\"\n",
              "            style=\"display:none;\">\n",
              "\n",
              "  <svg xmlns=\"http://www.w3.org/2000/svg\" height=\"24px\" viewBox=\"0 -960 960 960\">\n",
              "    <path d=\"M120-120v-720h720v720H120Zm60-500h600v-160H180v160Zm220 220h160v-160H400v160Zm0 220h160v-160H400v160ZM180-400h160v-160H180v160Zm440 0h160v-160H620v160ZM180-180h160v-160H180v160Zm440 0h160v-160H620v160Z\"/>\n",
              "  </svg>\n",
              "    </button>\n",
              "\n",
              "  <style>\n",
              "    .colab-df-container {\n",
              "      display:flex;\n",
              "      gap: 12px;\n",
              "    }\n",
              "\n",
              "    .colab-df-convert {\n",
              "      background-color: #E8F0FE;\n",
              "      border: none;\n",
              "      border-radius: 50%;\n",
              "      cursor: pointer;\n",
              "      display: none;\n",
              "      fill: #1967D2;\n",
              "      height: 32px;\n",
              "      padding: 0 0 0 0;\n",
              "      width: 32px;\n",
              "    }\n",
              "\n",
              "    .colab-df-convert:hover {\n",
              "      background-color: #E2EBFA;\n",
              "      box-shadow: 0px 1px 2px rgba(60, 64, 67, 0.3), 0px 1px 3px 1px rgba(60, 64, 67, 0.15);\n",
              "      fill: #174EA6;\n",
              "    }\n",
              "\n",
              "    .colab-df-buttons div {\n",
              "      margin-bottom: 4px;\n",
              "    }\n",
              "\n",
              "    [theme=dark] .colab-df-convert {\n",
              "      background-color: #3B4455;\n",
              "      fill: #D2E3FC;\n",
              "    }\n",
              "\n",
              "    [theme=dark] .colab-df-convert:hover {\n",
              "      background-color: #434B5C;\n",
              "      box-shadow: 0px 1px 3px 1px rgba(0, 0, 0, 0.15);\n",
              "      filter: drop-shadow(0px 1px 2px rgba(0, 0, 0, 0.3));\n",
              "      fill: #FFFFFF;\n",
              "    }\n",
              "  </style>\n",
              "\n",
              "    <script>\n",
              "      const buttonEl =\n",
              "        document.querySelector('#df-0c2bae94-716c-4bf9-9d04-5ecc3ffb9bf2 button.colab-df-convert');\n",
              "      buttonEl.style.display =\n",
              "        google.colab.kernel.accessAllowed ? 'block' : 'none';\n",
              "\n",
              "      async function convertToInteractive(key) {\n",
              "        const element = document.querySelector('#df-0c2bae94-716c-4bf9-9d04-5ecc3ffb9bf2');\n",
              "        const dataTable =\n",
              "          await google.colab.kernel.invokeFunction('convertToInteractive',\n",
              "                                                    [key], {});\n",
              "        if (!dataTable) return;\n",
              "\n",
              "        const docLinkHtml = 'Like what you see? Visit the ' +\n",
              "          '<a target=\"_blank\" href=https://colab.research.google.com/notebooks/data_table.ipynb>data table notebook</a>'\n",
              "          + ' to learn more about interactive tables.';\n",
              "        element.innerHTML = '';\n",
              "        dataTable['output_type'] = 'display_data';\n",
              "        await google.colab.output.renderOutput(dataTable, element);\n",
              "        const docLink = document.createElement('div');\n",
              "        docLink.innerHTML = docLinkHtml;\n",
              "        element.appendChild(docLink);\n",
              "      }\n",
              "    </script>\n",
              "  </div>\n",
              "\n",
              "\n",
              "<div id=\"df-6073dab9-fbff-451b-b627-73b27dc02a9d\">\n",
              "  <button class=\"colab-df-quickchart\" onclick=\"quickchart('df-6073dab9-fbff-451b-b627-73b27dc02a9d')\"\n",
              "            title=\"Suggest charts.\"\n",
              "            style=\"display:none;\">\n",
              "\n",
              "<svg xmlns=\"http://www.w3.org/2000/svg\" height=\"24px\"viewBox=\"0 0 24 24\"\n",
              "     width=\"24px\">\n",
              "    <g>\n",
              "        <path d=\"M19 3H5c-1.1 0-2 .9-2 2v14c0 1.1.9 2 2 2h14c1.1 0 2-.9 2-2V5c0-1.1-.9-2-2-2zM9 17H7v-7h2v7zm4 0h-2V7h2v10zm4 0h-2v-4h2v4z\"/>\n",
              "    </g>\n",
              "</svg>\n",
              "  </button>\n",
              "\n",
              "<style>\n",
              "  .colab-df-quickchart {\n",
              "      --bg-color: #E8F0FE;\n",
              "      --fill-color: #1967D2;\n",
              "      --hover-bg-color: #E2EBFA;\n",
              "      --hover-fill-color: #174EA6;\n",
              "      --disabled-fill-color: #AAA;\n",
              "      --disabled-bg-color: #DDD;\n",
              "  }\n",
              "\n",
              "  [theme=dark] .colab-df-quickchart {\n",
              "      --bg-color: #3B4455;\n",
              "      --fill-color: #D2E3FC;\n",
              "      --hover-bg-color: #434B5C;\n",
              "      --hover-fill-color: #FFFFFF;\n",
              "      --disabled-bg-color: #3B4455;\n",
              "      --disabled-fill-color: #666;\n",
              "  }\n",
              "\n",
              "  .colab-df-quickchart {\n",
              "    background-color: var(--bg-color);\n",
              "    border: none;\n",
              "    border-radius: 50%;\n",
              "    cursor: pointer;\n",
              "    display: none;\n",
              "    fill: var(--fill-color);\n",
              "    height: 32px;\n",
              "    padding: 0;\n",
              "    width: 32px;\n",
              "  }\n",
              "\n",
              "  .colab-df-quickchart:hover {\n",
              "    background-color: var(--hover-bg-color);\n",
              "    box-shadow: 0 1px 2px rgba(60, 64, 67, 0.3), 0 1px 3px 1px rgba(60, 64, 67, 0.15);\n",
              "    fill: var(--button-hover-fill-color);\n",
              "  }\n",
              "\n",
              "  .colab-df-quickchart-complete:disabled,\n",
              "  .colab-df-quickchart-complete:disabled:hover {\n",
              "    background-color: var(--disabled-bg-color);\n",
              "    fill: var(--disabled-fill-color);\n",
              "    box-shadow: none;\n",
              "  }\n",
              "\n",
              "  .colab-df-spinner {\n",
              "    border: 2px solid var(--fill-color);\n",
              "    border-color: transparent;\n",
              "    border-bottom-color: var(--fill-color);\n",
              "    animation:\n",
              "      spin 1s steps(1) infinite;\n",
              "  }\n",
              "\n",
              "  @keyframes spin {\n",
              "    0% {\n",
              "      border-color: transparent;\n",
              "      border-bottom-color: var(--fill-color);\n",
              "      border-left-color: var(--fill-color);\n",
              "    }\n",
              "    20% {\n",
              "      border-color: transparent;\n",
              "      border-left-color: var(--fill-color);\n",
              "      border-top-color: var(--fill-color);\n",
              "    }\n",
              "    30% {\n",
              "      border-color: transparent;\n",
              "      border-left-color: var(--fill-color);\n",
              "      border-top-color: var(--fill-color);\n",
              "      border-right-color: var(--fill-color);\n",
              "    }\n",
              "    40% {\n",
              "      border-color: transparent;\n",
              "      border-right-color: var(--fill-color);\n",
              "      border-top-color: var(--fill-color);\n",
              "    }\n",
              "    60% {\n",
              "      border-color: transparent;\n",
              "      border-right-color: var(--fill-color);\n",
              "    }\n",
              "    80% {\n",
              "      border-color: transparent;\n",
              "      border-right-color: var(--fill-color);\n",
              "      border-bottom-color: var(--fill-color);\n",
              "    }\n",
              "    90% {\n",
              "      border-color: transparent;\n",
              "      border-bottom-color: var(--fill-color);\n",
              "    }\n",
              "  }\n",
              "</style>\n",
              "\n",
              "  <script>\n",
              "    async function quickchart(key) {\n",
              "      const quickchartButtonEl =\n",
              "        document.querySelector('#' + key + ' button');\n",
              "      quickchartButtonEl.disabled = true;  // To prevent multiple clicks.\n",
              "      quickchartButtonEl.classList.add('colab-df-spinner');\n",
              "      try {\n",
              "        const charts = await google.colab.kernel.invokeFunction(\n",
              "            'suggestCharts', [key], {});\n",
              "      } catch (error) {\n",
              "        console.error('Error during call to suggestCharts:', error);\n",
              "      }\n",
              "      quickchartButtonEl.classList.remove('colab-df-spinner');\n",
              "      quickchartButtonEl.classList.add('colab-df-quickchart-complete');\n",
              "    }\n",
              "    (() => {\n",
              "      let quickchartButtonEl =\n",
              "        document.querySelector('#df-6073dab9-fbff-451b-b627-73b27dc02a9d button');\n",
              "      quickchartButtonEl.style.display =\n",
              "        google.colab.kernel.accessAllowed ? 'block' : 'none';\n",
              "    })();\n",
              "  </script>\n",
              "</div>\n",
              "    </div>\n",
              "  </div>\n"
            ]
          },
          "metadata": {},
          "execution_count": 74
        }
      ]
    },
    {
      "cell_type": "markdown",
      "source": [
        "Содержимое документов и темы совпадают."
      ],
      "metadata": {
        "id": "gPxHmHEsNH75"
      }
    },
    {
      "cell_type": "markdown",
      "metadata": {
        "id": "Sp5ZmE1PfoQG"
      },
      "source": [
        "# Прогнозирование принадлежности к теме"
      ]
    },
    {
      "cell_type": "markdown",
      "source": [
        "Последний этап работы над проектом - обучение модели для классификации темы документа.\n",
        "\n",
        "Для обучения необходимо:\n",
        "* Разделить данные на обучающую и проверочную выборку;\n",
        "* Вычислить терм-документную матрицу для обучающей выборки;\n",
        "* Обучить модель, используя слова из матрицы как параметры;\n",
        "* Преобразовать проверочную выборку в терм-документную матрицу;\n",
        "* Сделать предсказания и оценить их качество.\n",
        "\n",
        "Я хочу обучить несколько моделей - логистическую регрессию, SVM, градиентный бустинг и наивный байесовский классификатор.\n",
        "\n",
        "Для удобства я буду обучать модели через пайплайн, который будет включать в себя само обучение и все предварительные этапы."
      ],
      "metadata": {
        "id": "CWDmcVL0NYdC"
      }
    },
    {
      "cell_type": "code",
      "source": [
        "from sklearn.model_selection import train_test_split\n",
        "\n",
        "X_train, X_test, y_train, y_test = train_test_split(complaints['text'],\n",
        "                                                    complaints['topic'],\n",
        "                                                    test_size=0.25,\n",
        "                                                    random_state=17)\n",
        "\n",
        "print('Train data: ', X_train.shape)\n",
        "print('Test data: ', X_test.shape)"
      ],
      "metadata": {
        "colab": {
          "base_uri": "https://localhost:8080/"
        },
        "id": "flIG7yTB2GKi",
        "outputId": "490fa544-ef75-4f57-c847-c70665880e44"
      },
      "execution_count": null,
      "outputs": [
        {
          "output_type": "stream",
          "name": "stdout",
          "text": [
            "Train data:  (15804,)\n",
            "Test data:  (5268,)\n"
          ]
        }
      ]
    },
    {
      "cell_type": "markdown",
      "source": [
        "## Обучение LogisticRegression"
      ],
      "metadata": {
        "id": "gV695DewWACL"
      }
    },
    {
      "cell_type": "markdown",
      "source": [
        "Первая модель - LogisticRegression.\n",
        "\n",
        "Хочется обратить внимание на то, что в метод `.fit()` пайплайна попадают только данные из обучающей выборки. Метод `.predict()` вызывает `.transform()` всех трансформеров в пайплайне на переданный набор данных, а потом вызывает `.predict()` моделью на последнем шаге. Никакого лика данных не происходит."
      ],
      "metadata": {
        "id": "HJ393yvTOqW7"
      }
    },
    {
      "cell_type": "code",
      "source": [
        "from sklearn.feature_extraction.text import CountVectorizer, TfidfTransformer\n",
        "from sklearn.pipeline import make_pipeline\n",
        "from sklearn.linear_model import LogisticRegression\n",
        "from sklearn.metrics import classification_report, confusion_matrix\n",
        "\n",
        "lr_pipeline = make_pipeline(\n",
        "    TfidfVectorizer(), # содержит в себе CountVectorizer() -> TfidfTransformer\n",
        "    LogisticRegression(random_state=17, solver='newton-cg')\n",
        ")\n",
        "\n",
        "%time lr_pipeline.fit(X_train, y_train)\n",
        "\n",
        "print(classification_report(y_test, lr_pipeline.predict(X_test)))"
      ],
      "metadata": {
        "colab": {
          "base_uri": "https://localhost:8080/"
        },
        "id": "kEjTNlACJ08_",
        "outputId": "5dbc2e41-49a9-40de-d582-e083275f8359"
      },
      "execution_count": null,
      "outputs": [
        {
          "output_type": "stream",
          "name": "stdout",
          "text": [
            "CPU times: user 3.47 s, sys: 1.97 s, total: 5.44 s\n",
            "Wall time: 3.34 s\n",
            "              precision    recall  f1-score   support\n",
            "\n",
            "           0       0.95      0.98      0.97      1325\n",
            "           1       0.97      0.96      0.97      1271\n",
            "           2       0.96      0.97      0.97       854\n",
            "           3       0.95      0.95      0.95      1184\n",
            "           4       0.97      0.92      0.95       634\n",
            "\n",
            "    accuracy                           0.96      5268\n",
            "   macro avg       0.96      0.96      0.96      5268\n",
            "weighted avg       0.96      0.96      0.96      5268\n",
            "\n"
          ]
        }
      ]
    },
    {
      "cell_type": "markdown",
      "source": [
        "Всего за 3 секунды модель дала очень впечатляющий результат. Все метрики превышают 95% процентов, за исключением recall на 4 класс с величиной 0.92. Тем не менее, результат работы удовлетворительный."
      ],
      "metadata": {
        "id": "yG4gJgv3RfH_"
      }
    },
    {
      "cell_type": "code",
      "source": [
        "from sklearn.metrics import confusion_matrix\n",
        "\n",
        "cm = confusion_matrix(y_test, lr_pipeline.predict(X_test))\n",
        "\n",
        "fig = px.imshow(cm, text_auto=True, labels={'x':'Predicted label', 'y':'True label'}, title='Confusion Matrix for Logistic Regression')\n",
        "fig.show()"
      ],
      "metadata": {
        "colab": {
          "base_uri": "https://localhost:8080/",
          "height": 542
        },
        "id": "I5IYTvVfjJbF",
        "outputId": "56d05a92-8c4c-45f2-8d67-ba5abf4bf4cc"
      },
      "execution_count": null,
      "outputs": [
        {
          "output_type": "display_data",
          "data": {
            "text/html": [
              "<html>\n",
              "<head><meta charset=\"utf-8\" /></head>\n",
              "<body>\n",
              "    <div>            <script src=\"https://cdnjs.cloudflare.com/ajax/libs/mathjax/2.7.5/MathJax.js?config=TeX-AMS-MML_SVG\"></script><script type=\"text/javascript\">if (window.MathJax && window.MathJax.Hub && window.MathJax.Hub.Config) {window.MathJax.Hub.Config({SVG: {font: \"STIX-Web\"}});}</script>                <script type=\"text/javascript\">window.PlotlyConfig = {MathJaxConfig: 'local'};</script>\n",
              "        <script charset=\"utf-8\" src=\"https://cdn.plot.ly/plotly-2.24.1.min.js\"></script>                <div id=\"cbfa1206-b38c-4626-806e-a4493f5ce312\" class=\"plotly-graph-div\" style=\"height:525px; width:100%;\"></div>            <script type=\"text/javascript\">                                    window.PLOTLYENV=window.PLOTLYENV || {};                                    if (document.getElementById(\"cbfa1206-b38c-4626-806e-a4493f5ce312\")) {                    Plotly.newPlot(                        \"cbfa1206-b38c-4626-806e-a4493f5ce312\",                        [{\"coloraxis\":\"coloraxis\",\"name\":\"0\",\"texttemplate\":\"%{z}\",\"z\":[[1299,8,3,13,2],[12,1224,5,24,6],[9,9,830,5,1],[35,8,9,1126,6],[10,9,16,16,583]],\"type\":\"heatmap\",\"xaxis\":\"x\",\"yaxis\":\"y\",\"hovertemplate\":\"Predicted label: %{x}\\u003cbr\\u003eTrue label: %{y}\\u003cbr\\u003ecolor: %{z}\\u003cextra\\u003e\\u003c\\u002fextra\\u003e\"}],                        {\"template\":{\"data\":{\"histogram2dcontour\":[{\"type\":\"histogram2dcontour\",\"colorbar\":{\"outlinewidth\":0,\"ticks\":\"\"},\"colorscale\":[[0.0,\"#0d0887\"],[0.1111111111111111,\"#46039f\"],[0.2222222222222222,\"#7201a8\"],[0.3333333333333333,\"#9c179e\"],[0.4444444444444444,\"#bd3786\"],[0.5555555555555556,\"#d8576b\"],[0.6666666666666666,\"#ed7953\"],[0.7777777777777778,\"#fb9f3a\"],[0.8888888888888888,\"#fdca26\"],[1.0,\"#f0f921\"]]}],\"choropleth\":[{\"type\":\"choropleth\",\"colorbar\":{\"outlinewidth\":0,\"ticks\":\"\"}}],\"histogram2d\":[{\"type\":\"histogram2d\",\"colorbar\":{\"outlinewidth\":0,\"ticks\":\"\"},\"colorscale\":[[0.0,\"#0d0887\"],[0.1111111111111111,\"#46039f\"],[0.2222222222222222,\"#7201a8\"],[0.3333333333333333,\"#9c179e\"],[0.4444444444444444,\"#bd3786\"],[0.5555555555555556,\"#d8576b\"],[0.6666666666666666,\"#ed7953\"],[0.7777777777777778,\"#fb9f3a\"],[0.8888888888888888,\"#fdca26\"],[1.0,\"#f0f921\"]]}],\"heatmap\":[{\"type\":\"heatmap\",\"colorbar\":{\"outlinewidth\":0,\"ticks\":\"\"},\"colorscale\":[[0.0,\"#0d0887\"],[0.1111111111111111,\"#46039f\"],[0.2222222222222222,\"#7201a8\"],[0.3333333333333333,\"#9c179e\"],[0.4444444444444444,\"#bd3786\"],[0.5555555555555556,\"#d8576b\"],[0.6666666666666666,\"#ed7953\"],[0.7777777777777778,\"#fb9f3a\"],[0.8888888888888888,\"#fdca26\"],[1.0,\"#f0f921\"]]}],\"heatmapgl\":[{\"type\":\"heatmapgl\",\"colorbar\":{\"outlinewidth\":0,\"ticks\":\"\"},\"colorscale\":[[0.0,\"#0d0887\"],[0.1111111111111111,\"#46039f\"],[0.2222222222222222,\"#7201a8\"],[0.3333333333333333,\"#9c179e\"],[0.4444444444444444,\"#bd3786\"],[0.5555555555555556,\"#d8576b\"],[0.6666666666666666,\"#ed7953\"],[0.7777777777777778,\"#fb9f3a\"],[0.8888888888888888,\"#fdca26\"],[1.0,\"#f0f921\"]]}],\"contourcarpet\":[{\"type\":\"contourcarpet\",\"colorbar\":{\"outlinewidth\":0,\"ticks\":\"\"}}],\"contour\":[{\"type\":\"contour\",\"colorbar\":{\"outlinewidth\":0,\"ticks\":\"\"},\"colorscale\":[[0.0,\"#0d0887\"],[0.1111111111111111,\"#46039f\"],[0.2222222222222222,\"#7201a8\"],[0.3333333333333333,\"#9c179e\"],[0.4444444444444444,\"#bd3786\"],[0.5555555555555556,\"#d8576b\"],[0.6666666666666666,\"#ed7953\"],[0.7777777777777778,\"#fb9f3a\"],[0.8888888888888888,\"#fdca26\"],[1.0,\"#f0f921\"]]}],\"surface\":[{\"type\":\"surface\",\"colorbar\":{\"outlinewidth\":0,\"ticks\":\"\"},\"colorscale\":[[0.0,\"#0d0887\"],[0.1111111111111111,\"#46039f\"],[0.2222222222222222,\"#7201a8\"],[0.3333333333333333,\"#9c179e\"],[0.4444444444444444,\"#bd3786\"],[0.5555555555555556,\"#d8576b\"],[0.6666666666666666,\"#ed7953\"],[0.7777777777777778,\"#fb9f3a\"],[0.8888888888888888,\"#fdca26\"],[1.0,\"#f0f921\"]]}],\"mesh3d\":[{\"type\":\"mesh3d\",\"colorbar\":{\"outlinewidth\":0,\"ticks\":\"\"}}],\"scatter\":[{\"fillpattern\":{\"fillmode\":\"overlay\",\"size\":10,\"solidity\":0.2},\"type\":\"scatter\"}],\"parcoords\":[{\"type\":\"parcoords\",\"line\":{\"colorbar\":{\"outlinewidth\":0,\"ticks\":\"\"}}}],\"scatterpolargl\":[{\"type\":\"scatterpolargl\",\"marker\":{\"colorbar\":{\"outlinewidth\":0,\"ticks\":\"\"}}}],\"bar\":[{\"error_x\":{\"color\":\"#2a3f5f\"},\"error_y\":{\"color\":\"#2a3f5f\"},\"marker\":{\"line\":{\"color\":\"#E5ECF6\",\"width\":0.5},\"pattern\":{\"fillmode\":\"overlay\",\"size\":10,\"solidity\":0.2}},\"type\":\"bar\"}],\"scattergeo\":[{\"type\":\"scattergeo\",\"marker\":{\"colorbar\":{\"outlinewidth\":0,\"ticks\":\"\"}}}],\"scatterpolar\":[{\"type\":\"scatterpolar\",\"marker\":{\"colorbar\":{\"outlinewidth\":0,\"ticks\":\"\"}}}],\"histogram\":[{\"marker\":{\"pattern\":{\"fillmode\":\"overlay\",\"size\":10,\"solidity\":0.2}},\"type\":\"histogram\"}],\"scattergl\":[{\"type\":\"scattergl\",\"marker\":{\"colorbar\":{\"outlinewidth\":0,\"ticks\":\"\"}}}],\"scatter3d\":[{\"type\":\"scatter3d\",\"line\":{\"colorbar\":{\"outlinewidth\":0,\"ticks\":\"\"}},\"marker\":{\"colorbar\":{\"outlinewidth\":0,\"ticks\":\"\"}}}],\"scattermapbox\":[{\"type\":\"scattermapbox\",\"marker\":{\"colorbar\":{\"outlinewidth\":0,\"ticks\":\"\"}}}],\"scatterternary\":[{\"type\":\"scatterternary\",\"marker\":{\"colorbar\":{\"outlinewidth\":0,\"ticks\":\"\"}}}],\"scattercarpet\":[{\"type\":\"scattercarpet\",\"marker\":{\"colorbar\":{\"outlinewidth\":0,\"ticks\":\"\"}}}],\"carpet\":[{\"aaxis\":{\"endlinecolor\":\"#2a3f5f\",\"gridcolor\":\"white\",\"linecolor\":\"white\",\"minorgridcolor\":\"white\",\"startlinecolor\":\"#2a3f5f\"},\"baxis\":{\"endlinecolor\":\"#2a3f5f\",\"gridcolor\":\"white\",\"linecolor\":\"white\",\"minorgridcolor\":\"white\",\"startlinecolor\":\"#2a3f5f\"},\"type\":\"carpet\"}],\"table\":[{\"cells\":{\"fill\":{\"color\":\"#EBF0F8\"},\"line\":{\"color\":\"white\"}},\"header\":{\"fill\":{\"color\":\"#C8D4E3\"},\"line\":{\"color\":\"white\"}},\"type\":\"table\"}],\"barpolar\":[{\"marker\":{\"line\":{\"color\":\"#E5ECF6\",\"width\":0.5},\"pattern\":{\"fillmode\":\"overlay\",\"size\":10,\"solidity\":0.2}},\"type\":\"barpolar\"}],\"pie\":[{\"automargin\":true,\"type\":\"pie\"}]},\"layout\":{\"autotypenumbers\":\"strict\",\"colorway\":[\"#636efa\",\"#EF553B\",\"#00cc96\",\"#ab63fa\",\"#FFA15A\",\"#19d3f3\",\"#FF6692\",\"#B6E880\",\"#FF97FF\",\"#FECB52\"],\"font\":{\"color\":\"#2a3f5f\"},\"hovermode\":\"closest\",\"hoverlabel\":{\"align\":\"left\"},\"paper_bgcolor\":\"white\",\"plot_bgcolor\":\"#E5ECF6\",\"polar\":{\"bgcolor\":\"#E5ECF6\",\"angularaxis\":{\"gridcolor\":\"white\",\"linecolor\":\"white\",\"ticks\":\"\"},\"radialaxis\":{\"gridcolor\":\"white\",\"linecolor\":\"white\",\"ticks\":\"\"}},\"ternary\":{\"bgcolor\":\"#E5ECF6\",\"aaxis\":{\"gridcolor\":\"white\",\"linecolor\":\"white\",\"ticks\":\"\"},\"baxis\":{\"gridcolor\":\"white\",\"linecolor\":\"white\",\"ticks\":\"\"},\"caxis\":{\"gridcolor\":\"white\",\"linecolor\":\"white\",\"ticks\":\"\"}},\"coloraxis\":{\"colorbar\":{\"outlinewidth\":0,\"ticks\":\"\"}},\"colorscale\":{\"sequential\":[[0.0,\"#0d0887\"],[0.1111111111111111,\"#46039f\"],[0.2222222222222222,\"#7201a8\"],[0.3333333333333333,\"#9c179e\"],[0.4444444444444444,\"#bd3786\"],[0.5555555555555556,\"#d8576b\"],[0.6666666666666666,\"#ed7953\"],[0.7777777777777778,\"#fb9f3a\"],[0.8888888888888888,\"#fdca26\"],[1.0,\"#f0f921\"]],\"sequentialminus\":[[0.0,\"#0d0887\"],[0.1111111111111111,\"#46039f\"],[0.2222222222222222,\"#7201a8\"],[0.3333333333333333,\"#9c179e\"],[0.4444444444444444,\"#bd3786\"],[0.5555555555555556,\"#d8576b\"],[0.6666666666666666,\"#ed7953\"],[0.7777777777777778,\"#fb9f3a\"],[0.8888888888888888,\"#fdca26\"],[1.0,\"#f0f921\"]],\"diverging\":[[0,\"#8e0152\"],[0.1,\"#c51b7d\"],[0.2,\"#de77ae\"],[0.3,\"#f1b6da\"],[0.4,\"#fde0ef\"],[0.5,\"#f7f7f7\"],[0.6,\"#e6f5d0\"],[0.7,\"#b8e186\"],[0.8,\"#7fbc41\"],[0.9,\"#4d9221\"],[1,\"#276419\"]]},\"xaxis\":{\"gridcolor\":\"white\",\"linecolor\":\"white\",\"ticks\":\"\",\"title\":{\"standoff\":15},\"zerolinecolor\":\"white\",\"automargin\":true,\"zerolinewidth\":2},\"yaxis\":{\"gridcolor\":\"white\",\"linecolor\":\"white\",\"ticks\":\"\",\"title\":{\"standoff\":15},\"zerolinecolor\":\"white\",\"automargin\":true,\"zerolinewidth\":2},\"scene\":{\"xaxis\":{\"backgroundcolor\":\"#E5ECF6\",\"gridcolor\":\"white\",\"linecolor\":\"white\",\"showbackground\":true,\"ticks\":\"\",\"zerolinecolor\":\"white\",\"gridwidth\":2},\"yaxis\":{\"backgroundcolor\":\"#E5ECF6\",\"gridcolor\":\"white\",\"linecolor\":\"white\",\"showbackground\":true,\"ticks\":\"\",\"zerolinecolor\":\"white\",\"gridwidth\":2},\"zaxis\":{\"backgroundcolor\":\"#E5ECF6\",\"gridcolor\":\"white\",\"linecolor\":\"white\",\"showbackground\":true,\"ticks\":\"\",\"zerolinecolor\":\"white\",\"gridwidth\":2}},\"shapedefaults\":{\"line\":{\"color\":\"#2a3f5f\"}},\"annotationdefaults\":{\"arrowcolor\":\"#2a3f5f\",\"arrowhead\":0,\"arrowwidth\":1},\"geo\":{\"bgcolor\":\"white\",\"landcolor\":\"#E5ECF6\",\"subunitcolor\":\"white\",\"showland\":true,\"showlakes\":true,\"lakecolor\":\"white\"},\"title\":{\"x\":0.05},\"mapbox\":{\"style\":\"light\"}}},\"xaxis\":{\"anchor\":\"y\",\"domain\":[0.0,1.0],\"scaleanchor\":\"y\",\"constrain\":\"domain\",\"title\":{\"text\":\"Predicted label\"}},\"yaxis\":{\"anchor\":\"x\",\"domain\":[0.0,1.0],\"autorange\":\"reversed\",\"constrain\":\"domain\",\"title\":{\"text\":\"True label\"}},\"coloraxis\":{\"colorscale\":[[0.0,\"#0d0887\"],[0.1111111111111111,\"#46039f\"],[0.2222222222222222,\"#7201a8\"],[0.3333333333333333,\"#9c179e\"],[0.4444444444444444,\"#bd3786\"],[0.5555555555555556,\"#d8576b\"],[0.6666666666666666,\"#ed7953\"],[0.7777777777777778,\"#fb9f3a\"],[0.8888888888888888,\"#fdca26\"],[1.0,\"#f0f921\"]]},\"title\":{\"text\":\"Confusion Matrix for Logistic Regression\"}},                        {\"responsive\": true}                    ).then(function(){\n",
              "                            \n",
              "var gd = document.getElementById('cbfa1206-b38c-4626-806e-a4493f5ce312');\n",
              "var x = new MutationObserver(function (mutations, observer) {{\n",
              "        var display = window.getComputedStyle(gd).display;\n",
              "        if (!display || display === 'none') {{\n",
              "            console.log([gd, 'removed!']);\n",
              "            Plotly.purge(gd);\n",
              "            observer.disconnect();\n",
              "        }}\n",
              "}});\n",
              "\n",
              "// Listen for the removal of the full notebook cells\n",
              "var notebookContainer = gd.closest('#notebook-container');\n",
              "if (notebookContainer) {{\n",
              "    x.observe(notebookContainer, {childList: true});\n",
              "}}\n",
              "\n",
              "// Listen for the clearing of the current output cell\n",
              "var outputEl = gd.closest('.output');\n",
              "if (outputEl) {{\n",
              "    x.observe(outputEl, {childList: true});\n",
              "}}\n",
              "\n",
              "                        })                };                            </script>        </div>\n",
              "</body>\n",
              "</html>"
            ]
          },
          "metadata": {}
        }
      ]
    },
    {
      "cell_type": "markdown",
      "source": [
        "## Обучение SupportVectorClassifier"
      ],
      "metadata": {
        "id": "aiFvv7NBWF9s"
      }
    },
    {
      "cell_type": "markdown",
      "source": [
        "Следующая модель - SVC. В процессе обучения у меня сложилось мнение, что метод опорных векторов - устаревшая и достаточно слабая модель. Но потом в одной из статей наткнулся на мнение, что такие модели очень хорошо себя показывают в задачах классификации текста. Сейчас я это и проверю."
      ],
      "metadata": {
        "id": "aQIsJTtbS5vQ"
      }
    },
    {
      "cell_type": "code",
      "source": [
        "from sklearn.svm import SVC\n",
        "\n",
        "svc_pipeline = make_pipeline(\n",
        "    TfidfVectorizer(),\n",
        "    SVC(kernel='linear', gamma='auto')\n",
        ")\n",
        "\n",
        "%time svc_pipeline.fit(X_train, y_train)\n",
        "\n",
        "print(classification_report(y_test, svc_pipeline.predict(X_test)))"
      ],
      "metadata": {
        "colab": {
          "base_uri": "https://localhost:8080/"
        },
        "id": "HG23h2RUOd1T",
        "outputId": "e32731bc-caaa-4a05-fa2c-0064eab8f2c6"
      },
      "execution_count": null,
      "outputs": [
        {
          "output_type": "stream",
          "name": "stdout",
          "text": [
            "CPU times: user 25.7 s, sys: 33.2 ms, total: 25.7 s\n",
            "Wall time: 26 s\n",
            "              precision    recall  f1-score   support\n",
            "\n",
            "           0       0.95      0.96      0.96      1325\n",
            "           1       0.96      0.96      0.96      1271\n",
            "           2       0.94      0.96      0.95       854\n",
            "           3       0.94      0.94      0.94      1184\n",
            "           4       0.95      0.90      0.93       634\n",
            "\n",
            "    accuracy                           0.95      5268\n",
            "   macro avg       0.95      0.95      0.95      5268\n",
            "weighted avg       0.95      0.95      0.95      5268\n",
            "\n"
          ]
        }
      ]
    },
    {
      "cell_type": "markdown",
      "source": [
        "Результат работы модели действительно впечатляет. Но обучалась она немного дольше логистической регрессии, а метрики немного меньше."
      ],
      "metadata": {
        "id": "ozTS70RwUxcY"
      }
    },
    {
      "cell_type": "code",
      "source": [
        "cm = confusion_matrix(y_test, svc_pipeline.predict(X_test))\n",
        "\n",
        "fig = px.imshow(cm, text_auto=True, labels={'x':'Predicted label', 'y':'True label'}, title='Confsuion Matrix for SVC')\n",
        "fig.show()"
      ],
      "metadata": {
        "colab": {
          "base_uri": "https://localhost:8080/",
          "height": 542
        },
        "id": "oM0WN8cOmGra",
        "outputId": "75fe8155-109e-43bd-b63f-99ce368baf96"
      },
      "execution_count": null,
      "outputs": [
        {
          "output_type": "display_data",
          "data": {
            "text/html": [
              "<html>\n",
              "<head><meta charset=\"utf-8\" /></head>\n",
              "<body>\n",
              "    <div>            <script src=\"https://cdnjs.cloudflare.com/ajax/libs/mathjax/2.7.5/MathJax.js?config=TeX-AMS-MML_SVG\"></script><script type=\"text/javascript\">if (window.MathJax && window.MathJax.Hub && window.MathJax.Hub.Config) {window.MathJax.Hub.Config({SVG: {font: \"STIX-Web\"}});}</script>                <script type=\"text/javascript\">window.PlotlyConfig = {MathJaxConfig: 'local'};</script>\n",
              "        <script charset=\"utf-8\" src=\"https://cdn.plot.ly/plotly-2.24.1.min.js\"></script>                <div id=\"060c8d19-8f4b-4efa-94f5-0aa1beb0a37c\" class=\"plotly-graph-div\" style=\"height:525px; width:100%;\"></div>            <script type=\"text/javascript\">                                    window.PLOTLYENV=window.PLOTLYENV || {};                                    if (document.getElementById(\"060c8d19-8f4b-4efa-94f5-0aa1beb0a37c\")) {                    Plotly.newPlot(                        \"060c8d19-8f4b-4efa-94f5-0aa1beb0a37c\",                        [{\"coloraxis\":\"coloraxis\",\"name\":\"0\",\"texttemplate\":\"%{z}\",\"z\":[[1276,16,9,17,7],[13,1222,8,20,8],[12,8,824,8,2],[39,17,9,1109,10],[6,14,22,20,572]],\"type\":\"heatmap\",\"xaxis\":\"x\",\"yaxis\":\"y\",\"hovertemplate\":\"Predicted label: %{x}\\u003cbr\\u003eTrue label: %{y}\\u003cbr\\u003ecolor: %{z}\\u003cextra\\u003e\\u003c\\u002fextra\\u003e\"}],                        {\"template\":{\"data\":{\"histogram2dcontour\":[{\"type\":\"histogram2dcontour\",\"colorbar\":{\"outlinewidth\":0,\"ticks\":\"\"},\"colorscale\":[[0.0,\"#0d0887\"],[0.1111111111111111,\"#46039f\"],[0.2222222222222222,\"#7201a8\"],[0.3333333333333333,\"#9c179e\"],[0.4444444444444444,\"#bd3786\"],[0.5555555555555556,\"#d8576b\"],[0.6666666666666666,\"#ed7953\"],[0.7777777777777778,\"#fb9f3a\"],[0.8888888888888888,\"#fdca26\"],[1.0,\"#f0f921\"]]}],\"choropleth\":[{\"type\":\"choropleth\",\"colorbar\":{\"outlinewidth\":0,\"ticks\":\"\"}}],\"histogram2d\":[{\"type\":\"histogram2d\",\"colorbar\":{\"outlinewidth\":0,\"ticks\":\"\"},\"colorscale\":[[0.0,\"#0d0887\"],[0.1111111111111111,\"#46039f\"],[0.2222222222222222,\"#7201a8\"],[0.3333333333333333,\"#9c179e\"],[0.4444444444444444,\"#bd3786\"],[0.5555555555555556,\"#d8576b\"],[0.6666666666666666,\"#ed7953\"],[0.7777777777777778,\"#fb9f3a\"],[0.8888888888888888,\"#fdca26\"],[1.0,\"#f0f921\"]]}],\"heatmap\":[{\"type\":\"heatmap\",\"colorbar\":{\"outlinewidth\":0,\"ticks\":\"\"},\"colorscale\":[[0.0,\"#0d0887\"],[0.1111111111111111,\"#46039f\"],[0.2222222222222222,\"#7201a8\"],[0.3333333333333333,\"#9c179e\"],[0.4444444444444444,\"#bd3786\"],[0.5555555555555556,\"#d8576b\"],[0.6666666666666666,\"#ed7953\"],[0.7777777777777778,\"#fb9f3a\"],[0.8888888888888888,\"#fdca26\"],[1.0,\"#f0f921\"]]}],\"heatmapgl\":[{\"type\":\"heatmapgl\",\"colorbar\":{\"outlinewidth\":0,\"ticks\":\"\"},\"colorscale\":[[0.0,\"#0d0887\"],[0.1111111111111111,\"#46039f\"],[0.2222222222222222,\"#7201a8\"],[0.3333333333333333,\"#9c179e\"],[0.4444444444444444,\"#bd3786\"],[0.5555555555555556,\"#d8576b\"],[0.6666666666666666,\"#ed7953\"],[0.7777777777777778,\"#fb9f3a\"],[0.8888888888888888,\"#fdca26\"],[1.0,\"#f0f921\"]]}],\"contourcarpet\":[{\"type\":\"contourcarpet\",\"colorbar\":{\"outlinewidth\":0,\"ticks\":\"\"}}],\"contour\":[{\"type\":\"contour\",\"colorbar\":{\"outlinewidth\":0,\"ticks\":\"\"},\"colorscale\":[[0.0,\"#0d0887\"],[0.1111111111111111,\"#46039f\"],[0.2222222222222222,\"#7201a8\"],[0.3333333333333333,\"#9c179e\"],[0.4444444444444444,\"#bd3786\"],[0.5555555555555556,\"#d8576b\"],[0.6666666666666666,\"#ed7953\"],[0.7777777777777778,\"#fb9f3a\"],[0.8888888888888888,\"#fdca26\"],[1.0,\"#f0f921\"]]}],\"surface\":[{\"type\":\"surface\",\"colorbar\":{\"outlinewidth\":0,\"ticks\":\"\"},\"colorscale\":[[0.0,\"#0d0887\"],[0.1111111111111111,\"#46039f\"],[0.2222222222222222,\"#7201a8\"],[0.3333333333333333,\"#9c179e\"],[0.4444444444444444,\"#bd3786\"],[0.5555555555555556,\"#d8576b\"],[0.6666666666666666,\"#ed7953\"],[0.7777777777777778,\"#fb9f3a\"],[0.8888888888888888,\"#fdca26\"],[1.0,\"#f0f921\"]]}],\"mesh3d\":[{\"type\":\"mesh3d\",\"colorbar\":{\"outlinewidth\":0,\"ticks\":\"\"}}],\"scatter\":[{\"fillpattern\":{\"fillmode\":\"overlay\",\"size\":10,\"solidity\":0.2},\"type\":\"scatter\"}],\"parcoords\":[{\"type\":\"parcoords\",\"line\":{\"colorbar\":{\"outlinewidth\":0,\"ticks\":\"\"}}}],\"scatterpolargl\":[{\"type\":\"scatterpolargl\",\"marker\":{\"colorbar\":{\"outlinewidth\":0,\"ticks\":\"\"}}}],\"bar\":[{\"error_x\":{\"color\":\"#2a3f5f\"},\"error_y\":{\"color\":\"#2a3f5f\"},\"marker\":{\"line\":{\"color\":\"#E5ECF6\",\"width\":0.5},\"pattern\":{\"fillmode\":\"overlay\",\"size\":10,\"solidity\":0.2}},\"type\":\"bar\"}],\"scattergeo\":[{\"type\":\"scattergeo\",\"marker\":{\"colorbar\":{\"outlinewidth\":0,\"ticks\":\"\"}}}],\"scatterpolar\":[{\"type\":\"scatterpolar\",\"marker\":{\"colorbar\":{\"outlinewidth\":0,\"ticks\":\"\"}}}],\"histogram\":[{\"marker\":{\"pattern\":{\"fillmode\":\"overlay\",\"size\":10,\"solidity\":0.2}},\"type\":\"histogram\"}],\"scattergl\":[{\"type\":\"scattergl\",\"marker\":{\"colorbar\":{\"outlinewidth\":0,\"ticks\":\"\"}}}],\"scatter3d\":[{\"type\":\"scatter3d\",\"line\":{\"colorbar\":{\"outlinewidth\":0,\"ticks\":\"\"}},\"marker\":{\"colorbar\":{\"outlinewidth\":0,\"ticks\":\"\"}}}],\"scattermapbox\":[{\"type\":\"scattermapbox\",\"marker\":{\"colorbar\":{\"outlinewidth\":0,\"ticks\":\"\"}}}],\"scatterternary\":[{\"type\":\"scatterternary\",\"marker\":{\"colorbar\":{\"outlinewidth\":0,\"ticks\":\"\"}}}],\"scattercarpet\":[{\"type\":\"scattercarpet\",\"marker\":{\"colorbar\":{\"outlinewidth\":0,\"ticks\":\"\"}}}],\"carpet\":[{\"aaxis\":{\"endlinecolor\":\"#2a3f5f\",\"gridcolor\":\"white\",\"linecolor\":\"white\",\"minorgridcolor\":\"white\",\"startlinecolor\":\"#2a3f5f\"},\"baxis\":{\"endlinecolor\":\"#2a3f5f\",\"gridcolor\":\"white\",\"linecolor\":\"white\",\"minorgridcolor\":\"white\",\"startlinecolor\":\"#2a3f5f\"},\"type\":\"carpet\"}],\"table\":[{\"cells\":{\"fill\":{\"color\":\"#EBF0F8\"},\"line\":{\"color\":\"white\"}},\"header\":{\"fill\":{\"color\":\"#C8D4E3\"},\"line\":{\"color\":\"white\"}},\"type\":\"table\"}],\"barpolar\":[{\"marker\":{\"line\":{\"color\":\"#E5ECF6\",\"width\":0.5},\"pattern\":{\"fillmode\":\"overlay\",\"size\":10,\"solidity\":0.2}},\"type\":\"barpolar\"}],\"pie\":[{\"automargin\":true,\"type\":\"pie\"}]},\"layout\":{\"autotypenumbers\":\"strict\",\"colorway\":[\"#636efa\",\"#EF553B\",\"#00cc96\",\"#ab63fa\",\"#FFA15A\",\"#19d3f3\",\"#FF6692\",\"#B6E880\",\"#FF97FF\",\"#FECB52\"],\"font\":{\"color\":\"#2a3f5f\"},\"hovermode\":\"closest\",\"hoverlabel\":{\"align\":\"left\"},\"paper_bgcolor\":\"white\",\"plot_bgcolor\":\"#E5ECF6\",\"polar\":{\"bgcolor\":\"#E5ECF6\",\"angularaxis\":{\"gridcolor\":\"white\",\"linecolor\":\"white\",\"ticks\":\"\"},\"radialaxis\":{\"gridcolor\":\"white\",\"linecolor\":\"white\",\"ticks\":\"\"}},\"ternary\":{\"bgcolor\":\"#E5ECF6\",\"aaxis\":{\"gridcolor\":\"white\",\"linecolor\":\"white\",\"ticks\":\"\"},\"baxis\":{\"gridcolor\":\"white\",\"linecolor\":\"white\",\"ticks\":\"\"},\"caxis\":{\"gridcolor\":\"white\",\"linecolor\":\"white\",\"ticks\":\"\"}},\"coloraxis\":{\"colorbar\":{\"outlinewidth\":0,\"ticks\":\"\"}},\"colorscale\":{\"sequential\":[[0.0,\"#0d0887\"],[0.1111111111111111,\"#46039f\"],[0.2222222222222222,\"#7201a8\"],[0.3333333333333333,\"#9c179e\"],[0.4444444444444444,\"#bd3786\"],[0.5555555555555556,\"#d8576b\"],[0.6666666666666666,\"#ed7953\"],[0.7777777777777778,\"#fb9f3a\"],[0.8888888888888888,\"#fdca26\"],[1.0,\"#f0f921\"]],\"sequentialminus\":[[0.0,\"#0d0887\"],[0.1111111111111111,\"#46039f\"],[0.2222222222222222,\"#7201a8\"],[0.3333333333333333,\"#9c179e\"],[0.4444444444444444,\"#bd3786\"],[0.5555555555555556,\"#d8576b\"],[0.6666666666666666,\"#ed7953\"],[0.7777777777777778,\"#fb9f3a\"],[0.8888888888888888,\"#fdca26\"],[1.0,\"#f0f921\"]],\"diverging\":[[0,\"#8e0152\"],[0.1,\"#c51b7d\"],[0.2,\"#de77ae\"],[0.3,\"#f1b6da\"],[0.4,\"#fde0ef\"],[0.5,\"#f7f7f7\"],[0.6,\"#e6f5d0\"],[0.7,\"#b8e186\"],[0.8,\"#7fbc41\"],[0.9,\"#4d9221\"],[1,\"#276419\"]]},\"xaxis\":{\"gridcolor\":\"white\",\"linecolor\":\"white\",\"ticks\":\"\",\"title\":{\"standoff\":15},\"zerolinecolor\":\"white\",\"automargin\":true,\"zerolinewidth\":2},\"yaxis\":{\"gridcolor\":\"white\",\"linecolor\":\"white\",\"ticks\":\"\",\"title\":{\"standoff\":15},\"zerolinecolor\":\"white\",\"automargin\":true,\"zerolinewidth\":2},\"scene\":{\"xaxis\":{\"backgroundcolor\":\"#E5ECF6\",\"gridcolor\":\"white\",\"linecolor\":\"white\",\"showbackground\":true,\"ticks\":\"\",\"zerolinecolor\":\"white\",\"gridwidth\":2},\"yaxis\":{\"backgroundcolor\":\"#E5ECF6\",\"gridcolor\":\"white\",\"linecolor\":\"white\",\"showbackground\":true,\"ticks\":\"\",\"zerolinecolor\":\"white\",\"gridwidth\":2},\"zaxis\":{\"backgroundcolor\":\"#E5ECF6\",\"gridcolor\":\"white\",\"linecolor\":\"white\",\"showbackground\":true,\"ticks\":\"\",\"zerolinecolor\":\"white\",\"gridwidth\":2}},\"shapedefaults\":{\"line\":{\"color\":\"#2a3f5f\"}},\"annotationdefaults\":{\"arrowcolor\":\"#2a3f5f\",\"arrowhead\":0,\"arrowwidth\":1},\"geo\":{\"bgcolor\":\"white\",\"landcolor\":\"#E5ECF6\",\"subunitcolor\":\"white\",\"showland\":true,\"showlakes\":true,\"lakecolor\":\"white\"},\"title\":{\"x\":0.05},\"mapbox\":{\"style\":\"light\"}}},\"xaxis\":{\"anchor\":\"y\",\"domain\":[0.0,1.0],\"scaleanchor\":\"y\",\"constrain\":\"domain\",\"title\":{\"text\":\"Predicted label\"}},\"yaxis\":{\"anchor\":\"x\",\"domain\":[0.0,1.0],\"autorange\":\"reversed\",\"constrain\":\"domain\",\"title\":{\"text\":\"True label\"}},\"coloraxis\":{\"colorscale\":[[0.0,\"#0d0887\"],[0.1111111111111111,\"#46039f\"],[0.2222222222222222,\"#7201a8\"],[0.3333333333333333,\"#9c179e\"],[0.4444444444444444,\"#bd3786\"],[0.5555555555555556,\"#d8576b\"],[0.6666666666666666,\"#ed7953\"],[0.7777777777777778,\"#fb9f3a\"],[0.8888888888888888,\"#fdca26\"],[1.0,\"#f0f921\"]]},\"title\":{\"text\":\"Confsuion Matrix for SVC\"}},                        {\"responsive\": true}                    ).then(function(){\n",
              "                            \n",
              "var gd = document.getElementById('060c8d19-8f4b-4efa-94f5-0aa1beb0a37c');\n",
              "var x = new MutationObserver(function (mutations, observer) {{\n",
              "        var display = window.getComputedStyle(gd).display;\n",
              "        if (!display || display === 'none') {{\n",
              "            console.log([gd, 'removed!']);\n",
              "            Plotly.purge(gd);\n",
              "            observer.disconnect();\n",
              "        }}\n",
              "}});\n",
              "\n",
              "// Listen for the removal of the full notebook cells\n",
              "var notebookContainer = gd.closest('#notebook-container');\n",
              "if (notebookContainer) {{\n",
              "    x.observe(notebookContainer, {childList: true});\n",
              "}}\n",
              "\n",
              "// Listen for the clearing of the current output cell\n",
              "var outputEl = gd.closest('.output');\n",
              "if (outputEl) {{\n",
              "    x.observe(outputEl, {childList: true});\n",
              "}}\n",
              "\n",
              "                        })                };                            </script>        </div>\n",
              "</body>\n",
              "</html>"
            ]
          },
          "metadata": {}
        }
      ]
    },
    {
      "cell_type": "markdown",
      "source": [
        "## Обучение CatBoostClassifier"
      ],
      "metadata": {
        "id": "FexLXACKWO3X"
      }
    },
    {
      "cell_type": "markdown",
      "source": [
        "Следующая модель - CatBoostClassifier. Это одна из самых точных моделей, с которыми я работал. Посмотрим как она справится с этой задачей."
      ],
      "metadata": {
        "id": "7lWT4QP7Vch3"
      }
    },
    {
      "cell_type": "code",
      "source": [
        "from catboost import CatBoostClassifier\n",
        "\n",
        "catb_pipeline = make_pipeline(\n",
        "    TfidfVectorizer(),\n",
        "    CatBoostClassifier(verbose=False)\n",
        ")\n",
        "\n",
        "%time catb_pipeline.fit(X_train, y_train)\n",
        "\n",
        "print(classification_report(y_test, catb_pipeline.predict(X_test)))"
      ],
      "metadata": {
        "colab": {
          "base_uri": "https://localhost:8080/"
        },
        "id": "VIhtzkXgvnb5",
        "outputId": "e73ecc8d-8a86-41a7-98c4-9154ddbb220e"
      },
      "execution_count": null,
      "outputs": [
        {
          "output_type": "stream",
          "name": "stdout",
          "text": [
            "CPU times: user 37min 57s, sys: 8.92 s, total: 38min 6s\n",
            "Wall time: 27min 52s\n",
            "              precision    recall  f1-score   support\n",
            "\n",
            "           0       0.93      0.95      0.94      1325\n",
            "           1       0.93      0.95      0.94      1271\n",
            "           2       0.92      0.93      0.93       854\n",
            "           3       0.93      0.91      0.92      1184\n",
            "           4       0.94      0.90      0.92       634\n",
            "\n",
            "    accuracy                           0.93      5268\n",
            "   macro avg       0.93      0.93      0.93      5268\n",
            "weighted avg       0.93      0.93      0.93      5268\n",
            "\n"
          ]
        }
      ]
    },
    {
      "cell_type": "markdown",
      "source": [
        "После такого долгого обучения, результат работы модели не вызывает впечатления. Все метрики все еще больше 90%, но ниже чем у двух предыдущих."
      ],
      "metadata": {
        "id": "keGbQBfFVoUv"
      }
    },
    {
      "cell_type": "code",
      "source": [
        "cm = confusion_matrix(y_test, catb_pipeline.predict(X_test))\n",
        "\n",
        "fig = px.imshow(cm, text_auto=True, labels={'x':'Predicted label', 'y':'True label'}, title='Confusion Matrix for CatBoostClassifier')\n",
        "fig.show()"
      ],
      "metadata": {
        "colab": {
          "base_uri": "https://localhost:8080/",
          "height": 542
        },
        "id": "WEZPKsaXvdCM",
        "outputId": "79caaff2-5bbe-4ad7-9156-b3d7fa04e524"
      },
      "execution_count": null,
      "outputs": [
        {
          "output_type": "display_data",
          "data": {
            "text/html": [
              "<html>\n",
              "<head><meta charset=\"utf-8\" /></head>\n",
              "<body>\n",
              "    <div>            <script src=\"https://cdnjs.cloudflare.com/ajax/libs/mathjax/2.7.5/MathJax.js?config=TeX-AMS-MML_SVG\"></script><script type=\"text/javascript\">if (window.MathJax && window.MathJax.Hub && window.MathJax.Hub.Config) {window.MathJax.Hub.Config({SVG: {font: \"STIX-Web\"}});}</script>                <script type=\"text/javascript\">window.PlotlyConfig = {MathJaxConfig: 'local'};</script>\n",
              "        <script charset=\"utf-8\" src=\"https://cdn.plot.ly/plotly-2.24.1.min.js\"></script>                <div id=\"3ae0c4e3-4b75-4b61-b043-91f8adf9c4bc\" class=\"plotly-graph-div\" style=\"height:525px; width:100%;\"></div>            <script type=\"text/javascript\">                                    window.PLOTLYENV=window.PLOTLYENV || {};                                    if (document.getElementById(\"3ae0c4e3-4b75-4b61-b043-91f8adf9c4bc\")) {                    Plotly.newPlot(                        \"3ae0c4e3-4b75-4b61-b043-91f8adf9c4bc\",                        [{\"coloraxis\":\"coloraxis\",\"name\":\"0\",\"texttemplate\":\"%{z}\",\"z\":[[1262,21,13,20,9],[12,1202,14,32,11],[17,17,797,16,7],[44,37,21,1075,7],[16,13,21,13,571]],\"type\":\"heatmap\",\"xaxis\":\"x\",\"yaxis\":\"y\",\"hovertemplate\":\"Predicted label: %{x}\\u003cbr\\u003eTrue label: %{y}\\u003cbr\\u003ecolor: %{z}\\u003cextra\\u003e\\u003c\\u002fextra\\u003e\"}],                        {\"template\":{\"data\":{\"histogram2dcontour\":[{\"type\":\"histogram2dcontour\",\"colorbar\":{\"outlinewidth\":0,\"ticks\":\"\"},\"colorscale\":[[0.0,\"#0d0887\"],[0.1111111111111111,\"#46039f\"],[0.2222222222222222,\"#7201a8\"],[0.3333333333333333,\"#9c179e\"],[0.4444444444444444,\"#bd3786\"],[0.5555555555555556,\"#d8576b\"],[0.6666666666666666,\"#ed7953\"],[0.7777777777777778,\"#fb9f3a\"],[0.8888888888888888,\"#fdca26\"],[1.0,\"#f0f921\"]]}],\"choropleth\":[{\"type\":\"choropleth\",\"colorbar\":{\"outlinewidth\":0,\"ticks\":\"\"}}],\"histogram2d\":[{\"type\":\"histogram2d\",\"colorbar\":{\"outlinewidth\":0,\"ticks\":\"\"},\"colorscale\":[[0.0,\"#0d0887\"],[0.1111111111111111,\"#46039f\"],[0.2222222222222222,\"#7201a8\"],[0.3333333333333333,\"#9c179e\"],[0.4444444444444444,\"#bd3786\"],[0.5555555555555556,\"#d8576b\"],[0.6666666666666666,\"#ed7953\"],[0.7777777777777778,\"#fb9f3a\"],[0.8888888888888888,\"#fdca26\"],[1.0,\"#f0f921\"]]}],\"heatmap\":[{\"type\":\"heatmap\",\"colorbar\":{\"outlinewidth\":0,\"ticks\":\"\"},\"colorscale\":[[0.0,\"#0d0887\"],[0.1111111111111111,\"#46039f\"],[0.2222222222222222,\"#7201a8\"],[0.3333333333333333,\"#9c179e\"],[0.4444444444444444,\"#bd3786\"],[0.5555555555555556,\"#d8576b\"],[0.6666666666666666,\"#ed7953\"],[0.7777777777777778,\"#fb9f3a\"],[0.8888888888888888,\"#fdca26\"],[1.0,\"#f0f921\"]]}],\"heatmapgl\":[{\"type\":\"heatmapgl\",\"colorbar\":{\"outlinewidth\":0,\"ticks\":\"\"},\"colorscale\":[[0.0,\"#0d0887\"],[0.1111111111111111,\"#46039f\"],[0.2222222222222222,\"#7201a8\"],[0.3333333333333333,\"#9c179e\"],[0.4444444444444444,\"#bd3786\"],[0.5555555555555556,\"#d8576b\"],[0.6666666666666666,\"#ed7953\"],[0.7777777777777778,\"#fb9f3a\"],[0.8888888888888888,\"#fdca26\"],[1.0,\"#f0f921\"]]}],\"contourcarpet\":[{\"type\":\"contourcarpet\",\"colorbar\":{\"outlinewidth\":0,\"ticks\":\"\"}}],\"contour\":[{\"type\":\"contour\",\"colorbar\":{\"outlinewidth\":0,\"ticks\":\"\"},\"colorscale\":[[0.0,\"#0d0887\"],[0.1111111111111111,\"#46039f\"],[0.2222222222222222,\"#7201a8\"],[0.3333333333333333,\"#9c179e\"],[0.4444444444444444,\"#bd3786\"],[0.5555555555555556,\"#d8576b\"],[0.6666666666666666,\"#ed7953\"],[0.7777777777777778,\"#fb9f3a\"],[0.8888888888888888,\"#fdca26\"],[1.0,\"#f0f921\"]]}],\"surface\":[{\"type\":\"surface\",\"colorbar\":{\"outlinewidth\":0,\"ticks\":\"\"},\"colorscale\":[[0.0,\"#0d0887\"],[0.1111111111111111,\"#46039f\"],[0.2222222222222222,\"#7201a8\"],[0.3333333333333333,\"#9c179e\"],[0.4444444444444444,\"#bd3786\"],[0.5555555555555556,\"#d8576b\"],[0.6666666666666666,\"#ed7953\"],[0.7777777777777778,\"#fb9f3a\"],[0.8888888888888888,\"#fdca26\"],[1.0,\"#f0f921\"]]}],\"mesh3d\":[{\"type\":\"mesh3d\",\"colorbar\":{\"outlinewidth\":0,\"ticks\":\"\"}}],\"scatter\":[{\"fillpattern\":{\"fillmode\":\"overlay\",\"size\":10,\"solidity\":0.2},\"type\":\"scatter\"}],\"parcoords\":[{\"type\":\"parcoords\",\"line\":{\"colorbar\":{\"outlinewidth\":0,\"ticks\":\"\"}}}],\"scatterpolargl\":[{\"type\":\"scatterpolargl\",\"marker\":{\"colorbar\":{\"outlinewidth\":0,\"ticks\":\"\"}}}],\"bar\":[{\"error_x\":{\"color\":\"#2a3f5f\"},\"error_y\":{\"color\":\"#2a3f5f\"},\"marker\":{\"line\":{\"color\":\"#E5ECF6\",\"width\":0.5},\"pattern\":{\"fillmode\":\"overlay\",\"size\":10,\"solidity\":0.2}},\"type\":\"bar\"}],\"scattergeo\":[{\"type\":\"scattergeo\",\"marker\":{\"colorbar\":{\"outlinewidth\":0,\"ticks\":\"\"}}}],\"scatterpolar\":[{\"type\":\"scatterpolar\",\"marker\":{\"colorbar\":{\"outlinewidth\":0,\"ticks\":\"\"}}}],\"histogram\":[{\"marker\":{\"pattern\":{\"fillmode\":\"overlay\",\"size\":10,\"solidity\":0.2}},\"type\":\"histogram\"}],\"scattergl\":[{\"type\":\"scattergl\",\"marker\":{\"colorbar\":{\"outlinewidth\":0,\"ticks\":\"\"}}}],\"scatter3d\":[{\"type\":\"scatter3d\",\"line\":{\"colorbar\":{\"outlinewidth\":0,\"ticks\":\"\"}},\"marker\":{\"colorbar\":{\"outlinewidth\":0,\"ticks\":\"\"}}}],\"scattermapbox\":[{\"type\":\"scattermapbox\",\"marker\":{\"colorbar\":{\"outlinewidth\":0,\"ticks\":\"\"}}}],\"scatterternary\":[{\"type\":\"scatterternary\",\"marker\":{\"colorbar\":{\"outlinewidth\":0,\"ticks\":\"\"}}}],\"scattercarpet\":[{\"type\":\"scattercarpet\",\"marker\":{\"colorbar\":{\"outlinewidth\":0,\"ticks\":\"\"}}}],\"carpet\":[{\"aaxis\":{\"endlinecolor\":\"#2a3f5f\",\"gridcolor\":\"white\",\"linecolor\":\"white\",\"minorgridcolor\":\"white\",\"startlinecolor\":\"#2a3f5f\"},\"baxis\":{\"endlinecolor\":\"#2a3f5f\",\"gridcolor\":\"white\",\"linecolor\":\"white\",\"minorgridcolor\":\"white\",\"startlinecolor\":\"#2a3f5f\"},\"type\":\"carpet\"}],\"table\":[{\"cells\":{\"fill\":{\"color\":\"#EBF0F8\"},\"line\":{\"color\":\"white\"}},\"header\":{\"fill\":{\"color\":\"#C8D4E3\"},\"line\":{\"color\":\"white\"}},\"type\":\"table\"}],\"barpolar\":[{\"marker\":{\"line\":{\"color\":\"#E5ECF6\",\"width\":0.5},\"pattern\":{\"fillmode\":\"overlay\",\"size\":10,\"solidity\":0.2}},\"type\":\"barpolar\"}],\"pie\":[{\"automargin\":true,\"type\":\"pie\"}]},\"layout\":{\"autotypenumbers\":\"strict\",\"colorway\":[\"#636efa\",\"#EF553B\",\"#00cc96\",\"#ab63fa\",\"#FFA15A\",\"#19d3f3\",\"#FF6692\",\"#B6E880\",\"#FF97FF\",\"#FECB52\"],\"font\":{\"color\":\"#2a3f5f\"},\"hovermode\":\"closest\",\"hoverlabel\":{\"align\":\"left\"},\"paper_bgcolor\":\"white\",\"plot_bgcolor\":\"#E5ECF6\",\"polar\":{\"bgcolor\":\"#E5ECF6\",\"angularaxis\":{\"gridcolor\":\"white\",\"linecolor\":\"white\",\"ticks\":\"\"},\"radialaxis\":{\"gridcolor\":\"white\",\"linecolor\":\"white\",\"ticks\":\"\"}},\"ternary\":{\"bgcolor\":\"#E5ECF6\",\"aaxis\":{\"gridcolor\":\"white\",\"linecolor\":\"white\",\"ticks\":\"\"},\"baxis\":{\"gridcolor\":\"white\",\"linecolor\":\"white\",\"ticks\":\"\"},\"caxis\":{\"gridcolor\":\"white\",\"linecolor\":\"white\",\"ticks\":\"\"}},\"coloraxis\":{\"colorbar\":{\"outlinewidth\":0,\"ticks\":\"\"}},\"colorscale\":{\"sequential\":[[0.0,\"#0d0887\"],[0.1111111111111111,\"#46039f\"],[0.2222222222222222,\"#7201a8\"],[0.3333333333333333,\"#9c179e\"],[0.4444444444444444,\"#bd3786\"],[0.5555555555555556,\"#d8576b\"],[0.6666666666666666,\"#ed7953\"],[0.7777777777777778,\"#fb9f3a\"],[0.8888888888888888,\"#fdca26\"],[1.0,\"#f0f921\"]],\"sequentialminus\":[[0.0,\"#0d0887\"],[0.1111111111111111,\"#46039f\"],[0.2222222222222222,\"#7201a8\"],[0.3333333333333333,\"#9c179e\"],[0.4444444444444444,\"#bd3786\"],[0.5555555555555556,\"#d8576b\"],[0.6666666666666666,\"#ed7953\"],[0.7777777777777778,\"#fb9f3a\"],[0.8888888888888888,\"#fdca26\"],[1.0,\"#f0f921\"]],\"diverging\":[[0,\"#8e0152\"],[0.1,\"#c51b7d\"],[0.2,\"#de77ae\"],[0.3,\"#f1b6da\"],[0.4,\"#fde0ef\"],[0.5,\"#f7f7f7\"],[0.6,\"#e6f5d0\"],[0.7,\"#b8e186\"],[0.8,\"#7fbc41\"],[0.9,\"#4d9221\"],[1,\"#276419\"]]},\"xaxis\":{\"gridcolor\":\"white\",\"linecolor\":\"white\",\"ticks\":\"\",\"title\":{\"standoff\":15},\"zerolinecolor\":\"white\",\"automargin\":true,\"zerolinewidth\":2},\"yaxis\":{\"gridcolor\":\"white\",\"linecolor\":\"white\",\"ticks\":\"\",\"title\":{\"standoff\":15},\"zerolinecolor\":\"white\",\"automargin\":true,\"zerolinewidth\":2},\"scene\":{\"xaxis\":{\"backgroundcolor\":\"#E5ECF6\",\"gridcolor\":\"white\",\"linecolor\":\"white\",\"showbackground\":true,\"ticks\":\"\",\"zerolinecolor\":\"white\",\"gridwidth\":2},\"yaxis\":{\"backgroundcolor\":\"#E5ECF6\",\"gridcolor\":\"white\",\"linecolor\":\"white\",\"showbackground\":true,\"ticks\":\"\",\"zerolinecolor\":\"white\",\"gridwidth\":2},\"zaxis\":{\"backgroundcolor\":\"#E5ECF6\",\"gridcolor\":\"white\",\"linecolor\":\"white\",\"showbackground\":true,\"ticks\":\"\",\"zerolinecolor\":\"white\",\"gridwidth\":2}},\"shapedefaults\":{\"line\":{\"color\":\"#2a3f5f\"}},\"annotationdefaults\":{\"arrowcolor\":\"#2a3f5f\",\"arrowhead\":0,\"arrowwidth\":1},\"geo\":{\"bgcolor\":\"white\",\"landcolor\":\"#E5ECF6\",\"subunitcolor\":\"white\",\"showland\":true,\"showlakes\":true,\"lakecolor\":\"white\"},\"title\":{\"x\":0.05},\"mapbox\":{\"style\":\"light\"}}},\"xaxis\":{\"anchor\":\"y\",\"domain\":[0.0,1.0],\"scaleanchor\":\"y\",\"constrain\":\"domain\",\"title\":{\"text\":\"Predicted label\"}},\"yaxis\":{\"anchor\":\"x\",\"domain\":[0.0,1.0],\"autorange\":\"reversed\",\"constrain\":\"domain\",\"title\":{\"text\":\"True label\"}},\"coloraxis\":{\"colorscale\":[[0.0,\"#0d0887\"],[0.1111111111111111,\"#46039f\"],[0.2222222222222222,\"#7201a8\"],[0.3333333333333333,\"#9c179e\"],[0.4444444444444444,\"#bd3786\"],[0.5555555555555556,\"#d8576b\"],[0.6666666666666666,\"#ed7953\"],[0.7777777777777778,\"#fb9f3a\"],[0.8888888888888888,\"#fdca26\"],[1.0,\"#f0f921\"]]},\"title\":{\"text\":\"Confusion Matrix for CatBoostClassifier\"}},                        {\"responsive\": true}                    ).then(function(){\n",
              "                            \n",
              "var gd = document.getElementById('3ae0c4e3-4b75-4b61-b043-91f8adf9c4bc');\n",
              "var x = new MutationObserver(function (mutations, observer) {{\n",
              "        var display = window.getComputedStyle(gd).display;\n",
              "        if (!display || display === 'none') {{\n",
              "            console.log([gd, 'removed!']);\n",
              "            Plotly.purge(gd);\n",
              "            observer.disconnect();\n",
              "        }}\n",
              "}});\n",
              "\n",
              "// Listen for the removal of the full notebook cells\n",
              "var notebookContainer = gd.closest('#notebook-container');\n",
              "if (notebookContainer) {{\n",
              "    x.observe(notebookContainer, {childList: true});\n",
              "}}\n",
              "\n",
              "// Listen for the clearing of the current output cell\n",
              "var outputEl = gd.closest('.output');\n",
              "if (outputEl) {{\n",
              "    x.observe(outputEl, {childList: true});\n",
              "}}\n",
              "\n",
              "                        })                };                            </script>        </div>\n",
              "</body>\n",
              "</html>"
            ]
          },
          "metadata": {}
        }
      ]
    },
    {
      "cell_type": "markdown",
      "source": [
        "## Обучение Complement Naive Bayes Classifier"
      ],
      "metadata": {
        "id": "9MmRsaOFczQU"
      }
    },
    {
      "cell_type": "markdown",
      "source": [
        "Последняя модель, которую хочется попробовать - Наивный байесовский классификатор. Он вычисляет вероятность принадлежность объекта к классу по формуле Байеса. Для этого он вычисляет апостериорное распределение через максимизацию правдоподобия. Вероятность события (принадлежность к классу) и априорное распределение являются постоянными.\n",
        "\n",
        "В библиотеке sklearn содержится несколько классов наивного байесовского классификатора с разными априорными распределениями. Я буду использовать ComplementNB - он имеет полиномиальное априорное распределение, но адаптирован под данные с дисбалансом классов."
      ],
      "metadata": {
        "id": "Im1q_oLffoM5"
      }
    },
    {
      "cell_type": "code",
      "source": [
        "from sklearn.naive_bayes import ComplementNB\n",
        "\n",
        "nb_pipeline = make_pipeline(\n",
        "    TfidfVectorizer(),\n",
        "    ComplementNB()\n",
        ")\n",
        "\n",
        "%time nb_pipeline.fit(X_train, y_train)\n",
        "\n",
        "print(classification_report(y_test, nb_pipeline.predict(X_test)))"
      ],
      "metadata": {
        "colab": {
          "base_uri": "https://localhost:8080/"
        },
        "id": "AlVGb15Fcych",
        "outputId": "cd8002ca-9807-46c1-ed46-e4e8a2951847"
      },
      "execution_count": null,
      "outputs": [
        {
          "output_type": "stream",
          "name": "stdout",
          "text": [
            "CPU times: user 1.36 s, sys: 0 ns, total: 1.36 s\n",
            "Wall time: 1.4 s\n",
            "              precision    recall  f1-score   support\n",
            "\n",
            "           0       0.76      0.86      0.81      1325\n",
            "           1       0.79      0.81      0.80      1271\n",
            "           2       0.75      0.92      0.83       854\n",
            "           3       0.81      0.78      0.79      1184\n",
            "           4       0.87      0.40      0.55       634\n",
            "\n",
            "    accuracy                           0.78      5268\n",
            "   macro avg       0.80      0.75      0.76      5268\n",
            "weighted avg       0.79      0.78      0.77      5268\n",
            "\n"
          ]
        }
      ]
    },
    {
      "cell_type": "markdown",
      "source": [
        "Это самый худший результат из всех используемых моделей. Самая низкая метрика - recall для класса 4 (которого было меньше всего) - 0.4, из-за чего падает и f1-score. Остальные метрики находятся в пределах 0.75-0.85, с редкими исключениями."
      ],
      "metadata": {
        "id": "a7k5JaBFafan"
      }
    },
    {
      "cell_type": "code",
      "source": [
        "cm = confusion_matrix(y_test, nb_pipeline.predict(X_test))\n",
        "\n",
        "fig = px.imshow(cm, text_auto=True, labels={'x':'Predicted label', 'y':'True label'}, title='Confusion Matrix for Naive Bayes Classifier')\n",
        "fig.show()"
      ],
      "metadata": {
        "colab": {
          "base_uri": "https://localhost:8080/",
          "height": 542
        },
        "id": "HqevQD3AmTJG",
        "outputId": "9a957a47-4c25-4db3-c972-572f31b574c4"
      },
      "execution_count": null,
      "outputs": [
        {
          "output_type": "display_data",
          "data": {
            "text/html": [
              "<html>\n",
              "<head><meta charset=\"utf-8\" /></head>\n",
              "<body>\n",
              "    <div>            <script src=\"https://cdnjs.cloudflare.com/ajax/libs/mathjax/2.7.5/MathJax.js?config=TeX-AMS-MML_SVG\"></script><script type=\"text/javascript\">if (window.MathJax && window.MathJax.Hub && window.MathJax.Hub.Config) {window.MathJax.Hub.Config({SVG: {font: \"STIX-Web\"}});}</script>                <script type=\"text/javascript\">window.PlotlyConfig = {MathJaxConfig: 'local'};</script>\n",
              "        <script charset=\"utf-8\" src=\"https://cdn.plot.ly/plotly-2.24.1.min.js\"></script>                <div id=\"bd4c009e-b2ce-4982-9e8a-d631efbb3b74\" class=\"plotly-graph-div\" style=\"height:525px; width:100%;\"></div>            <script type=\"text/javascript\">                                    window.PLOTLYENV=window.PLOTLYENV || {};                                    if (document.getElementById(\"bd4c009e-b2ce-4982-9e8a-d631efbb3b74\")) {                    Plotly.newPlot(                        \"bd4c009e-b2ce-4982-9e8a-d631efbb3b74\",                        [{\"coloraxis\":\"coloraxis\",\"name\":\"0\",\"texttemplate\":\"%{z}\",\"z\":[[1136,81,45,56,7],[70,1026,51,105,19],[25,34,786,7,2],[174,54,28,919,9],[82,105,141,50,256]],\"type\":\"heatmap\",\"xaxis\":\"x\",\"yaxis\":\"y\",\"hovertemplate\":\"Predicted label: %{x}\\u003cbr\\u003eTrue label: %{y}\\u003cbr\\u003ecolor: %{z}\\u003cextra\\u003e\\u003c\\u002fextra\\u003e\"}],                        {\"template\":{\"data\":{\"histogram2dcontour\":[{\"type\":\"histogram2dcontour\",\"colorbar\":{\"outlinewidth\":0,\"ticks\":\"\"},\"colorscale\":[[0.0,\"#0d0887\"],[0.1111111111111111,\"#46039f\"],[0.2222222222222222,\"#7201a8\"],[0.3333333333333333,\"#9c179e\"],[0.4444444444444444,\"#bd3786\"],[0.5555555555555556,\"#d8576b\"],[0.6666666666666666,\"#ed7953\"],[0.7777777777777778,\"#fb9f3a\"],[0.8888888888888888,\"#fdca26\"],[1.0,\"#f0f921\"]]}],\"choropleth\":[{\"type\":\"choropleth\",\"colorbar\":{\"outlinewidth\":0,\"ticks\":\"\"}}],\"histogram2d\":[{\"type\":\"histogram2d\",\"colorbar\":{\"outlinewidth\":0,\"ticks\":\"\"},\"colorscale\":[[0.0,\"#0d0887\"],[0.1111111111111111,\"#46039f\"],[0.2222222222222222,\"#7201a8\"],[0.3333333333333333,\"#9c179e\"],[0.4444444444444444,\"#bd3786\"],[0.5555555555555556,\"#d8576b\"],[0.6666666666666666,\"#ed7953\"],[0.7777777777777778,\"#fb9f3a\"],[0.8888888888888888,\"#fdca26\"],[1.0,\"#f0f921\"]]}],\"heatmap\":[{\"type\":\"heatmap\",\"colorbar\":{\"outlinewidth\":0,\"ticks\":\"\"},\"colorscale\":[[0.0,\"#0d0887\"],[0.1111111111111111,\"#46039f\"],[0.2222222222222222,\"#7201a8\"],[0.3333333333333333,\"#9c179e\"],[0.4444444444444444,\"#bd3786\"],[0.5555555555555556,\"#d8576b\"],[0.6666666666666666,\"#ed7953\"],[0.7777777777777778,\"#fb9f3a\"],[0.8888888888888888,\"#fdca26\"],[1.0,\"#f0f921\"]]}],\"heatmapgl\":[{\"type\":\"heatmapgl\",\"colorbar\":{\"outlinewidth\":0,\"ticks\":\"\"},\"colorscale\":[[0.0,\"#0d0887\"],[0.1111111111111111,\"#46039f\"],[0.2222222222222222,\"#7201a8\"],[0.3333333333333333,\"#9c179e\"],[0.4444444444444444,\"#bd3786\"],[0.5555555555555556,\"#d8576b\"],[0.6666666666666666,\"#ed7953\"],[0.7777777777777778,\"#fb9f3a\"],[0.8888888888888888,\"#fdca26\"],[1.0,\"#f0f921\"]]}],\"contourcarpet\":[{\"type\":\"contourcarpet\",\"colorbar\":{\"outlinewidth\":0,\"ticks\":\"\"}}],\"contour\":[{\"type\":\"contour\",\"colorbar\":{\"outlinewidth\":0,\"ticks\":\"\"},\"colorscale\":[[0.0,\"#0d0887\"],[0.1111111111111111,\"#46039f\"],[0.2222222222222222,\"#7201a8\"],[0.3333333333333333,\"#9c179e\"],[0.4444444444444444,\"#bd3786\"],[0.5555555555555556,\"#d8576b\"],[0.6666666666666666,\"#ed7953\"],[0.7777777777777778,\"#fb9f3a\"],[0.8888888888888888,\"#fdca26\"],[1.0,\"#f0f921\"]]}],\"surface\":[{\"type\":\"surface\",\"colorbar\":{\"outlinewidth\":0,\"ticks\":\"\"},\"colorscale\":[[0.0,\"#0d0887\"],[0.1111111111111111,\"#46039f\"],[0.2222222222222222,\"#7201a8\"],[0.3333333333333333,\"#9c179e\"],[0.4444444444444444,\"#bd3786\"],[0.5555555555555556,\"#d8576b\"],[0.6666666666666666,\"#ed7953\"],[0.7777777777777778,\"#fb9f3a\"],[0.8888888888888888,\"#fdca26\"],[1.0,\"#f0f921\"]]}],\"mesh3d\":[{\"type\":\"mesh3d\",\"colorbar\":{\"outlinewidth\":0,\"ticks\":\"\"}}],\"scatter\":[{\"fillpattern\":{\"fillmode\":\"overlay\",\"size\":10,\"solidity\":0.2},\"type\":\"scatter\"}],\"parcoords\":[{\"type\":\"parcoords\",\"line\":{\"colorbar\":{\"outlinewidth\":0,\"ticks\":\"\"}}}],\"scatterpolargl\":[{\"type\":\"scatterpolargl\",\"marker\":{\"colorbar\":{\"outlinewidth\":0,\"ticks\":\"\"}}}],\"bar\":[{\"error_x\":{\"color\":\"#2a3f5f\"},\"error_y\":{\"color\":\"#2a3f5f\"},\"marker\":{\"line\":{\"color\":\"#E5ECF6\",\"width\":0.5},\"pattern\":{\"fillmode\":\"overlay\",\"size\":10,\"solidity\":0.2}},\"type\":\"bar\"}],\"scattergeo\":[{\"type\":\"scattergeo\",\"marker\":{\"colorbar\":{\"outlinewidth\":0,\"ticks\":\"\"}}}],\"scatterpolar\":[{\"type\":\"scatterpolar\",\"marker\":{\"colorbar\":{\"outlinewidth\":0,\"ticks\":\"\"}}}],\"histogram\":[{\"marker\":{\"pattern\":{\"fillmode\":\"overlay\",\"size\":10,\"solidity\":0.2}},\"type\":\"histogram\"}],\"scattergl\":[{\"type\":\"scattergl\",\"marker\":{\"colorbar\":{\"outlinewidth\":0,\"ticks\":\"\"}}}],\"scatter3d\":[{\"type\":\"scatter3d\",\"line\":{\"colorbar\":{\"outlinewidth\":0,\"ticks\":\"\"}},\"marker\":{\"colorbar\":{\"outlinewidth\":0,\"ticks\":\"\"}}}],\"scattermapbox\":[{\"type\":\"scattermapbox\",\"marker\":{\"colorbar\":{\"outlinewidth\":0,\"ticks\":\"\"}}}],\"scatterternary\":[{\"type\":\"scatterternary\",\"marker\":{\"colorbar\":{\"outlinewidth\":0,\"ticks\":\"\"}}}],\"scattercarpet\":[{\"type\":\"scattercarpet\",\"marker\":{\"colorbar\":{\"outlinewidth\":0,\"ticks\":\"\"}}}],\"carpet\":[{\"aaxis\":{\"endlinecolor\":\"#2a3f5f\",\"gridcolor\":\"white\",\"linecolor\":\"white\",\"minorgridcolor\":\"white\",\"startlinecolor\":\"#2a3f5f\"},\"baxis\":{\"endlinecolor\":\"#2a3f5f\",\"gridcolor\":\"white\",\"linecolor\":\"white\",\"minorgridcolor\":\"white\",\"startlinecolor\":\"#2a3f5f\"},\"type\":\"carpet\"}],\"table\":[{\"cells\":{\"fill\":{\"color\":\"#EBF0F8\"},\"line\":{\"color\":\"white\"}},\"header\":{\"fill\":{\"color\":\"#C8D4E3\"},\"line\":{\"color\":\"white\"}},\"type\":\"table\"}],\"barpolar\":[{\"marker\":{\"line\":{\"color\":\"#E5ECF6\",\"width\":0.5},\"pattern\":{\"fillmode\":\"overlay\",\"size\":10,\"solidity\":0.2}},\"type\":\"barpolar\"}],\"pie\":[{\"automargin\":true,\"type\":\"pie\"}]},\"layout\":{\"autotypenumbers\":\"strict\",\"colorway\":[\"#636efa\",\"#EF553B\",\"#00cc96\",\"#ab63fa\",\"#FFA15A\",\"#19d3f3\",\"#FF6692\",\"#B6E880\",\"#FF97FF\",\"#FECB52\"],\"font\":{\"color\":\"#2a3f5f\"},\"hovermode\":\"closest\",\"hoverlabel\":{\"align\":\"left\"},\"paper_bgcolor\":\"white\",\"plot_bgcolor\":\"#E5ECF6\",\"polar\":{\"bgcolor\":\"#E5ECF6\",\"angularaxis\":{\"gridcolor\":\"white\",\"linecolor\":\"white\",\"ticks\":\"\"},\"radialaxis\":{\"gridcolor\":\"white\",\"linecolor\":\"white\",\"ticks\":\"\"}},\"ternary\":{\"bgcolor\":\"#E5ECF6\",\"aaxis\":{\"gridcolor\":\"white\",\"linecolor\":\"white\",\"ticks\":\"\"},\"baxis\":{\"gridcolor\":\"white\",\"linecolor\":\"white\",\"ticks\":\"\"},\"caxis\":{\"gridcolor\":\"white\",\"linecolor\":\"white\",\"ticks\":\"\"}},\"coloraxis\":{\"colorbar\":{\"outlinewidth\":0,\"ticks\":\"\"}},\"colorscale\":{\"sequential\":[[0.0,\"#0d0887\"],[0.1111111111111111,\"#46039f\"],[0.2222222222222222,\"#7201a8\"],[0.3333333333333333,\"#9c179e\"],[0.4444444444444444,\"#bd3786\"],[0.5555555555555556,\"#d8576b\"],[0.6666666666666666,\"#ed7953\"],[0.7777777777777778,\"#fb9f3a\"],[0.8888888888888888,\"#fdca26\"],[1.0,\"#f0f921\"]],\"sequentialminus\":[[0.0,\"#0d0887\"],[0.1111111111111111,\"#46039f\"],[0.2222222222222222,\"#7201a8\"],[0.3333333333333333,\"#9c179e\"],[0.4444444444444444,\"#bd3786\"],[0.5555555555555556,\"#d8576b\"],[0.6666666666666666,\"#ed7953\"],[0.7777777777777778,\"#fb9f3a\"],[0.8888888888888888,\"#fdca26\"],[1.0,\"#f0f921\"]],\"diverging\":[[0,\"#8e0152\"],[0.1,\"#c51b7d\"],[0.2,\"#de77ae\"],[0.3,\"#f1b6da\"],[0.4,\"#fde0ef\"],[0.5,\"#f7f7f7\"],[0.6,\"#e6f5d0\"],[0.7,\"#b8e186\"],[0.8,\"#7fbc41\"],[0.9,\"#4d9221\"],[1,\"#276419\"]]},\"xaxis\":{\"gridcolor\":\"white\",\"linecolor\":\"white\",\"ticks\":\"\",\"title\":{\"standoff\":15},\"zerolinecolor\":\"white\",\"automargin\":true,\"zerolinewidth\":2},\"yaxis\":{\"gridcolor\":\"white\",\"linecolor\":\"white\",\"ticks\":\"\",\"title\":{\"standoff\":15},\"zerolinecolor\":\"white\",\"automargin\":true,\"zerolinewidth\":2},\"scene\":{\"xaxis\":{\"backgroundcolor\":\"#E5ECF6\",\"gridcolor\":\"white\",\"linecolor\":\"white\",\"showbackground\":true,\"ticks\":\"\",\"zerolinecolor\":\"white\",\"gridwidth\":2},\"yaxis\":{\"backgroundcolor\":\"#E5ECF6\",\"gridcolor\":\"white\",\"linecolor\":\"white\",\"showbackground\":true,\"ticks\":\"\",\"zerolinecolor\":\"white\",\"gridwidth\":2},\"zaxis\":{\"backgroundcolor\":\"#E5ECF6\",\"gridcolor\":\"white\",\"linecolor\":\"white\",\"showbackground\":true,\"ticks\":\"\",\"zerolinecolor\":\"white\",\"gridwidth\":2}},\"shapedefaults\":{\"line\":{\"color\":\"#2a3f5f\"}},\"annotationdefaults\":{\"arrowcolor\":\"#2a3f5f\",\"arrowhead\":0,\"arrowwidth\":1},\"geo\":{\"bgcolor\":\"white\",\"landcolor\":\"#E5ECF6\",\"subunitcolor\":\"white\",\"showland\":true,\"showlakes\":true,\"lakecolor\":\"white\"},\"title\":{\"x\":0.05},\"mapbox\":{\"style\":\"light\"}}},\"xaxis\":{\"anchor\":\"y\",\"domain\":[0.0,1.0],\"scaleanchor\":\"y\",\"constrain\":\"domain\",\"title\":{\"text\":\"Predicted label\"}},\"yaxis\":{\"anchor\":\"x\",\"domain\":[0.0,1.0],\"autorange\":\"reversed\",\"constrain\":\"domain\",\"title\":{\"text\":\"True label\"}},\"coloraxis\":{\"colorscale\":[[0.0,\"#0d0887\"],[0.1111111111111111,\"#46039f\"],[0.2222222222222222,\"#7201a8\"],[0.3333333333333333,\"#9c179e\"],[0.4444444444444444,\"#bd3786\"],[0.5555555555555556,\"#d8576b\"],[0.6666666666666666,\"#ed7953\"],[0.7777777777777778,\"#fb9f3a\"],[0.8888888888888888,\"#fdca26\"],[1.0,\"#f0f921\"]]},\"title\":{\"text\":\"Confusion Matrix for Naive Bayes Classifier\"}},                        {\"responsive\": true}                    ).then(function(){\n",
              "                            \n",
              "var gd = document.getElementById('bd4c009e-b2ce-4982-9e8a-d631efbb3b74');\n",
              "var x = new MutationObserver(function (mutations, observer) {{\n",
              "        var display = window.getComputedStyle(gd).display;\n",
              "        if (!display || display === 'none') {{\n",
              "            console.log([gd, 'removed!']);\n",
              "            Plotly.purge(gd);\n",
              "            observer.disconnect();\n",
              "        }}\n",
              "}});\n",
              "\n",
              "// Listen for the removal of the full notebook cells\n",
              "var notebookContainer = gd.closest('#notebook-container');\n",
              "if (notebookContainer) {{\n",
              "    x.observe(notebookContainer, {childList: true});\n",
              "}}\n",
              "\n",
              "// Listen for the clearing of the current output cell\n",
              "var outputEl = gd.closest('.output');\n",
              "if (outputEl) {{\n",
              "    x.observe(outputEl, {childList: true});\n",
              "}}\n",
              "\n",
              "                        })                };                            </script>        </div>\n",
              "</body>\n",
              "</html>"
            ]
          },
          "metadata": {}
        }
      ]
    },
    {
      "cell_type": "markdown",
      "source": [
        "# Заключение"
      ],
      "metadata": {
        "id": "FgTkwtwhbQPh"
      }
    },
    {
      "cell_type": "markdown",
      "source": [
        "В этом проекте я показал свои навыки работы с текстом и классификацией данных.\n",
        "\n",
        "Для подготовки текста к анализу я привел его к нижнему регистру, удалил знаки препинания и цифры, провел токенизацию, лемматизацию, удалил неинформативные части речи.\n",
        "\n",
        "Для моделирования тем я сравнил работу двух моделей - LDA и NMF. За свою стабильность, скорость и простоту, я выбрал модель **NMF** как лучшую модель для моделирования тем в этом примере.\n",
        "\n",
        "Для классификации темы документа я подготовил пайплайн и сравнил работу четырех моделей - LogisticRegression, SVM, CatBoostClassifier и ComplementNB. Из-за своей скорости обучения и высоких метрик, я выбрал модель **LogisticRegression** как самую лучшую для этой задачи."
      ],
      "metadata": {
        "id": "dSV7PeAYbSCS"
      }
    },
    {
      "cell_type": "markdown",
      "source": [
        "Обработка текста - очень полезный инструмент, который может быть применим для решения бизнес-задач из самых разных сфер бизнеса. Помимо анализа жалоб, можно также анализировать отзывы пользователей на товары, твиты или письма.\n"
      ],
      "metadata": {
        "id": "5dHb4nRKkWrO"
      }
    },
    {
      "cell_type": "markdown",
      "source": [
        "Минусом моделей LDA и NMF можно посчитать необходимость указывать точное количество тем. Нам не всегда известно количество тем в данных, а при анализе, например, новостных статей, количество тем может уходить за сотни. В таких задачах для моделирования тем можно использовать модель **BERTopic**."
      ],
      "metadata": {
        "id": "c_-fntfZlKCx"
      }
    }
  ],
  "metadata": {
    "colab": {
      "provenance": []
    },
    "kernelspec": {
      "display_name": "Python 3",
      "name": "python3"
    },
    "language_info": {
      "name": "python"
    }
  },
  "nbformat": 4,
  "nbformat_minor": 0
}